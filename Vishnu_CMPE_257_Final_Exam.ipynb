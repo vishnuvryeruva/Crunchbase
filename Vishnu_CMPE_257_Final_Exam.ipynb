{
  "nbformat": 4,
  "nbformat_minor": 0,
  "metadata": {
    "colab": {
      "name": "Vishnu_CMPE_257_Final_Exam.ipynb",
      "provenance": [],
      "collapsed_sections": [],
      "include_colab_link": true
    },
    "kernelspec": {
      "name": "python3",
      "display_name": "Python 3"
    },
    "language_info": {
      "name": "python"
    },
    "accelerator": "GPU"
  },
  "cells": [
    {
      "cell_type": "markdown",
      "metadata": {
        "id": "view-in-github",
        "colab_type": "text"
      },
      "source": [
        "<a href=\"https://colab.research.google.com/github/vishnuvryeruva/Crunchbase/blob/main/Vishnu_CMPE_257_Final_Exam.ipynb\" target=\"_parent\"><img src=\"https://colab.research.google.com/assets/colab-badge.svg\" alt=\"Open In Colab\"/></a>"
      ]
    },
    {
      "cell_type": "markdown",
      "source": [
        "#**Static Part** on the Cisco Company."
      ],
      "metadata": {
        "id": "OnsLa4MMS-CA"
      }
    },
    {
      "cell_type": "markdown",
      "source": [
        "In this section, we will include many sections which shows our research and will also include facts and figures regarding the Company \"Cisco\". The results will be stored in a .txt file."
      ],
      "metadata": {
        "id": "-f7HNVvUkZcC"
      }
    },
    {
      "cell_type": "markdown",
      "source": [
        "Mounting Google Drive "
      ],
      "metadata": {
        "id": "W_JV9-lsS3LP"
      }
    },
    {
      "cell_type": "code",
      "source": [
        "from google.colab import drive\n",
        "drive.mount('/content/drive')"
      ],
      "metadata": {
        "colab": {
          "base_uri": "https://localhost:8080/"
        },
        "id": "UzxYZ7GH7sS_",
        "outputId": "03a71d8e-60a8-4e14-819d-2a9d72b548e4"
      },
      "execution_count": null,
      "outputs": [
        {
          "output_type": "stream",
          "name": "stdout",
          "text": [
            "Drive already mounted at /content/drive; to attempt to forcibly remount, call drive.mount(\"/content/drive\", force_remount=True).\n"
          ]
        }
      ]
    },
    {
      "cell_type": "markdown",
      "source": [
        "Installing the libraries"
      ],
      "metadata": {
        "id": "iaQ_5O0R4j94"
      }
    },
    {
      "cell_type": "code",
      "execution_count": null,
      "metadata": {
        "colab": {
          "base_uri": "https://localhost:8080/"
        },
        "id": "p9HHQAOeB0eT",
        "outputId": "dfbff85b-caa9-4545-cdbe-08eb3cb72119"
      },
      "outputs": [
        {
          "output_type": "stream",
          "name": "stdout",
          "text": [
            "Looking in indexes: https://pypi.org/simple, https://us-python.pkg.dev/colab-wheels/public/simple/\n",
            "Requirement already satisfied: bs4 in /usr/local/lib/python3.7/dist-packages (0.0.1)\n",
            "Requirement already satisfied: beautifulsoup4 in /usr/local/lib/python3.7/dist-packages (from bs4) (4.11.1)\n",
            "Requirement already satisfied: soupsieve>1.2 in /usr/local/lib/python3.7/dist-packages (from beautifulsoup4->bs4) (2.3.2.post1)\n"
          ]
        }
      ],
      "source": [
        "!pip install bs4"
      ]
    },
    {
      "cell_type": "code",
      "source": [
        "import requests\n",
        "from bs4 import BeautifulSoup"
      ],
      "metadata": {
        "id": "mqNdJO4hB1qn"
      },
      "execution_count": null,
      "outputs": []
    },
    {
      "cell_type": "markdown",
      "source": [
        "Here, we will be focussing on company \"cisco\"."
      ],
      "metadata": {
        "id": "XltcGhEO4o0y"
      }
    },
    {
      "cell_type": "code",
      "source": [
        "base_url = \"https://www.crunchbase.com/organization/\"\n",
        "# finance_url = \"/company_financials\"\n",
        "# We will focus more on 3 columns namely \"People\", \"news\" and \"Cisco\" company.\n",
        "people = \"/people\"\n",
        "news = \"/signals_and_news\"\n",
        "company_to_search = \"cisco\""
      ],
      "metadata": {
        "id": "0Lya3PrlB247"
      },
      "execution_count": null,
      "outputs": []
    },
    {
      "cell_type": "code",
      "source": [
        "headers = {\n",
        "    \"content-type\": \"application/json\",\n",
        "    \"user-agent\": \"Mozilla/5.0 (X11; Linux x86_64) AppleWebKit/537.36 (KHTML, like Gecko) Chrome/101.0.4951.64 Safari/537.36\",\n",
        "}"
      ],
      "metadata": {
        "id": "qIKEDb-VB9_v"
      },
      "execution_count": null,
      "outputs": []
    },
    {
      "cell_type": "code",
      "source": [
        "res = requests.get(url=base_url + company_to_search, headers=headers)\n",
        "\n",
        "soup = BeautifulSoup(res.text, \"html.parser\")"
      ],
      "metadata": {
        "id": "cnfWZz_UCA4L"
      },
      "execution_count": null,
      "outputs": []
    },
    {
      "cell_type": "code",
      "source": [
        "organisation_name = soup.find(\"h1\", {\"class\" : \"profile-name\"}).text\n",
        "# CompanyName\n",
        "print(organisation_name)"
      ],
      "metadata": {
        "colab": {
          "base_uri": "https://localhost:8080/"
        },
        "id": "_YHawTNJCCkF",
        "outputId": "ca6192ae-1f67-446b-8fdc-c90487f3872b"
      },
      "execution_count": null,
      "outputs": [
        {
          "output_type": "stream",
          "name": "stdout",
          "text": [
            " Cisco \n"
          ]
        }
      ]
    },
    {
      "cell_type": "code",
      "source": [
        "about_section, highlight_section, news_section = soup.findAll(\"div\", {\"class\" : \"one-of-many-section\"})"
      ],
      "metadata": {
        "id": "yufxvJJbCE7x"
      },
      "execution_count": null,
      "outputs": []
    },
    {
      "cell_type": "markdown",
      "source": [
        "Basic Description\n",
        "One liner description of Cisco"
      ],
      "metadata": {
        "id": "Gpjp4HKN4-xs"
      }
    },
    {
      "cell_type": "code",
      "source": [
        "company_description = about_section.find(\"span\", {\"class\" : \"description\"}).text\n",
        "#Companyh description\n",
        "print(company_description)"
      ],
      "metadata": {
        "colab": {
          "base_uri": "https://localhost:8080/"
        },
        "id": "hDao14yMCHwA",
        "outputId": "989c6286-2e09-46e6-d202-2c2acfb8c3b7"
      },
      "execution_count": null,
      "outputs": [
        {
          "output_type": "stream",
          "name": "stdout",
          "text": [
            "Cisco develops, manufactures, and sells networking hardware, telecommunications equipment, and other technology services and products.\n"
          ]
        }
      ]
    },
    {
      "cell_type": "code",
      "source": [
        "location, size, funding_type, ipo_status, url, cs_rank = [section.text for section in about_section.findAll(\"li\")]"
      ],
      "metadata": {
        "id": "J_fP6suSCKIw"
      },
      "execution_count": null,
      "outputs": []
    },
    {
      "cell_type": "code",
      "source": [
        "profile_card = soup.find(\"ul\", {\"class\" : \"text_and_value\"}).findAll(\"li\")\n"
      ],
      "metadata": {
        "id": "eBaO6J-jCNDI"
      },
      "execution_count": null,
      "outputs": []
    },
    {
      "cell_type": "markdown",
      "source": [
        "Let us look into some basic information about the Cisco Company.\n",
        "\n",
        "The basic information will contain:\n",
        "\n",
        "1) Headquaters,\n",
        "\n",
        "2) Founders,\n",
        "\n",
        "3) Date of foundation,\n",
        "\n",
        "4)Legal name , etc."
      ],
      "metadata": {
        "id": "FKrnH7VX5D-x"
      }
    },
    {
      "cell_type": "code",
      "source": [
        "for section in profile_card:\n",
        "    print(section.find(\"label-with-info\").text, section.find(\"field-formatter\").text)"
      ],
      "metadata": {
        "colab": {
          "base_uri": "https://localhost:8080/"
        },
        "id": "anzoM2TlCdWo",
        "outputId": "684d2218-fc4a-4d9d-c2d6-fae4fcfc42fa"
      },
      "execution_count": null,
      "outputs": [
        {
          "output_type": "stream",
          "name": "stdout",
          "text": [
            "Industries  Communications InfrastructureEnterprise SoftwareHardware\n",
            "Headquarters Regions   San Francisco Bay Area, Silicon Valley, West Coast\n",
            "Founded Date  Dec 1, 1984\n",
            "Founders   Ashwath Nagaraj, Demetrius White, Leonard Bosack, Robert Hubbard, Sandy Lerner, Santana jordan isaiah Henry\n",
            "Operating Status  Active\n",
            "Last Funding Type  Series A\n",
            "Also Known As  Cisco Systems\n",
            "Legal Name  Cisco Systems, Inc.\n",
            "Related Hubs   Cisco Alumni Founded Companies, Cisco Portfolio Companies\n",
            "Hub Tags   Crunchbase Venture Program\n",
            "\n"
          ]
        }
      ]
    },
    {
      "cell_type": "markdown",
      "source": [
        "Now, the question arises that the company we are targetting (Cisco) mainly focusses in which industry?\n"
      ],
      "metadata": {
        "id": "kQHBDgdF5fT8"
      }
    },
    {
      "cell_type": "code",
      "source": [
        "industries = []\n",
        "\n",
        "for industry in profile_card[0].findAll(\"a\"):\n",
        "    industries.append(industry.text)\n",
        "\n",
        "print(industries)"
      ],
      "metadata": {
        "colab": {
          "base_uri": "https://localhost:8080/"
        },
        "id": "5vOUygTqChAz",
        "outputId": "a75af967-72e8-42fa-ceb2-0a5c862a7b66"
      },
      "execution_count": null,
      "outputs": [
        {
          "output_type": "stream",
          "name": "stdout",
          "text": [
            "['Communications Infrastructure', 'Enterprise Software', 'Hardware']\n"
          ]
        }
      ]
    },
    {
      "cell_type": "markdown",
      "source": [
        "When did Cisco did lay its foundation?"
      ],
      "metadata": {
        "id": "Vtu8HsD95tQa"
      }
    },
    {
      "cell_type": "code",
      "source": [
        "founded_date = profile_card[2].find(\"field-formatter\").text\n",
        "founded_date"
      ],
      "metadata": {
        "colab": {
          "base_uri": "https://localhost:8080/",
          "height": 35
        },
        "id": "MqlEiXy9ClQi",
        "outputId": "eb16c42e-b84a-410b-8027-d14f91010b87"
      },
      "execution_count": null,
      "outputs": [
        {
          "output_type": "execute_result",
          "data": {
            "text/plain": [
              "'Dec 1, 1984'"
            ],
            "application/vnd.google.colaboratory.intrinsic+json": {
              "type": "string"
            }
          },
          "metadata": {},
          "execution_count": 132
        }
      ]
    },
    {
      "cell_type": "markdown",
      "source": [
        "Who are the founders of Cisco?"
      ],
      "metadata": {
        "id": "Jkm9DE_X5xBS"
      }
    },
    {
      "cell_type": "code",
      "source": [
        "founder = profile_card[3].find(\"field-formatter\").text\n",
        "founder"
      ],
      "metadata": {
        "colab": {
          "base_uri": "https://localhost:8080/",
          "height": 35
        },
        "id": "ris5vOleCn61",
        "outputId": "051dbffa-816d-405c-c3a8-227def2abd35"
      },
      "execution_count": null,
      "outputs": [
        {
          "output_type": "execute_result",
          "data": {
            "text/plain": [
              "' Ashwath Nagaraj, Demetrius White, Leonard Bosack, Robert Hubbard, Sandy Lerner, Santana jordan isaiah Henry'"
            ],
            "application/vnd.google.colaboratory.intrinsic+json": {
              "type": "string"
            }
          },
          "metadata": {},
          "execution_count": 133
        }
      ]
    },
    {
      "cell_type": "markdown",
      "source": [
        "people"
      ],
      "metadata": {
        "id": "pTpwticYEZQb"
      }
    },
    {
      "cell_type": "code",
      "source": [
        "res = requests.get(url=base_url + company_to_search + people, headers=headers)\n",
        "\n",
        "soup = BeautifulSoup(res.text, \"html.parser\")"
      ],
      "metadata": {
        "id": "40C9bKgVDckf"
      },
      "execution_count": null,
      "outputs": []
    },
    {
      "cell_type": "code",
      "source": [
        "company_people = soup.find(\"div\", {\"class\" : \"main-content\"}).findAll(\"row-card\")\n",
        "\n",
        "org_people = {}"
      ],
      "metadata": {
        "id": "KLYj_sWUEdFQ"
      },
      "execution_count": null,
      "outputs": []
    },
    {
      "cell_type": "markdown",
      "source": [
        "Which person are at which positions in Cisco?"
      ],
      "metadata": {
        "id": "S8Tl8sQT526H"
      }
    },
    {
      "cell_type": "code",
      "source": [
        "for person in company_people[1].find(\"image-list-card\").findAll(\"li\"):\n",
        "    org_people[person.find(\"field-formatter\").text] = person.find(\"a\").text\n",
        "\n",
        "print(org_people)"
      ],
      "metadata": {
        "colab": {
          "base_uri": "https://localhost:8080/"
        },
        "id": "_ipRpn8bEfru",
        "outputId": "92a8112e-e208-4301-a715-5e8c1e3f259a"
      },
      "execution_count": null,
      "outputs": [
        {
          "output_type": "stream",
          "name": "stdout",
          "text": [
            "{'Chairman & CEO': ' Chuck Robbins ', 'Principal Engineer': ' Matt Swartz ', 'Senior Director, Technology Policy, Global Government Affairs': ' Eric Wenger ', 'Managing Director EMEAR, Cisco Investments and Corporate Development': ' Jon Koplin ', 'Managing Director - Strategy and Business Development': ' Bill Gerhardt ', 'Sr. Director, Customer Experience': ' Tal Schierau ', 'Executive Producer, Unhackable with Mike Storm, a Security Podcast Series': ' Caroline Baker ', 'Director of Employee Experience': ' Kelly Crothers '}\n"
          ]
        }
      ]
    },
    {
      "cell_type": "code",
      "source": [
        "org_board = []"
      ],
      "metadata": {
        "id": "dsI0bUcDEqGp"
      },
      "execution_count": null,
      "outputs": []
    },
    {
      "cell_type": "markdown",
      "source": [
        "Who are the board members of Cisco?"
      ],
      "metadata": {
        "id": "CYyVHA7G58eX"
      }
    },
    {
      "cell_type": "code",
      "source": [
        "for person in company_people[2].find(\"image-list-card\").findAll(\"li\"):\n",
        "    org_board.append(person.find(\"a\").text)\n",
        "\n",
        "print(org_board)"
      ],
      "metadata": {
        "colab": {
          "base_uri": "https://localhost:8080/"
        },
        "id": "xApxOWMUEvC0",
        "outputId": "e0664887-0b99-4607-ecaa-6289f803ce1e"
      },
      "execution_count": null,
      "outputs": [
        {
          "output_type": "stream",
          "name": "stdout",
          "text": [
            "[' Michael Capellas ', ' Arun Sarin ', ' Brian Halla ', ' Chuck Robbins ', ' Kristina Johnson ', ' John Chambers ', ' Roderick McGeary ', ' Tomasz Maslewski ']\n"
          ]
        }
      ]
    },
    {
      "cell_type": "markdown",
      "source": [
        "Cisco Scraping\n",
        "**bold text**\n",
        "Now, we will scrape the news about various topics related to Cisco"
      ],
      "metadata": {
        "id": "sksULaE1M4Fv"
      }
    },
    {
      "cell_type": "code",
      "source": [
        "!pip install pygooglenews"
      ],
      "metadata": {
        "id": "2trYRr3oF9B7",
        "colab": {
          "base_uri": "https://localhost:8080/"
        },
        "outputId": "2585a73c-e35a-4aaa-c9fd-af3b829911ae"
      },
      "execution_count": null,
      "outputs": [
        {
          "output_type": "stream",
          "name": "stdout",
          "text": [
            "Looking in indexes: https://pypi.org/simple, https://us-python.pkg.dev/colab-wheels/public/simple/\n",
            "Requirement already satisfied: pygooglenews in /usr/local/lib/python3.7/dist-packages (0.1.2)\n",
            "Requirement already satisfied: requests<3.0.0,>=2.24.0 in /usr/local/lib/python3.7/dist-packages (from pygooglenews) (2.27.1)\n",
            "Requirement already satisfied: feedparser<6.0.0,>=5.2.1 in /usr/local/lib/python3.7/dist-packages (from pygooglenews) (5.2.1)\n",
            "Requirement already satisfied: dateparser<0.8.0,>=0.7.6 in /usr/local/lib/python3.7/dist-packages (from pygooglenews) (0.7.6)\n",
            "Requirement already satisfied: beautifulsoup4<5.0.0,>=4.9.1 in /usr/local/lib/python3.7/dist-packages (from pygooglenews) (4.11.1)\n",
            "Requirement already satisfied: soupsieve>1.2 in /usr/local/lib/python3.7/dist-packages (from beautifulsoup4<5.0.0,>=4.9.1->pygooglenews) (2.3.2.post1)\n",
            "Requirement already satisfied: regex!=2019.02.19 in /usr/local/lib/python3.7/dist-packages (from dateparser<0.8.0,>=0.7.6->pygooglenews) (2019.12.20)\n",
            "Requirement already satisfied: tzlocal in /usr/local/lib/python3.7/dist-packages (from dateparser<0.8.0,>=0.7.6->pygooglenews) (1.5.1)\n",
            "Requirement already satisfied: pytz in /usr/local/lib/python3.7/dist-packages (from dateparser<0.8.0,>=0.7.6->pygooglenews) (2022.1)\n",
            "Requirement already satisfied: python-dateutil in /usr/local/lib/python3.7/dist-packages (from dateparser<0.8.0,>=0.7.6->pygooglenews) (2.8.2)\n",
            "Requirement already satisfied: certifi>=2017.4.17 in /usr/local/lib/python3.7/dist-packages (from requests<3.0.0,>=2.24.0->pygooglenews) (2022.5.18.1)\n",
            "Requirement already satisfied: charset-normalizer~=2.0.0 in /usr/local/lib/python3.7/dist-packages (from requests<3.0.0,>=2.24.0->pygooglenews) (2.0.12)\n",
            "Requirement already satisfied: urllib3<1.27,>=1.21.1 in /usr/local/lib/python3.7/dist-packages (from requests<3.0.0,>=2.24.0->pygooglenews) (1.26.9)\n",
            "Requirement already satisfied: idna<4,>=2.5 in /usr/local/lib/python3.7/dist-packages (from requests<3.0.0,>=2.24.0->pygooglenews) (2.10)\n",
            "Requirement already satisfied: six>=1.5 in /usr/local/lib/python3.7/dist-packages (from python-dateutil->dateparser<0.8.0,>=0.7.6->pygooglenews) (1.15.0)\n"
          ]
        }
      ]
    },
    {
      "cell_type": "code",
      "source": [
        "from pygooglenews import GoogleNews\n",
        "\n",
        "gn = GoogleNews(lang = 'en', country = 'US')\n",
        "\n",
        "# latest news on Amazon that got published over the last hour\n",
        "news = gn.search('Cisco',when= \"100y\")"
      ],
      "metadata": {
        "id": "xcRRhby3M6ed"
      },
      "execution_count": null,
      "outputs": []
    },
    {
      "cell_type": "code",
      "source": [
        "import shutil"
      ],
      "metadata": {
        "id": "E-SPn4S1-EYS"
      },
      "execution_count": null,
      "outputs": []
    },
    {
      "cell_type": "code",
      "source": [
        "# shutil.copy(\"/content/CiscoCompany.json\",\"/content/drive/MyDrive/Team Dragonites/Final Exam/dataset/json\")"
      ],
      "metadata": {
        "id": "n_kIml12-HOT"
      },
      "execution_count": null,
      "outputs": []
    },
    {
      "cell_type": "markdown",
      "source": [
        "#Dataset Formation"
      ],
      "metadata": {
        "id": "7YNcdUycIyI-"
      }
    },
    {
      "cell_type": "markdown",
      "source": [
        "Here, we will scrape the news related to different topics related to Cisco during 6 months."
      ],
      "metadata": {
        "id": "BZXU-GkBI0zW"
      }
    },
    {
      "cell_type": "markdown",
      "source": [
        "Note: I have commented the whole scraped code in order to prevent re-scraping of the data again and again. Instead, we have saved all the .csv files inside the shared Google Drive of Team Dragonites."
      ],
      "metadata": {
        "id": "i5gAaayQhMOP"
      }
    },
    {
      "cell_type": "code",
      "source": [
        "# import pandas as pd\n",
        "\n",
        "# pdObj = pd.read_json('/content/drive/MyDrive/Team Dragonites/Final Exam/dataset/json/Webexnews.json', orient='index')\n",
        "# print(pdObj)"
      ],
      "metadata": {
        "id": "BOtepm2XIb3w"
      },
      "execution_count": null,
      "outputs": []
    },
    {
      "cell_type": "code",
      "source": [
        "# import pandas as pd\n",
        "# from pygooglenews import GoogleNews\n",
        "# # import datetime\n",
        "\n",
        "# gn = GoogleNews()\n",
        "\n",
        "# def get_news(search):\n",
        "#     stories = []\n",
        "#     start_date = datetime.date(2021,3,1)\n",
        "#     end_date = datetime.date(2021,9,1)\n",
        "#     delta = datetime.timedelta(days=1)\n",
        "#     date_list = pd.date_range(start_date, end_date).tolist()\n",
        "    \n",
        "#     for date in date_list[:-1]:\n",
        "#         result = gn.search(search, from_=date.strftime('%Y-%m-%d'), to_=(date+delta).strftime('%Y-%m-%d'))\n",
        "#         newsitem = result['entries']\n",
        "        \n",
        "#         for item in newsitem:\n",
        "#             story = {\n",
        "#                 'title':item.title,\n",
        "#                 'link':item.link,\n",
        "#                 'published':item.published\n",
        "#             }\n",
        "#             stories.append(story)\n",
        "\n",
        "#     return stories\n"
      ],
      "metadata": {
        "id": "hZ2qpAFKLdCr"
      },
      "execution_count": null,
      "outputs": []
    },
    {
      "cell_type": "markdown",
      "source": [
        "Now, we will research about the general news of Cisco from past 6 month"
      ],
      "metadata": {
        "id": "EtP8kMBE3tOQ"
      }
    },
    {
      "cell_type": "code",
      "source": [
        "# CiscoNews = pd.DataFrame(get_news('Cisco'))"
      ],
      "metadata": {
        "id": "zdtZ847CNL3n"
      },
      "execution_count": null,
      "outputs": []
    },
    {
      "cell_type": "code",
      "source": [
        "# CiscoNews.shape"
      ],
      "metadata": {
        "id": "J4HUSVay4a3l"
      },
      "execution_count": null,
      "outputs": []
    },
    {
      "cell_type": "markdown",
      "source": [
        "Let us see what news are available for CEO of Cisco"
      ],
      "metadata": {
        "id": "fXsVmmNSdG9q"
      }
    },
    {
      "cell_type": "code",
      "source": [
        "# CEONews = pd.DataFrame(get_news('Chuck Robbins'))\n"
      ],
      "metadata": {
        "id": "mOZqyPJJNbT-"
      },
      "execution_count": null,
      "outputs": []
    },
    {
      "cell_type": "code",
      "source": [
        "# CEONews.shape"
      ],
      "metadata": {
        "id": "Rxrs3-d04dFj"
      },
      "execution_count": null,
      "outputs": []
    },
    {
      "cell_type": "markdown",
      "source": [
        "Let us see what news are available for Vice President of Cisco"
      ],
      "metadata": {
        "id": "rrQzxrT_4B22"
      }
    },
    {
      "cell_type": "code",
      "source": [
        "# VPNews = pd.DataFrame(get_news('Sandeep Arora'))"
      ],
      "metadata": {
        "id": "qET27p4D4CAs"
      },
      "execution_count": null,
      "outputs": []
    },
    {
      "cell_type": "code",
      "source": [
        "# VPNews.shape"
      ],
      "metadata": {
        "id": "okc0ZOtU4fqG"
      },
      "execution_count": null,
      "outputs": []
    },
    {
      "cell_type": "markdown",
      "source": [
        "The news  regarding the Senior Director of Cisco are :"
      ],
      "metadata": {
        "id": "e-8ww_zM4Zg3"
      }
    },
    {
      "cell_type": "code",
      "source": [
        "# DirectorNews = pd.DataFrame(get_news('Eric Wenger'))"
      ],
      "metadata": {
        "id": "yFKC4SlB4iC9"
      },
      "execution_count": null,
      "outputs": []
    },
    {
      "cell_type": "code",
      "source": [
        "# DirectorNews.shape"
      ],
      "metadata": {
        "id": "garg0U_A4jrs"
      },
      "execution_count": null,
      "outputs": []
    },
    {
      "cell_type": "markdown",
      "source": [
        "Let us see what workers of Cisco has to say in the news:"
      ],
      "metadata": {
        "id": "rLQBi98E4lZT"
      }
    },
    {
      "cell_type": "code",
      "source": [
        "# WorkersNews = pd.DataFrame(get_news('Cisco Workers'))"
      ],
      "metadata": {
        "id": "SDiZlKz14yHX"
      },
      "execution_count": null,
      "outputs": []
    },
    {
      "cell_type": "code",
      "source": [
        "# WorkersNews.shape"
      ],
      "metadata": {
        "id": "99D0ryYQ4lu9"
      },
      "execution_count": null,
      "outputs": []
    },
    {
      "cell_type": "markdown",
      "source": [
        "What were the news for founders of Cisco?"
      ],
      "metadata": {
        "id": "82yYfnwL41Zx"
      }
    },
    {
      "cell_type": "code",
      "source": [
        "# SandyNews = pd.DataFrame(get_news('Sandy Lerner'))\n",
        "# LeonardNews = pd.DataFrame(get_news('Leonard Bosack'))"
      ],
      "metadata": {
        "id": "k-Wv9xwi44eG"
      },
      "execution_count": null,
      "outputs": []
    },
    {
      "cell_type": "code",
      "source": [
        "# SandyNews.shape"
      ],
      "metadata": {
        "id": "zfmW8q0a4n_s"
      },
      "execution_count": null,
      "outputs": []
    },
    {
      "cell_type": "code",
      "source": [
        "# LeonardNews.shape"
      ],
      "metadata": {
        "id": "PHvd3DuR4oCV"
      },
      "execution_count": null,
      "outputs": []
    },
    {
      "cell_type": "markdown",
      "source": [
        "The recent news about the stocks of Cisco are :"
      ],
      "metadata": {
        "id": "Ixz6E5yH5wiX"
      }
    },
    {
      "cell_type": "code",
      "source": [
        "# StockNews = pd.DataFrame(get_news('Cisco Stock'))"
      ],
      "metadata": {
        "id": "lCb_u-wn51kg"
      },
      "execution_count": null,
      "outputs": []
    },
    {
      "cell_type": "code",
      "source": [
        "# StockNews.shape"
      ],
      "metadata": {
        "id": "AoGb_lY94rTK"
      },
      "execution_count": null,
      "outputs": []
    },
    {
      "cell_type": "markdown",
      "source": [
        "Some news about the products of Cisco .\n",
        "\n",
        "Products of which the news is scraped are :\n",
        "\n",
        "a) Duo Security\n",
        "b) Webex\n",
        "c) Jabber"
      ],
      "metadata": {
        "id": "3zWEEFfM54MS"
      }
    },
    {
      "cell_type": "code",
      "source": [
        "# WebexNews = pd.DataFrame(get_news('Cisco Webex'))\n",
        "# DuoSecurityNews = pd.DataFrame(get_news('Cisco Duo Security'))\n",
        "# JabberNews = pd.DataFrame(get_news('Cisco Jabber'))"
      ],
      "metadata": {
        "id": "738rDnZE6JgQ"
      },
      "execution_count": null,
      "outputs": []
    },
    {
      "cell_type": "code",
      "source": [
        "# WebexNews.shape"
      ],
      "metadata": {
        "id": "ZO9dI6nWtZii"
      },
      "execution_count": null,
      "outputs": []
    },
    {
      "cell_type": "code",
      "source": [
        "# DuoSecurityNews.shape"
      ],
      "metadata": {
        "id": "YqT_6SGj4wXY"
      },
      "execution_count": null,
      "outputs": []
    },
    {
      "cell_type": "code",
      "source": [
        "# JabberNews.shape"
      ],
      "metadata": {
        "id": "sSjlaxO84wZa"
      },
      "execution_count": null,
      "outputs": []
    },
    {
      "cell_type": "markdown",
      "source": [
        "Till now, we scraped the different types of news related to Cisco from Founders of Cisco to latest products of Cisco and have saved in the Google Drive"
      ],
      "metadata": {
        "id": "1Gum5ZsCIjsz"
      }
    },
    {
      "cell_type": "markdown",
      "source": [
        "Now, we will save each of the dataset into google drive."
      ],
      "metadata": {
        "id": "pl1rqxOH_dz2"
      }
    },
    {
      "cell_type": "code",
      "source": [
        "# CiscoNews.to_csv( \"/content/drive/MyDrive/Team Dragonites/Final Exam/dataset/csv/CiscoNews.csv\", index=False, encoding='utf-8-sig')"
      ],
      "metadata": {
        "id": "x_HTZ5aK46HQ"
      },
      "execution_count": null,
      "outputs": []
    },
    {
      "cell_type": "code",
      "source": [
        "# CiscoNews.to_csv( \"/content/drive/MyDrive/Team Dragonites/Final Exam/dataset/csv/CiscoNews.csv\", index=False, encoding='utf-8-sig')\n",
        "# CEONews.to_csv( \"/content/drive/MyDrive/Team Dragonites/Final Exam/dataset/csv/CEONews.csv\", index=False, encoding='utf-8-sig')\n",
        "# VPNews.to_csv( \"/content/drive/MyDrive/Team Dragonites/Final Exam/dataset/csv/VPNews.csv\", index=False, encoding='utf-8-sig')\n",
        "# DirectorNews.to_csv( \"/content/drive/MyDrive/Team Dragonites/Final Exam/dataset/csv/DirectorNews.csv\", index=False, encoding='utf-8-sig')\n",
        "# WorkersNews.to_csv( \"/content/drive/MyDrive/Team Dragonites/Final Exam/dataset/csv/WorkersNews.csv\", index=False, encoding='utf-8-sig')\n",
        "# SandyNews.to_csv( \"/content/drive/MyDrive/Team Dragonites/Final Exam/dataset/csv/SandyNews.csv\", index=False, encoding='utf-8-sig')\n",
        "# StockNews.to_csv( \"/content/drive/MyDrive/Team Dragonites/Final Exam/dataset/csv/StockNews.csv\", index=False, encoding='utf-8-sig')\n",
        "# WebexNews.to_csv( \"/content/drive/MyDrive/Team Dragonites/Final Exam/dataset/csv/WebexNews.csv\", index=False, encoding='utf-8-sig')\n",
        "# DuoSecurityNews.to_csv( \"/content/drive/MyDrive/Team Dragonites/Final Exam/dataset/csv/DuoSecurityNews.csv\", index=False, encoding='utf-8-sig')\n",
        "# JabberNews.to_csv( \"/content/drive/MyDrive/Team Dragonites/Final Exam/dataset/csv/JabberNews.csv\", index=False, encoding='utf-8-sig')"
      ],
      "metadata": {
        "id": "nelFBAlmB0Rh"
      },
      "execution_count": null,
      "outputs": []
    },
    {
      "cell_type": "code",
      "source": [
        "# d = pd.merge(SandyNews,VPNews)"
      ],
      "metadata": {
        "id": "l1xzgUKtCcJW"
      },
      "execution_count": null,
      "outputs": []
    },
    {
      "cell_type": "code",
      "source": [
        "# SandyNews.head()"
      ],
      "metadata": {
        "id": "SBffHJs79S6q"
      },
      "execution_count": null,
      "outputs": []
    },
    {
      "cell_type": "code",
      "source": [
        "# frames = [DirectorNews, JabberNews,CiscoNews,CEONews,VPNews,WorkersNews,SandyNews,StockNews,WebexNews,DuoSecurityNews]\n",
        "  \n",
        "# result = pd.concat(frames)"
      ],
      "metadata": {
        "id": "5Ig8KoOv9UzV"
      },
      "execution_count": null,
      "outputs": []
    },
    {
      "cell_type": "code",
      "source": [
        "# result.shape"
      ],
      "metadata": {
        "id": "we5_qrCc91LP"
      },
      "execution_count": null,
      "outputs": []
    },
    {
      "cell_type": "code",
      "source": [
        "# result.head()"
      ],
      "metadata": {
        "id": "Qjyv-TvE_B8F"
      },
      "execution_count": null,
      "outputs": []
    },
    {
      "cell_type": "markdown",
      "source": [
        "This is our final combined dataset, which will be saved inside the Shared Google Drive of Team Dragonites"
      ],
      "metadata": {
        "id": "Dew5NkxQAIbb"
      }
    },
    {
      "cell_type": "code",
      "source": [
        "# result.to_csv( \"/content/drive/MyDrive/Team Dragonites/Final Exam/dataset/csv/result.csv\", index=False, encoding='utf-8-sig')\n"
      ],
      "metadata": {
        "id": "nIm_ZVL-_bUp"
      },
      "execution_count": null,
      "outputs": []
    },
    {
      "cell_type": "code",
      "source": [
        "# d.head()"
      ],
      "metadata": {
        "id": "tssXZOR3Ub-D"
      },
      "execution_count": null,
      "outputs": []
    },
    {
      "cell_type": "markdown",
      "source": [
        "Now, we will get the combined dataset from the shared Google Drive and perform our operations to research about the company."
      ],
      "metadata": {
        "id": "KUc5nCYwho2x"
      }
    },
    {
      "cell_type": "code",
      "source": [
        "import pandas as pd\n",
        "data1 = pd.read_csv(\"/content/drive/MyDrive/Team Dragonites/Final Exam/dataset/csv/result.csv\")"
      ],
      "metadata": {
        "id": "hE0e3-O6WAWq"
      },
      "execution_count": null,
      "outputs": []
    },
    {
      "cell_type": "code",
      "source": [
        "# A close look at the dataset \n",
        "data1.head()"
      ],
      "metadata": {
        "colab": {
          "base_uri": "https://localhost:8080/",
          "height": 206
        },
        "id": "KmIM62hIWF1T",
        "outputId": "b2eafb7e-8f48-4757-ec88-07e0e7b888a0"
      },
      "execution_count": null,
      "outputs": [
        {
          "output_type": "execute_result",
          "data": {
            "text/plain": [
              "                                               title  \\\n",
              "0  Readers envisioned a new downtown OKC in first...   \n",
              "1  OKC seeks bids to demolish public safety compl...   \n",
              "2  Epilepsy Discovery Reveals Why Some Seizures P...   \n",
              "3  New research sheds light on what causes sudden...   \n",
              "4  Epilepsy Study Reveals Why Some Seizures Prove...   \n",
              "\n",
              "                                                link  \\\n",
              "0  https://www.oklahoman.com/story/news/2021/03/1...   \n",
              "1  https://journalrecord.com/2021/04/21/okc-seeks...   \n",
              "2  https://news.virginia.edu/content/epilepsy-dis...   \n",
              "3  https://www.news-medical.net/news/20210428/New...   \n",
              "4  https://www.technologynetworks.com/neuroscienc...   \n",
              "\n",
              "                       published  \n",
              "0  Fri, 19 Mar 2021 07:00:00 GMT  \n",
              "1  Wed, 21 Apr 2021 07:00:00 GMT  \n",
              "2  Tue, 27 Apr 2021 07:00:00 GMT  \n",
              "3  Wed, 28 Apr 2021 07:00:00 GMT  \n",
              "4  Thu, 29 Apr 2021 07:00:00 GMT  "
            ],
            "text/html": [
              "\n",
              "  <div id=\"df-54498007-b3ea-4860-929f-fefa3e330bef\">\n",
              "    <div class=\"colab-df-container\">\n",
              "      <div>\n",
              "<style scoped>\n",
              "    .dataframe tbody tr th:only-of-type {\n",
              "        vertical-align: middle;\n",
              "    }\n",
              "\n",
              "    .dataframe tbody tr th {\n",
              "        vertical-align: top;\n",
              "    }\n",
              "\n",
              "    .dataframe thead th {\n",
              "        text-align: right;\n",
              "    }\n",
              "</style>\n",
              "<table border=\"1\" class=\"dataframe\">\n",
              "  <thead>\n",
              "    <tr style=\"text-align: right;\">\n",
              "      <th></th>\n",
              "      <th>title</th>\n",
              "      <th>link</th>\n",
              "      <th>published</th>\n",
              "    </tr>\n",
              "  </thead>\n",
              "  <tbody>\n",
              "    <tr>\n",
              "      <th>0</th>\n",
              "      <td>Readers envisioned a new downtown OKC in first...</td>\n",
              "      <td>https://www.oklahoman.com/story/news/2021/03/1...</td>\n",
              "      <td>Fri, 19 Mar 2021 07:00:00 GMT</td>\n",
              "    </tr>\n",
              "    <tr>\n",
              "      <th>1</th>\n",
              "      <td>OKC seeks bids to demolish public safety compl...</td>\n",
              "      <td>https://journalrecord.com/2021/04/21/okc-seeks...</td>\n",
              "      <td>Wed, 21 Apr 2021 07:00:00 GMT</td>\n",
              "    </tr>\n",
              "    <tr>\n",
              "      <th>2</th>\n",
              "      <td>Epilepsy Discovery Reveals Why Some Seizures P...</td>\n",
              "      <td>https://news.virginia.edu/content/epilepsy-dis...</td>\n",
              "      <td>Tue, 27 Apr 2021 07:00:00 GMT</td>\n",
              "    </tr>\n",
              "    <tr>\n",
              "      <th>3</th>\n",
              "      <td>New research sheds light on what causes sudden...</td>\n",
              "      <td>https://www.news-medical.net/news/20210428/New...</td>\n",
              "      <td>Wed, 28 Apr 2021 07:00:00 GMT</td>\n",
              "    </tr>\n",
              "    <tr>\n",
              "      <th>4</th>\n",
              "      <td>Epilepsy Study Reveals Why Some Seizures Prove...</td>\n",
              "      <td>https://www.technologynetworks.com/neuroscienc...</td>\n",
              "      <td>Thu, 29 Apr 2021 07:00:00 GMT</td>\n",
              "    </tr>\n",
              "  </tbody>\n",
              "</table>\n",
              "</div>\n",
              "      <button class=\"colab-df-convert\" onclick=\"convertToInteractive('df-54498007-b3ea-4860-929f-fefa3e330bef')\"\n",
              "              title=\"Convert this dataframe to an interactive table.\"\n",
              "              style=\"display:none;\">\n",
              "        \n",
              "  <svg xmlns=\"http://www.w3.org/2000/svg\" height=\"24px\"viewBox=\"0 0 24 24\"\n",
              "       width=\"24px\">\n",
              "    <path d=\"M0 0h24v24H0V0z\" fill=\"none\"/>\n",
              "    <path d=\"M18.56 5.44l.94 2.06.94-2.06 2.06-.94-2.06-.94-.94-2.06-.94 2.06-2.06.94zm-11 1L8.5 8.5l.94-2.06 2.06-.94-2.06-.94L8.5 2.5l-.94 2.06-2.06.94zm10 10l.94 2.06.94-2.06 2.06-.94-2.06-.94-.94-2.06-.94 2.06-2.06.94z\"/><path d=\"M17.41 7.96l-1.37-1.37c-.4-.4-.92-.59-1.43-.59-.52 0-1.04.2-1.43.59L10.3 9.45l-7.72 7.72c-.78.78-.78 2.05 0 2.83L4 21.41c.39.39.9.59 1.41.59.51 0 1.02-.2 1.41-.59l7.78-7.78 2.81-2.81c.8-.78.8-2.07 0-2.86zM5.41 20L4 18.59l7.72-7.72 1.47 1.35L5.41 20z\"/>\n",
              "  </svg>\n",
              "      </button>\n",
              "      \n",
              "  <style>\n",
              "    .colab-df-container {\n",
              "      display:flex;\n",
              "      flex-wrap:wrap;\n",
              "      gap: 12px;\n",
              "    }\n",
              "\n",
              "    .colab-df-convert {\n",
              "      background-color: #E8F0FE;\n",
              "      border: none;\n",
              "      border-radius: 50%;\n",
              "      cursor: pointer;\n",
              "      display: none;\n",
              "      fill: #1967D2;\n",
              "      height: 32px;\n",
              "      padding: 0 0 0 0;\n",
              "      width: 32px;\n",
              "    }\n",
              "\n",
              "    .colab-df-convert:hover {\n",
              "      background-color: #E2EBFA;\n",
              "      box-shadow: 0px 1px 2px rgba(60, 64, 67, 0.3), 0px 1px 3px 1px rgba(60, 64, 67, 0.15);\n",
              "      fill: #174EA6;\n",
              "    }\n",
              "\n",
              "    [theme=dark] .colab-df-convert {\n",
              "      background-color: #3B4455;\n",
              "      fill: #D2E3FC;\n",
              "    }\n",
              "\n",
              "    [theme=dark] .colab-df-convert:hover {\n",
              "      background-color: #434B5C;\n",
              "      box-shadow: 0px 1px 3px 1px rgba(0, 0, 0, 0.15);\n",
              "      filter: drop-shadow(0px 1px 2px rgba(0, 0, 0, 0.3));\n",
              "      fill: #FFFFFF;\n",
              "    }\n",
              "  </style>\n",
              "\n",
              "      <script>\n",
              "        const buttonEl =\n",
              "          document.querySelector('#df-54498007-b3ea-4860-929f-fefa3e330bef button.colab-df-convert');\n",
              "        buttonEl.style.display =\n",
              "          google.colab.kernel.accessAllowed ? 'block' : 'none';\n",
              "\n",
              "        async function convertToInteractive(key) {\n",
              "          const element = document.querySelector('#df-54498007-b3ea-4860-929f-fefa3e330bef');\n",
              "          const dataTable =\n",
              "            await google.colab.kernel.invokeFunction('convertToInteractive',\n",
              "                                                     [key], {});\n",
              "          if (!dataTable) return;\n",
              "\n",
              "          const docLinkHtml = 'Like what you see? Visit the ' +\n",
              "            '<a target=\"_blank\" href=https://colab.research.google.com/notebooks/data_table.ipynb>data table notebook</a>'\n",
              "            + ' to learn more about interactive tables.';\n",
              "          element.innerHTML = '';\n",
              "          dataTable['output_type'] = 'display_data';\n",
              "          await google.colab.output.renderOutput(dataTable, element);\n",
              "          const docLink = document.createElement('div');\n",
              "          docLink.innerHTML = docLinkHtml;\n",
              "          element.appendChild(docLink);\n",
              "        }\n",
              "      </script>\n",
              "    </div>\n",
              "  </div>\n",
              "  "
            ]
          },
          "metadata": {},
          "execution_count": 174
        }
      ]
    },
    {
      "cell_type": "code",
      "source": [
        "data1.shape[0]"
      ],
      "metadata": {
        "colab": {
          "base_uri": "https://localhost:8080/"
        },
        "id": "Xqeub9Lu4dfc",
        "outputId": "85ab6b1a-ba68-47d6-c38f-bbb60d2e6aef"
      },
      "execution_count": null,
      "outputs": [
        {
          "output_type": "execute_result",
          "data": {
            "text/plain": [
              "4474"
            ]
          },
          "metadata": {},
          "execution_count": 175
        }
      ]
    },
    {
      "cell_type": "markdown",
      "source": [
        "Note: We have scraped 4474 news records of different topics related to Cisco."
      ],
      "metadata": {
        "id": "mUILe2xgh_oc"
      }
    },
    {
      "cell_type": "markdown",
      "source": [
        "Text Summarization:\n",
        "\n",
        "The practice of condensing the most significant information from a source (or sources) to generate an abbreviated version for a specific user (or users) and job is known as text summarizing (or tasks). \n",
        "\n",
        "We will try to generate a summarized text from all the news related to Cisco"
      ],
      "metadata": {
        "id": "iaOzgYmviIAj"
      }
    },
    {
      "cell_type": "code",
      "source": [
        "x = \"\"\n",
        "data1.shape"
      ],
      "metadata": {
        "colab": {
          "base_uri": "https://localhost:8080/"
        },
        "id": "biYKqiv9WYGd",
        "outputId": "59e15ffe-b16f-45ab-b6a9-b6bef2d27782"
      },
      "execution_count": null,
      "outputs": [
        {
          "output_type": "execute_result",
          "data": {
            "text/plain": [
              "(4474, 3)"
            ]
          },
          "metadata": {},
          "execution_count": 176
        }
      ]
    },
    {
      "cell_type": "code",
      "source": [
        "for i in range(0,4474):\n",
        "  x += data1['title'][i] + \" \""
      ],
      "metadata": {
        "id": "rT4L_eI6Xv-E"
      },
      "execution_count": null,
      "outputs": []
    },
    {
      "cell_type": "code",
      "source": [
        "# The COmbined paragraph containing all the news from the dataset , which is ready to be summarized.\n",
        "print(x)"
      ],
      "metadata": {
        "colab": {
          "base_uri": "https://localhost:8080/"
        },
        "id": "26zV00EVX19b",
        "outputId": "a5453144-ef42-4139-80c3-577082e2b841"
      },
      "execution_count": null,
      "outputs": [
        {
          "output_type": "stream",
          "name": "stdout",
          "text": [
            "Readers envisioned a new downtown OKC in first OKC Central Live Chat - Oklahoman.com OKC seeks bids to demolish public safety complex - Journal Record Epilepsy Discovery Reveals Why Some Seizures Prove Deadly - UVA Today New research sheds light on what causes sudden unexpected death in epilepsy - News-Medical.Net Epilepsy Study Reveals Why Some Seizures Prove Deadly - Technology Networks Oklahoma City budget adopted with a record $240 million for police - Oklahoman.com Arsenal still haunted by ghost of David Dein 14 years on - Pain In The Arsenal Arsenal legend Arsene Wenger linked with return to management three years after leaving Emirates - Daily Mail Rocky Ragusa looks at McKay Wenger in Speed Week - Pontiac Daily Leader 5 best practices for Slack implementation success - TechTarget Cisco All-In On XaaS, Observability, And Collaboration At Its 2021 Live! Conference - Forbes Embracing Cross-Company Collaboration | No Jitter - No Jitter 3 Ways To Connect Cisco Jabber And Microsoft Teams - Dispatch E-News | ITS cautions against upgrading WVU-owned Macs to Big Sur if you use Jabber softphones - WVU ENews Cisco Smart Switches Riddled with Severe Security Holes - Threatpost How One Application Test Uncovered an Unexpected Opening in an Enterprise Call Tool - Security Intelligence Cisco Webex Calling integrated into Microsoft Teams, Hands On - Tom Talks Blog VoIP Upgrades Bring New Features to Federal Phone Systems - FedTech Magazine Cisco Ends Battle For Acacia Communications, Wraps $4.5 Billion Deal - CRN Cisco Completes Acquisition of Acacia Communications, Inc. - PR Newswire Wipro unveils 'full-stack' Cisco division as digital plans kick into gear - Channel Asia Singapore Poor Earnings Could Drag Cisco Stock Below $40 - Trefis Former Cisco CEO Joins Virsec as Investor and Strategic Advisor, Highlighting the Critical Need for Zero-Trust Workload Protection - Business Wire Cisco is in the 4th round of the boys playoffs for first time since 1998 - KTAB - BigCountryHomepage.com The Flash: 10 Major Relationships, Ranked Least To Most Successful - Screen Rant The Next Big Thing in UCaaS: You! - No Jitter If APM Vendors Think They Need RASP, Shouldn’t You? - Security Boulevard ‘India usage 2nd-highest for Webex’ - The Hindu Scientologist Execs at Media Company Made Workers' Lives a Living Hell - The Daily Beast Big Country Player of the Week: Colorado City's Kaci Rivera has hot bat - Abilene Reporter-News Better Buy: Arista Networks vs. Juniper Networks - The Motley Fool Cisco Reveals Private 5G Enterprise Vision - SDxCentral Ottawa frequently awarding IT contracts solely to Cisco, part of long-standing government dependency on networking giant - National Post Cisco Webex adds real-time translation for more than 100 languages - Engadget Poor Earnings Could Drag Cisco Stock Below $40 - Forbes Ambedkar International Center Moves Court to Join Cisco Caste Discrimination Case - The Wire The Flash season 7: Where is Cisco, Caitlin? Are they leaving? - CarterMatt Aspen Technology Appoints Chantelle Breithaupt as Senior Vice President and Chief Financial Officer - Business Wire Ava says its telepresence robot 'revolutionizing real estate industry's digital capabilities' - Robotics and Automation News Does this Make Sense? Gasoline Delivered to Your Car - Scientific American Compromised Website Images Camouflage ObliqueRAT Malware - Threatpost Why Dell's Stock Jumped 189% In One Year - CRN Humatics Appoints Technology Industry Leader Shawn Henry as Chief Executive Officer - PR Newswire Intel Ordered To Pay $2.18B In Patent Trial - CRN Microsoft's 10 Biggest Azure Announcements At Ignite 2021 - CRN Enterprise collaboration enters the innovation fast lane - Computerworld Ambedkar International Centre moves California court to join caste discrimination case - The Tribune India What happened to Cisco in The Flash? Will Vibe return in season 7? - HITC - Football, Gaming, Movies, TV, Music Cisco ahead in SD-WAN as market grows 50% in a year - Capacity Media Ambassador Pyatt's Remarks at DigiTalks: “5G: Greece Changes Gears, Challenges and Opportunities” - US Embassy in Greece - USEmbassy.gov Verizon Outage Hits East Coast As Users Begin Work - CRN HPE Turns Up The HCI Edge Heat On Dell-VMware - CRN ConvergeOne Acquires AAA Network Solutions - ChannelE2E Microsoft and VMware marry Azure Virtual WAN Hub with VMware SD-WAN - ARNnet Ingram Micro Cloud welcomes Cisco remote work solutions to its marketplace - ARNnet Zoom CEO Eric Yuan talks success with former Cisco CEO John Chambers - Silicon Valley Business Journal - The Business Journals The Flash season 7 episode 2 promo: Is Cisco Ramon back? - CarterMatt New Comstor leader targets cloud growth in the Philippines - Channel Asia Singapore Who's Winning In the $17B AIOps and Observability Market - Datanami The Biggest Challenges 25 MSPs See For Their Business In 2021 - CRN Cisco Appoints Marianna Tessel to its Board of Directors - PR Newswire Former Cisco CEO John Chambers Invests In Application Security Provider Virsec - MSSP Alert Cisco Packet Tracer Networking Simulation Tool and its free alternatives - TheWindowsClub Boys basketball: No. 8 Lipan fends off Cisco in region title game - Abilene Reporter-News Wylie girls track wins ACU Wildcat Relays; Big Spring, Wylie boys place second and third - Abilene Reporter-News Readers' Gallery: Sunrise, Sunset - The Inquirer and Mirror Morning Report: Evaluating the 49ers RB Situation Heading into 2021 - 49ers.com Extended federal benefits end for some jobless residents - The State Journal-Register Is CCIE-Service Provider Worth the Effort - TheNationRoar Huawei, Ericsson and ZTE increase share in telecom network business - Telecom Lead Cisco Executive Leadership: Three Major Promotions Unveiled On International Women's Day - CRN Investors should not dismiss Cisco's dot com collapse as a historical anomaly - Financial Times Cisco Needs New Management, Conclusions Of A Shareholder - Seeking Alpha Microsoft Azure Sentinel Gains 30+ Cloud SIEM Data Collectors - MSSP Alert Global UC Overhaul Sees Amgen Through Crisis - No Jitter South Africa IT Industry Report 2020 with Profiles of Dimension Data, Datatec, EOH, Spark ATM Systems, Lumbro Time Systems, Intel, IBM and Cisco - ResearchAndMarkets.com - Business Wire Cityzens Giving Young Leaders mark International Women's Day - Manchester City FC Having our employees in one room is “priceless”, says Synamedia | Ctech - CTech 10 Things To Know About The $4B STG-McAfee Enterprise Deal - CRN 4 New Dell And VMware Products From Microsoft Ignite - CRN Big Country Player of the Week: Stamford's Citlaly Gutierrez continues strong season - Abilene Reporter-News Smart Railway Market to Garner $38.47 Billion by 2027: Says Allied Market Research - GlobeNewswire Cisco's Jeetu Patel On The Dreaded 'Second-Class' Meeting Citizens, Playing Nice With The Competition, And Webex's Future - CRN Caste-bias lawsuit| US Court stays hearing for Cisco’s legal challenge to the complaint - Moneycontrol ‘The Flash’: Does Barry Go Too Far to Try to Save Iris From the Mirrorverse? (RECAP) - TV Insider AICTE Invites Applications for 20,000 Free Virtual Internships in Cyber Security, Here’s How to Apply - DATAQUEST 'The Flash' Grant Gustin Teases Mirrorverse Rescue Plan/Dilemma - TVLine The Flash develops a super-speed brain as the end of the Mirrorverse arc looms - The A.V. Club Data Cloud Giant Snowflake Tightens Alliance With Analytics Developer ThoughtSpot With $20M Investment - CRN Leinweber’s Top 1-8 Safeties in the 2021 NFL Draft - Sports Illustrated Cisco Is Surrounded And Lacks Perspective - Seeking Alpha California's Legal Ground in Battling Caste Discrimination Takes Centre Stage in Historic Cisco Case - The Wire Cisco Sues Over Counterfeit Goods - Law Street Media Cisco Webex Breaks Through Language Barriers and launches Real-Time Translation - Business Review - Business Review News briefs: Koch Industries picks Alkira, Palo Alto - TechTarget Technology to Power an Inclusive Recovery - CIO The Flash Season 7 Episode 2 Recap: “The Speed of Thought” - Showbiz Junkies The Flash S07E02 The Speed of Thought Review: Another Baffling Turn - Bleeding Cool News Cloud Security Firm Aqua Security Raises $135M To Add Clients - CRN Sumo Logic To Buy SOAR Vendor DFLabs To Combat Threats - CRN Agile Content names key executives following Edgeware acquisition - Digital TV Europe Worldwide Enterprise WLAN Market's Fourth Quarter Strength Drives Full Year Growth in 2020, According to IDC - Business Wire Morphisec is the Cyber Threat Alliance's Newest Affiliate Member - PR Web Application Security Startup Snyk Raises $300M To Go Global - CRN Cisco Fights The Merchant Network Chip Makers On Their Own Turf - The Next Platform Cisco found cryptomining activity within 69% of customers - TechTarget Cisco's Digital Acceleration Program Helps T0 Close The Digital Divide - Forbes Cisco Adds Real-Time Translation to Webex Video Meetings - PCMag Cisco AppDynamics launches new research - Intelligent CIO Share of WLAN suppliers Cisco, HPE-Aruba, Ubiquiti, Huawei, CommScope - InfotechLead.com How Big Tech Is Importing India's Caste Legacy to Silicon Valley - Bloomberg AICTE Open 20,000 Virtual Internship Positions in Cyber Security For Free - The Better India Assimilation of Sales, Service and Marketing – Finally! - No Jitter DataRobot names Dan Wright as CEO - Help Net Security Winners: best large workplaces in Ireland 2021 - The Irish Times Big Tech Imports India's Caste Legacy To Silicon Valley. But There's Hope - NDTV Cisco, University of Strathclyde and Scotland 5G Centre announce 5G Cloud Core network - ComputerWeekly.com THRC Holdings Supports Pending Acquisition of QEP Resources by Diamondback Energy - Business Wire Morning Report: How Rashawn Slater Fits in the 49ers Lineup - 49ers.com Woke Capitalism — The Next Generation - National Review APAC is in need for more cybersecurity experts - Tech Wire Asia Huawei Maintains Lead in Global Communications Equipment Market - Eetasia.com Palo Alto Networks leads Security Appliance market, beating Cisco - InfotechLead.com Ethernet switch performance of Cisco, Huawei, Arista, HPE, Juniper - InfotechLead.com The Coolest Servers Using AMD's New EPYC Milan CPUs - CRN The rise of the corporate circular economy professional | Greenbiz - GreenBiz Dialpad Launches Partner Portal On Heels Of 'Record-Breaking' Growth: Exclusive - CRN Michael Dell: Public Cloud Isn't More Secure Than On-Premise - CRN Virtana Welcomes Senior Vice President Alex Thurber to Pilot Its Customer Success Initiative - PR Newswire China Development Forum scheduled for later this month with largest foreign attendance - Global Times Mimecast Axes SolarWinds Orion For Cisco NetFlow After Hack - CRN Cisco, Intel, Juniper all say they won't require employees to get Covid vaccines, following similar plans from Facebook, Google - Silicon Valley Business Journal - The Business Journals Almoayyed Computers CEO highlights its 'golden' partnership with Cisco - Tahawul Tech Wi-Fi 6 and Wi-Fi 6E - Worldwide Industry Forecasts to 2026 for Key Devices Including CPEs, Smartphones, Gaming Devices, Smart Home Devices, Automobiles, Mobile Robots, Drones, and Wearables - GlobeNewswire Rumble Raises $5m in VC Funding to Solve the Network and Asset Discovery Challenge - Business Wire Dell, HPE Battle For Server Market Share Leadership - CRN 'The Flash' Recap: Season 7 Episode 3 — Mirrorverse Finale - TVLine CrowdStrike CEO: 'We're Seeing A Crisis Of Trust Within The Microsoft Customer Base' - CRN Network Configuration and Change Management (NCCM) Market to Hit USD 2277.9 Million by 2026 Growing at 7.6% CAGR | NCCM Market Analysis by Component, Deployment, Organization Size, Vertical and Region - GlobeNewswire Canada’s Rogers and Shaw announce $26bn merger - ComputerWeekly.com Pushing Away Traditional 9-5 Offices, Cisco Keeps Remote Workers Connected Securely - Vulcan Post Cisco opens cybersecurity talent incubation center in Taiwan - Focus Taiwan News Channel Rakuten Pumps Airspan vRAN Into RCP - SDxCentral Syracuse Pro Day, Spring Football Dates Set - Sports Illustrated MAKWA-IT becomes the first black & youth-owned company to achieve Cisco Gold Partner Status in Mzansi - Creamer Media's Engineering News HPE Steps Up AI March With Standalone Version Of Ezmeral - CRN U.S. Efforts To Counter Huawei 5G Dominance Making Progress: Open RAN Playing Growing Role - Forbes Cyber threat on companies increases 25% due to... - The Malaysian Reserve The Coolest Data Center Companies In 2021: The Data Center 50 - CRN ‘The Flash’ Season 7 Episode 3 Recap: “Mother” Review - Showbiz Junkies Cisco's new trial bid rejected after $1.9 billion patent infringement case - Reuters Cisco: Weaving a fabric of trust to enable seamless Digital Transformation - Intelligent CIO Dell, Google, Others Join New Electronics Partnership to Develop Circular Economy - Environment + Energy Leader Eleanor Gertrude Rainwater | Obituaries | kdhnews.com - The Killeen Daily Herald AMD Partners Unveil Their Plans for Integrating New AMD Epyc CPUs in Servers, Services - HPCwire Aggie Women Who Are Making a Difference in the World - A & T Register Redefining Education, Exposure, and Experience for Employees In 2021 - BW Businessworld Cybersecurity Stocks Scan: Jim Cramer Picks 3 Stocks to Watch - TheStreet Network Access Control Market to cross $12 Bn by 2027; Global Market Insights Inc. - GlobeNewswire What to expect at Cisco Live 2021: Future of work, networks - TechTarget Cisco, Apple Boost Their WiFi Fastlane - SDxCentral Cisco request for new trial denied after $1.9 billion loss - World Intellectual Property Review Cisco Joins Forces with NHS East London - UC Today Syracuse DBs Have Strong Pro Day Performances - Sports Illustrated After limited Pro Day, former Syracuse DB Andre Cisco updates ACL rehab: 'I haven't had any setbacks' - 247Sports Foxconn starts US production of servers and network gear - Nikkei Asia How Quantum Metric CEO Mario Ciabarra Landed John Chambers As a Mentor - Business Insider Telco Edge Offers Carriers Last Chance for 5G Wealth - SDxCentral Black-owned Makwa IT Technologies certified as Cisco Gold Partner in SA - IOL Why Computer Chips Are Like Toilet Paper and Gasoline - Bloomberg Joint JEDI Award To Microsoft, AWS Would 'Reduce DoD's Litigation Risk': Procurement Expert - CRN The 5 Hottest SASE Technologies To Know In 2021 - CRN The Flash season 7 episode 6 spoilers: The Groundhog Day tribute? - CarterMatt New Cisco Research Reveals Collaboration, Cloud, and Security are IT's Top Challenges - PR Newswire India To Be Part Of Cisco’s $5 Bn Funding For 5g Projects | Mint - Mint CyberPatriot Crowns National Champions in Virtual National Finals - Air Force Magazine Cloudflare SASE Magically Solidifies VMware, Aruba SD-WAN - SDxCentral Dell, HPE, Nutanix Fight For Hyperconverged Lead In HCI Market - CRN VMware Launches 'Game-Changer' Lifecycle Partner Program - CRN 5 Things To Know About The $7.2B Synnex-Tech Data Merger - CRN Chicago radio ratings: News rules again with WBBM, WBEZ on top - Robert Feder Cisco SD-WAN, Now Extended Over Global Google Cloud Network - CRN ATX starts to pick up where Cisco left off - Light Reading New Cisco Research Reveals Collaboration, Cloud, and Security are IT's Top Challenges - AiThority Makwa IT achieves Cisco Gold Partner status - ITWeb Big Country Fellowship of Christian Athletes reveals 2021 all-star rosters - Brownwood Bulletin Orca Security Banks $210M to Battle Palo Alto Networks - SDxCentral Atos adds Carol Houle as global head of consulting for financial services - Consulting.us Silicon Valley firms in no hurry to open up offices despite easing of virus ban - Reuters Benu Networks Drives SASE Into the Telecom Edge - SDxCentral D&H Co-Presidents On Standing Out Amid The Tech Data-Synnex Merger: 'We Are Like Evolution Versus Revolution' - CRN The Flash Season 7 Episode 4 Review: Central City Strong - TV Fanatic Sue Bostrom Joins Samsara's Board of Directors - PR Newswire SD-WAN, SASE see spike as firms experience ‘network nightmare’ in 2020 - ComputerWeekly.com HashiCorp and Cisco Expand Collaboration, Enter Into Multi-Year Commercial Agreement To Deliver Infrastructure as Code for Hybrid Cloud Environments - GlobeNewswire Google extends Cisco networking relationship with cloud-based network management - IT PRO With extra funds, CIOs gear up to secure networks, optimize for the cloud - CIO Dive Ballinger's Adam Winn signs to play football at Cisco College - Standard-Times The Flash Season 7 Acknowledges Canceled Arrow Spinoff - Screen Rant Worldwide Wi-Fi Industry (2020 to 2026) - Major Players Include Cisco, Ericsson and Extreme Networks Among Others - GlobeNewswire 25 agri-tech startups shortlisted as semi-finalists of Cisco Agri Challenge - The Financial Express Jeffrey S. Sharritts Appointed to Mueller Water Products' Board of Directors - GlobeNewswire Apple Faces Indian Engineer’s Bias Lawsuit Over Her Hindu Ancestry In Pakistan’s Sindh Region | Mint - Mint Intel will make others' chips in major turnaround effort under new CEO - CNET Dell's John Byrne: 5 Big Reasons Partners Need To Bet On Dell - CRN 5 Partner Takeaways On The Synnex-Tech Data Merger - CRN Cisco Shapes the Future of Work with New Solutions Enabling Trusted Workplaces and Safe Return to Office - PR Newswire Cisco Leans on HashiCorp to Manage Infrastructure as Code - DevOps.com Cisco launches partner apprenticeship programme - ComputerWeekly.com Will Cisco (or Someone Else) Scoop Up Traceable for Its Cloud Security Stack? - SDxCentral The Flash Season 7 Turns Cisco Into Mecha-Vibe | Screen Rant - Screen Rant Cisco Opens German Datacentre to Support Webex - UC Today Empower, engage, experiment: Tips on design thinking and innovation by Vivasvan Shastri of Cisco - YourStory These successful companies were founded by women - Chicago Tribune Dow Jones Today, Stocks Start Lower As Nike Hit By China Boycott Threat: RH, Darden, Cisco Systems Rally - Investor's Business Daily The 10 Hottest Zero-Trust Vendors To Watch In 2021 - CRN The 3-2-1 backup rule: Has cloud made it obsolete? - ComputerWeekly.com Apple faces Silicon Valley's second South Asian bias lawsuit - newsindiatimes.com Aviatrix's Steve Mullaney: There's No Going Back To 'Cisco Model Of The 90s' - CRN Gartner's Top 10 Global 5G Network Infrastructure Companies - CRN 4 Software Engineers Share the Biggest Technical Challenges They've Faced - Built In Austin Comcast Gets SASE With Palo Alto Networks - SDxCentral 5 Big Things Bain Capital Seeks When Investing In IT Companies - CRN Savoy's Home Rule Referendum Attracts Supporters & Opponents - Illinois Newsroom Recap: THE FLASH S7E4 — “Central City Strong” - Comics Beat Fitch Upgrades TierPoint, LLC to 'B'; Outlook Stable - Fitch Ratings Late Round Safeties The Browns Should Consider For The 2021 Draft - Browns Nation The Flash's Official Name For Restoring Pre-Crisis Memories - Screen Rant McAfee Adds Cloud-Native App Security to Workload Protection, CSPM - SDxCentral Cisco Maintains Silicon One Momentum With New Devices - Forbes Judge denies Cisco new trial, upholds judgement in patent infringement suit - SC Media Cisco Live 2021: What to Expect at the Virtual Event - BizTech Magazine Black network engineers juggle building networks, being seen - TechTarget Big UC News You May Have Missed - UC Today How to attract more women in tech (and get them to stay) - Human Resources Online Zscaler, CrowdStrike Team Up on Zero-Trust Security - SDxCentral Worldwide Unified Communications & Collaboration (UC&C) Market Soars in 2020, According to IDC - Business Wire The Flash Season 7 Episode 5 - TV Fanatic Cisco As-A-Service Strategy Is Taking 'A Giant Leap Forward': Partners - CRN Cisco Tackles Cybersecurity's Biggest Challenge - SDxCentral Cisco Unveils Crucial New Innovations to Power an Inclusive Future for All at Cisco Live! - PR Newswire Cisco CEO says the U.S. and China should find ways to co-exist - CNBC Cisco Unveils New, Expanded SASE Architecture, Delivering Complete Protection from Endpoint to the Cloud - PR Newswire Cisco, Huawei Dominate Down Enterprise Network Market, Dell'Oro Says - SDxCentral Cisco Melds ThousandEyes, AppDynamics for Full-Stack Observability - SDxCentral Why Not Networking As A Service? But How? - The Next Platform Cisco unveils gear to cope with pandemic demand, 5G - Reuters Cisco Webex People Insights Will Boost Well-being, Inclusivity, Says Execs - CRN Flash Actor Dishes On Whether Chester And Cisco Will Get Along - Exclusive - Looper Syracuse’s Andre Cisco, Nolan Cooney among top 10 in Mel Kiper’s new NFL Draft position rankings - Troy Nunes Is An Absolute Magician The Flash S07E05 Preview: Frost Isn't Too Thrilled with Cisco's Plan - Bleeding Cool News Bar employee’s lawsuit says cops assaulted, falsely arrested her during disturbance - NJ.com Palo Alto Networks latest security giant accused of patent infringement - SC Media The CRN 2021 Partner Program Guide: Forging A Path To Success - CRN All of the Crossover Events Between 'Supergirl' and 'The Flash' - Distractify Network Packet Broker Market Size To Reach USD 1007 Million By 2026 at a CAGR of 6.8% - Valuates Reports USA - English - USA - PR Newswire Zoom Blocks RingCentral Meetings for New Customers - UC Today Cisco Announces Expanded SASE Architectures, Networks As-a-Service - ARC Advisory Group Cisco launches next-gen networking suite to address post-pandemic ‘new normal’ - ComputerWeekly.com Cisco Live 2021: 5 Bold Statements We Heard From Cisco Leaders - CRN Cisco is now offering your business everything as a service - TechRadar Cisco starts to see the benefit of combining AppDynamics and ThousandEyes - Diginomica Cisco Enhances People Insights for Webex | No Jitter - No Jitter Cisco CEO Expects Chip Shortage to Last Longer than a Year - Tom's Hardware Cisco and Why Empathy in a Vendor is Important - IT Business Edge Building a Network as Fast as the Future - CIO Uniphore Raises $140 Million in Series D Funding as Demand Skyrockets for Enterprise AI and Automation Solutions - Business Wire Cisco Seeks To Accelerate Qatar’s Digitization Agenda With Appointment Of Hasan Khan As General Manager - البوابة Battle for Telcos: Next Phase in War for Global UCaaS Domination - No Jitter ‘The Flash’ Season 7 Episode 5 Recap: “Fear Me” Review - Showbiz Junkies Woolworths has five years of IT strategy and delivery validated - iTnews India networking market revenue dips 4.2% in Q4: IDC - InfotechLead.com Tech Stocks Are Crashing -- Is It Time to Buy? - The Motley Fool Cistor Ltd is Bringing sustainable IT to Manchester - PR Web Malicious attack now targeting video gamers and modders - TechRepublic Dimension Data introduces SQL on Azure: Secure and intelligent - ITWeb Sharecare expands leadership roster with strategic executive hires in information security and community - PR Newswire Salesforce-Slack deal heralds the future of collaboration - TechTarget Cisco helps service providers and web scale companies offer a more accessible internet - Help Net Security Cisco integrates ThousandEyes with AppDynamics, Catalyst - TechTarget Cisco adds 'People Insights' analytics to Webex - Computerworld Cisco Secure Adds Duo Passwordless Authentication to Zero Trust Platform - MSSP Alert Cloud Complications, and How to Fix Them - CIO New VPN required for students who access secure Penn State resources - Pennsylvania State University Lendlease JV Buys Certis Site in Singapore's Paya Lebar - Mingtiandi Coloradans making calls in 719 area code must dial all 10 digits starting in April - FOX21News.com TSMC Pledges $100B Foundry Boost - SDxCentral NTT Security CEO Matt Gyde Exits After Building Services Giant - CRN 5 best practices for Slack implementation success - TechTarget Cisco, with Webex, delicately moves to 'instrument' employees — without violating privacy - Computerworld Cisco's Oliver Tuszik: 'We Need Partners' To Be Successful With Consumption-Based IT - CRN Watch the newest commercials on TV from Goldfish, Cisco, Abbott and more - AdAge.com Haskell girls, Hawley boys win District 10-2A track meet team titles in Albany - Abilene Reporter-News All the CEOs that have spoken out against Georgia's new voting restrictions - Axios Passwordless authentication with device biometrics awarded, launched and praised - Biometric Update What's Changed: 2021 Magic Quadrant for Network Services, Global - Solutions Review Dell Will Use AMD, Intel, Nvidia Chips Ahead: Michael Dell - CRN Recap: THE FLASH S7E5 — “Fear Me” - Comics Beat Nokia's Triple-Threat Gambit for Enterprise - SDxCentral These are top 5 announcements from Cisco Live - and what they mean to customers - SiliconANGLE News Cisco, Intel, VMware Execs Decipher vRAN vs. Open RAN - SDxCentral Andre Cisco NFL Draft Profile - LAFB Network Will Caitlin be in 'The Flash' season 7? Get to know the character better - Republic TV The Big Bang Theory Connection You Never Noticed In The Flash - Looper The Flash: \"The One With The Nineties\" Photos Released - ComicBook.com Trump includes UPS, ViacomCBS, JP Morgan, Cisco, and Merck in boycott list for opposing Georgia voting law - MEAWW War co-founder Morris B.B. Dickerson dead at 71 - New York Daily News Cisco Plus Offers 'Turnkey' As-A-Service Solutions, Not Pieces, Say Execs - CRN Cisco updates Webex People Insights to help boost employee well-being - IT World Canada The Flash S07E06 Preview Finds Cisco & Chester Going Timey-Wimey - Bleeding Cool News San Cisco announce massive Australian tour - NME I believe with certainty that the future of work is hybrid: Cisco’s Jeetu Patel - People Matters External collaboration tools extend platforms to partners - TechTarget New Report: FC Cincinnati's West End Stadium using technology to support safer, easier fan experience - Mobile Sports Report An IP over DWDM renaissance at 400G - Light Reading VMware Unifies Its Cloud Front - The Next Platform How Companies Should Approach New Cybersecurity Practices to Avoid Cyber Attacks and Unplanned Downtime - Automation World Google Vs. Oracle Supreme Court Ruling: 6 Big Things To Know - CRN The 10 Coolest IoT Software Companies: The 2021 Internet Of Things 50 - CRN Why Republicans are pretending to hate corporate America now. - Slate War co-founder and bassist BB Dickerson has died - NME Summarizing Major News Items from Cisco Live 2021 | eWEEK - eWeek Cisco launches Cisco Plus as-a-service portfolio - ITBusiness.ca Cisco Webex Contact Centre availability extended across ASEAN - Channel Asia Singapore Cisco Survey Reveals the Biggest Challenges for Global IT Professionals - Channel Futures When a new Force strikes, Cisco and Chester have a Flash-back to the Nineties - The A.V. Club Cisco, Dell and Lenovo debut new servers based on Intel's 3rd Gen Xeon Scalable processors - SiliconANGLE News Viptela Founders Launch App Experience 'Disruptor' Prosimo, Reveal $25M In Seed Funding - CRN Keeping tabs on employees in the hybrid workplace - TechTarget ThreatQuotient Closes $22.5 Million in New Financing to Accelerate Innovation and Execution - Business Wire Pica8 Announces Record Investment Round, Names New Board Members - GlobeNewswire Top Zoom Shareholders - Investopedia Morning Report: Analysts Predict All QBs in Latest 49ers Mock Draft - 49ers.com Verizon Finds COVID-19 Made Mobile Security Worse - SDxCentral The Flash: Brandon McKnight Teases What's Next for Chester - ComicBook.com Top 20 Data Science And Machine Learning Platforms: Gartner - CRN Cisco Live: Foretelling the Future | No Jitter - No Jitter Partners Praise Cisco DevNet Certification Program As DevOps 'Crashes' Into Daily IT Tasks - CRN Cisco fixes bug allowing remote code execution with root privileges - BleepingComputer Cisco Meraki Helps Bay State College With A Safe Return To Campus - Forbes Hackers Are Exploiting Discord and Slack Links to Serve Up Malware - WIRED Arista Automates CloudVision, Adds Streaming Telemetry - SDxCentral Is AWS Making The Switch To Homegrown Network ASICs? - The Next Platform The Flash season 7, episode 6 review: The One with the Nineties - Bam! Smack! Pow! Intel Partners Debut Latest Servers Based on the New Intel Gen 3 'Ice Lake' Xeons - HPCwire VMware Shelters Telco, Edge, SASE Under One Big Umbrella - SDxCentral Upselling Alert! - UC Today The 10 Coolest IoT Security Companies: The 2021 Internet Of Things 50 - CRN JPMorgan Chase CEO Jamie Dimon annual letter: How Wall Street will remote work, for better or worse - CNBC Arrest log - Lowell Sun Boycotts don't work against corporate giants who know their customers - USA TODAY Insightsoftware Acquires Embedded Analytics Tech Developer Logi Analytics - CRN Multi-cloud support and low-code/no-code tools launched by NetBrain to spur adoption of NetOps automation - VanillaPlus Case study: Accelerated cloud network deployment 'unlocks' Koch Industries' IT transformation plan - VanillaPlus Zero-Day Bug Impacts Problem-Plagued Cisco SOHO Routers - Threatpost 6 New And Useful Cisco Webex Features For 2021 - CRN ADDING MULTIMEDIA Securiti Announces Funding From Cisco Investments - Business Wire Cisco's CEO: Tech can help businesses achieve ‘virtually anything’ - ITWeb The Flash: Every Pop Culture Reference In Season 7 Episode 6 - Screen Rant Samsung, Cisco, Ciena Plans To Set Up Manufacturing Units In India Under PLI Scheme - Gizbot Arista simplifies network management in latest CloudVision - TechTarget Morning Report: 49ers Sign Quarterback to One-Year Deal - 49ers.com CommScope open to other alternatives for Home Networks unit - Light Reading Texas' Distanced Juries Hit Big Tech With $3.7 Billion of Awards - Bloomberg Jonathon Dixon leaves AWS to join Cloudflare as APAC GM - CRN Australia NM State Mourns Passing of Former Assistant Coach Ken Henson - New Mexico State University Athletics - NMSU Aggies 10 Hot New HPE, Lenovo, Supermicro, Dell Servers With AMD Processors - CRN Cisco, NEC advance 5G IP transport networks deployment - ComputerWeekly.com Datagroup partners with Cisco - Broadband TV News Intel, Cisco: Why Value Tech Stocks Hit The Sweet Spot In The Current Market - Forbes Three recommendations to secure a hybrid workforce - FedScoop The 10 Coolest New Servers With Intel Processors In 2021 - CRN Morning Report: Joe Staley Earns Senior Bowl HOF Honor - 49ers.com Salesforce - Fortune For CPU Makers and OEMs Alike, It’s A Platform View - The Next Platform Career and Technology Academy Partners with Idea Solutions - Bay Net The Flash 7x06 Review - Flash-back - Batman-News Calvert Public Schools Career and Technology Academy, Idea Solutions Team up for Award - The Southern Maryland Chronicle Morning Report: Nick Bosa Shares Workout Video - 49ers.com Cisco is inching closer towards an IT-as-a-service model - TechRadar Companies earned the ‘great place to work’ honor this year by supporting women and caregivers - Fortune Karamjit Singh and Cisco Racing to compete in 2021 Malaysian National Rally Championship in a Gen2 4WD - paultan.org - Paul Tan's Automotive News Worldwide Scalable Software Defined Networking Industry to 2026 - Rising Adoption of Cloud is Driving Growth - ResearchAndMarkets.com - Business Wire CommScope's set-top spin-out: How did we get here? - Light Reading Why Remote Browser Isolation (RBI), Why Now? - Security Boulevard Discord Security Tips: Common Threats and How to Stay Safe - MUO - MakeUseOf SafeGuard Cyber Raises $45M In Strategic Growth Financing Led By NightDragon USA - English USA - English - PR Newswire California students demand caste in anti-discriminatory... - The American Bazaar AI, machine learning and cybersecurity | 2021-04-09 - Food Engineering Magazine Microsoft Buying Nuance In $19.7B Voice Recognition, AI Blockbuster - CRN Microsoft CEO Satya Nadella's Plan To Unlock 'Trillions Of Dollars' In Partner Opportunity - CRN Nvidia Reveals Arm-Based Data Center CPU To Take On Intel, AMD - CRN Satya Nadella: SolarWinds Hack Underscores Need For 'Moving To The Cloud' - CRN Collaboration analytics: Yes, you can track employees. Should you? - Computerworld Double murder-suicide shocks two communities in Middle Tennessee - WKRN News 2 A Los Panchos Restaurant Food Truck is on the way - WETM - MyTwinTiers.com Cisco Becomes an Official Technology Partner of the National Football League - PR Newswire Bay Area's Cisco, Salesforce top list of Fortune's best companies to work for - KTVU FOX 2 San Francisco Sedona NetFusion now available through Cisco - PR Newswire Better Buy: Cisco Systems vs. Zoom Video Communications - The Motley Fool Aruba ESP, Now With Silver Peak, Has Cisco In Its Crosshairs - CRN Yellowstone Officials Work to Remove Invasive Cisco Fish Species - K2 Radio Andre Cisco - Free Safety Syracuse Orange Scouting Report - Sports Illustrated Sculptor’s second statue could signal flourishing Cisco art scene - KTAB - BigCountryHomepage.com Paris 2024 Olympic organisers entrust cybersecurity responsibilities to Cisco - Insider Sport Becknell to develop $7 million Westlake warehouse - Jacksonville Daily Record Tapping into the Customer Experience | News at Poole College - Poole College of Management Worldwide Teleoperation and Telerobotics Industry to 2026 - Featuring ABB, AppFolio and Cisco Among Others - ResearchAndMarkets.com - Business Wire 'Welcome to the Red Summer of 2021': Minnesota Social Studies Teacher of the Year Shares Lesson on Daunte Wright's Killing & the Deadly Events of Summer 1919 - The 74 Intel CEO Pat Gelsinger's 'No-Brainer' Plan To Solve Chip Shortage - CRN Google Cloud, Broadcom Team Up on Enterprise Security - SDxCentral KKR May Acquire Ensono In $1.7B Deal: Report - CRN NFL taps Cisco to develop connected league platform for all 30 stadiums - SportsPro - SportsPro Media Cisco (AppDynamics) Named a Leader for Ninth Time in 2021 Gartner Magic Quadrant for Application Performance Monitoring - Business Wire Cisco's pandemic response earns company top spot on Fortune's best companies list - HR Dive Jets Draft Preview | Trevon Moehrig Could Be the Only Rd. 1 Safety - newyorkjets.com Transcript: Diversity in the Workplace: The New Multigenerational Workforce - The Washington Post Aruba As-A-Service 'Setting The Bar' For The IT Industry: HPE's Antonio Neri - CRN It's Official: IT Services Giant Ensono Acquired By KKR - CRN Dell's VMware Spin-off: 5 Big Things To Know - CRN Wilks Brothers mounts Supreme Court challenge in ongoing battle with Calfrac - Financial Post Satya Nadella Praises Yorktel, RedBit For Innovative Uses Of Microsoft Technology - CRN Cisco announces new data centre to serve collaboration customers in the region - Intelligent CIO Paris 2024 signs Cisco as third official partner of Olympics and Paralympics - Insidethegames.biz Cisco Talos Say Attackers Using Slack and Discord to Distribute Malware - The National Law Review Cisco \"The Bridge to Possible: Powering an Inclusive Future for All\" (Full Version) - SHOOT Online Alphabet Workers’ Union supports lawsuit against Cisco in caste discrimination - The News Minute Fast & Furious: Spy Racers Jorge Diaz Season 4 Interview - CBR - Comic Book Resources Facing the spectre of counterfeit kit - UKAuthority.com Wired and Wireless LAN Access Infrastructure Market Size to 2027 By Upcoming Trends and Challenges, Industry Revenue, Growth Factors, Future Strategic Planning, Key Vendors, Market Contribution and Developments - GlobeNewswire Revived Oracle Lawsuit With Rimini Street A 'Message' For MSPs: Attorneys - CRN How Jeff VanderMeer Prevents Writer’s Block - The New York Times AT&T Scoops 3 Flavors of 'Coming Soon' Private 5G - SDxCentral Syracuse 2021 NFL Draft profile & preview: Safety Andre Cisco - Troy Nunes Is An Absolute Magician TVCC Cardinals lose to Cisco, 24-7 | Texas | weatherforddemocrat.com - Weatherford Democrat How Cisco sees Chile mining sector becoming ... - BNamericas English Stocks making the biggest moves premarket: Morgan Stanley, Sunrun, Comcast and more - CNBC 5 Companies That Came To Win This Week - CRN NSA: 5 Security Bugs Under Active Nation-State Cyberattack - Threatpost Oracle plans to bring 8,500 jobs, $1.2 billion campus to Nashville - Ladders Presidio CEO: Private Equity Favors Scale As Channel Consolidation Looms - CRN The 10 Coolest XDR Security Companies To Know In 2021 - CRN South Asian Mentorship Program launches campaign for caste protections in 5C nondiscrimination policies - The Student Life Platform9 and Mavenir Discuss How to Accelerate 5G Deployment, Podcast - Telecom Reseller The SASE wave: Why cloud-native edge security is gathering huge momentum - VentureBeat Every Justice League Member Confirmed To Exist In The Arrowverse - Screen Rant Federal investigators looking into breach at software code testing company Codecov - The Verge Cisco tool opens telemetry for advanced network, security analytics - Network World Water-authority network upgrade spots problems faster - Network World Derek Chauvin trial: How race, police and unrest are taught in school - USA TODAY Concerns grow over digital threats faced from former employees - TechRepublic 2021 NFL Draft DB Superlatives: Best range, most versatile, best in press coverage and more | NFL Draft - Pro Football Focus Zoom launches $100 mln fund to invest in apps using its technology - Reuters Global internet outages rise 16% in mid-April - S&P Global Santa Clara-based Prosimo provides all-in-one platform for enterprise cloud infrastructure - Silicon Valley Business Journal - The Business Journals Stellar Cyber Feeds Third-Party Threat Intel Into XDR - SDxCentral High-Performance Computing Market Size to Reach USD 66.46 Billion in 2028 | Growing Need to Streamline Business Processes and Rising Prominence of Cloud Computing is Driving Industry Growth, Says Emergen Research - GlobeNewswire Digital Alpha Announces Closing of Second Digital Infrastructure Fund at Over $1 Billion - PR Newswire Purchase of IT Equipment and Accessories | PR9844450 | Closing: Wednesday May 05, 2021 at 10:00am Local time - US Embassy in Uganda - USEmbassy.gov Vulnerability In Duo Security App 2FA Could Allow Account Takeover - Cyber Security News VMware Rolls SASE, Endpoint Security Into Anywhere Workspace - SDxCentral Zscaler Extends Cloud Security With New Private Service Edge - CRN Morning Report: Alex Smith Hangs Up Cleats After 16-year Career - 49ers.com Top Security Challenges of 2020 Show Us How to Protect What’s Next - CIO ZertoCon: Zerto Makes Big Play For Kubernetes, Cloud Data Protection - CRN China-linked hackers used VPN flaw to target U.S. defense industry -researchers - Reuters Check Point Taps VMware Vet Geoff Waters To Run Americas Sales - CRN Palo Alto Networks' Nir Zuk: EDR Is 'Really Stupid Idea' - SDxCentral What Is The Most Popular Video Platform In the World? - UC Today New Cisco Pilot Program Prepares Visually Impaired for Cybersecurity Work - SHRM Cisco Commits $100 Million to Help Address Climate Crisis - PR Newswire Cisco AppDynamics Expands Global Software-as-a-Service Offering With Five New Locations - MarTech Series Cisco's CDA Program is a Multinational Game Changer - IT Business Edge John Chambers: HPE Works With Startups 'Better Than Any Other Company' - CRN Data#3 picked for networking solution at Sydney Football Stadium - ARNnet Innovium Hitches Its Switches To SONiC’s Boom - The Next Platform IT certifications: Popular and valuable but not for everyone - Network World DOH logs 2300000 minutes in conference calls and telemedicine over Cisco Webex - Manila Bulletin Hackers pose as Bloomberg employees in email scam - CyberScoop Digital Alpha closes second digital infrastructure fund at over USD1bn - Private Equity Wire Syracuse Orange 2021 NFL Draft preview & profile: Safety Trill Williams - Troy Nunes Is An Absolute Magician 13 Leadership Lessons from Zoom Founder and CEO Eric Yuan - Entrepreneur Open19, the LinkedIn-Born Data Center Standard, Kicks Off a Second Act - Data Center Knowledge Israel Taps AWS, Google Cloud For $1B State Cloud Infrastructure Project - CRN Apple, Lenovo And Other Tech Giants Find Themselves In The Midst Of A $50 Million Ransomware Attack - News18 7 Cheap Stocks to Buy Before Biden's Infrastructure Spending Begins - InvestorPlace Open19 rack standard project goes to Linux Foundation - DatacenterDynamics Cisco CEO Chuck Robbins: Moving To The Cloud Alone Isn't A Security Cure-All - CRN SafeGuard Cyber Raises $45m With Cisco Among Investors - UC Today Passion And Compassion Drive Cisco's Culture - Forbes Cisco pledges $100 million to combat climate change - The Siasat Daily Cisco and Nipun Net - Future-Proof your business with the next-gen use cases - The New Indian Express Cross-industry collaboration critical for circular electronics future | Greenbiz - GreenBiz Jack Allen | Greenbiz - GreenBiz Cyprus’ leading Investment Bank woos Israeli investors - The Jerusalem Post Morning Report: NFL Sets Date for the 2021 Schedule Release - 49ers.com Pure Storage CEO Charles Giancarlo's 10 Boldest Remarks From BoB Virtual 2021 - CRN From Farm to Fork: How Technology Can Help Lift Smallholder Farmers Out of Poverty - TriplePundit Hackers Exploit SolarWinds, Pulse Secure For Credential Theft: Feds - CRN Texas A&M's Mikey Hoehner worked hard to become one of SEC's best catchers - Bryan-College Station Eagle Atlas Purchaser, Inc. (Aspect Software) -- Moody's rates Aspect Software CFR B3 - Yahoo Finance Windows 10 1909 KB5001396 cumulative update preview released - BleepingComputer Lil Mosey Charged With Rape, Wanted by Police - XXLMAG.COM Fantasy Football: Top-50 pre-draft IDP rankings | Fantasy Football News, Rankings and Projections - Pro Football Focus Chuck Robbins: Cisco Webex Will Strike The Balance Between Security, Ease Of Use - CRN Apple, Intel, Cisco all offering on-site Covid vaccines to employees - Silicon Valley Business Journal - The Business Journals Cisco Brewers Portsmouth Memorial Day 5K Krempels Center - Seacoastonline.com Here Are Arista Networks' Highest Paid Executives - CRN NFL Draft 2021: Eagles' options at safety - NBC Sports How I Passed CCNA 200-301 Exam In Just 4 Weeks - LA Progressive UMA announce new Distribution Partnership with Ingram Micro - Business Wire Apple Menaced After REvil Ransomware Attack Against Supplier - CRN Should Zoom Investors Be Worried as Its Customers Go Back to the Office? - The Motley Fool XOX chooses Webex Contact Centre solution to enhance contact centre service offering - New Straits Times Intel CEO Pat Gelsinger Resigns From VMware's Board - CRN Digital Alpha closes USD 1 billion oversubscribed fund - ICLG.com These Are Cognizant's Top 6 Highest Paid Executives - CRN 'Mona Scott Love a Good Storyline': Karlie Redd and Lamar Odom Continue to Fuel Dating Rumors After They Get Cozy at His Event - Atlanta Black Star Air Fryer Hacking On The Menu As Security Flaws Revealed - Forbes Apple employees to get COVID-19 vaccinations at work - Business Insider Cisco CEO: Chip shortages will likely last for another six months - Business Insider ‘The Flash’ Episode 7×06 Recap: “The One With The Nineties” - The Series Regulars VMware Nabs Cisco Sales Leader To Boost NSX, Security - CRN Entertainment Complex brewers Cisco Black Whale owner hiring people - SouthCoastToday.com Keerti Melkote On Aruba ESP Vs. Cisco Meraki, Silver Peak Plans, And How Aruba As-A-Service Isn't Simply 'Repackaging' - CRN The Future of Work, Phase Two - CIO McLaren Racing: Powering through the pandemic with Webex - CIO Top NaaS Providers 2022 | Network as a Service Solutions | ENP - EnterpriseNetworkingPlanet Looking to level up? Amazon, Google, Microsoft and more offer training programs - USA TODAY Talking Servers With Inspur And Intel - The Next Platform Proofpoint To Be Acquired By Thoma Bravo For $12.3B - CRN Dell Taps Secureworks XDR for Managed Detection, Response - SDxCentral Apple Pledges $1 Billion for New North Carolina Engineering Hub - Bloomberg 800 Gbps Switching, Routing, and DCI Market Opportunity to Exceed $10B in 2025 - GlobeNewswire AT&T's Earnings Call: 5 Big Things You Might Have Missed - CRN In Appreciation: Dan Kaminsky - Dark Reading The Big Data 100 2021 - CRN Top 5 safeties in the 2021 NFL Draft - ClutchPoints Review: Cisco Umbrella Offers Full-Coverage Cloud Security - EdTech Magazine: Focus on K-12 Cisco & The Coca-Cola Foundation Hear Selena Gomez's Call for COVID-19 Action - Global Citizen Randstad US's TRANSCEND Program Announces First National Private-Nonprofit Partnership Focused on Skilling with Cisco, TechBridge and Urban Strategies - PR Newswire Silicon Photonics Market Featuring Cisco Systems Inc., GLOBALFOUNDRIES US Inc., and II VI Inc. | $ 4.15 Billion Growth Expected During 2021-2025 | Technavio - PR Newswire 2021 Abilene, Big Country softball playoff pairings - Abilene Reporter-News Linux Kernel Bug Opens Door to Wider Cyberattacks - Threatpost Internet security saviour Daniel Kaminsky dies at 42 - The Irish Times K–12 Districts Look to Upgrade to Wi-Fi 6 - EdTech Magazine: Focus on K-12 Analysis on vendor share in telecom network market in 2020 - Telecom Lead The 5 TSX Venture Tech Companies For Canadians To Invest In - FinSMEs How Cisco And AMD Are Accelerating The World Of High Frequency Trading - CIO Cisco Foundation Commits $100 Million for Climate Projects and Technology - The Chronicle of Philanthropy 8 Benefits of Passing the CCNA 200-201 CBROPS Exam - VideoInk Daniel Kaminsky, Internet Security Savior, Dies at 42 - The New York Times Here Are 5 People Who Could Be VMware's New CEO - CRN Top official defends Ottawa's procurement practices following report on sole-sourced contracts to U.S. IT giant - National Post Less complexity, more control: The role of multi-cloud networking in digital transformation - VanillaPlus E-conferencing rises to the top in health sector as pandemic rages on - BusinessWorld Online Morning Report: Could 49ers Fans Expect a Surprise at No. 3 Overall? - 49ers.com NFL draft 2021 safety rankings: Trevon Moehrig among top prospects - USA TODAY OpenShifting The Hybrid Cloud Into High Gear - The Next Platform 5 best practices for a Microsoft Teams telephony migration - TechTarget Haskell's Delaney Hanson follows in her sisters footsteps as All-Big Country 2A girls MVP - Abilene Reporter-News Lil Mosey Pleads Not Guilty to Rape Charge - XXLMAG.COM Microsoft patents biometric 'wellness insights' tool for workers - Computerworld The Best Team Collaboration Software Apps to Implement in 2021 - UC Today These Were ServiceNow's Top 6 Highest Compensated Executives In 2020 - CRN Robotic process automation: 4 trends your IT shop should watch - TechBeacon Dish Gets Real With Next-Gen Cellular - No Jitter Cisco Plus: Accelerating Your Business Outcomes with As-a-service - CIO Jonathan Davidson And Cisco’s Vision Of The Internet For The Future - Forbes Traditional Tech's Cloud Comeback - Forbes New BT network ignites digital transformation for Orica - International Mining Network Encryption, Modern Applications Impact Security Visibility - CSO Online BT, Fortinet team to expand managed network services with SD-WAN - ComputerWeekly.com Data center automation: 10 vendors you should know - ZDNet Festivals starting to come back as COVID restrictions ease up - WAFB IBM Acquires Turbonomic for Hybrid Cloud Automation, Management - ChannelE2E Morning Report: 2021 NFL Draft Edition - 49ers.com SolarWinds Notches 87 Percent Customer Renewal Rate Despite Hack - CRN A conversation with Karl Brenner, CEO, Perform IT - TechCentral.ie Andre Cisco Selected by Jacksonville Jaguars in NFL Draft - Sports Illustrated Best Day Two Fits for Andre Cisco & Ifeatu Melifonwu - Sports Illustrated Cisco Brewers and Tuscan Kitchen to open outside venues at Seaport - New England Real Estate Journal Online Welding future has Abilene man excited to complete Cisco College program - Abilene Reporter-News Cisco CEO – Global chip shortage to last for most of this year - TechHQ Advice on intent-based networking and Python automation - TechTarget Juniper Networks' Rami Rahim On Enterprise, Automation, And How Juniper Mist Is 'In A League All Its Own' - CRN Description of processing of personal data by Verizon services - Verizon The collective problems with videoconferencing - Computerworld Montague picks Justin Dennett as new head football coach - shorelinemedia.net Has Intel's FlexRAN Met Its Match With Qualcomm? - SDxCentral Dan Kaminsky, SF native and pioneer of internet security, dies at 42 - San Francisco Chronicle The secret life of the 'extraordinary' Bering cisco - Anchorage Daily News 2021 NFL Draft grades, analysis for every third-round selection from Andrew Cisco to Baron Browning - CBS Sports Abilene Wylie's Brekke leads All-Big Country boys basketball Super Team - Abilene Reporter-News Better Buy: Arista Networks vs. Cisco Systems - The Motley Fool How Andre Cisco Fits in Jacksonville - Sports Illustrated Cisco Asks Court to Toss Board Diversity Suit, Citing New Hires - Bloomberg Law Cisco Closes Slido Deal For 'Inclusive' Webex Meetings - CRN Network engineering — save over 90% on these top-rated Cisco courses - XDA Developers [Techie Tuesday] Meet Daisy Chittilapilly of Cisco whose team built a war room for Ministry of Health to identify COVID-19 hotspots - YourStory The Flash: Cisco's Metahuman Cure Risks Making An Arrowverse Plot Hole - Screen Rant Will Nvidia Accidently Disrupt the Cloud Video Market? - No Jitter Michael Dell To Own 41 Percent Of VMware After Spin-Off - CRN Jacksonville Jaguars 2021 NFL Draft class gets mixed grades - Black and Teal Latest MITRE EDR Evaluations Contain Some Surprises - eSecurity Planet CSO Celebrates World Class Security Strategies with 2021 CSO50 & CSO Hall of Fame Awards - GlobeNewswire 50 Popular Developer Communities to Keep an Eye On in 2021 - Analytics Insight Lamar Odom vs Aaron Carter live stream announced – Celebrity Boxing on June 11, PPV price - FIGHTMAG Cisco adds to its Catalyst software stack for back-to-work safety - Network World Cisco Completes Acquisition of Slido - UC Today Cisco India President Sameer Garde quits - Economic Times Rexicana opens food truck in Boston's Seaport district - Wicked Local THE FLASH: CISCO & WELLS TO EXIT AT SEASON'S END – NERD REPORT - Nerd Report 'Flash' Recap Season 7 Episode 8: Killer Frost Trial, [Spoiler] Kills - TVLine Ericsson to launch subscription service for remote office - Reuters The Power and Pitfalls of Gamification - WIRED Cloud Services Attack: HPE Revolutionizes On-Premise Storage With Data Services Salvo - CRN Kaseya Acquires TruMethods, Keeps TruPeer MSP Community Open To All - CRN CCaaS: Rethinking Your CX and Customer Service Strategy - No Jitter WhiteHat Jr drops Rs 20 cr defamation suit against critic Pradeep Poonia - Business Today Turbonomic Acquisition Will Add Depth to IBM AIOps Portfolio - Channel Futures IBM Gets SASE With Zscaler, Adds Zero-Trust Security Blueprints - SDxCentral Cisco bugs allow creating admin accounts, executing commands as root - BleepingComputer Cisco Names New Head Of Global Partner Marketing: Exclusive - CRN Dell-as-a-Service: APEX Arrives to Counter HPE GreenLake, Cisco Plus - ChannelE2E Expo 2020 Dubai: Cisco to provide high-speed wifi coverage - Gulf Business Bryan’s Dunn and Gurode sign letters of intent with Cisco and Sam Houston - KBTX The Real Reason The Flash Series Is Losing Two Original Cast Members - Looper Juniper takes SASE security control to the cloud - Network World Nvidia Rival Graphcore Makes Big North American Partner Push: Exclusive - CRN ID Agent CEO Kevin Lancaster Leaves Kaseya After Acquisition - CRN Colorado firm buying nearly vacant Rosemont office building - Crain's Chicago Business New Crypto-Stealer 'Panda' Spreads via Discord - Threatpost Michael Dell's 5 Biggest Remarks On VMware, Apex: Dell Tech World - CRN Riot Games reveals first Wild Rift esports event, next Teamfight Tactics & VALORANT esports events - InvenGlobal Custodia Partners with Cloud9 Technologies to Integrate Voice Trading into Custodia Assist™ - Business Wire The Flash is losing Tom Cavanagh (Wells) and Carlos Valdes (Cisco) - Winter is Coming Global Video Analytics Market (2021 to 2028) - Featuring ADT, Axis Communications and Cisco Among Others - ResearchAndMarkets.com - Business Wire Cisco LaunchPad portfolio startup Senseforth.ai revolutionises customer engagement through Conversational AI - YourStory What Is SD-WAN? Why It's the Future of Enterprise WAN - G2 Splunk Doubles Down On IT Management And DevOps With New Observability Cloud - CRN Avaya CEO Jim Chirico: 'We Are A Software And Services Company' - CRN HSBC blocks £249m in UK fraud with voice biometrics - ComputerWeekly.com Facebook Targets Improved Employee Experience | No Jitter - No Jitter Brunel Chooses SD-WAN From Orange Business Services to Turbocharge Its Network for Cloud Adoption and Future Growth - Business Wire Apple’s $1 Billion North Carolina Building Could Spur Corporate Diversity - Forbes Malaysia invites eight bids for 5G wholesale network - Light Reading Qualcomm Chip Bug Opens Android Fans to Eavesdropping - Threatpost The Flash: 5 Things I'll Miss Without Cisco After Carlos Valdes Departs - CinemaBlend Apple Hires Cisco Executive Stella Low as Communications Chief - Bloomberg The 400 Gb/sec Ethernet Upgrade Cycle Finally Begins - The Next Platform Schrödinger's Patents: Can a Patent Be Valid and Invalid at the Same Time? - Bloomberg Law The 15 Coolest Collaboration Apps Of 2021: The Mobile 100 - CRN Findings: The Forrester Wave: Enterprise Email Security, Q2 2021 - Solutions Review NCSC, CISA publish new information on Russia’s Cozy Bear - ComputerWeekly.com Savex Technologies to buy Inflow Technologies for an undisclosed sum - BusinessLine Stella Lowe, who held a similar position at Cisco, became Apple's VP of Communications. - Phonemantra Five Reasons Arista Networks Stock Can Keep Rising At 29% - Forbes The Flash Season 8 Already Has The Best Harrison Wells & Cisco Replacements - Screen Rant Schedule and Highlights for ISE Digital 2021 - rAVe [PUBS] The Flash Star Teases \"Heartbreaking\" Upcoming Season 7 Storyline - ComicBook.com Work from home: Many IT professionals return from other states to Kerala - The New Indian Express Positive Technologies Uncovers Vulnerabilities in Cisco Firewalls - Channel Futures EdCast Announces Employee Experience (EX) Inside Cisco Webex - Business Wire Maria Poveromo to replace Stella Low as Cisco communications chief - PR Week Veracity Networks Receives Cisco's Premier Transition Partner Certification - PR Newswire The Flash Could Give Another Hero The Spotlight After Cisco & Wells Leave - Screen Rant U.S. Civil Rights Agency Urged to Recognize Caste Bias (1) - Bloomberg Law Routed optical networking tactic could be game changer - TechTarget Changi Airport COVID-19 cluster grows after Certis Cisco officer, Raffles Medical employee test positive - CNA Blind raises $37M to double down on workplace gossip and career advice - TechCrunch Francisco Hernandez appointed president of Texas Aerospace Technologies - Vertical Magazine Lemon Duck Cryptojacking Botnet Changes Up Tactics - Threatpost ServiceNow leaps into applications performance monitoring with Lightstep acquisition - TechCrunch Raffles Medical employee, Certis Cisco officer are new Covid-19 cases linked to Changi Airport cluster - The Straits Times Recap: THE FLASH S7E8 — “The People v. Killer Frost” - Comics Beat Morning Report: 49ers Land on NFL.com's Top 10 Matchups in 2021 - 49ers.com Russian hackers are exploiting these 11 flaws to attack businesses - IT PRO IBM Exec: 'There's Never Been A Better Time To Be' A Partner - CRN Poole Class of 2021 Spotlight: Maya Lee | News at Poole College - Poole College of Management Alteryx Appoints Paula Hansen as Chief Revenue Officer - PR Newswire Seven Apple suppliers linked to Chinese forced labor programs - AppleInsider IDC Names Sizzling Twilio, Vonage Leaders Among CPaaS Vendors - Channel Futures Cisco To Acquire Sedona Systems To Boost Optical Networking Chops - CRN Cisco Deserves A Place In Growth-Oriented Investor Portfolios - Seeking Alpha Cisco joins Randstad to provide tech training to the underrepresented - HR Dive How The Flash Just Set Up Cisco's Departure - CinemaBlend Cisco India earmarks Rs 63.5 cr to provide financial support to staff - Business Standard Google Cloud Anthos Strategy: Hybrid, Multicloud - Business Insider The Top 5 Cloud-Based Security Solutions in 2021 - MUO - MakeUseOf Democrat, former Athletic Commissioner Aguilar jumps in race for secretary of state – The Nevada Independent - The Nevada Independent Three Dow stocks could lead the next leg of the rally, traders say - CNBC Cybersecurity startup Panaseer raises $26.5M Series B led by AllegisCyber Capital - TechCrunch The Flash Recap: Here's Everything You Missed in \"Timeless\" - ComicBook.com AWS, HPE, Other IT Vendors Back $50B Call For US Chip Production - CRN Dell CEO expects chip shortage to last for \"a few years\" - IT PRO Report: Forrester names top CX feedback management platforms - CMO VMware Partner Awards 2021 Go To CDW, WWT, DXC - CRN Internet of Things (IoT) Market Worth USD 1463.19 Billion by 2027 Backed by Rising Awareness Regarding Precision Farming to Aid Market Growth, says Fortune Business Insights - GlobeNewswire 10 Hot Data Center Technologies And Trends To Watch In 2021 - CRN New Jersey Hindu Temple Allegedly Forced Laborers To Work For $1.20 Per Hour - Forbes F5 Channel Chief Lisa Citron On The Shape Security Deal And How Partners Must 'Adopt And Expand' - CRN Cisco bolsters CSP portfolio with Sedona Systems acquisition - TechTarget Cisco Announces Intent to Acquire Socio Labs to Power the Future of Hybrid Events - PR Newswire Rockwell Automation Expands its Threat Detection Services with Cisco Cyber Vision - Automation.com Cisco: A Cautionary Tale And A Solid Investment - Seeking Alpha IT vendors push on-prem, pay-per-use hardware - Network World Gutierrez, Stamford keep rolling, blow past Cisco in region softball quarterfinals - Abilene Reporter-News NWN Acquires Carousel Industries To Form $1B Cloud Communications Powerhouse - CRN Ranking Jacksonville Jaguars safeties following the 2021 NFL draft - Black and Teal TIP's OpenWiFi Targets WiFi Disaggregation - SDxCentral Back to work plans? Google reverses course and other updates re: returning to the office - Cupertino Today Analysis: 2021 Gartner Magic Quadrant for Endpoint Protection Platforms - Solutions Review HP Wolf Security: 5 Big Things To Know - CRN The global chip shortage will be a long-lasting problem. Here's what it means for you, and for the world - ZDNet VMware CEO Raghuram On 'Vigorously' Competing With Nutanix - CRN Nearly All Wi-Fi Devices Are Vulnerable to New FragAttacks - The Hacker News Panaseer raises $26.5m in series B funding to solve cybersecurity's biggest challenge - PR Newswire Dell Jumps Head First Into Consumption-Based Computing With APEX - Forbes Microsoft VP Charts 3 Steps to Zero-Trust Security - SDxCentral POLITICO Playbook PM: Cheney unchained- POLITICO - POLITICO The Flash \"Family Matters, Part 1\" Photos Released - ComicBook.com Cisco Green-Lights Sedona Systems Buy - SDxCentral Cisco fixes 6-month-old AnyConnect VPN zero-day with exploit code - BleepingComputer Cisco Acquires Hybrid Event Platform - UC Today Why California's Lawsuit Against Cisco Uniquely Endangers Hindus & Indians - India Currents Microsoft, AT&T, Cisco, Verizon Crack Best Employers for Diversity List - Channel Futures PHOTO GALLERY: Cisco-Stamford softball softball playoff (106 images) - Big Country Preps Suspected Pakistani spies use catfishing, stealthy hacking tools to target Indian defense sector - CyberScoop Intel Vet Rachel Mushahwar Named AWS Americas Channel Chief - CRN Publishing exploit code does more harm than good, says report - ComputerWeekly.com ‘The Flash’ Episode 7×09 Recap: “Timeless” - The Series Regulars No, the Oakland Athletics aren’t going to move to Las Vegas — or probably anywhere else - Bleed Cubbie Blue Cisco strikes again grabbing threat assessment tool Kenna Security as third acquisition this week - TechCrunch Cisco's latest acquisition spree nabs three companies - TechTarget Calls to tackle caste-based discrimination in US gather steam - Al Jazeera English 5 Companies That Came To Win This Week - CRN SONiC OS makes data center switches more reliable, Microsoft study finds - DatacenterDynamics New Relic's business remodel will leave new CEO with work to do - TechCrunch T-Mobile Expects 5G Era Kick Off in 2023 - SDxCentral Why VMware Tapped a Technologist as Its Next CEO - SDxCentral Foxconn expects meaningful EV profits from 2023 on US production deal - Nikkei Asia New CDC Mask Guidelines Could Prove Challenging For Businesses - CBS Boston Week Ahead in Mergers & Acquisitions: May 17, 2021 - Reuters With Flurry Of Acquisitions, Cisco Systems Strives To Grow At 5% - Forbes Cisco To Acquire Sedonasys Systems - FinSMEs Cisco downs TJC to earn first-ever football title - Tyler Morning Telegraph Become a certified Cisco network engineer with this $69 course bundle - BleepingComputer Why does the Hindu American Foundation obfuscate caste reality? - EastMojo Jaguars Announce 18 Players Participating in Rookie Minicamp, Numbers for UDFAs - Sports Illustrated Jaguars Announce Numbers for 2021 Draft Picks: Lawrence Gets No. 16, Etienne Gets No. 1 - Sports Illustrated Danielle Panabaker Might Be Leaving The Flash After Season 7 - We Got This Covered Apple MacBook Pro (M1) Vs. Dell XPS 13 - CRN Cisco spices up SecureX offering with Kenna acquisition - ARNnet What Is the Training Content of Cisco CCNP? - Influencive 3 Growth Lessons From a Leader Who Grew Company Revenue 37 Percent a Year - Inc. 'The Network Is Dead' and Future Looks SASE, Palo Alto Networks SVP Says - SDxCentral Earnings calendar for the week of May 17 - AlphaStreet Cisco Systems Envisions the Future of Voice Calling | eWEEK - eWeek Cisco CEO Addresses World's Largest Cybersecurity Conference: \"Security Must Be Simple, Intelligent and Everywhere\" - Canada NewsWire How Cisco’s Licensing Changes Present an Opportunity - UC Today Cisco to acquire Kenna Security - Capacity Media PowerShell Is Source of Over 1/3 of Critical Security Threats - eSecurity Planet 'It's Little Things' – How the Chip Shortage Is Affecting the Data Center Industry - Data Center Knowledge E-Learning Market revenue to hit US $1 trillion by 2027; Global Market Insights Inc. - GlobeNewswire Here Are Dell's Top 5 Most Highly Compensated Executives - CRN High-Tech Giants Collaborate To Launch Broadband Ecosystem For Utilities, Based On Anterix-Held Spectrum - Forbes Hackers turn Comcast voice remotes into eavesdropping tool - TechTarget Cisco CEO: There's no enterprise perimeter to defend anymore - Network World Cisco acquires Kenna Security amid security expansion - ComputerWeekly.com Former Forescout CMO Jumps to Cisco Security - CRN Cisco on Startup Acquisitions, Kenna Purchase, Microsoft Competition - Business Insider Appspace Announces Native Integration with Cisco Webex To Accelerate a Safe Return to the Office - GlobeNewswire The Flash season 7: Is Cisco leaving The Flash in 2021? - Bam! Smack! Pow! Q&A: Trey Boynton on dismantling \"barriers to brilliance\" in Ann Arbor's tech industry - Second Wave Media Routing Protocols: EIGRP vs OSPF - EnterpriseNetworkingPlanet Microsoft, CrowdStrike Lead Gartner's Power-Packed EPP Quad - SDxCentral All-SWJCFC: Apaches Neal, Moore earn first-team honors - Tyler Morning Telegraph Australia's Anatas kicks off Asian expansion from Singapore base - Channel Asia Singapore As the forces clash, Team Flash could use some new leadership - The A.V. Club Official: Smith signs rookie contract - jaguars.com Santander says sorry for weekend tech outage - ComputerWeekly.com LastPass by LogMeIn Delivers Enhanced Authentication Experience for Businesses - GlobeNewswire 3BL Media Announces 100 Best Corporate Citizens of 2021 - CSRwire.com AT&T Sheds Misbegotten Media Assets, Doubles 5G Buildout - SDxCentral Morning Report: 49ers Players Arrive for Offseason Program - 49ers.com Fortinet EDR Gains MDR, Mitre Threat Tags - SDxCentral The 10 Hottest AI Chipmakers You Should Be Watching In 2021 - CRN Chip Shortage Could Destroy Good Expectations About CDW Corp. - Seeking Alpha Ferragamo Embraced Digital During The Pandemic And It’s Sticking With It - Forbes The Flash Recap: Here's Everything You Missed in \"Family Matters, Part 1\" - ComicBook.com DarkSide ransomware made $90 million in just nine months - BleepingComputer Cisco (CSCO) Shares Slip on Forecast for Higher Costs to Erode Profit - Bloomberg Cisco shares lessons learned in zero-trust deployment - TechTarget Cisco Systems retains top spot in Gartner supply chain ranking - CSCMP's Supply Chain Quarterly MCC Baseball Hoping for Big Time Atmosphere as They Host Cisco in Super Regional - KWKT - FOX 44 Global Lawful Interception Market Report 2021 Featuring Cisco Systems, Siemens, Verint Systems, Ericsson, ZTE Corp, Aqsacom, Net Optics, and Netscout - GlobeNewswire Investment fund and outcomes-as-a-service firm help cities build smart infrastructure despite tight budgets - TechRepublic Cisco working on 14 digitising projects across seven ports in India - ITLN Podcast: CIO Leadership Live with Russell Kaurloto, VP and CIO at Clemson University - CIO Cohesity Helps Sky Lakes Medical Center Quickly Recover From a Ransomware Attack, Saving Money and Potentially Saving Lives - Business Wire PowerShell is Top Attack Vector for Critical Security Threats: Research - Server Watch Tom Cavanagh Opens Up About Leaving The Flash - ComicBook.com The Flash Recap & Spoilers: S7, E10, 'Family Matters, Part 1' - CBR - Comic Book Resources Channel Women In Security: Optiv's Julie Talbot-Hubbard On Securing Multi-Cloud Environments - CRN 'Amigo' steals the show at Leo Carrillo Historic Park in San Diego - CBS News 8 Companies Are Battling Burnout By Giving Employees More Vacation Days—But Will They Take Them? - Forbes Morning Report: PFF Identifies Most 'Underrated' Player on 49ers Roster - 49ers.com Vanover, Beaudrie selected to play in All-Star Game - Monroe Evening News Today's Stock Market News & Events: 5/19/2021 - Schaeffers Research Foxconn opens globe-shaped data center at Wisconsin facility - DatacenterDynamics Starlink Internet to be deployed in outback Aussie school - PC World Demand for Cisco products rises during pandemic recovery - TechTarget Cisco is giving $150 million to Student Freedom Initiative - Fast Company Stocks making the biggest moves in the premarket: Virgin Galactic, Kohl's, Cisco Systems & more - CNBC Cisco College on the verge of trip to the JUCO World Series - KTAB - BigCountryHomepage.com Mavenir Powering the First Smart City in Thailand With 5G Open RAN Integration Across mmWave Private Network - Business Wire Fortinet SD-WAN Gains Megaport Middle-Mile Connectivity - SDxCentral Dow Jones Today Lags, Nasdaq Leads As Jobless Claims Decline; Virgin Galactic Spikes, Cisco Tumbles On Outlook - Investor's Business Daily N-able Hires New Chief Security Officer As Spinout From SolarWinds Looms - CRN The 15 Hottest Cybersecurity Products At RSA Conference 2021 - CRN Illinois Department of Employment Security offices still not open - The State Journal-Register Best Enterprise WiFi Solutions & Software 2022 | ENP - EnterpriseNetworkingPlanet NTT wraps up IT consolidation project with Indonesia's XL Axiata - Channel Asia Singapore Swaminarayan Temple raid shows US has to reckon with caste discrimination imported from India - ThePrint CSCO: Cisco vs. Arista: Which Networking Stock is a Better Buy? - StockNews.com Cisco College drops Game 1 of Super Regional to McLennan - KTAB - BigCountryHomepage.com The 2021 Seacoast Road Race Series kicks off - Seacoastonline.com Chip shortage slows production at Nissan and Suzuki - IT PRO Morning Report: PFF Regrades 49ers 2019 Draft Class to 'Excellent' - 49ers.com Nike partners with CBP to fight counterfeit imports - SecuringIndustry.com The Flash Reveals Details About Final Cisco Episode - Den of Geek Chip Shortage Fix Remains Years Away - SDxCentral The Latest Picks And Pans From Barron's: AT&T, Bitcoin, Cisco Systems, Kohl's And More - Yahoo Finance Jaguars' Draft Grades on Trevor Lawrence, Zach Wilson, Jaylen Waddle, and Other Prospects Revealed - Sports Illustrated The Best Home Office Phones - Small Business Trends Cisco Will Donate $150 Million To The Robert F. Smith Student Freedom Initiative To Help HBCU Students - Black Enterprise Cisco Brewers Launches First CT Location In Stamford - Patch 2021 VALS AND SALS: Poplawski, Taylor top Cisco's graduating class - Brownwood News Abilene Wylie catcher Avila signs to play softball at Cisco College - Abilene Reporter-News U.S. Sustainability-Linked Loans Are 292% More Than All of 2020 - Bloomberg Embracing Cross-Company Collaboration | No Jitter - No Jitter Xenter, Inc. continues rapid expansion - Utah Business - Utah Business “It's Always DNS!” Why DNS Is the Biggest Single Point of Failure in the New Norm - CircleID Mavenir powers Thailand’s Smart City to add fuel to 5G Open RAN fire - ComputerWeekly.com Where the jobs are: Breaking down who is hiring for what positions across the Triangle - WRAL TechWire How to make business resilient in a pandemic - Manila - Rappler The Flash Season 7 Episode 11 - TV Fanatic Quantum Xchange Completes Integration with Cisco to Enable Quantum-Safe Networking Equipment with No Key Delivery Limitations - PR Newswire Team Flash Says Farewell to Cisco in \"Good-Bye Vibrations\" Preview - ComicBook.com Juniper Networks' Apstra 4.0 Release Removes Barriers To 'Modernized' Data Center Deployments - CRN Aruba Wi-Fi 6E AP Will Create Spectrum 'Superhighway' For Enterprise Connectivity - CRN Opinion | Why Is Caste Inequality Still Legal in America? - The New York Times WebEx Virtual Hearings - Room 102 - chicago.gov VMware's New CEO Is A 'Channel Ambassador': Sandy Hogan - CRN Recap: THE FLASH S7E10 — “Family Matters, Part I” - Comics Beat 3BL Media Announces 100 Best Corporate Citizens of 2021 - Yahoo Finance Mystical lake house: 92-year-old home overlooking Geneva Lake for sale - Lake Geneva Regional News Everything you need to know about Combate Global’s historic 1 night, 8 man tournament - FanSided Yellowstone seeing progress on lake trout suppression - Bozeman Daily Chronicle 3 Ways To Connect Cisco Jabber And Microsoft Teams - Dispatch Cisco unveils innovations that simplify security across devices, networks, applications - Backend News Cisco Is Leaving Town in The Flash Episode 7.12 Promo - Superherohype.com Microsoft Pushes Zoom, Cisco with New Teams Collaborative Apps - Channel Futures 'Privateer' Threat Actors Emerge from Cybercrime Swamp - Threatpost Fortinet, Versa Tap Google Cloud for SASE Networking - SDxCentral CSCO: 3 Networking Stocks to Buy Right Now - StockNews.com Future Looks Bright for Cloud Technology Degree - Wake Tech Newsroom Moss crowned the winner of triple j Unearthed's 2021 collab contest - NME The migration to enterprise network as a service - TechTarget Erdogan calls on U.S. executives for better ties with Turkey - Reuters Trend Micro home network security flaws could let hackers take over PCs - IT PRO Huntington boys, Cabell Midland girls claim regional titles - Parkersburg News Tesla set to pay for chips in advance in bid to overcome shortage - Financial Times TSMC's chairman: Real reasons for the global chip shortage - Robotics and Automation News Splunk Hires AWS Database Exec As New President Of Products And Technology - CRN 5 Things To Know On Lenovo's New North America President, Vladimir Rozanovich - CRN 1Password Hires Its First Chief Marketing Officer After Years Of Enterprise Growth - Forbes Who is leading the 5G patent race for edge computing? - Managing Intellectual Property More data stolen in January 2021 than in all of 2017, says report - ComputerWeekly.com Research: Dispersed Teams Succeed Fast, Fail Slow - HBR.org Daily Better Buy: Cisco or All 30 Dow Jones Stocks? - The Motley Fool Nantucket’s Cisco Brewers opens Stamford outpost, offers sneak peek of new media hub: ‘Our version of Disneyland’ - The Advocate Ambassador Pyatt's Remarks at MOU Signing Ceremony for ONEX-Cisco International Maritime Tech and Innovation Center - US Embassy in Greece - USEmbassy.gov Here’s everything you need to know about the CCNA certification exam - Augusta Free Press Clarify Health Welcomes Blair Christie As New Board Member - Business Wire Panel Discussion Featuring John Chambers - Security Boulevard Disney Adds Two To Board: Lululemon CEO Calvin McDonald, Tech Executive Amy Chang - Deadline Morning Report: Injury Update on Jeff Wilson Jr. - 49ers.com The 20 Billion Lesson This CEO Learned About Acquisition Success - Inc. SAM Seamless Snags $20M Series B As Network Threats Grow - Crunchbase News Video Conferencing Market to Touch USD 10.92 Billion by 2027; Integration of Artificial Intelligence Technologies (AI) and Virtual Reality in Video Conferencing Apps to Foster Market Growth: Fortune Business Insights - GlobeNewswire Independent Software Vendors (ISVs) Market Valuation is Expected to Escalate Further From USD 202.85 Million In 2019 To USD 408.15 Million By 2026 - GlobeNewswire The Arrowverse: 10 Most Hated Supporting Characters - WhatCulture Smart Building Market to Exhibit 12.6% CAGR till 2026; Smart Building Market to Make Notable Headway; Growing Awareness regarding the Advantages of Smart Building to Boost the Market: Fortune Business Insights - GlobeNewswire Manchester City Uses Technology to Immerse Fans in the Action - SportTechie 8×8 Introduces Industry-First Phone Solution in China - UC Today Operational Technology (OT) Security Market is Rising Due - GlobeNewswire Cisco announces new country manager for Brazil - ZDNet Nantucket Hot Spot Cisco Brewers Launches Stamford Location - Greenwich Free Press Photo Gallery: San Cisco + Jaguar Jonze - Enmore Theatre (28.05.21) - the AU review Startup Pensando prepares for first live cloud customer deployment - Light Reading The Walt Disney Company adds tech vet Amy Chang and Lululemon CEO Calvin McDonald to board - Bizwomen - The Business Journals iQmetrix Appoints Marlon Marcial as Vice President of Global Marketing - Financial Post SolarWinds Hackers Used Constant Contact Email Service In Phishing Attack - CRN Morning Report: Two 49ers Linebackers Make PFF's Top 32 - 49ers.com Even Interns Make $5,000 Per Month at These Rich Companies - MoneyWise.com Better Buy: Cisco Systems vs. IBM - The Motley Fool Watch: The Flash 7x12 Promo Teases Cisco's Emotional Final Episode - We Got This Covered Bishop Fox appoints Patty Wright as SVP and GM of consulting - Help Net Security The Flash Needs To Fix Its Female Character Problem | Screen Rant - Screen Rant Top business stories: Culture of fear at Oracle Cloud - Business Insider US firms interested in Turkish market: Report - Hurriyet Daily News 'She's got it': Cheyenne Woods raves about former prodigy, U.S. Women's Open rookie Amari Avery - Golfweek The Iris Theory That Would Change Everything On The Flash - Looper Cisco Hires Cloud-Native Veteran as First Open Source Head - SDxCentral This Cisco VP Led A Global Team Of 2000 From A Travel Trailer. Here's What She Learned. - Forbes 'The Flash”: Carlos Valdes Explains Exit, Teases Cisco Final Episode - TVLine Zoom Forecasts Upbeat Revenue, Expects Boost From Hybrid Work | Mint - Mint Alamo Drafthouse Cinema Emerges From Bankruptcy, Completes Sale to Private Equity Group – Media Play News - Media Play News Is there a new episode of The Flash tonight, June 1, 2021? - Hidden Remote Texas High School Rodeo Finals returning to Abilene - Abilene Reporter-News Burnout is continuing to rise; is HR doing enough? - Human Resource Executive® Salesforce Channel Partners Look For Slack Integrations Ahead of Acquisition Closing - CRN Cisco Designs UCS X-Series Servers and Intersight for Hybrid Cloud - Data Center Knowledge What former Jaguars safety does rookie Andre Cisco resemble? - Black and Teal The Flash's Carlos Valdes Reveals When He Decided On 'The End' For Cisco - CinemaBlend Dubber as a standard feature of Cisco Webex Calling and UCM Cloud - PR Newswire What is needed for telehealth's next big steps forward? - Healthcare IT News HPE CEO Antonio Neri On GreenLake Momentum, Edge Growth And Keerti Melkote's Departure - CRN Secure Access Service Edge (SASE): Which solution is best? - IDG Connect Podcast: CIO Leadership Live with Alan Cullop, SVP & CIO, DaVita - CIO Implementing Infrastructure as Code for Cloud Speed and Agility - - SDxCentral Why Evolve IP’s One Platform Rules Them All - UC Today UAE Business: Moro Hub becomes first and only managed services provider for Cisco - Gulf Digital News Samsung Details 5G vRAN Performance Outlook - SDxCentral Circa Resort and Casino Standardizes on Aruba to Deliver Transcendent Guest Experiences - Business Wire Earnest Wambari recognized for his role in the World Food Program - HapaKenya - HapaKenya A Tale Of Two Enterprise IT Beasties - The Next Platform Presidio Completes Spin Out of Federal Business to Empower Government Agency Modernization - GlobeNewswire 50 More Virtual Event Platforms for Your Next Online or Hybrid Gathering - BizBash An Old School Hack Threatens Two-Factor Authentication - No Jitter Wi-Fi vendor EnGenius adds Facebook & Instagram Wi-Fi to small business offering - Wi-Fi NOW News BT begins trial on ‘revolutionary’ optical fibre - ComputerWeekly.com Cisco Wants To Operate Your Future Cloud - Forbes Delaware Man Sentenced to Over Seven Years for Defrauding Cisco Systems, Microsoft, Lenovo, and APC Out of More than $3.5 million in Computer Hardware - Department of Justice Thrive Acquires Cisco Partner ONI; MSP Expands From US to UK - ChannelE2E The Flash star Carlos Valdes explains why he decided to leave the show - GEEKSPIN - GEEKSPIN Q&A: How The Brooklyn Hospital Center's Security Focus Prepared It for the Pandemic - HealthTech Magazine Glenn Reid's crazy journey through Silicon Valley and his new MKE venture - OnMilwaukee.com FirstLight Enhances its Unified Communications Suite with Cloud-Based Webex Calling - PR Newswire How a malicious bot tries to evade detection by morphing - TechRepublic 10 Things To Know About The $1.2B FireEye-Mandiant Split - CRN Presidio Creates Subsidiary to Offer IT Services in Federal Market; Clara Conti Quoted - GovCon Wire In-Person AWS re:Invent 2021 Planned For Las Vegas This Fall - CRN Morehead State introduces Cayla Petree as Head Women's Basketball Coach - ABC 36 News - WTVQ Snowflake-Backed Data Startup Alation Valued at $1.2 Billion - Bloomberg How to Ensure Work From Home Culture Success In the Post-Pandemic Era - Entrepreneur Why Newcastle partner OAS has put new clients in a 'holding pattern' - ARNnet Dell Revamps VxRail: 4 New Intel, AMD, Nvidia And HCI Features - CRN NEWS RELEASE: City of San José and Destination: Home Speed Up Production of Deeply Affordable Housing Through Renewed Partnership | News | City of San - City of San Jose, CA Moxtra Announces Addition of Head of Global Sales and Chief Financial Officer - PR Newswire The Vulnerabilities of the Past Are the Vulnerabilities of the Future - The Hacker News GNSS-Equipped Driverless RaceCar for the Indy Autonomous Challenge Unveiled - Inside GNSS Ex-teacher, Chinese billionaire Larry Chen loses $14 billion since Jan; here's why - Business Today Cisco readies portfolio for hybrid cloud, modern data centers - TechTarget Cisco and AT&T Business join forces for UCMC platform - ZDNet Be Your Own IT Manager with This CompTIA and Cisco Guide - Entrepreneur The Flash’s Carlos Valdes (Cisco) promises “very goofy” series exit - Winter is Coming Top Tech Job Opportunities You Should Know About | ITBE - IT Business Edge Best Hyper-Converged Infrastructure (HCI) Vendors 2022 | ESF - Enterprise Storage Forum A scammer swindled $365,000 worth of goods out of Microsoft and is now going to prison - Windows Central Experts say Open RAN deployment is on the rise - TechTarget Keerti Melkote On The Aruba Team's 'Blood, Sweat and Tears' And His Future Plans: Exclusive - CRN Ransomware Attacks Are Rising: 3 Top Cybersecurity Stocks to Buy in June - The Motley Fool Is The Flash Ending After Season 8? - HITC - Football, Gaming, Movies, TV, Music New developments in networking can enable data center operators to go all-Ethernet- even for storage area networking - DatacenterDynamics 3 Tech Stocks to Buy as the Sector Breaks Out - InvestorPlace Fortinet CISO And Trusted Customer Adviser Phil Quade Leaves - CRN The Flash: Cisco's Exit Was Supposed To Be In Season 4 - FandomWire MEEZA achieves Cisco Gold Service Integrator and Gold Service Provider certificates - The Peninsula Bear Lake water level could drop below record low - Cache Valley Daily Colonial Pipeline Hacked Via Inactive Account Without MFA - CRN Is STG Building a New Cybersecurity Powerhouse? - BankInfoSecurity.com Corporate Political Donations Put Voting Rights Pledges to the Test - The New York Times The best leaders will be leaders who are closest to their teams: Cisco’s Chief People, Policy & Purpose Officer - People Matters Tech companies made big pledges to fight racism last year — here's how they're doing so far - CNBC The Flash Star Tom Cavanagh Says He'd Return For A Final Reverse-Flash Fight - We Got This Covered What Perks Can Prestigious Cisco CCNA Certification Flaunt? - Sprout Wired 'The Flash' star Carlos Valdes discusses his exit and teases his finale encore - Entertainment Weekly News Become A Six-Figure Cyber Security Professional With This CompTIA & Cisco Training Bundle - IGN SEA Coupang Founder Bom Kim Joins CEOs of Starbucks, P&G, Mastercard, IBM, Cisco and Airbnb at FORTUNE Global Forum - Business Wire Loop1 winds up Australian business - ARNnet COLUMN: The Everything-As-A-Service Sales Spread - CRN Dubai's Moro Hub becomes first and only MSP for AppDynamics in MEA - ITP.net Video chat apps making tweaks to illuminate darker skin tones - New York Post The Flash \"Masquerade\" Photos Released - ComicBook.com The 50 Coolest Software-Defined Data Center Vendors Of 2021 - CRN Riot Games Leverages Hyper-Speed of JPEG XS for Historic League of Legends, Valorant Events in Iceland - Sports Video Group AT&T Wins $725M Veterans Affairs Contract - SDxCentral Digital Twins to Transform Network Management | ITBE - IT Business Edge I've dealt with racism as an Asian American. Here's how business leaders can support the AAPI community - CNN Odom vs Carter fight card, start time and how to watch - FIGHTMAG Best UTM Software 2022 | Unified Threat Management Companies - EnterpriseNetworkingPlanet Intel Reorganizes Groups, Names New Leaders Key To IDM 2.0 Strategy: Memos - CRN OFC 2021 Opens with the Innovations and Solutions Critical to Addressing Ever-increasing Data Demand - PR Newswire Telstra signs multimillion-dollar deal with Komatsu for comms refresh - ARNnet Apple Makes FaceTime More Business Friendly - Forbes Biden expands US investment bans on Chinese companies including Inspur - DatacenterDynamics Isaac Harris Joins Lumentum Board of Directors - PR Newswire Cisco to launch new features for Webex - Reuters Cisco CEO Chuck Robbins: Empathy is not a trend - Fortune Not In A Hurry To Sell Cisco - Seeking Alpha The Flash: Carlos Valdes Says Cisco Got a \"Perfect\" Sendoff - ComicBook.com ‘You have to be prepared’: How the CEOs of Chevron, Nasdaq, Cisco, and Flex dealt with the pandemic - Fortune The Flash 7x13 Photos \"Masquerade\": Goodbye Cisco Ramone, We'll Miss You! - FanFest News How VMware Plans to Become the Next Cybersecurity Giant - Business Insider McLaren CEO: Webex And AI Help Us Bring In Sponsors And Win Formula 1 Races - Forbes What to Watch on TV Tuesday, June 8, 2021 - TVLine Remembering The Dotcom Bubble - Seeking Alpha NetApp Leans Hard Into Hybrid Cloud With New Ontap, FlexPod as a Service - CRN FBI seized Colonial Pipeline ransom using private key - TechTarget The Flash's Tom Cavanagh Has Good News For Fans Who Don't Want Reverse-Flash To Leave The Show - CinemaBlend Sussex Tech graduates Class of 2021 - CapeGazette.com SoftBank, Sequoia Back Whatfix Cloud Startup Founded by Huawei Engineers - Bloomberg Monument Health Delivers Optimal Patient Care with an Aruba Unified Network - Business Wire 10 Hot Identity And Access Management Products You Need To Know About - CRN Palo Alto Networks' Prisma Cloud CSPM Adds New Threat Detections - SDxCentral Morning Report: 49ers Nab Top Spot on PFF's Linebacker Rankings - 49ers.com What the Heck Is Open XDR? - SDxCentral What the Tuesday morning internet outage tells us - Fortune 8 in 10 Hindu Indian Americans who identify with caste say they are upper caste: Survey - ThePrint Snowflake Crystalizes Cloud-Focused Data Platform - SDxCentral FedScoop announces the Best Bosses in Federal IT 2021 - FedScoop Cisco and Dubber Strengthen Partnership - UC Today Cisco reveals new Webex to power ‘inclusive’ future of work - ComputerWeekly.com Former Salesforce, Cisco Exec Dan Smoot Named New Riverbed CEO - CRN Why is Cisco leaving The Flash?... - The US Sun Billy Horschel, Cisco Bring Minority Golf Event to TPC Sawgrass - Pro Golf Now Investing in digital infrastructure to accelerate the circular economy | Greenbiz - GreenBiz Wendy Mars | Greenbiz - GreenBiz Fortinet Expands SD-WAN Service Provider Menagerie - SDxCentral TV Ratings for Tuesday, June 8: Carlos Valdes/Cisco Leaves 'The Flash' - TVLine Verizon Taps Versa, Zscaler for Managed SASE Play - SDxCentral IT for a New World - Business Today Dallas Invents: 141 Patents Granted for Week of May 25 - dallasinnovates.com How to Mitigate the Risks of a Multi-Location Workforce - SecurityInfoWatch Microsoft Now No. 2 in UCaaS, Only Chasing RingCentral - Channel Futures Celebrity Boxing: Odom vs Carter – Fight Week Schedule - FIGHTMAG CBSE to conduct live webinar for learning and socioemotional well being - Hindustan Times Claudia Barrett Dies: Actress Who Dazzled ‘Robot Monster’ In Sci-Fi Camp Classic Was 91 - Deadline 10 Cool Tech Companies That Raised Funding In May 2021 - CRN Wisdom from Day One of the Fortune Global Forum - Fortune Cisco upgrades intent-based-networking performance, security, analytics - Network World Jaguars officially sign third-round draft pick Andre Cisco - Big Cat Country Microsoft Exchange Server dominates Cisco Talos spring 2021 cyberattack report - Windows Central Apple and other U.S. companies are under pressure to answer for China's 'repression,' key Biden ally says - CNBC Zoom Phone system offers flexibility, simplified infrastructure - TechTarget Verizon Business Launches First Private Enterprise 5G Network In US - CRN Verizon Business looks for edge with advanced SASE - ComputerWeekly.com ‘The Flash’ 7×12 Recap: “Good-Bye Vibrations” - The Series Regulars The Rise In Hard Teas: 5 Brands Discuss This Year’s Trending Beverage - Forbes 3 Dividend-Paying Tech Stocks to Buy Right Now - The Motley Fool Jaguars finalize 2021 personnel staff - The Florida Times-Union Microsoft Azure Vs. AWS: 5 Partners On Why Azure Is 'Superior' - CRN Intel is building an open RAN fortress, but it's also under attack - Light Reading ‘The Flash’ 7×11 Recap: “Family Matters, Part 2” - The Series Regulars Brazil startup Buser raises $138 million from LGT, Softbank and others - Reuters Cisco Takes Aim at Cost of Network Operations - IT Business Edge Cisco Talos: Exchange Server flaws accounted for 35% of attacks - TechTarget 'Love & Hip Hop': Peter Gunz and cisco are having a celebrity Boxing and fans react - Amico Hoops TikTok challenges rev up social media engagement effort - PR Daily The pros and cons of Palo Alto Networks' SASE platform - TechTarget Lamar Odom Dominates Aaron Carter in Celebrity Boxing Match - NBC Chicago Using AI To Supercharge ESG And CSR Strategies - TechSpective 5G Jobs Postings Witness Massive Growth in India: Report - TelecomTalk Top 10 Companies Adopting Green Energy - Energy Digital US telecom groups warn of network construction delays from chip shortages - Light Reading The role of automation in SD-WAN - TechTarget I'm Still Screaming About These 20 TV Moments From This Week, So We Should Talk About Them Now - BuzzFeed Malaysian on the run for 20 years gets extra six months' jail in Singapore - Free Malaysia Today No Jitter Roll: Contact Center, Zoom Device Offerings | No Jitter - No Jitter POLITICO Playbook: How Europe can help Biden snuff out Trump(ism)- POLITICO - POLITICO Executive Chair: Shane Heraty, Cisco Managing Director for Scotland & Ireland - Newstalk Carlos Valdes Reveals What He'll Miss Most About The Flash - We Got This Covered Cisco Webex: From 'Stodgy' To 'Cutting Edge' As Tech Giant Takes Aim At Zoom - CRN Cisco Catalyst 5G Router Portfolio Launched Targeting IoT, Edge Use Cases - CRN Over 65,000 ransomware attacks expected in 2021: former Cisco CEO - Yahoo Finance Cisco's Kaustubh Das: The Importance of Commonality in the Cloud | eWEEK - eWeek The Flash's \"Good-Bye Vibrations\" Was the Perfect Sendoff for the Show's Most Beloved Character - The Mary Sue Ex-Cisco president Sameer Garde joins non- profit Wadhwani AI as CEO - People Matters San Cisco seeking compensation from QLD government over cancelled show - ABC News Cedar Rapids, Iowa company gets $2.4M refund after mask fraud lawsuit - Des Moines Register Consolidate solutions to achieve effective SASE - ITWeb Dell Beats HPE In Global Server Market Share Fight - CRN Iridium Names New CTO, Greg Pelton - Via Satellite Intel Takes On Nvidia, Fungible With Supercharged SmartNICs - SDxCentral As workers return, virtual assistant tools get a new look - TechTarget Jaguars' Mini-Camp: Trevor Lawrence injury update, which QB stood-out, and more - FirstCoastNews.com WTLV-WJXX Gong Awarded To IT Exec In Queen's Birthday Honours – channelnews - ChannelNews Cisco bolts together enterprise and industrial edge with new routers - Network World Black Voices: Cisco, caste discrimination and connections between Black and lower caste communities - Indiana Daily Student Cisco, Dell Have 'A Lot Of Catching Up To Do:' HPE Financial Services CEO Irv Rothman - CRN DISA Awards Cisco $1.18 Billion Software, Services Deal - MeriTalk Cisco and Thrive Champion Wellbeing - UC Today Former Cisco Execs Used This Pitch Deck to Raise $26 Million - Business Insider Virtual Private Network (VPN) Changes to Take Effect June 30 - University of Nebraska Omaha Video: 10 Minute IT Jams - Schneider Electric collaborates with Cisco and LEDC - IT Brief Australia The Flash 7x12 Review - Another Goodbye - Batman-News The 10 Hottest Networking Startups Of 2021 (So Far) - CRN The Flash Recap: Here's Everything You Missed in \"Masquerade\" - ComicBook.com Forget Mesos And OpenStack, Hashi Stack Is The New Next Platform - The Next Platform Global Telecom Gear Market Nears $100B - SDxCentral Trend Micro Touts Zero Trust Risk Insights, Teases SASE - SDxCentral CPaaS: A Fast-Growing Market in a Crowded Space - No Jitter Young entrepreneur takes ICT sector by storm - IOL Microsoft Becomes Global UCaaS #2 - UC Today Intelisys Expands Collaboration Offerings, First to Offer Cisco Webex to Agency Community - Business Wire Cisco launching rural broadband center in the Triangle to tackle digital divide - Raleigh News & Observer Can Cisco reinvent Webex to become the verb for hybrid working? - Diginomica Cisco Seeks SEC's OK to Nix Shareholder Vote on Political Giving - Bloomberg Law Key to Innovation: Build a Dominant Sales Force and Acquire New Products - Inc. How Cisco LaunchPad portfolio startup Sensegrass is creating 360-degree smart farming solutions - YourStory TSANet appoints new board member - GlobeNewswire DataRobot Expands C-Suite with New CPO, CTO, and CMO - Business Wire Podcast: CIO Leadership Live with Kiran Vankamamidi, Group VP and CIO, Driscoll's - CIO Dell's New Co-COO Chuck Whitten: 5 Big Things To Know - CRN Rakuten Mobile CTO: Telco Software 'Absolutely Flawed' - SDxCentral Companies celebrate Pride Month in US, not Middle East - KATV Blinn football announces 2021 schedule - KBTX Cedar Rapids company recovers $2.4 million in wire fraud scheme - The Gazette The Flash season 7, episode 13 review: Masquerade - Bam! Smack! Pow! The 10 Hottest Semiconductor Startups Of 2021 (So Far) - CRN Camden Dream Center Launches New Registered Apprenticeship Program for In-Demand Cyber and IT Jobs - PR Newswire GitLab Offers Expanded Partner Certifications As Demand Surges For DevOps Expertise - CRN Data analytics startup Imply nabs $70M to grow cloud service - VentureBeat Calabrio Extends Cloud Workforce Engagement Management Capabilities in Southeast Asia - Business Wire Opinion: A’s billionaire owner shouldn’t expect taxpayer ballpark subsidy - The Mercury News Sage-Gavin: HR, now is the time to take action on inclusion - Human Resource Executive® The Flash: 10 Most Heartbreaking Separations | ScreenRant - Screen Rant Huawei continues to lose share of booming global telecoms equipment market - Telecoms.com Avaya Introduces New Features for Cloud Office - UC Today Cisco Smart Switches Riddled with Severe Security Holes - Threatpost Cisco unveils $20M Rural Broadband Innovation Center in RTP - WRAL TechWire NBC Olympics Selects Cisco to Produce First-Ever All-IP International Broadcast Center in Tokyo - Sports Video Group Will your company join Congress, Cisco, Twitter, Mastercard, Lyft and Santa Clara County in making Juneteenth a paid holiday? - Silicon Valley Business Journal - The Business Journals Jacqueline Guichelaar from Cisco Systems is a Silicon Valley Business Journal Woman of Influence. - Silicon Valley Business Journal - The Business Journals IBM Closes Turbonomic Buy To Help Clients Automate Cloud, Entire Enterprise - CRN South Korea bans 1700 tech products for using forged test reports - The Register Router/switch market back to pre-pandemic levels – Dell'Oro - Light Reading Dell Apex Can Be 50 Percent 'Less Expensive' Vs. AWS, Public Clouds - CRN Akamai Outage Takes Down Global Banks, Airline Websites - CRN ‘The Flash’ Episode 7×13 Recap: “Masquerade” - The Series Regulars Watch: Man steals items from US store, walks away as security personnel look on - Business Today Dement takes bareback lead at College National Finals Rodeo - Montana Sports These Are Cisco's 10 Acquisitions Since Last June - CRN Cisco and remote-work lessons learned in education during the pandemic - Computerworld What a time to be alive: Cisco now offering 5G routers to ride along in cars - The Register Neighbors unhappy Cisco Lake is back open after flooding - KTXS A company who has sued Cisco, Aruba Networks & Belkin is now suing Apple for infringing their acquired MIMO Technology patent - Patently Apple 5 Companies That Came To Win This Week - CRN Networking as a Service: How Small Businesses Can Benefit - BizTech Magazine 5 Fantastic Breweries To Visit In Boston - TravelAwaits Inventorship Rulings Show Fed. Cir.'s Sympathy for a Good Story - Bloomberg Law 2021 Northwestern football position previews: Running Backs - Inside NU Telenor, Telia tap Nokia for 5G joint network roll-out in Denmark - ComputerWeekly.com Orioles Designate Chance Sisco For Assignment - MLB Trade Rumors Worldwide Data Monetization Industry to 2026 - North America is Expected to Hold Major Share - GlobeNewswire AWS' secret weapon is revolutionizing computing - SiliconANGLE News Silverstein's New Bedford family, employees reunite after 25 years - SouthCoastToday.com Comeback fish: Ciscoes in Grand Traverse Bay excite scientists, anglers alike - Traverse City Record Eagle Nvidia, Arm CEOs Talk Troubled Merger - SDxCentral Siemens and Cisco announce industrial 5G routers - Drives and Controls Magazine - Drives & Controls Need New UC&C Equipment? Not So Fast - No Jitter Influential SaaS Executive Ana Pinczuk Joins Five9 Board of Directors - Business Wire WATCH: Last Week Tonight Explains PACE Programs - Vulture Ubiquiti: An Under-the-Radar Technology Disruptor - The Motley Fool 9 Characters We're Going to Miss After the 2020-2021 Season - TV Insider 10 IoT Networking Companies To Know About In 2021 - CRN New Restaurant 'The Wheel' To Debut At The Village In Stamford - Patch Treasury GC nominee discloses $11.7 mln Davis Polk partner share - Reuters Best Indian employers: Find out which company pipped Adobe, M&M to the top spot - CNBCTV18 Global Cyber Security Market Size & Trends Predicted to Exceed USD 398.3 Billion By 2026: Facts & Factors - GlobeNewswire Texas ends federal unemployment benefits for those affected by COVID - 25 News KXXV and KRHD JMA's 5G XRAN Shines in Department of Defense Debut - PR Newswire Why Making Caste a Protected Category in the US is a Necessity - The Quint Intel Blends Virtualized RAN, Edge, Core Into Network Platform - SDxCentral The 10 Coolest Robotics Startups Of 2021 (So Far) - CRN Akamai disruption adds to 43% jump in internet outages for week of June 12 - S&P Global Destiny Acquires Soluno and Telepo - UC Today Zoom Celebrates 1.5 Million Zoom Phone Seats - UC Today Etisalat Capex and main network vendors - Telecom Lead Here's How Much Energy Secretary Jennifer Granholm Is Worth - Forbes Michelle Ragusa-McBain Rejoins Cisco for XaaS, MSP Partner Push - ChannelE2E Cisco Brewers entertainment complex opens Wednesday in New Bedford - SouthCoastToday.com Cisco Webex Calling integrated into Microsoft Teams, Hands On - Tom Talks Blog Aruba ESP Gets AI, IoT Boost, New Switches To Battle Cisco's 'Disjointed' Architecture - CRN How One Application Test Uncovered an Unexpected Opening in an Enterprise Call Tool - Security Intelligence Coffee Briefing, June 22, 2021 – IBM merges Toronto offices; edtech booms; Cisco’s new 5G industrial edge routing portfolio; and more - IT World Canada 3 Dow Stocks That Might Be Booted From the Iconic Index - The Motley Fool How to Dissect Unusual Protocols for Troubleshooting OT Security - Automation.com DC Innovation Awards to Honour Indian Tech Innovators excelling in the field of Data Centres and Cloud Technologies - PR Newswire BEC Losses Top $1.8B as Tactics Evolve - Threatpost Inside the Fastly outage: a firm reminder on Internet redundancy - DatacenterDynamics The Wheel, culinary centerpiece of The Village in Stamford, debuts June 30 - The Advocate Ethernet Switch and Router Market: Forecast suggests Healthy YoY Growth Rate at 0.25% - PR Newswire HPE Will Have 'Highest Profitability Of Any Of The Cloud Services': HPE GreenLake Partner Pledge - CRN 5 Things To Know About Silver Lake's $1B Investment In Splunk - CRN 8 Cool Features In Cloud IoT Platforms To Know About In 2021 - CRN Jalacte wins $6.3M judgment against GoB - Amandala Confluent's IPO: The Details You Need To Know - CRN The Flash 7x13 Review - The Masks We Wear - Batman-News Economy and Society: House passes ESG disclosure act – Ballotpedia News - Ballotpedia News Great Place To Work’s top 10 employers in India — from DHL to Barbeque Nation - Business Insider India Did DHS 'go rogue' with FirstSource III solicitation? - Federal News Network Which Cybersecurity Stocks Should You Buy? - Seeking Alpha Software Firm Sprinklr Raises $266 Million in Downsized U.S. IPO - Bloomberg San Jose State University adds $4.1 billion to California's economy, according to Beacon Economics study - Silicon Valley Business Journal - The Business Journals Ericsson Teases Late 2022 Mid-Band vRAN Support - SDxCentral Get Cisco-certified with 54 hours of networking tutorials for $50 - BleepingComputer Cisco Salaries: How Much Cisco Pays Engineers, Sales Reps, and More - Business Insider Cisco Philippines unveils innovations for 'inclusive' hybrid work - BusinessWorld Online Vodafone Idea partners with Cisco to support 4G and 5G user experience - Business Standard HighPoint.com Racing: Chase Briscoe Pocono Advance - Speedway Digest El Paso County to join digital inclusion initiative to expand broadband internet access - El Paso Times Film Review: After an Impressive Rookie Season, Daniel Thomas Could Find a Role in 2021 - Sports Illustrated Arm Aims to Democratize Confidential Computing - SDxCentral Morning Report: PFF Evaluates the 49ers Defensive Scheme - 49ers.com Genesys DX: Driving Digital Customer Engagement | No Jitter - No Jitter 5 Things To Know About The Lenovo 360 Partner Program - CRN Qualcomm's Rahul Patel: \"Enterprise Wi-Fi is back with a vengeance\" - Wi-Fi NOW News Minister McGrath and Minister of State Smyth welcome Ireland's first Public Service Future Tech Challenge - Gov.ie Lightspin nabs $20M to boost enterprise cloud security - VentureBeat Darlene Thees - The Daily Standard Data platform startup Incorta secures $120M late-stage funding round - SiliconANGLE News Sprinklr, Marketing Software Firm, Rises in First Day of Trading - TheStreet Can HPE Project Aurora Stretch Zero Trust From Edge to Cloud? - SDxCentral T-Mobile Pushes Mid-Band 5G Coverage to 150M People - SDxCentral How to better detect and prevent Business Email Compromise attacks - TechRepublic Carleton University to build innovation centre in Kanata - The Charlatan MSFT: 3 Tech Stocks to Buy and Hold Forever - StockNews.com GreenLake Superstar Advizex Wins HPE US As-A-Service Partner Of Year - CRN How Raleigh-Durham is building a strong tech workforce - Business Insider Cisco Tables Carbon Offsets, Focuses Environmental Strategy Elsewhere - SDxCentral Japan's Rakuten to use Cisco routing tech for 5G, IoT services - Reuters Cisco, the search and rescue dog, hangs up his collar after seven years with RCFD - KEVN The move to hybrid work, permanently - TechRepublic With 100 days to Expo 2020 Dubai, Cisco's technology is ready to bring human and digital connections to life - Arabian Business On Second Day Of Trading, Sprinklr's Stock Price Makes Its Founder And CEO A New Billionaire - Forbes Work-from-home is the new normal — global tech firm survey - Interaksyon The pressure is on for technologists as they face their defining moment - Information Age Lobo Baseball Retains Jon Coyne as Infield Coach/Recruiting Coordinator - University of New Mexico Lobos athletics official website news Morning Report: NFL.com Spotlights Key Matchups on 49ers Schedule - 49ers.com Telecom's Biggest Vendors, 4Q20 Market Report - Ericsson, ZTE, Intel, NEC and Dell/VMWare the Big Winners as Samsung and Nokia Dip - ResearchAndMarkets.com - Business Wire Atlassian Bugs Could Have Led to 1-Click Takeover - Threatpost Why Did Apple Stop Using the Iconic ‘i’ in Its New Product Names? - iDrop News Illumio Hits $2.75B Valuation, Preaches Zero-Trust Gospel - SDxCentral Nokia Ships Massive MIMO 5G Radios - SDxCentral Electric Last Mile Appoints Jonathan Ballon as Chief Digital Officer - Yahoo Finance Ad agency esports and gaming strategy—what marketers should know - AdAge.com Big expectations: Tourists are back, are we ready? | Business | taosnews.com - taosnews IBM puts three buildings up for sublease in Research Triangle Park - Triangle Business Journal - The Business Journals Here's a list of Fourth of July events in Abilene, the Big Country - Abilene Reporter-News Cisco ASA Bug Now Actively Exploited as PoC Drops - Threatpost Rakuten Links Cisco's Acacia Pluggable Optics to 5G SA Core - SDxCentral Does Webex Legislate point to video-based collaboration's future? - Computerworld Global Software as a service (SaaS) Market Report 2020-2030 Featuring Market Leaders - Salesforce, ServiceNow, Microsoft, Google and Cisco - PR Newswire Cisco Survey Says UK Recovery Must be Built on Better and Free Broadband - ISPreview.co.uk Incoming disaster or overblown: How will the semiconductor chip shortage affect enterprise IT? - IT PRO Morning Report: George Kittle Kicks Off Tight End University - 49ers.com Reyes Boxing Gym, Norwich, opens to give back to the community - Norwich Bulletin Isolated Sky Lakes Medical Center gets big wins with new infrastructure - Healthcare IT News India’s networking market grew 5% YoY in Q1 2021: IDC - BusinessLine Pueblo West's Shayla Padilla claims 4A state girls high jump title to equal brother's feat - Pueblo Chieftain Adobe announces permanent shift to hybrid work for its employees - TechRepublic Microsoft Now Says Windows 11 TPM Requirement Is For Version 2.0 - CRN Mets Claim Chance Sisco From Orioles - MLB Trade Rumors Why Choose Amrita Vishwa Vidyapeetham for Engineering? - The New Indian Express Vodafone Verifies 100% Renewable Energy in Europe - SDxCentral Briscoe Finishes 24th at Pocono - Speedway Digest Smart Padala by PayMaya introduces new remittance service - Backend News Mobile World Congress highlights telco transformation - SiliconANGLE News 'A giant game of musical chairs': Waves of workers are changing jobs as the pandemic wanes - The Boston Globe Kagan: Cisco interview on transforming the internet for the future - RCR Wireless News Cisco's Stock May Be Ready To Break Out - Seeking Alpha Creating a Culture of Recognition Takes Work - Built In Chicago Department of Defense works to integrate battlefield intel networks - Network World Marvell Looks Beyond Data Center With Octeon 10 DPU - SDxCentral What's AWS Conveying With Its Acquisition of Wickr? - No Jitter IBM Taps Former State Street CIO To Be Kyndryl CTO - CRN Wellthy Secures $35 Million in Series B Funding to Support Companies and Employees with Return to Work - Business Wire Dell’s Omnia HPC Software Play - The Next Platform The 10 Coolest Enterprise Servers Of 2021 (So Far) - CRN ConvergeOne Acquires Salesforce Partner NuAge Experts - ChannelE2E Microsoft's Stahlkopf Jumps to Cisco as Chief Legal Officer (3) - Bloomberg Law Cisco UCS Server Sets 14 Performance Record Benchmarks - HPCwire Cisco security devices targeted with CVE-2020-3580 PoC exploit - Help Net Security The 10 most powerful companies in enterprise networking 2021 - Network World Indosat Ooredoo partners with Cisco in new network tech rollout - Channel Asia Singapore Why video conference app Webex is betting big on influencer marketing - Digiday Rich with memories, Pickens retires after 30 years - Monroe Evening News Zoom is buying a startup to bring real-time translation to video calls - Engadget Subdomain security is substandard, say security researchers - The Register Accenture Acquires 40th Company In 10 Months With Sentor Buy - CRN Vodafone UK Launch \"enterprise grade\" FTTC Broadband for SMEs - ISPreview.co.uk GHMC okays 6,841.87 crore budget - The Hans India US Ranks as Most Cyber-Capable Nation With China Close Behind - HS Today - HSToday Top Companies for CSR in The United States of America - thecsrjournal Mapped closes seed II funding round; takes total funding to $9.5M - PR Newswire 5 Things To Know About The Revamped Cisco Partner Program - CRN Cisco Completes Acquisition of Kenna Security - PR Newswire The Flash Confirms Key Stars to Return for Season 8 on The CW - ComicBook.com Cisco’s Ilagan champions digital resilience to achieve PH digital transformation - BusinessWorld Online CEOs of Exact Sciences, Fleet Farm, Cisco urge Legislature to OK $150M for UW engineering school - Milwaukee Business Journal - The Business Journals Broadband Access in Smart Cities: What Is Wi-Fi 6? - StateTech Magazine Why Versa Grabbed $84 Million For SASE - Forbes Podcast: CIO Leadership Live with Mojgan Lefebvre, EVP, Chief Technology & Operations Officer, Travelers - CIO Best Network Automation Tools for 2022 | ENP - EnterpriseNetworkingPlanet Illinois overpaid millions in unemployment during the pandemic. Now there's a way for people to keep the money - Effingham Daily News La Trobe aims $2.35m at cyber skills gap - ACS Video Streaming Market to Reach USD 842.93 Billion by 2027; Increasing Popularity of OTT Platforms to Drive Market Growth: Says Fortune Business Insights - GlobeNewswire AWS 'many years' behind in cloud mobile, says Rakuten CTO - Light Reading Celebrate Summer With These Essential Boston Breweries And Bars - Forbes Microsoft, AT&T 5G Deal Gives Azure Telecom Cloud A Boost - CRN Morning Report: Rookie Running Backs to Watch - 49ers.com Poly's Nick Tidd Calls For 'Tremendous Upgrade Opportunity' For Collaboration-Minded Partners - CRN A Clubhouse for the office? Slack unveils ‘Huddles’ audio chat rooms - Computerworld SentinelOne IPO raises $1.2 billion, beating estimates - TechTarget Lumen Introduces Teams Solution for Remote Work - UC Today Wish Announces Chief Financial Officer Transition - Business Wire SCC earns Cisco Golden Bridge award - The Stanly News & Press | The Stanly News & Press - Stanly News & Press Cisco hammers home tier differentiation in new partner program - Channel Asia Singapore Supreme Court Narrows Ability to Hold U.S. Corporations Accountable for Facilitating Human Rights Abuses Abroad - EFF Bucher + Suter Announces b+s Connects for Service Cloud Voice on Salesforce AppExchange - PR Newswire IBM Spin-Off Kyndryl Launches 6 Managed Services Practices As Part Of Global Operating Model - CRN The Flash Season 8 Cast: Who's In? Who's Out? - TV Fanatic HPE To Acquire Zerto For $374M To Boost GreenLake, Storage - CRN Nutanix CEO: 'No Plans' For Layoffs Ahead With New Vision - CRN Craig Miesse - The Daily Standard Red Fiber expands internet coverage to more Mega Manila homes - Backend News Intel Next-Gen Data Center Chips Delayed - SDxCentral What you need to know about new E911 laws to ensure telephony compliance - ZDNet Cisco CSR and Social Alpha partner to give impetus to AgriTech start-ups revolutionising the Indian agriculture ecosystem - YourStory Craig Miesse - bernewitness.com Morning Report: Patrick Willis, John Taylor React to HOF Announcement - 49ers.com 3 Microsoft executives plan to leave the company - Puget Sound Business Journal - The Business Journals Sixty operators and vendors achieve MEF 3.0 certification - Light Reading Qualcomm, Capgemini collaborate to boost 5G private network implementations for industries - ComputerWeekly.com NEC confirms open RAN projects in Latin America - BNamericas English Facebook Exec: Open RAN Talk Now Commitment in Action - SDxCentral Ericsson, Huawei claim 5G core tech lead with Mavenir, Affirmed Networks leading challengers - ComputerWeekly.com MWC Barcelona Showcases Open RAN - SDxCentral The 10 Coolest New AWS Tools Of 2021 (So Far) - CRN Microsoft warns Windows users of unpatched critical vulnerability - Business Standard 'The Flash' Season 7 Finale: Speedster [Spoiler] Helps Fight Godspeed - TVLine Cisco, Kenna Security Execs Talk Post-Acquisition Plans - SDxCentral Cisco WomenRock-It Virtual STEM Summit - August 2-3 at UCCI - Cayman Compass Kaseya VSA Ransomware Attack Hits Nearly 40 MSPs - CRN Ericsson comes out top in Malaysia’s 5G tender race; to launch in 3 states - Tech Wire Asia REvil ransomware asks $70 million to decrypt all Kaseya attack victims - BleepingComputer 37 firms apply for telecom PLI, Samsung gives it a miss - The Financial Express Lytton First Nation upset about CN Rail presence near community after tragic fire - radionl.com Cisco announces Webex for Defense, built specifically for the Pentagon - ZDNet Cisco updates partner program, including Integrator and Provider roles - Channel Daily News Beanfield Metroconnect Partners With Cisco to Launch New Hosted Voice with Webex, All-in-One Virtual Collaboration Tool - GlobeNewswire Connecting the modern grid: Agility is more important than ever - Smart Energy Why Vibe's Costume In The Flash Makes No Sense - Looper Kaseya ransomware attacks: What we know so far - TechTarget Microsoft Compliance Chief Jumps to TikTok as Top U.S. Lawyer - Bloomberg Law Ericsson's Private Networks Head Polishes Strategy - SDxCentral Recently appointed Eastland Co. Sheriff focused on the future - KTAB - BigCountryHomepage.com San Francisco Giants unveil City Connect jerseys - McCovey Chronicles Intel CEO Gelsinger Brings Back Skylake Designer Shlomit Weiss - CRN How to build the agenda for sustainable IT - Express Computer Cisco hires Microsoft's general counsel as CLO - Corporate Secretary How Organizations Are Trying to Solve Education's 'Digital Divide' - Business Insider 7 Things To Know About JEDI And DOD's Revised Cloud Strategy - CRN Every Flash Character Returning In The 150th Episode (& How) - Screen Rant Extending the Promise of SASE with MDR - Security Boulevard SideCopy cybercriminals use new custom Trojans in attacks against India's military - ZDNet Ingram Micro Finalizes $7.2B Acquisition By Platinum Equity, Unshackled From Chinese Ownership - CRN 5 Big Things To Know About The Synnex Hack - CRN Mmmhmm Raises $100 Million - Bloomberg Former Bank of England CIO joins Co-op Group as CTO - ComputerWeekly.com Better Harvests: Raising funds easier for agri-tech startups - The Financial Express 5 Top Microsoft Execs Who've Left (Or Are Leaving) In 2021 - CRN How The World's Biggest Organizations Are Developing Leaders For A Post-Pandemic World - Forbes HPE Pours Ampool Into GreenLake, Ezmeral - SDxCentral Got $5,000? Buy and Hold These 3 Value Stocks for Years - The Motley Fool Cisco Completes Acquisition of Socio Labs - PR Newswire William Silverstein of Cisco Brewery sees a hip, happening New Bedford - SouthCoastToday.com Cisco police warn parents of van illegally selling ice cream - KTAB - BigCountryHomepage.com Top Zero Trust Security Solutions & Software 2022 | ITBE - IT Business Edge Way-Too-Early Depth Charts: Projecting the Jaguars' 2021 Safety Position - Sports Illustrated Nokia, Huawei, VMware Lead $4.4B Network Automation Market - SDxCentral Why Connectivity Is Key to Inclusive Technology Options for Students - EdTech Magazine: Focus on K-12 Is the quantum Internet finally here? – Physics World - physicsworld.com DXC wins $15M digital transformation deal with NSW Parliament - ARNnet Biggest CEO Moves of 2021 (So Far) - SDxCentral Televerde Foundation Launches To Give More Incarcerated Women A Path To Employment—And Issues Invitation For Companies To Collaborate With Them - Forbes Glimpse Group CEO: Big Tech complements our efforts in VR/AR - AlphaStreet Western Digital Appoints Dr. Thomas Caulfield and Miyuki Suzuki to Its Board of Directors - Business Wire Security is Security: CIOs Must Unify the Physical and Virtual - CIO Best Next Generation Firewalls (NGFW) 2022 - IT Business Edge Microsoft Clarifies Its 'PrintNightmare' Patch Advice - Redmondmag.com The employee attrition spike is here – how to hang on to your best people - Ladders Saudi Arabia 'to spend $18bn' on 1.3GW of data centres by 2030 - Capacity Media The invisible goalposts for Black female athletes - Fortune POET Technologies Announces Resignation of Director - GlobeNewswire Jacksonville Jaguars: Andre Cisco named sleeper ahead of training camp - Black and Teal Dubai's ruler launches with big tech companies a national programme for coders - Reuters Cisco Closes Acquisition of Socio Labs - FinSMEs Cisco Systems: Perfect Setup For Long Call Options - Seeking Alpha New report: Coors Field gets Wi-Fi 6 upgrade ahead of All-Star Game - Mobile Sports Report Giant fork, police lawsuit and island Airbnb: top New Bedford stories - SouthCoastToday.com Forget 5G: New 6G Research Centre Launches - UC Today AI Face-Off: Cisco Vs. Juniper Networks And Aruba Networks - CRN Is Cisco Stock A Buy Today? (NASDAQ:CSCO) - Seeking Alpha How Can You Fuel Your Career with Certbolt Cisco 300-410 ENARSI Exam Using Practice Tests? - Zimbabwe Independent Cisco elevates Daisy Chittilapilly as President of India & SAARC - ETCIO Meet the tech experts behind Detroit's emerging cybersecurity industry - Model D Zoom at 10: Where Does It Go From Here? - No Jitter The cybersecurity market is red hot - Fortune A Beginner's Guide to Troubleshooting VoIP Phones - No Jitter U.S. Cities Upgrade Their Call Centers for More Flexibility - StateTech Magazine Nvidia DPUs Get Data Center Win With Palo Alto Networks' Backing - CRN 'Flash' Jordan Fisher Previews Bart Allen, Episode 150, Season Finale - TVLine Raisoni Group introduces GHRTBIF - The Hitavada Ex-NIMASA DG, Peterside Accuses Rivers Governor, Wike Involvement In N3.5 Billion Fraudulent Road Projects - SaharaReporters.com TSI Global Companies moves into new headquarters building in St. Louis market – REJournals - REjournals.com McLaren Racing - Your guide to McLaren HomeFest 2.0 - mclaren.com Circular economics and the $57B e-waste opportunity | Greenbiz - GreenBiz How data center operators can reign in Scope 3 emissions - Backend News Ransomware Landscape: REvil Is One of Many Operators - BankInfoSecurity.com Apple, Dell Make Gains In US PC Market In Q2: Gartner - CRN This bank's average pay is $500K and it needs to hire a ton of women - Ladders Chittilapilly Appointed As Cisco India, Saarc Chief | Mint - Mint The promise of the digital world: inclusive, sustainable, secure - POLITICO Europe The Flash season 7 star teases former character's big return - Digital Spy The 10 Hottest Edge Computing Devices Of 2021 (So Far) - CRN One man's fight against recidivism in Santa Clara County - San José Spotlight - San José Spotlight Microsoft Crushes 116 Bugs, Three Actively Exploited - Threatpost Seven of 10 players drafted by Brewers on Tuesday were high schoolers - Milwaukee Journal Sentinel 'The Flash' Recap Season 7 Episode 17 — Bart and Nora vs. Godspeed - TVLine RBC Nabs Trio of Credit Suisse Bankers to Expand Tech Franchise - Bloomberg Why patching vulnerabilities is still a problem, and how to fix it - TechTarget Deployable Operations Centers Can Aid in Long-Term Disaster Response - StateTech Magazine Deal's Off: SAS Institute Says No To Acquisition By Broadcom - CRN Covid boost for cyber security deals - Financial Times McLaren Racing - Everything you need to know for the British Grand Prix - mclaren.com Artificial Intelligence Week 2021 - CRN The 10 Hottest AI Security Companies You Need To Know - CRN ‘Global Citizen Live’ Full Lineup Announced: Massive 24-Hour Worldwide Broadcast With Lorde, Metallica, Billie Eilish, The Weeknd, BTS And More – Updated - Deadline How Cisco is executing a four-pronged approach to trans-Tasman partner growth - ARNnet Kloudspot™ and Cisco Meraki Enable Safe Environments and Smart Spaces - GlobeNewswire Enterprise Connect Expands 2021 Conference Program, Adds Keynotes by Cisco and Amazon Web Services - Business Wire Cisco Investments leads $5M funding for Apex-based cloud startup TriggerMesh - WRAL TechWire A guide to network lifecycle management - TechTarget Cisco appoints first woman head as president of India and SAARC region - Asianet Newsable Walsh Construction Tearing Down, Rebuilding Bridges On I-80 : CEG - Construction Equipment Guide Bloomberg Sustainable Business Summit July 14, 2021: Engine No. 1 CEO Speaks - Bloomberg Podcast: CIO Leadership Live with Nicole Nitowski, CIO, National Resident Matching Program - CIO How Students and Teachers Can Navigate Hybrid Education - Business Insider Virsec Secures $100 Million “Show of Force” Investment as it Redefines How Software is Secured - GlobeNewswire 11 Top Azure Announcements From Microsoft Inspire 2021 - CRN Expedient Brings Cost Optimization To Multi-Cloud, Hybrid Cloud Environments - CRN Bravos pitcher Samuel Mendez drafted by Milwaukee Brewers - Hiawatha World Arkose Labs Announces Two C-Suite Hires to Support Rapid Growth - GlobeNewswire The Flash season 7 episode 18 air date: Is it the finale and what’s next? - HITC - Football, Gaming, Movies, TV, Music Private LTE Market Size & Share | North America, Europe, & APAC Industry Forecasts 2026: Graphical Research - GlobeNewswire Today Tech News Updates: Top Seven Things to Know on 14 July 2021 - The Hans India Does cybercrime impact cryptocurrency prices? Researchers find out - ZDNet No hypervisor required: Platform9's KubeVirt runs containers and VMs together – Blocks and Files - Blocks and Files Divya Garg to head HR for Uber India & South Asia - People Matters India's Airtel Taps Cisco for Managed SD-WAN, SASE - SDxCentral Cisco Webex Desk Camera Review: Cisco’s 4K Webcam - UC Today Swampfox Technologies Delivers for Cisco-Based Contact Centers with Latest Update of Callback Solution, First In Line 3.1 - PR Newswire Photo Gallery: Kite-surfing Tropical Storm Elsa - The Inquirer and Mirror NortonLifeLock, Avast In Advanced Merger Talks - CRN Cape's Crooked Coast escapes through music - The Inquirer and Mirror 'The Falcon And The Winter Soldier's Danny Ramirez To Produce & Star In Thriller 'To Die Sane' - Deadline Video How Massachusetts is reopening amid the pandemic - ABC News Global chip shortage to extend into 2022, warns TSMC - IT PRO TelcoBridges’ ProSBC Helps X2nSat Ensure Business Continuity via Streamlined Satellite Communications, Podcast - Telecom Reseller Tech Workers Who Swore Off the Bay Area Are Coming Back - The New York Times Juniper Scores SD-WAN Win With CMC Networks - SDxCentral Verizon 5G Business Internet: Now In 42 US Cities - CRN Google Clinches Post in Bell Canada's 5G Cloud - SDxCentral 4 Companies AWS Could Buy to Compete With Microsoft in Work Software - Business Insider Gee Rittenhouse And Cisco’s Vision To Democratize Security - Forbes Cisco tops 2 best place to work lists; Red Hat, Kimley-Horn, SAS crack top 100 - WRAL TechWire Bharti Airtel Shares Rally Close To 3.5% On Cisco Collaboration - Goodreturns Dell, HPE Battle For Cloud Compute, Storage Infrastructure Lead - CRN Zoom Wins Top Comparably 2021 Award for Best CEO of Diversity - Comparably Workplace Insider Top XDR Security Solutions for 2022 - eSecurity Planet College Announces Major Grant for Cloud Computing Education - Wake Tech Newsroom Morning Report: NFL.com Projects 49ers 2021 MVP and Breakout Star - 49ers.com RtBrick Software Changes Game for Internet Routing Recovery, Podcast - Telecom Reseller Ericsson lands landmark Verizon 5G deal as it reports strong Q2 - ComputerWeekly.com Intel Weighs GlobalFoundries Buy to Bolster Capacity - SDxCentral \"All Foreign Investors Have Made Money in Greece,\" Greek Development Minister Vows - Greek Reporter Airtel Business, Cisco launch connectivity solutions for enterprises in India - HT Tech Long-Awaited STIX, TAXII Cyberthreat Sharing Standards Approved - SDxCentral The Flash Season 7, Episode 17 Review - End of the Bumpy Road? - Batman-News Jacksonville Jaguars: Is rookie S Andre Cisco poised for big role in 2021? - Black and Teal Is Cisco Systems (NASDAQ:CSCO) Using Too Much Debt? - Nasdaq Cisco and NSDC Partner to Upskill India in Digital Skills - India Education Diary Zoom is buying cloud contact center provider Five9 for $14.7 billion - CNBC Trend Micro, Palo Alto Networks Among Cybersecurity 'Champions' - SDxCentral Jaguars kicker Josh Lambo heading to camp with no assurances he will make roster - The Florida Times-Union Worcester County real estate transfers, Sunday, July 18 - Worcester Telegram Cisco: It's Time To Upgrade Your Income Network - Seeking Alpha NSDC, CISCO Partner to Offer Digital Skills in Networking, Cybersecurity - News18 NSA's CSfC Program Provides Classified Agencies with Solutions for Telework - FedTech Magazine $14.7 Billion Five9 Acquisition Aims To Revive Zoom’s Growth - Forbes Photos: Boston Planners Dining Club on Nantucket - Boston magazine 12 harness races at the fair Wednesday - Record Herald Hybrid workplace is the future - ITWeb Pivot3 gives up ghost as Quantum buys its assets to go deeper into video surveillance – Blocks and Files - Blocks and Files Vontier, a global tech firm based in Raleigh, buying Ohio firm for $965M in cash - WRAL TechWire Wi-Fi 6E is Reshaping RF Security Requirements - Electronic Design Stellar Cyber Puts the Kill Chain in XDR - SDxCentral Ghana to become first country to use contactless biometrics in national vaccination program - Biometric Update The 10 Biggest Cisco News Stories Of 2021 (So Far) - CRN Pure Storage makes FlashStack converged platform available as a service - SiliconANGLE News Emerging Data Center Vendors To Know In 2021 - CRN 8 Top Announcements From The Google Cloud Security Summit - CRN Eric Yuan and Rowan Trollope: 5 Big Keys To Zoom-Five9 Merger - CRN Newsom recall: Here are the tech heavyweights pouring money into the race - San Francisco Chronicle Top SD-WAN Providers & Vendors for 2022 | ENP - EnterpriseNetworkingPlanet Brands Should Invest In App Experience to Improve Customer Loyalty - CXOToday.com Sysdig Shifts Security Further Left With Apolicy Acquisition - SDxCentral Welcome to the Tall Ship at Pier One, Front Porch of the New East Boston - Boston magazine How Masergy solves last-mile issues with new Performance Edge service - ZDNet Verizon Rides Samsung's First Massive MIMO 5G vRAN Wave - SDxCentral MURAL Secures $50M Series C at a $2B Valuation to Expand Guided Visual Collaboration in the Enterprise - PR Newswire Pegasus Project Shows the Need for Real Device Security, Accountability, and Redress for Those Facing State-Sponsored Malware - EFF Here are Tuesday's biggest analyst calls of the day: Tesla, Apple, Amazon, Netflix, Exxon & more - CNBC Cisco CCNA certification explained - Network World Jaguars rookie Andre Cisco brings natural ball skills to the battle against veteran Jarrod Wilson - The Florida Times-Union Cisco Boosts Circular Design Goals - SDxCentral Cloud Networking Startup WiteSand Set To Shake Enterprise Networking Out Of 'The Old Days' - CRN Podcast: CIO Leadership Live with John T. Marcante, Global Chief Information Officer, Vanguard - CIO From the gig economy to working from home — these trends are changing the future of our jobs - Euronews Biodesign Innovation Labs: Meet the Team Developing an Affordable Alternative for Prolonged Manual Ventilation - Yahoo Finance The Top 10 Telecom Mergers And Acquisitions Of 2021 (So Far) - CRN Emerging Vendors You Need To Know In 2021 - CRN Morning Report: Bosa, Hurd and More 49ers Returning From IR - 49ers.com EXCLUSIVE BT takes multi-million pound stake in cyber firm Safe Security - Reuters UK Microsoft Buys CloudKnox for Zero-Trust Security Boost - SDxCentral Why The Flash Finale's Big Villain Return Was Such A Great Surprise - CinemaBlend How Vegas built an LTE network in 45 days, and what it might do next - Light Reading Industry 4.0 Market: Tech Mahindra and Honeywell Team Up to Develop 'Industries of the Future' by Capitalizing on Industry 4.0 & 5G, says Fortune Business Insights - GlobeNewswire Scribe Whiteboard Camera Review: Next-Gen Meetings - UC Today Verizon Capex Declines Amid Mid-Band 5G Ramp - SDxCentral Wireless Mesh Network Market to Hit USD 8.50 Billion at a 7.3% CAGR by 2025 - Report by Market Research Future (MRFR) - GlobeNewswire Cisco Report: CISOs' SASE Spend Edges Toward 75% of Budget - SDxCentral More locals take to Cisco Webex for remote working - ITWeb How to keep remote workers from feeling disconnected - MIT Sloan News Wi-Fi 6E: Don’t let hype push you off your refresh cycle - Network World How To Change Profile Picture in Webex - Alphr NIST selects 18 tech companies for zero-trust demos - FedScoop The 10 Biggest Cybersecurity Acquisitions Of 2021 (So Far) - CRN Connected Agriculture Market 2021 and Analysis to 2027 - SAP AG, Vodafone PLC, Syspro, Cisco Systems - Big News Network Morning Report: 49ers Sign Trey Sermon to Rookie Contract - 49ers.com America's Worst CEO-to-Worker Pay Ratios - Kiplinger's Personal Finance Cvent in Talks to Go Public; Zoom May Invest - MeetingsNet Fayette County Classic set for Saturday - Record Herald Top 5 IoT Development Platforms in 2021 - IoT For All Intel Posts Q2 Beat, Gelsinger Downplays Foundry M&A - SDxCentral Cisco and the future of collaboration: What’s to come? - Computerworld Cisco's 2020 diversity report looks at workforce, leadership progress - Silicon Valley Business Journal - The Business Journals NCCoE Names 18 Firms for Zero Trust Collaboration Project - MeriTalk Avocor Introduces New Interactive Displays - UC Today ATX plots path to DOCSIS 4.0 - Light Reading The 10 Biggest Data Breaches Of 2021 (So Far) - CRN The 15 Best Hard Tea Brands, Tasted and Ranked (2021) - VinePair The founder of Balzac's Coffee left the brand she built — to... - Women of Influence NSO's Pegasus spyware: here's what we know - The Verge Explained: Why the Akamai outage is worrisome - The Indian Express myTukar appoints former BMW exec as CEO - Digital News Asia Cisco Top Salaries: How Much Cisco Pays Execs, VPs, Directors - Business Insider Zoom's lightning-fast ascent to $100 billion made big acquisitions a sudden priority - CNBC 5 Best Septic Tank Services in San Antonio, TX - Kev's Best Cityzens Giving Young Leaders Summit: Day 5 Recap - Manchester City FC Top Stories/Players to look for during training camp - Big Cat Country News from the world of Education, July 24, 2021 - The Hindu Focus on nature: Decline in lake oxygen levels alarming as planet warms - Leader-Telegram A deep-dive explanation of Cisco's CCNA certification - Reseller News What’s New in Webex? July 2021 - UC Today Terralogic Solutions Acquires Microsoft Azure Partner Tridius Technologies - ChannelE2E Ex-Cisco CEO discourages his start-ups from doing business in 'unpredictable' China - CNBC Europe Cybersecurity Market Report 2021-2027 Featuring Broadcom, Cisco Systems, Check Point Software Technology, IBM Palo Alto Networks - GlobeNewswire IBM Launches Turnium's Containerized SD-WAN Into Cloud - SDxCentral Cloud Contact Center And UCaaS: Better Together Or Best Of Breed? - CRN Atlanta execs discuss the technology transformation in the workplace - Atlanta Business Chronicle - The Business Journals 5 Best Internet of Things Development Platforms in 2021 - Analytics Insight The 10 Hottest SSD And Flash Storage Products Of 2021 (So Far) - CRN Intel warns global chip shortage could last until 2023 - IT PRO The Top 10 VMware News Stories Of 2021 (So Far) - CRN 10 Ways Companies Are Fighting The Burnout Epidemic - Forbes Attackers use old unpatched software vulnerabilities to target businesses — Barracuda - Backend News Robin's Art wins Fayette County Classic - Record Herald Kaseya Did Not Pay Ransom For Decryptor, Refused To 'Negotiate' With REvil - CRN 18 Companies to Participate in NIST 'Zero Trust' Project - BankInfoSecurity.com The Flash Season 8: Release Date, Cast And More - /Film Sun Communities, Inc. Reports 2021 Second Quarter Results - GlobeNewswire Cisco Networking Academy Launches Free IT Education to - CSRwire.com JupiterOne Adds New Strategic Investors, Cisco Investments and Splunk Ventures, to Support Ecosystem - PR Newswire 14 Cisco women named as finalists at the Channel Asia Women in ICT Awards - Taiwan News 40 Under 40 2021 - Devin Hood, Cisco - PR Week NB Students Will Learn Cybersecurity Skills With Cisco, Cyber NB, Government Partnership - Huddle Today High-tech device donated to North Riverside Library - Riverside Brookfield Landmark VoIP Upgrades Bring New Features to Federal Phone Systems - FedTech Magazine The 10 Biggest IoT News Stories Of 2021 (So Far) - CRN Network Automation Enabling IoT Data Proliferation - IoT World Today Counting down Northwestern’s roster: 29-20 - Inside NU RingCentral, Bandwidth Forge BYOC Partnership | No Jitter - No Jitter Morning Report: 49ers 2021 Training Camp Primer - 49ers.com 5 Reasons to Add Cloud Voice to Your Company’s Collaboration Solution - CIO IBM Report: Data-Breach Costs Hit 17-Year High of $4.24M - SDxCentral AI in video conferencing opens a world of features - TechTarget Verizon 5G Sails Samsung's vRAN Massive MIMO - SDxCentral Broadvoice Acquires GoContact - UC Today Cisco Still Has Upside Potential - Seeking Alpha How Cisco Is Fighting To Protect Academic Integrity - Forbes Jaguars Training Camp Notebook, Day 1: Lawrence Shines, Minshew Rotates In and Cisco Participates - Sports Illustrated Jaguars DT Taven Bryan begins camp on injured list - The Florida Times-Union How to simplify Infrastructure as code adoption for IT Operations - CIO Morning Report: Injury Updates from the Head Coach Heading into 49ers Training Camp - 49ers.com Google Mandates COVID-19 Vaccinations For Returning Workers, Delays Return-To-Office Plan - CRN Winning at SD-WAN - Gigaom - Gigaom Teams Hits 250m MAU, 80m Phone MAU - UC Today Strange Black Hole Discovery Confirms Einstein’s Theory of General Relativity - SciTechDaily What is an Advanced Persistent Threat (APT) Attack? - CIO Insight Microsoft, Rakuten, VMware Execs Reject Open RAN Criticism - SDxCentral Cisco Announces Hybrid Work Option For Every Employee - CRN Cisco researchers spotlight Solarmarker malware - ZDNet Cisco Employees Can Keep Working From Home, EVP Says - Bloomberg Global Hotel and Hospitality Management Software Market- Amadeus IT Group SA, Cisco Systems Inc., Honeywell International Inc., Among Others to Contribute to the Market Growth - PR Newswire Jaguars safety Rayshawn Jenkins relishes training camp competition - The Florida Times-Union Biden Taps Kaplan for Long-Vacant Singapore Envoy Post - Bloomberg Something is not right, I'm sure I have some Trojan or something - ActiveX/COM I - Virus, Trojan, Spyware, and Malware Removal Help - BleepingComputer Microsoft: Zero Trust security just hit the mainstream - ZDNet Google Cloud Now A 'RISE With SAP' Strategic Cloud Partner - CRN 3 Reasons to Buy Zoom Video Communications, and 1 Reason to Sell - The Motley Fool AWS Sees 37 Percent Quarterly Growth As Amazon Disappoints - CRN James Jackson Sr. - The Daily Standard The 10 Biggest Apple News Stories Of 2021 (So Far) - CRN High CPU usage by System process on idle and wierd behaviour - Virus, Trojan, Spyware, and Malware Removal Help - BleepingComputer Cisco shifts to hybrid workplace model, employees can opt to work permanently from home - BusinessLine New Cisco Webex ad shows rapid evolution of collaboration - ZDNet Cisco, SAS, ChannelAdvisor require vaccinations for in-office work - WRAL TechWire 5 Reasons Why Saving the Bees Is So Critical for Both People and Planet - Global Citizen Celebrating visionary CIOs at Cisco CIO Circle of Excellence Awards - Moneycontrol My Top Cloud Computing Stock to Buy Right Now - The Motley Fool Corporate philanthropy evolves anew amid pandemic era - San Francisco Business Times - The Business Journals Proofpoint Alleges Ex-Exec Took Trade Secrets To Abnormal Security - CRN You can get this huge technical exam prep bundle today for just $12 - BleepingComputer DevOps backup tips, challenges and best practices - TechTarget Jaguars 2021 Training Camp: “You take the training wheels off now…” - jaguars.com Community Fibre hits milestone of 300,000 homes passed - ComputerWeekly.com The Flash Season 7 Report Card: Biggest Letdown, Best Force, and More! - TV Fanatic Why CISO's Reporting Structure Needs a Relook? - CXOToday.com Canada and USA to face off in semis after shoot-out successes - Manchester City FC Still more upside to Cisco Systems, this investor says - Cantech Letter Cisco Eyes App Security, SASE, Cloud Native M&A - SDxCentral Build Your IT and Ethical Hacking Career With These Training Packages - Futurism Willie Mack III grabs 66th pro win at inaugural Billy Horschel Invitational at TPC Sawgrass - Golf Channel These Texas companies are among the best U.S. employers for Millennials, national survey finds - KPRC Click2Houston Jacksonville Jaguars: Could Andre Cisco start in Week 1? - Black and Teal Telemedicine tools not effective for treating disorders like voice and speech; experts warn over Google Meet, Zoom trend - HT Tech Willie Mack III wins Billy Horschel APGA Invitational - HBCU Gameday Dead fish show up in some southern Sask. lakes - CKOM News Talk Sports Scrap metal plan does not add up as a few oligarchs will end up controlling the sector - BusinessLIVE Undebug my heart: Using Cisco's IOS to take down capitalism – accidentally - The Register CSCO: Cisco vs. Juniper: Which Networking Stock is a Better Buy? - StockNews.com Permanent Work From Home For 74,000 Employees Of This IT Company! Hybrid Work Model For Every Employee Now - Trak.in Extreme CEO: Cloud, hybrid workplaces drive big growth for networking - Network World Navarro Football: Bulldogs ranked fifth in SWJCFC poll - Corsicana Daily Sun Pensando Systems Receives Nearly $35M In New Funding: Exclusive - CRN Companies rethink office design and purpose as return to in-person work draws nearer - The Globe and Mail US Contractors Grapple With Biden Vaccine Proof or Test Order - Bloomberg Law #TechCEO Eric Yuan: The CEO Behind Zoom, Everyone’s Unexpected Pandemic Companion - Tech Times Report: Majority of government leaders say bridging the digital divide should be a high priority - American City & County Morning Report: 49ers Preparing for Second Block of Training Camp Practice - 49ers.com The 25 Most Influential Executives Of 2021 - CRN McAfee Builds Its Own ZTNA for SASE Boost - SDxCentral Solarmarker InfoStealer Malware Once Again Making its Way Into the Wild - The Hacker News Discount Tire store coming to former Festus restaurant site - Leader Publications 2021 Most Influential Executive Arvind Krishna: 'I Bleed Blue' - CRN Ranking former NC State football players' Madden 22 ratings - TheWolfpacker Cisco launches a new accelerator program, Webex Leap - ZDNet Harmonic poised to pass Cisco in CMTS market share, CEO says - Light Reading MOVE Disaster Relief and Outreach Program Accepts Donated Response Vehicle from Cisco - PR Newswire 'This is the worst I've seen it' says Arista boss as entire network hardware sector battles component shortages, doubled lead times for semiconductors - The Register Norwegian Startup Neat Aims To Take Zoom, Microsoft Teams Meetings 'To The Next Level' - CRN KKR Purchases Silicon Valley Office Campus for $535M - REBusinessOnline Remote or hybrid work, few changes coming for RTP offices so far, says RT Foundation exec - WRAL TechWire Report claims U.S. tech companies continue to power China's surveillance state - The Globe and Mail Leading Security Companies Join the Arctic Wolf Alliance Ecosystem to Strengthen Security Operations for Customers Worldwide - Business Wire The Top 25 Channel Sales Leaders Of 2021 - CRN Deloitte Makes Fifth Cybersecurity Acquisition In 2021: aeCyberSolutions - CRN The Best Hyperconverged Infrastructure Books for Your Reading List - Solutions Review DXC Earnings Preview: 4 Biggest Things To Focus On - CRN Equine-assisted personal development coaches seek to improve well-being in Vanderhoof – Vanderhoof Omineca Express - Omineca Express Arista Beats Q2 Expectations, Warns on Chip Shortage - SDxCentral Singapore's Epsilon partners with Aruba for unified SD-WAN offering - Channel Asia Singapore The Rise Of Full Stack Observability And Cisco's Strategy To Fulfill It - Forbes Cisco fixes critical, high severity pre-auth flaws in VPN routers - BleepingComputer Vidcast Is Cisco’s New Collaboration Media Platform - Forbes Cisco recruits from within for new Malaysia boss - Channel Asia Singapore The rise of videos in emails - TechRepublic Marvell's Innovium Ingestion to Burn Broadcom - SDxCentral Why and How to Get Started with SASE - CSO Online Top 3 Metrics for Evaluating Passwordless - CSO Online Wave of momentum: Willie Mack wins Horschel Invitational, eyes PGA TOUR shot - Ponte Vedra Recorder Zoom's Next Act Is a Big Threat to the Rest of Tech - Bloomberg IBM To Add More Than 700 Customer Success Managers This Year - CRN The 20 Hottest Cybersecurity Products At Black Hat 2021 - CRN Kaseya Ransomware Attack: 10 Things MSPs Must Do To Protect Themselves - CRN The 10 Coolest New Dell Products Of 2021 (So Far) - CRN Tech firms the best places to work in Australia - ACS Sample CompTIA CySA+ test questions with answers - TechTarget Work-Bench, Early Backer Of New York’s Enterprise Tech Startup Scene, Raises $100 Million Third Fund - Forbes Rakuten acquires Altiostar at $1B+ valuation - TelecomTV Amazon vs Google vs Microsoft: Gartner report blasts public cloud giants’ sales tactics - ComputerWeekly.com Five storylines to watch in UB football's preseason practices - Buffalo News Infected with PDM Trojan Win32.generic - Virus, Trojan, Spyware, and Malware Removal Help - BleepingComputer Cisco takes aim at meeting fatigue with Vidcast - Computerworld Chip shortage has networking vendors scrambling - Network World New Bedford's Cisco pier gets visit from 'Great Lake Jumper' - SouthCoastToday.com High-speed vehicle pursuit leads to arrest near Cisco - MyFoxZone.com KIDY Airtel Ties Up With Google Cloud And Cisco To Launch 'Airtel Office Internet' - BW Businessworld Airtel, Google, Cisco partner to accelerate digital transformation of small businesses - BusinessLine Report accuses US firms of selling tech that supports China’s surveillance - South China Morning Post Rakuten buys Altiostar Networks for $1 bn - Telecom Lead Learn the IT and Networking Skills You Need In the Digital Age - Entrepreneur Who makes the cut? Projecting the Jaguars’ 53-man roster - WJXT News4JAX Agency News | ⚡Airtel Partners With Google Cloud, Cisco to Launch 'Airtel Office Internet' for Small Businesses - LatestLY Verizon 5G Business Launches In 5 New Cities As Carrier Packages 5G With BlueJeans, One Talk - CRN Hyperscale Data Center Market to grow by USD 107.60 billion|Key Drivers and Market Forecasts|17000+ Technavio Reports - PR Newswire Sanjay Poonen On Leaving VMware And New CEO Raghuram - CRN The 10 Biggest 5G News Stories Of 2021 (So Far) - CRN Should Ransomware Victims Pay Up? Experts At Black Hat Speak Out - CRN 49ers Unveil Brand-New Cache Creek Club - 49ers.com Amazon Delays A Return To In-Office Work Until Jan. 3 - CRN UC Industry Wakes Up to Frontline Moment - No Jitter Chiratae Ventures Closes Its Largest Fund At $337 Million | Mint - Mint Jeremy Grantham, we're in one of the greatest bubbles in financial history - MoneyWeek Cisco Opts Out of Return to Office in Favor of Individuals and Teams Choosing How Cisco Works - CIO Critical Cisco Bug in VPN Routers Allows Remote Takeover - Threatpost As Cloud Customers Whine About AWS Bills, Cisco Looks to Woo Them Back to Data Centers - The Information Cisco and CyberSecurity Malaysia ink MoU to strengthen cybersecurity - The Malaysian Reserve Edward J. Heidkamp Obituary (1945 - 2021) Decatur Herald & Review - Legacy.com Verizon, AWS take mobile edge computing to 13 of top 20 US metro areas - ComputerWeekly.com Black Hat Is Back: Scenes From The Show - CRN 5G Core Market to Touch USD 16,092.5 Million by 2026, - GlobeNewswire Conjoint Effects of Caste : The National and the International in Ambedkar's Political Thought - Economic and Political Weekly Cisco Looks to ThousandEyes for WAN-on-Demand Strategy - SDxCentral Winters Blizzards moving to a spread offense in 2021 - Standard-Times Cisco Cloud Stack Rumor vs Cisco Plus As-a-Service Reality - ChannelE2E CyberSecurity M'sia, Cisco sign MoU to strengthen digital scene - The Borneo Post TNB bags CIO Circle of Excellence Award Asia... - The Malaysian Reserve Leveraging the power of the crowd through Open Innovation Platform - YourStory How Cisco is Embracing the Changing Telephony Market - No Jitter Dividend Sleuthing: Cisco Systems - Seeking Alpha Turbocharge your networking career by learning the skills needed for Cisco certification - TechRepublic Network certs 2021: Significant raises for the right ones - Network World DHS Hiring Cyber Talent and Cisco Launches a Free IT Education App - ClearanceJobs Island businesses responding to latest COVID-19 surge - The Inquirer and Mirror Popular Mass. brewery to begin requiring proof of COVID-19 vaccination or negative test for entry - Boston News, Weather, Sports | WHDH 7News How Wi-Fi 6 introduces a new era of outdoor wireless access - Intelligent CIO City bring together record number of Young Leaders at annual global Young Leaders Summit - Manchester City FC Transparency after a cyber attack: How much is too much? - TechTarget AI And Machine Learning Company Dataiku Raises $400M - CRN CrowdStrike CEO George Kurtz Takes Big Swings At Microsoft, SentinelOne - CRN Six Networking Startups to Watch — The Information - The Information WhatsApp users stay alert! Your money and identity under attack, says report; Heres how you can stay safe - Free Press Journal Morning Report: 49ers Enter Final Week of Training Camp - 49ers.com Zero Trust Security Market Worth USD 32.15 Billion by 2025 at 15.4% CAGR - Report by Market Research Future (MRFR) - GlobeNewswire Alibaba rape allegation prompts reflection on toxic work culture - Quartz Broadcom, Cisco and Facebook Bring Software Group Together Under TIP to Expand on 6 GHz Wi-Fi - Business Wire ☁️ Can Cisco best Amazon? - The Hustle Court Demands Discovery in Cisco Diversity Claim Lawsuit - The National Law Review We'll drop SBOMs on UK.gov to solve Telecoms Security Bill's technical demands, beams Cisco - The Register Hyperscalers Fuel 400ZR Optical Buzz - SDxCentral Global Citizen Live: Here's Who's Performing in Lagos, Paris, and NYC to Defend the Planet and Defeat Poverty - Global Citizen Extreme Networks To Buy Ipanema SD-WAN For $73M - CRN TIC: Meet the Team Bringing Cellular and Internet Service to Indigenous Communities in Rural Mexico - Yahoo Finance Closing the 'last mile' on distribution automation - Smart Energy HPE Establishes COVID-19 Vaccine Mandate - CRN Channel Partner Profile: Presidio - Channel Insider Big Data Technology Market to Rise at 14% CAGR till 2027; Growing Internet Penetration will Provide Impetus to Market Growth, says Fortune Business Insights - GlobeNewswire James Prior Joins SHI International to Drive Domestic and International Growth - Business Wire Josh Jones stuck with Jags to play for coach Urban Meyer - The Florida Times-Union What's in Store for ContextLogic (WISH) in Q2 Earnings? - Nasdaq Tech Moves: The Riveter’s Amy Nelson to lead new SaksWorks venture; Funko’s leadership transition - GeekWire MyRepublic teams up with Inspira for new cyber suite - Channel Asia Singapore Webex Contact Center vs Cisco Unified Contact Center - UC Today Apple, eBay, Cisco could build 9M sf of office space in North San Jose - Silicon Valley Business Journal - The Business Journals Growing IT Provider, Paragon Micro, To Collaborate with Cisco's Sports and Entertainment Practice - PR Newswire Cisco Employees Brace for Layoffs Expected in Coming Months - Business Insider Webex by Cisco named Official Collaboration Technology Partner of the PGA and WPGA Tour - PGA of Australia Quantum Appoints Industry Veteran John Hurley as Chief Revenue Officer - PR Newswire Industry leaders team up to 'turbocharge' 6 GHz Wi-Fi with 'Open AFC' initiative - Wi-Fi NOW News Spectrum Enterprise Aims to Simplify Collaboration via UC with Webex - Channel Futures Accenture Confirms LockBit Ransomware Attack - Threatpost SPOTO Launched New Brand \"SPOTO Learning\" to Deliver the Training Course - PR Web Who Leads the Gartner CCaaS Magic Quadrant 2021? - UC Today Microsoft Adds Massive Cloud Sales Muscle With New EY Deal - CRN Arrowverse: The Most Heartwarming Moments In Flash - CBR - Comic Book Resources Extreme Networks aims to enhance SD-WAN offer with Ipanema acquisition - ComputerWeekly.com How C-PACE Evolved Into CRE's Most Innovative Financing Option - Bisnow McLaren team are open to selling title sponsorship | PlanetF1 - PlanetF1 Microsoft contests decision to award AWS $10bn NSA cloud contract - ComputerWeekly.com Anexinet To Acquire Cisco Partner Light Networks For 'Full Stack' Data Center Offering - CRN Getting to know: Andre Cisco - jaguars.com Microsoft versus Zoom versus Cisco - Should you opt for traditional UCC vendor or upstart? - www.computing.co.uk 10 things in tech: Cisco layoff fears — Foldable Samsungs — Customers drop Prime - Business Insider Byron Center football: Who’s their Swiss Army Knife and 4 other things to know - MLive.com New TA505 Campaign Uses Signed Files to Drop ServHelper Malware - Duo Security Ransomware Has Struck One-Third Of All Organizations: IDC - CRN Morning Report: Trey Sermon Shares His Memories of Joining the 49ers - 49ers.com Q&A: Jolene Laskey, founder of Wabanaki Maple, is adding a twist... - Women of Influence How to choose desk booking software for the hybrid workplace - Computerworld What is a managed service provider? Strategic outsourcing for IT services explained - CIO Months after the Accellion breach, more victims emerge - TechTarget PSG to partly pay Lionel Messi in crypto tokens - Business Today Wall Street analysts really love these five stocks in the Dow - CNBC Microsoft fixes Print Spooler bugs with August Patch Tuesday rollout - TechRepublic How nurturing developers for 'cloud-first' will fuel next phase of Cisco DevNet - ZDNet Cisco to buy Epsagon for application, microservice management - Network World Tech firm Cisco brands Chicago 'midwest hub' as it sets up shop in Old Post Office - Chicago Tribune Anexinet Acquires Cisco UCaaS, CCaaS Partner Light Networks - ChannelE2E Textio adds Cisco inclusion and collaboration exec to its board of advisers - Bizwomen - The Business Journals Vice Society Ransomware Actors Target PrintNightmare | Decipher - Duo Security Pro-Grade Network: The Latest Network Switches for AVoIP - AV Network What's up with... Ransomware, MTN Group, Bezeq, Facebook, Broadcom, Cisco - TelecomTV Poole College of Management Welcomes the Class of 2021-22 - Poole College of Management A Letter to the Faithful - 49ers.com Accenture Issued Ransomware Warning After LockBit Attack - CRN Caloundra Music Festival 2021 Line-up - scenestr Five Indian Americans on Forbes’ 2021 list of richest self-made... - The American Bazaar The rally in recovery-focused stocks could depend on consumers and the Fed in the week ahead - CNBC 2021 West Texas high school football district predictions - Standard-Times Albany, Coleman mix it up on football field after heartbreaking ends to 2020 season - Abilene Reporter-News McDonald's lover has eaten 32,340 Big Macs for the world record - Business Insider The Best Books on Amazon for Network Administrators - The Best Books on Amazon for Network Administrators - Solutions Review CISCO FEATURE: Experienced Long returns to guide and expand Cisco offense - Big Country Preps Amazon, Google, Alibaba Drive Data Center Market to the Edge - SDxCentral 16 Indian-origin top executives ‘ruling’ tech industry globally - Gadgets Now Cisco confirms acquisition of Israeli startup Epsagon - Globes Cisco's Webex and the most thoughtful, disturbing feature you've ever seen - ZDNet The Cloud Honeymoon Is Over for AWS, Microsoft; Helping Oracle, Cisco - Business Insider 3 Tech Stocks With Surprisingly Solid Dividends - The Motley Fool VMware's VeloCloud Scores GE Healthcare SD-WAN Integration - SDxCentral Cisco beefing up app monitoring portfolio with acquisition of Epsagon for $500M - TechCrunch Coleman Bluecats have chip on their shoulder for 2021 football season - Standard-Times Windows Print Spooler Flaws Leveraged in Ransomware Attacks - Redmondmag.com ForgeRock Announces Tschudy Smith as New Chief People Officer - Business Wire We required our employees get vaccinated. Now some are threatening to quit. - Anchorage Daily News How Eaton's Tripp Lite Buy Will Boost Its Power Market Share: Curtiz Gangi - CRN Schneider Electric's 'Game-Changing' Edge Computing Partner Opportunities - CRN Seismic raises fresh funds at $3 bln valuation; acquires Lessonly - Reuters Morning Report: Everything We Learned from KCvsSF - 49ers.com Enforcement officer who kung fu-kicked errant PMD rider at Bedok fired by Certis - Mothership.sg 5G Fixed Wireless Rides Pandemic-Related Shift - SDxCentral The Right to Repair Movement Gathers Full Steam - TriplePundit Abby Smith departs ServiceNow for Intuit corporate comms role - PR Week What Airbnb’s earnings reveal about the future of travel - Fortune Sectigo Exec: 'This Is Not Your Father's Digital Certificate Landscape' - CRN ASK Investment Managers rolls out digital fund; to raise Rs 1,000 cr - Business Today Microsoft launches 'top secret' Azure cloud region for US intelligence community - ComputerWeekly.com Cisco (CSCO) Option Traders Unconfident Before Earnings - Investopedia Mleczko hosting Ice Out ALZ Thursday at Cisco Brewers - The Inquirer and Mirror Exam Dumps Present: Some Important Things to Note About CISCO CCIE: Windows 10 - Business Post Nigeria Corel Announces Michelle Chiantera as Chief Marketing Officer - GlobeNewswire eSentire Exec: 'Not Every Single MDR Is Created Equal' - CRN CES 2022 Will Require Proof Of Vaccination From Attendees - CRN Microsoft Invests In Rubrik to Fight Ransomware Attacks - ChannelE2E Got $100? Here Are 3 Top Dividend Growth Stocks to Jump-Start Your Portfolio - The Motley Fool Morning Report: Injury Updates on Trent Williams, Javon Kinaw and Others - 49ers.com Mitel Names Channel Chief, New Senior Leadership To Pursue And 'Win' UCaaS Opportunities - CRN 13 arrested, charged by fugitive detail - The Suffolk News-Herald - Suffolk News-Herald US Operators Increase First-Half 2021 Capex by 7.2% to $38.5B - SDxCentral CSO Urges Companies to Think Like Cybercriminals - SDxCentral Kickoff 2021: Defending state champion Jim Ned leads way in District 3-3A Division I - Abilene Reporter-News E-scooter rider who received kungfu kick jailed for 6 days, Certis officer sacked - STOMP Kmart Australia Migrates Its Transaction Systems To AWS - Forbes Cisco Product Bookings Boom As Component Shortages Continue To Impact Tech Giant - CRN MarTech Interview with Carrie Palin, SVP & CMO at Cisco - MarTech Series Enterprises Enhance CX with Tata Communications and Cisco - UC Today Top SD-WAN vendors and how they got there - Network World Stocks making the biggest moves after hours: Robinhood, Cisco, Nvidia & more - CNBC Dubber Adds Compliant Video Recording for Cisco Webex Meetings - PR Newswire How zero trust helps higher ed meet remote access and student privacy demands - EdScoop All of Nantucket’s south shore beaches closed due to shark sightings - Boston.com Intel Offers Bonuses To Vaccinated Employees But No Mandate: Memo - CRN Jags 53-man roster projection after first preseason game - Jaguars Wire Morning Report: Trent Williams Lands at No. 2 on NFL.com's Latest Ranking - 49ers.com 15 highest-paying certifications for 2021 - TechRepublic Imperva deepens executive bench with two new additions - Help Net Security Q&A: Catherine Dahl, founder of Beanworks, is disrupting the... - Women of Influence Mandy Rennehan, CEO of construction company Freshco, is on a... - Women of Influence Q&A: Colleen Imrie, founder of The Nooks, is reimagining retail... - Women of Influence S&P 500, Dow edge lower ahead of Fed minutes - Reuters Postman Closes $225 Million Series D Round at a $5.6 Billion Valuation to Power the API-First World - Business Wire HP Schedules Two Reinvent Partner Conferences, With In-Person Coming In March - CRN What to know about Jaguars rookie CB Tyson Campbell, 2021 draft class progress in camp - The Florida Times-Union Singapore-based MSP CrossPoint Technology acquires Australia's Avante IT - ARNnet Does a VPN Protect You from Hackers? - The Hacker News Cisco hardware revival is coming at a cost - Light Reading Critical Cisco Bug in Small Business Routers to Remain Unpatched - Threatpost Extreme Networks' Ed Meyercord On Hitting $1B In Revenue And Battling Cisco For Cloud Networking Dominance - CRN What It's Like to Be Acquired by Cisco, Oracle, and Red Hat - Business Insider Zoom Phone Vs Webex Calling: Exploring the Options - UC Today Dow Jones Today, Stocks Stumble As Global Markets Slide: Nvidia, Synopsys, Macy's, Cisco Systems Rally On Earnings - Investor's Business Daily Jarrod Wilson's role in new defensive scheme, special teams will keep him busy for Jaguars - The Florida Times-Union Stocks making the biggest moves midday: Macy's, Nvidia, Robinhood and more - CNBC Douglass defensive back Ty Bryant commits to UK - WKYT Stocks making the biggest moves premarket: Macy's, Kohl's, Tapestry, Petco and others - CNBC Shark sightings lead to closure of Nantucket's entire south shore - The Patriot Ledger Here's the Jags' unofficial depth chart for their second preseason game vs. Saints - Jaguars Wire Microsoft aims Teams Rooms features at hybrid work - TechTarget New Funding Round Could Put Databricks' Value At $38 Billion: Report - CRN A Horse Might Be Your Best Leadership Coach - Real Leaders Bandwidth Ranked Top CPaaS Provider on Omdia's Influential SIP Trunking Scorecard - PR Newswire Cisco Acquires Epsagon for Greater Observability - Container Journal Is Cisco Systems Stock a Buy? - The Motley Fool SDxCentral 2-Minute Weekly Wrap: Cisco Claims Top 10 Software Status - SDxCentral SASE Takes Security and Flexibility to the Edge - SDxCentral Global Unified Communication as a Service (UCaaS) Market Report 2021-2026 Featuring Key Vendors - 88, Cisco, Google, LogMeIn, Microsoft, Mitel, RingCentral, Vonage - GlobeNewswire Jaguars Mailbag: Should the Jaguars Change Their Strategy at OT? - Sports Illustrated The Broadband 50 to Watch - Light Reading Reynen Court lures Wall Street banks, others to legal tech consortium - Reuters T-Mobile slides on security breach; Facebook shares unfazed by new FTC action - S&P Global Morning Report: 49ers Prepare for Preseason Matchup vs. Chargers - 49ers.com Coinbase to Invest 10% of Quarterly Net Income Into Crypto - Yahoo Finance These 15 IT certifications have the best ROI - ZDNet Can anyone tame the identity access beast? Okta aims to try - SiliconANGLE News Amazon Chime Review: Collaborate with Amazon - UC Today Security Think Tank: Data privacy not in isolation, but on a spectrum - ComputerWeekly.com Urban Meyer: Andre Cisco in the Hunt for Starting Spot - Sports Illustrated Island sees little impact from Henri - The Inquirer and Mirror 3 High-Yielding Tech Dividend Stocks Nearing Aristocrat Status - The Motley Fool Terrific 10: See Jacksonville Jaguars players who have stood out in 2021 NFL training camp - The Florida Times-Union Man caught smoking in Orchard Road tells Certis enforcement officer: 'I want to see your badge' - Mothership.sg CISCO CEO Chuck Robbins Wants Security Everywhere, But How Does He Bring it to the World? - Tech Times Readers' Gallery: Tropical Storm Henri - The Inquirer and Mirror Makati taps Cisco in strengthening digitalization in local government - Backend News American-Statesman at 150: Swapping old Austin newspaper tales with eyewitness Sandy Woods - Austin American-Statesman 'You must show your badge', says uncle after getting caught smoking in Orchard Road - The Independent Why Cisco Opted Not to Sell or Spin Off Webex - No Jitter Zero-day vulnerability affects Cisco small business routers - Security Magazine CSCO: Cisco vs. Hewlett Packard Enterprise: Which Communication Equipment Stock is the Better Choice? - StockNews.com Virtualization concepts to study for CCNP and CCIE exams - TechTarget Airtel Partners With Google Cloud & Cisco To Debut ‘Airtel Office Internet’ For Small Businesses - Goodreturns IT companies on Bengaluru’s outer ring road asked to extend WFH till December 2022 - Economic Times Palo Alto Networks Pumps Up Cortex XDR - SDxCentral Palo Alto Networks: We're Not Looking For More Large M&A - CRN LockFile Ransomware Encrypting Domains Via Exchange Hack - CRN Open AFC Group Looks to Facilitate Use of 6 GHz Spectrum to Expand Wi-Fi - Finley Engineering - Finley Engineering Morning Report: SFvsLAC Recap - 49ers.com Yield Guild Games secures $4.6 million in funding to accelerate play-to-earn gaming - Backend News What China's Personal Information Protection Law means for marketers - eMarketer Jaguars vs. Saints: Keys to the Game - Big Cat Country Neat Pad Review: Your Controller for Zoom Rooms - UC Today How Intune fits into the Microsoft Endpoint Manager console - TechTarget 2021 Military & Aerospace Technology Innovators Awards announced for aerospace and defense achievement | Military Aerospace - Military & Aerospace Electronics Guide to Austin's East Sixth Street - Visit Austin Texas Cisco Vs. Amazon Stock: Which Is The Better Buy? - Seeking Alpha Extra Crunch roundup: Zūm CEO interview, Cisco’s M&A ethos, neoinsurance bad romance - TechCrunch Mic'd Up: Kris Kocurek and DJ Jones Bring the Energy at #49ersCamp - 49ers.com Ronald L. Hatfield Obituary (1938 - 2021) Decatur Herald & Review - Legacy.com Morning Report: Shanahan Evaluates Trey Lance's Preseason Performance - 49ers.com CISA’s Joint Cyber Defense Collaborative: Why it just might work - CSO Online Vade Secure To Pay Proofpoint $14M For Trade Secret Theft: Jury - CRN Why are cybercriminals targeting smaller businesses instead? - Tech Wire Asia AWS Sets MSSP Beachhead With New Security Competency - CRN These Companies Say They Support Voting Rights Reform. So Will They Stop Donating to Mitch McConnell Now? - The New Republic Why WAFs Don't Work According to a Hacker - SDxCentral Cloud, Security, Hybrid Working: NextGen 101 Shares Big Growth Drivers - Channel Futures Intel Plants An Infrastructure Flag With Mount Evans - Forbes Zoho Projects Is Turning 15 and It’s More Relevant Than Ever - UC Today Room Remote Comes to Teams Rooms on Android - UC Today Karnataka asks IT firms along Bengaluru’s Outer Ring Road to extend WFH till Dec 2022. Here’s why - The Indian Express Critical Flaw Discovered in Cisco APIC for Switches — Patch Released - The Hacker News A New Crop of Network Tech Is Eroding Cisco's Dominance, Analysts Say - Business Insider Otter.ai can transcribe Microsoft Teams, Google Meet, and Cisco Webex meetings if you're not there - The Verge Comcast Acquires Masergy to Bolster its Enterprise SD-WAN and SASE offerings | eWEEK - eWeek Neighbors frustrated by noisy New Bedford business - WPRI.com Urban Meyer says Jaguars rookie Tyson Campbell needs to start responding to 'snapshot moments' - The Florida Times-Union What Kind Of Skills Do You Need To Have To Pass Cisco 300-410 ENARSI Exam And Get The Appropriate Certification? - WORLDHAB Top EDR Tools 2022 | Endpoint Detection & Response | ITBE - IT Business Edge What Is Shadow IT? Know the Basics! | Mitratech Holdings, Inc - JDSupra - JD Supra IBM Security Expands Zscaler SASE With New Blueprints - SDxCentral DAVID MORRIS Obituary (1960 - 2021) - GENEVA, IL - Daily Herald - Legacy.com Saudi announces $1.2bn tech initiatives, including all-new LEAP and @Hack events - Gulf Business Nvidia Launches AI Enterprise Suite In Exclusive Pact With VMware - CRN Here's The Lineup For The Flash Season 8's Massive Armageddon Event - Looper 10 Top Topics From AWS Summit: Swami Sivasubramanian - CRN Extreme Networks strikes gold at Olympiastadion Berlin as official Wi-Fi solutions provider - ComputerWeekly.com Fitch Downgrades Intrado's IDR to 'B-'; Outlook Stable - Fitch Ratings Alert Logic, CrowdStrike Among MDR Leaders on IDC MarketScape - Channel Futures AT&T Plants 5G on Cisco-Powered IoT Platform - SDxCentral Otter.ai expands automatic transcription assistant to Microsoft Teams, Google Meet and Cisco Webex - TechCrunch How to Get Hired at Cisco and the Questions Job Applicants Must Answer - Business Insider NITI Aayog, Cisco roll out WEPNxt to nurture women entrepreneurship in India - Business Today 7 of the Highest-Paying Dividend Stocks to Buy Before the End of 2021 - InvestorPlace Morning Report: Kyle Shanahan Reviews Decision for Starting QB Week 1 - 49ers.com New Bedford, Fall River summer foods to try like ice cream and lobster - SouthCoastToday.com Gefilte fish isn't just for Jews: The Passover staple is a great daily snack - Salon As cloud adoption in APAC increases, which strategy works best? - Tech Wire Asia Here's the Jags' unofficial depth chart for their third preseason game vs. the Cowboys - Jaguars Wire Managing license compliance with Black Duck SCA - Security Boulevard 5 Restaurant Tech Headaches and How to Solve Them (On Your Own) - FSR magazine VMware Subscription, SaaS Revenue Soars 23% to $776M - SDxCentral 49ers Announce Multi-Brand Partnership with the Clorox Company - 49ers.com Today's Beach Report: Five beaches open, but be on the lookout for jellyfish - The Inquirer and Mirror Four EZ Payments stays true to its bluegrass roots - The Inquirer and Mirror Could Facebook's Horizon Workrooms Make It Zoom's Biggest Competitor? - The Motley Fool How to Sign Up for Today at Apple Sessions - The Mac Observer Samsung Boosts Foundry Operations, TSMC Jacks Prices - SDxCentral Dollar General says it's completed phase one of its DG Fresh overhaul - Business Insider Is It Safe to Sell My Old Modem or Router? - How-To Geek The optical transceiver market is expected to grow from USD 7.0 billion in 2021 and is projected to reach USD 14.3 billion by 2026; it is expected to grow at a CAGR of 15.2% - GlobeNewswire Former Cisco Executive Sentenced To 36 Months In Prison For Fraud Scheme And Filing False Tax Returns - Department of Justice Cisco says it will not release software update for critical 0-day in EOL VPN routers - ZDNet Cisco has yet to deliver on BLM racial justice pledge - Business Insider Zen gains Cisco SD-WAN accreditation - ComputerWeekly.com AT&T teams with Cisco to boost enterprise-based IoT - ComputerWeekly.com Some residents living across from Cisco Brewers in New Bedford frustrated over noise - Turn to 10 WEP Nxt: NITI Aayog, Cisco partner to support women entrepreneurs in India - Jagran Josh Ex-American Legion baseball players for Ballinger's Post 8 Cannoneers making impacts in college - Standard-Times Seen on the Scene: Freeze Out ALZ - The Inquirer and Mirror Nokia pauses 5G project due to fear of US penalties - POLITICO Europe T-Mobile CEO Apologizes, Pledges Security Improvements - SDxCentral Morning Report: Trey Sermon Recounts Playing in First Preseason Game - 49ers.com Best Network Virtualization Software & Products 2022 | ENP - EnterpriseNetworkingPlanet Genesys Ranked First for 2020 Market Share in Contact Center Applications Software - PR Newswire Samsung’s mammoth investment plans include 5G/6G - TelecomTV Hiring frenzy among tech companies features salaries $100K to $250K - Ladders McLaren Racing pursues car build efficiency with Alteryx - ComputerWeekly.com Fed Chair Jay Powell fears disinflation, not inflation - Quartz Public service goes digital in Makati - INQUIRER.net Indonesia to be Asia-Pacific’s fastest-growing IT market: Report - The Jakarta Post - The Jakarta Post Ex-sheriff resigns from Georgia watchdog org after KKK photo surfaces - Business Insider Cisco partners with the Saudi cybersecurity institution to enhance digital skills in the kingdom - Gulf Business Zscaler, Palo Alto Networks, VMware Among ZTNA Leaders, Forrester Says - SDxCentral Who are the bubble players to watch on the Jags' roster vs. Cowboys? - Jaguars Wire More Than Anything Else, Cost Per Bit Drives Datacenter Ethernet - The Next Platform Check Point To Acquire Email Security Startup Avanan - CRN Lompoc Theatre Project: Food Truck Friday fundraiser carries on; theater gifted adjoining lot - Santa Maria Times NoCap Digital Events Platform Hires Brandon Frankel as Head of Partnerships - Billboard Baylor Football Season Mega-Preview - Our Daily Bears Cradlepoint Adds 5G Modems to Enterprise Routers - SDxCentral Voice Calling for Microsoft Teams: What You Need to Know - No Jitter Microsoft 365’s new security model: How to use phishing simulations and security mailboxes - TechRepublic Predicting the Jaguars’ 53-man roster ahead of final NFL cuts - Big Cat Country Zoom's tepid growth forecast takes shine off billion-dollar quarter - Reuters Smart Transportation Market to Reach USD 206.80 Billion with 11.1% CAGR by 2028; Surging Demand for Advanced Travelling Facilities to Aid Growth: Fortune Business Insights - GlobeNewswire The Apache Drill Project Announces Apache® Drill(TM) v1.19 Milestone Release - GlobeNewswire Your Employees Are Your Best Defense Against Cyberattacks - HBR.org Daily What is XaaS and how is it changing the face of IT and business? (Reader Forum) - RCR Wireless News Looking For An Idyllic Autumn Getaway? Give Nantucket A Try - Forbes Compliance vs. Security in Enterprise Networking: the Cisco Approach | eWEEK - eWeek Jaguars preseason: Andre Cisco has highest rookie safety grade - Jaguars Wire Former Cisco exec jailed for fraud, dodging taxes - The Register Lawrence, Cisco and Jaguars' Offense Lead Respective PFF and NFL Categories After Preseason - Sports Illustrated Zoom's pandemic boom cools — but the company is building a powerful platform to battle Microsoft and Cisco - MarketWatch Jaguars safety gamble: Jarrod Wilson cut, but Urban Meyer said door is open - The Florida Times-Union Proxyware Services Open Orgs to Abuse – Report - Threatpost Hyper-converged market shifts with IT trends - TechTarget Italy Data Center Market Report 2021: Investments will Amount to $2.6 Billion to 2026 - Vendors Such as Atos, Cisco, HPE, DELL, Nutanix, and NetApp have Substantial Market Share - GlobeNewswire The Tech Bubble Then And Now - Crescat Capital - ValueWalk Rattle raises $2.8M from Lightspeed and Sequoia to modernize enterprise sales stack - TechCrunch Packers-Saints game site uncertain, New Orleans, Dallas ruled out - Green Bay Press Gazette WireGuard VPN Gets Port to Windows Kernel but Don't Run Out to Replace IPsec or OpenVPN - Petri.com NVDA Is on the Verge of Extended Disappointment - InvestorPlace The New Normal: Hybrid Work Means Greater Focus On Endpoint Security - Forbes Trill Williams is 1 of 8 former Syracuse players to make a 53-man NFL roster; four don’t make final cut - syracuse.com Which Triangle employers are requiring employees to be vaccinated? Well, it depends. - Raleigh News & Observer Vonage CEO on Growth and Future Plans - UC Today Google Extends Work-From-Home Into 2022 As COVID-19 Cases Rise - CRN Security Conclave 2021 – the hybrid event witnessed grand success with 250+ regional security leaders - Gulf News Why NFT is not just another bubble, but a new stage of evolution - Emerging Europe Position-by-Position Breakdown of the 49ers Initial 2021 53-man Roster - 49ers.com QNAP Is Latest to Get Dinged by OpenSSL Bugs Fallout - Threatpost QUALCOMM Incorporated (QCOM) Ex-Dividend Date Scheduled for September 01, 2021 - Nasdaq Cisco Completes Acquisition of Acacia Communications, Inc. - PR Newswire Cisco Appoints Marianna Tessel to its Board of Directors - PR Newswire Cisco Needs New Management, Conclusions Of A Shareholder - Seeking Alpha Cisco Executive Leadership: Three Major Promotions Unveiled On International Women's Day - CRN Is Your C-Suite Equipped to Lead a Digital Transformation? - HBR.org Daily China Development Forum scheduled for later this month with largest foreign attendance - Global Times Tim Cook will attend the 2021 China Development Forum alongside Elon Musk - iMore Pass the American Dream and Promise Act to legalize young immigrants - USA TODAY Cisco CEO says the U.S. and China should find ways to co-exist - CNBC Cisco Introduces New Way to Buy Network Infrastructure | eWEEK - eWeek Why Not Networking As A Service? But How? - The Next Platform Cisco Unveils Crucial New Innovations to Power an Inclusive Future for All at Cisco Live! - PR Newswire Cisco CEO Expects Chip Shortage to Last Longer than a Year - Tom's Hardware Cisco Live 2021: 5 Bold Statements We Heard From Cisco Leaders - CRN Cisco Webex To 'Regain Market Share' Vs. Zoom Post-Pandemic, Execs Say - CRN Major U.S. companies take aim at Georgia's new voting restrictions - CNBC All the CEOs that have spoken out against Georgia's new voting restrictions - Axios Cisco Plus Offers 'Turnkey' As-A-Service Solutions, Not Pieces, Say Execs - CRN Summarizing Major News Items from Cisco Live 2021 | eWEEK - eWeek Partners Praise Cisco DevNet Certification Program As DevOps 'Crashes' Into Daily IT Tasks - CRN Cisco's CEO: Tech can help businesses achieve ‘virtually anything’ - ITWeb Cisco Becomes an Official Technology Partner of the National Football League - PR Newswire Global Citizen Announces \"VAX LIVE: The Concert To Reunite The World\" Hosted By Selena Gomez - PR Newswire Cisco's CDA Program is a Multinational Game Changer - IT Business Edge Cisco Commits $100 Million to Help Address Climate Crisis - PR Newswire John Chambers: HPE Works With Startups 'Better Than Any Other Company' - CRN Cisco CEO Chuck Robbins: Moving To The Cloud Alone Isn't A Security Cure-All - CRN Passion And Compassion Drive Cisco's Culture - Forbes Chuck Robbins: Cisco Webex Will Strike The Balance Between Security, Ease Of Use - CRN Cisco CEO: Chip shortages will likely last for another six months - Business Insider The Future of Work, Phase Two - CIO Cisco & The Coca-Cola Foundation Hear Selena Gomez's Call for COVID-19 Action - Global Citizen Cisco CEO – Global chip shortage to last for most of this year - TechHQ Cisco Closes Slido Deal For 'Inclusive' Webex Meetings - CRN Cisco India President Sameer Garde steps down - Business Today The pandemic pressed pause on A.I. investment - Fortune Biden tax hikes could hammer 5 tech stocks that have surged by $5 trillion in value: Goldman - Yahoo Finance Dell CEO expects chip shortage to last for \"a few years\" - IT PRO Cisco India earmarks Rs 63.5 cr to provide financial support to staff - Business Standard Cisco bolsters CSP portfolio with Sedona Systems acquisition - TechTarget VMware Names COO Raghu Raghuram Its New CEO | eWEEK - eWeek Cisco Scoops Up Kenna Security - SDxCentral Why VMware Tapped a Technologist as Its Next CEO - SDxCentral With Flurry Of Acquisitions, Cisco Systems Strives To Grow At 5% - Forbes Cisco CEO Addresses World's Largest Cybersecurity Conference: \"Security Must Be Simple, Intelligent and Everywhere\" - Canada NewsWire Cisco on Startup Acquisitions, Kenna Purchase, Microsoft Competition - Business Insider Cisco CEO: There's no enterprise perimeter to defend anymore - Network World Cisco's Maria Poveromo Assumes Chief Communications Officer Role - PRovoke Media Cisco acquires Kenna Security amid security expansion - ComputerWeekly.com Cisco Blames Backlog, Revenue Slack on Supply Chain - SDxCentral Demand for Cisco products rises during pandemic recovery - TechTarget Chip shortage slows production at Nissan and Suzuki - IT PRO Chip Shortage Fix Remains Years Away - SDxCentral George Floyd died one year ago. When does change = progress? - POLITICO Corporate America got more 'woke.' Will it last? - POLITICO Rich Robbins steps down as Canisius High football coach - Buffalo News Cisco unveils innovations that simplify security across devices, networks, applications - Backend News Better Buy: Cisco or All 30 Dow Jones Stocks? - The Motley Fool Japan funds $338 million TSMC chip development project - IT PRO Brazilian delegation to visit US for private networks study - Capacity Media Measuring return-on-leadership - Fortune Opinion: We must fight off post-pandemic tidal wave of homelessness - The Mercury News Coupang Founder Bom Kim Joins CEOs of Starbucks, P&G, Mastercard, IBM, Cisco and Airbnb at FORTUNE Global Forum - Business Wire MTN, Airtel and Glo ordered to suspend Twitter in Nigeria - Capacity Media Cisco CEO Chuck Robbins: Empathy is not a trend - Fortune ‘You have to be prepared’: How the CEOs of Chevron, Nasdaq, Cisco, and Flex dealt with the pandemic - Fortune Junior golf: Carmel graduate wins Dye Junior Invitational - IndyStar Cisco Rebrands Webex, Aligns It With Company Mission - No Jitter Top takeaways from Fortune’s biggest annual gathering of CEOs - Fortune Cisco bolsters Webex for the hybrid workforce - IT PRO Using AI To Supercharge ESG And CSR Strategies - TechSpective New Cisco center in RTP highlights solutions to expand broadband access - Triangle Business Journal - The Business Journals Can Cisco reinvent Webex to become the verb for hybrid working? - Diginomica Need New UC&C Equipment? Not So Fast - No Jitter Michelle Ragusa-McBain Rejoins Cisco for XaaS, MSP Partner Push - ChannelE2E The move to hybrid work, permanently - TechRepublic What's AWS Conveying With Its Acquisition of Wickr? - No Jitter Microsoft general counsel Dev Stahlkopf jumps to Cisco - Reuters Charles Raymond Alton, Jr. – Oswego County Today - Oswego Daily News Cisco hires Microsoft's general counsel as CLO - Corporate Secretary The promise of the digital world: inclusive, sustainable, secure - POLITICO Europe ‘Global Citizen Live’ Full Lineup Announced: Massive 24-Hour Worldwide Broadcast With Lorde, Metallica, Billie Eilish, The Weeknd, BTS And More – Updated - Deadline How Cisco is executing a four-pronged approach to trans-Tasman partner growth - ARNnet A Patek Philippe here, a Rolex there, or else a simple Casio at the Sun Valley Conference 2021 - Moneycontrol Zoom is buying cloud contact center provider Five9 for $14.7 billion - CNBC Intel rumoured to be considering $30bn purchase of GlobalFoundries - www.channelweb.co.uk The 10 Biggest Cisco News Stories Of 2021 (So Far) - CRN Cisco's 2020 diversity report looks at workforce, leadership progress - Silicon Valley Business Journal - The Business Journals Nabiax seals Spanish data centre buys and expands others - Capacity Media Cisco Top Salaries: How Much Cisco Pays Execs, VPs, Directors - Business Insider Clark County Sheriff Chuck Atkins says House Bill 1310 carries risks - The Columbian A deep-dive explanation of Cisco's CCNA certification - Reseller News Intel warns global chip shortage could last until 2023 - IT PRO IBM Launches Turnium's Containerized SD-WAN Into Cloud - SDxCentral Dollar General's Popshelf concept draws notice ahead of store expansion - Seeking Alpha How Cisco Decided Employees Don't Have to Return to Offices - Business Insider Still more upside to Cisco Systems, this investor says - Cantech Letter Chip shortage has networking vendors scrambling - Network World Cisco Opts Out of Return to Office in Favor of Individuals and Teams Choosing How Cisco Works - CIO Cisco Cloud Stack Rumor vs Cisco Plus As-a-Service Reality - ChannelE2E Highest Paid CEOs At America’s Largest Companies - 24/7 Wall St. Dividend Sleuthing: Cisco Systems - Seeking Alpha Briggs claims All-City golf title - Monmouth Daily Review Atlas Global Citizen Live: Here's Who's Performing in Lagos, Paris, and NYC to Defend the Planet and Defeat Poverty - Global Citizen Cisco Employees Brace for Layoffs Expected in Coming Months - Business Insider Clark County sheriff's Deputy David Shook running to succeed retiring Chuck Atkins - The Columbian Cisco plants Midwest stakes in Chicago’s Old Post Office - The Real Deal Amazon, Google, Alibaba Drive Data Center Market to the Edge - SDxCentral Yosemite Legend Royal Robbins on the FA of El Cap's North America Wall - Climbing Magazine Cisco Systems, Inc. (CSCO) CEO Chuck Robbins on Q4 2021 Results - Earnings Call Transcript - Seeking Alpha How Cisco CEO Chuck Robbins Plans to Win the Next Big Cloud Transition - Business Insider Is Cisco Systems Stock a Buy? - The Motley Fool CISCO CEO Chuck Robbins Wants Security Everywhere, But How Does He Bring it to the World? - Tech Times Cisco Vs. Amazon Stock: Which Is The Better Buy? - Seeking Alpha A New Crop of Network Tech Is Eroding Cisco's Dominance, Analysts Say - Business Insider VMware Subscription, SaaS Revenue Soars 23% to $776M - SDxCentral Cisco has yet to deliver on BLM racial justice pledge - Business Insider How this fintech startup is providing India’s blue-collar workers with access to credit - YourStory Citi Taps Sandeep Arora to Lead Digital, Investing Strategies for ICG - Business Insider Citi promotes markets FinTech head to digitise institutional client services business - The TRADE News JP Morgan executes first electronic total return swap on Tradeweb SEF - The TRADE News Pharma industry warns of Covid drug shortages as raw materials prices surge 200% - ThePrint ‘Hair fall or excessive hair shedding is a pandemic in a pandemic’ - CitySpidey.com Arjun Kapoor's furry friend Max joins him to watch Sandeep Aur Pinky Faraar; GF Malaika Arora has THIS to say - PINKVILLA Shirtless Arjun Kapoor Watches Sandeep Aur Pinky Faraar With His Pet Dog Max; GF Malaika Arora Finds It Too Cute- VIDEO - SpotboyE [Funding alert] Bueno Finance raises $3M in seed round led by Goat Capital and JAM Fund - YourStory Fintech startup Bueno Finance raises $3 million as seed funding - Economic Times Indian FinTech Bueno Finance raises $3 million in seed funding - IBS Intelligence Faridkot administration bans spray on jamun trees - The Tribune India Arjun Kapoor models for girlfriend Malaika Arora, says she makes him 'look good'. See here - Hindustan Times North America's best digital bank 2021: Citi - Euromoney magazine India's BlueTribe Launches Vegan Dishes in the Cities Famous For Chicken Tikka, Butter Chicken & Mutton Champ - vegconomist - the vegan business magazine - vegconomist - the vegan business magazine Kalinga University celebrates World Tribal Day - The Hitavada First TULSA Procedure Performed at Yale New Haven Hospital - Yale School of Medicine Celebrate Festivals in Style! Samsung Brings a Unique Loyalty Program 'Samsung Home' on Flipkart to Reward Samsung Fans - Samsung The Next Big Thing in UCaaS: You! - No Jitter Scientologist Execs at Media Company Made Workers' Lives a Living Hell - The Daily Beast Cisco Brings Real-Time Translation to Webex - UC Today Does this Make Sense? Gasoline Delivered to Your Car - Scientific American Ingram Micro Cloud welcomes Cisco remote work solutions to its marketplace - ARNnet Extended federal benefits end for some jobless residents - The State Journal-Register Global UC Overhaul Sees Amgen Through Crisis - No Jitter Flexible Workplace Strategies: Balancing Business and Employee Needs - SaportaReport Software giant adds mental health day to ease COVID-related stress - Human Resource Executive® Technology to Power an Inclusive Recovery - CIO News briefs: Koch Industries picks Alkira, Palo Alto - TechTarget How Big Tech Is Importing India's Caste Legacy to Silicon Valley - Bloomberg The pandemic forced a massive remote-work experiment. Now comes the hard part - CNN APAC is in need for more cybersecurity experts - Tech Wire Asia Cisco, Intel, Juniper all say they won't require employees to get Covid vaccines, following similar plans from Facebook, Google - Silicon Valley Business Journal - The Business Journals COVID-19 may have changed the way we work, permanently - Northeastern University Workers want to go back to offices to see work friends, survey finds - Business Insider Pushing Away Traditional 9-5 Offices, Cisco Keeps Remote Workers Connected Securely - Vulcan Post Michael Dell: 'Yes, Remote Working Is Absolutely Here To Stay' - CRN Healthy Office Space - Business Today What to expect at Cisco Live 2021: Future of work, networks - TechTarget Cisco Joins Forces with NHS East London - UC Today Microsoft To Allow More Workers At HQ, Puts 'Hybrid Workplace Into Practice' - CRN Silicon Valley firms in no hurry to open up offices despite easing of virus ban - Reuters Google extends Cisco networking relationship with cloud-based network management - IT PRO Silicon Valley giants to keep working from home despite lifted ban | Daily Sabah - Daily Sabah Gartner: Spending on social and collaboration software booms as remote work takes hold - Computerworld Apple Faces Indian Engineer’s Bias Lawsuit Over Her Hindu Ancestry In Pakistan’s Sindh Region | Mint - Mint Are disrupted employees a new cybersecurity threat? - Security Magazine Cisco Shapes the Future of Work with New Solutions Enabling Trusted Workplaces and Safe Return to Office - PR Newswire Cisco Opens German Datacentre to Support Webex - UC Today Apple faces Silicon Valley's second South Asian bias lawsuit - newsindiatimes.com Three-quarters of employees feel worse from remote working - ComputerWeekly.com Comcast Gets SASE With Palo Alto Networks - SDxCentral Cisco Live 2021: What to Expect at the Virtual Event - BizTech Magazine Amazon sends employees into social media battle as company ambassadors - Business Insider Cisco Webex People Insights Will Boost Well-being, Inclusivity, Says Execs - CRN Cisco Live 2021: 5 Bold Statements We Heard From Cisco Leaders - CRN Cisco Enlists Networking Automation, CX Cloud in COVID-19 Response - IoT World Today Silicon Valley is starting to bring workers back to the office - CNN Amazon US office workers will return to office by fall - Business Insider Battle for Telcos: Next Phase in War for Global UCaaS Domination - No Jitter IBM CEO: Hybrid remote work model for 80% of employees post-pandemic - Business Insider Cisco adds 'People Insights' analytics to Webex - Computerworld Cisco Retools Webex, Is Ready to Fight Back - No Jitter Starting a career in the digital economy - ComputerWeekly.com Cisco integrates ThousandEyes with AppDynamics, Catalyst - TechTarget These are top 5 announcements from Cisco Live - and what they mean to customers - SiliconANGLE News Why LinkedIn is giving its workers a week off to help with burnout - Human Resource Executive® I believe with certainty that the future of work is hybrid: Cisco’s Jeetu Patel - People Matters How Amazon tracks workers, from cameras to a spy agency - Business Insider Keeping tabs on employees in the hybrid workplace - TechTarget Summarizing Major News Items from Cisco Live 2021 | eWEEK - eWeek 26% US workers plan new job hunt after COVID-19 pandemic: survey - Business Insider Taco Bell, McDonalds struggle to find people to fill thousands of jobs - Business Insider Cisco Live: Foretelling the Future | No Jitter - No Jitter JPMorgan Chase CEO Jamie Dimon annual letter: How Wall Street will remote work, for better or worse - CNBC JPMorgan CEO Jamie Dimon shares his thoughts on remote work - Quartz 3,215 Amazon employees cast ballots in Bessemer union vote - Business Insider 6 New And Useful Cisco Webex Features For 2021 - CRN Arista simplifies network management in latest CloudVision - TechTarget Three recommendations to secure a hybrid workforce - FedScoop Cisco, NEC advance 5G IP transport networks deployment - ComputerWeekly.com Wealthy American businesses have stripped away workers' rights - Business Insider Cisco, Salesforce, Intuit, Nvidia among top companies in Fortune's 2021 Best Places to Work list - Silicon Valley Business Journal - The Business Journals Collaboration analytics: Yes, you can track employees. Should you? - Computerworld Why Amazon workers voted no to joining a union - Fortune Worldwide Scalable Software Defined Networking Industry to 2026 - Rising Adoption of Cloud is Driving Growth - ResearchAndMarkets.com - Business Wire Bay Area's Cisco, Salesforce top list of Fortune's best companies to work for - KTVU FOX 2 San Francisco Remembering CWA 3808 union president killed in Lebanon shooting - Tennessean West Virginia will offer remote workers $12,000 to relocate - Business Insider How Companies Will Manage Onsite Employees in a Hybrid Work Environment - BizTech Magazine Cisco's pandemic response earns company top spot on Fortune's best companies list - HR Dive Transcript: Diversity in the Workplace: The New Multigenerational Workforce - The Washington Post Cisco (AppDynamics) Named a Leader for Ninth Time in 2021 Gartner Magic Quadrant for Application Performance Monitoring - Business Wire To retain workers, Walmart moves more of them full time - Business Insider Some companies are paying over $7000 to make sure workers take a vacation - Ladders UK employees’ adaptation to Covid workplace creates digital transformation dilemma - ComputerWeekly.com Alphabet Workers’ Union supports lawsuit against Cisco in caste discrimination - The News Minute Jeff Bezos defends Amazon worker conditions in 2020 shareholder letter - Business Insider Analysis | The Technology 202: The tech industry is fighting a bill making it easier for its workers to organize - The Washington Post 4 reasons why unemployed workers aren't returning to the labor force - Business Insider Oracle plans to bring 8,500 jobs, $1.2 billion campus to Nashville - Ladders McDonald's, Subway struggle to find workers, forcing changes - Business Insider Laid-off CA hospitality workers get priority jobs access: new law - Business Insider Water-authority network upgrade spots problems faster - Network World Silicon Valley's remote workers are adding fuel to Hawaii's hot real estate market - Hawaii News Now 49% of remote workers would rather clean their toilet than open more emails - TechRepublic 15 Cool Office And Home Printers To Know In 2021 - CRN Passion And Compassion Drive Cisco's Culture - Forbes Apple, Intel, Cisco all offering on-site Covid vaccines to employees - Silicon Valley Business Journal - The Business Journals Apple employees to get COVID-19 vaccinations at work - Business Insider McDonald's Taco Bell and Chipotle offering benefits to hire workers - Business Insider Paying workers higher wages can solve the labor shortage - Business Insider WFH means longer hours, fewer bonuses. 4 key takeaways from a major report - Business Insider The Future of Work, Phase Two - CIO Entertainment Complex brewers Cisco Black Whale owner hiring people - SouthCoastToday.com Looking to level up? Amazon, Google, Microsoft and more offer training programs - USA TODAY JLL assures better office experience for hybrid workforce - ComputerWeekly.com Cisco & The Coca-Cola Foundation Hear Selena Gomez's Call for COVID-19 Action - Global Citizen Randstad US's TRANSCEND Program Announces First National Private-Nonprofit Partnership Focused on Skilling with Cisco, TechBridge and Urban Strategies - PR Newswire We'd love to speak to frontline healthcare workers - Business Insider Microsoft patents biometric 'wellness insights' tool for workers - Computerworld JPMorgan Requires Employees To Return To Their Offices By July, Striking A Blow To The Remote-Work Trend - Forbes Cisco Foundation Commits $100 Million for Climate Projects and Technology - The Chronicle of Philanthropy These 20 companies are hiring for employees looking to work from home indefinitely - Employee Benefit News Remote Work Provides More Opportunities for Job Seekers Who Are Blind - SHRM The top 25 companies to work for in America of 2021, according to LinkedIn - CNBC Cisco Plus: Accelerating Your Business Outcomes with As-a-service - CIO Advice on intent-based networking and Python automation - TechTarget Bezos says 94% of Amazon employees recommend it. Workers call BS. - Ladders Starbucks employees say they are under understaffed and underpaid - Business Insider Navigating the sticky issue of monitoring employee productivity - ComputerWeekly.com Low-wage workers, mothers of color more impacted by pandemic: Powell - Business Insider Cisco Completes Acquisition of Slido - UC Today Cisco adds to its Catalyst software stack for back-to-work safety - Network World Ericsson to launch subscription service for remote office - Reuters Cisco India President Sameer Garde quits - Economic Times The Power and Pitfalls of Gamification - WIRED What Is SD-WAN? Why It's the Future of Enterprise WAN - G2 How Google, Apple, Facebook, and other business giants are reopening offices - Ladders How the Star-Studded VAX Live Concert with 27000 Frontline Workers in the Audience Was Pulled Off - PEOPLE McDonald's workers striking for higher wages shareholders meeting - Business Insider U.S. Civil Rights Agency Urged to Recognize Caste Bias (1) - Bloomberg Law Blind raises $37M to double down on workplace gossip and career advice - TechCrunch Changi Airport COVID-19 cluster grows after Certis Cisco officer, Raffles Medical employee test positive - CNA Chipotle Mexican Grill to Raise Wages to an Average of $15 an Hour - Business Insider 7 Apple suppliers tied to using forced labor in China: Report - Business Insider Changi Airport cluster grows after Raffles Medical employee, Certis Cisco officer test positive for Covid-19 - AsiaOne Cisco joins Randstad to provide tech training to the underrepresented - HR Dive Cisco to buy Israeli startup Sedona for reported $100 million - The Times of Israel New Jersey Hindu Temple Allegedly Forced Laborers To Work For $1.20 Per Hour - Forbes Report: Almost half of small businesses are struggling to hire workers - Business Insider Subway hiring 40,000 workers in retail labor shortage - Business Insider Back to work plans? Google reverses course and other updates re: returning to the office - Cupertino Today Cisco bolsters CSP portfolio with Sedona Systems acquisition - TechTarget Retail workers are leaving the industry over nightmare customers and low pay - Business Insider WeWork CEO: 'least engaged' workers comfortable working from home - Business Insider Why California's Lawsuit Against Cisco Uniquely Endangers Hindus & Indians - India Currents Cisco Acquires Hybrid Event Platform - UC Today Amazon is hiring 75,000 workers with $1,000 signing bonuses - Business Insider Amazon's high pay may choke restaurant industry comeback - Business Insider McDonald's raises minimum wage, aims for eventual average $15 per hour - Business Insider Insider's top healthcare stories for May 13 - Business Insider Cisco strikes again grabbing threat assessment tool Kenna Security as third acquisition this week - TechCrunch Calls to tackle caste-based discrimination in US gather steam - Al Jazeera English Amazon, McDonald's, and other retail giants are boosting wages - Business Insider Cisco's latest acquisition spree nabs three companies - TechTarget CDC mask guidance slammed by leading union as 'confusing' - Business Insider One in Three U.S. Workers Changed or Lost Jobs in Past Year - Bloomberg H-1B: Google leads tech giants in foreign-worker court fight - The Mercury News White House union task force blasts lower wages from anti-union trends - Business Insider With Flurry Of Acquisitions, Cisco Systems Strives To Grow At 5% - Forbes Why does the Hindu American Foundation obfuscate caste reality? - EastMojo Cisco Systems Envisions the Future of Voice Calling | eWEEK - eWeek How Cisco’s Licensing Changes Present an Opportunity - UC Today Workers would pay a ridiculous amount of money to go back to an office - Ladders The right tech choices for hybrid workers - ComputerWeekly.com Starbucks lifts mask mandates and workers are divided - Business Insider IoT helps make return-to-work safer - Network World Younger workers might benefit from social perks of being in an office - Business Insider 5 types of pay cuts, when they’re legal and when they’re a good thing - Ladders Cisco (CSCO) Shares Slip on Forecast for Higher Costs to Erode Profit - Bloomberg Companies Are Battling Burnout By Giving Employees More Vacation Days—But Will They Take Them? - Forbes Cisco shares lessons learned in zero-trust deployment - TechTarget Under Armour to raise minimum wage in US, Canadian to attract workers - Business Insider Amazon will end mask requirement for vaccinated employees - Business Insider Amazon faces 5 discrimination and retaliation lawsuits from employees - Business Insider Investment fund and outcomes-as-a-service firm help cities build smart infrastructure despite tight budgets - TechRepublic Cisco is giving $150 million to Student Freedom Initiative - Fast Company Demand for Cisco products rises during pandemic recovery - TechTarget Workrise, once known as RigUp, raises $300M at a $2.9B valuation - TechCrunch Ice cream shop doubled pay to $15, flooded with applications - Business Insider Swaminarayan Temple raid shows US has to reckon with caste discrimination imported from India - ThePrint Workers spend a ridiculous amount of time looking for files and it's killing productivity - Ladders Only about one in 28 unemployed people actually turned down jobs to stay on expanded unemployment, Fed stud... - Business Insider How noncompete agreements hurt minimum wage workers - Business Insider All of the states offering workers cash incentives to get back to work - Business Insider The Latest Picks And Pans From Barron's: AT&T, Bitcoin, Cisco Systems, Kohl's And More - Yahoo Finance How to help your employees happier and thrive at work - Business Insider The future of BYOD: Trends and predictions - TechTarget Biden to offer flexible working long-term to more federal employees: WaPo - Business Insider Getting ready for the new normal of hybrid working - ComputerWeekly.com The Pandemic’s Impact on Working Mothers - HR News Opinion | Why Is Caste Inequality Still Legal in America? - The New York Times Amazon is establishing a new minimum wage in America - Business Insider Cisco unveils innovations that simplify security across devices, networks, applications - Backend News Amazon workers ask Bezos, Jassy to support Palestinians - Business Insider Amazon workers petition company to reduce warehouse pollution - Business Insider Walmart workers reveal what it's like to work at the largest retailer - Business Insider Starbucks staff feel like 'robots' because of complex TikTok orders: report - Business Insider CEO pay soared 16% in 2020 while worker pay grew just 1.8%: study - Business Insider Amazon is installing tiny 'AmaZen' booths help employees' mental health - Business Insider It's worse than you thought: What people are really doing on the remote work clock - Ladders Why it's so hard to fill retail positions, according to Best Buy's CEO - Business Insider NYC restaurants may take months to find enough staff: Shake Shack founder - Business Insider Dozens of employees sue Houston Methodist over vaccine mandate - Business Insider Colleges addressing the 'chasm' between engineers and business employees - Business Insider Nearly half of restaurant owners struggling to pay rent: poll - Business Insider Top business stories: Culture of fear at Oracle Cloud - Business Insider America's not ready to rethink work, which explains the labor shortage - Business Insider From Appalachian cities to hollers, community health workers are a ‘course correction to inclusion’ - PublicSource This Cisco VP Led A Global Team Of 2000 From A Travel Trailer. Here's What She Learned. - Forbes Burnout is continuing to rise; is HR doing enough? - Human Resource Executive® Hybrid models could result in lawsuits for companies, economist argues - Business Insider Amazon warehouse workers face more injuries than competitors: Report - Business Insider Activists pressure Walmart to add employee reps to board of directors - Business Insider Biden takes a stand on worker classification - POLITICO The 25 Top Solution Provider Companies: 2021 Solution Provider 500 - CRN Dubber as a standard feature of Cisco Webex Calling and UCM Cloud - PR Newswire 40% of workers may quit if made to return to office full time: survey - Business Insider Amazon changes 'Time off Task' productivity metric, which workers fear - Business Insider US labor shortage a 'national economic emergency,' getting worse: Chamber - Business Insider US labor shortage is forcing companies to drain their inventories - Quartz Walmart workers are divided on the retailer's new mask policy - Business Insider Facebook workers demand review of pro-Palestinian content moderation: FT - Business Insider It's time to learn if new Nafta really protects workers - Quartz Businesses Refocus Attention to Onsite Office Networks - BizTech Magazine Delaware Man Sentenced to Over Seven Years for Defrauding Cisco Systems, Microsoft, Lenovo, and APC Out of More than $3.5 million in Computer Hardware - Department of Justice Tim Cook tells Apple employees when and how they'll return to the office in post-pandemic world - Silicon Valley Business Journal - The Business Journals Walmart gives out thousands of Samsung smartphones to workers - Business Insider Amazon gets rid of marijuana testing for some employees - Business Insider Corporate Meeting Recordings Will Continue Increasing as Workers Return to the Office - Business Wire A guide for how employers can better support Gen Z workers right now - Business Insider Uber, Lyft, Doordash legalized racial bias with Prop 22: study - Business Insider Top Tech Job Opportunities You Should Know About | ITBE - IT Business Edge Silicon Valley companies find skepticism and hope as they explore office reopenings - Silicon Valley Business Journal - The Business Journals Cisco readies portfolio for hybrid cloud, modern data centers - TechTarget Labor shortage: 4 in 5 local pharmacies can't find workers, NCPA says - Business Insider Federal Reserve: labor shortage could last months, firms cutting production - Business Insider Wages rising at fastest rate since 1980s as businesses rush to rehire - Business Insider Law firms offer $164K bonuses, extra vacation to retain workers - Business Insider The best leaders will be leaders who are closest to their teams: Cisco’s Chief People, Policy & Purpose Officer - People Matters Tech companies made big pledges to fight racism last year — here's how they're doing so far - CNBC Apple staff revolt against CEO Tim Cook's order to return to office - Business Insider Employee Experience - An integral part of an employee's journey - People Matters Labor shortage: Teen employment soars as employers nab young workers - Business Insider Levi's CEO says Amazon's wages are forcing him to rethink worker pay - Business Insider Labor shortage: caterers and bars losing to coffee shops - Business Insider A Jersey Mike's is offering a hiring bonus of up to $10,000 - Business Insider Poka Closes $25M Series B Round to Connect and Empower Frontline Factory Workers Across Global Manufacturers - Business Wire Is the cult of Mac drying up? Apple confronts antagonists - Ladders Labor shortage: why states like Maine, Utah, Dakotas are hardest hit - Business Insider Cisco CEO Chuck Robbins: Empathy is not a trend - Fortune Cisco Rebrands Webex, Aligns It With Company Mission - No Jitter Fighting Backlash to Racial Equity Efforts - MIT Sloan American Airlines asked its corporate workers to volunteer at airport - Business Insider Can employees use legal marijuana while at work — remote and at the office? - Ladders $15 Minimum Wage Would Raise Prices, Cost Jobs: Former McDonald's CEO - Business Insider Gap asks shoppers to act, as abuse against store workers of color rises - Business Insider China's tech staff work punishing hours under extreme surveillance - Insider The role of an EXP in fostering employee well being - People Matters Cisco reveals new Webex to power ‘inclusive’ future of work - ComputerWeekly.com IBM Employees To Begin Returning To US Offices In September - CRN 4 million Americans quit their job in April, a 20-year record - Business Insider Best Buy running sweepstakes for 21 employees to urge COVID vaccine - Business Insider Top takeaways from Fortune’s biggest annual gathering of CEOs - Fortune Ex In-N-Out employee says he was fired for using sick leave in lawsuit - Business Insider IT for a New World - Business Today Applebee's free appetizer offer led to 40,000 job interviews - Business Insider Verizon Taps Versa, Zscaler for Managed SASE Play - SDxCentral Zoom Phone system offers flexibility, simplified infrastructure - TechTarget Jaguars’ 3rd round pick, safety Andre Cisco signs contract - WJXT News4JAX Amazon corporate and tech employees can work remotely 2 days per week - Business Insider Chicago Downtown Recovery Plan Seeks Return of Workers, Visitors - Bloomberg 4 blaring signs that even your hybrid workplace is toxic - Ladders Cisco DNA Center update tackles customer headaches - TechTarget Employee well-being trends and best practices in the Indian IT industry - People Matters Labor shortage: Nantucket restaurant interviewing 8th graders for jobs - Business Insider Federal judge throws out lawsuit on Houston Methodist vaccine mandate - Business Insider Restaurant workers are quitting at record rates - Business Insider How McDonald's, Amazon, JBS are trying to overcome the labor shortage - Business Insider Return-to-office plans: expert strategies to avoid employee conflict - Business Insider Chipotle is raising prices, but its not slashing CEO compensation - Business Insider Ex-Cisco president Sameer Garde joins non- profit Wadhwani AI as CEO - People Matters As workers return, virtual assistant tools get a new look - TechTarget ‘Don’t know why I’m alive’ – how Indian techies are struggling with Covid trauma & grief - ThePrint How Companies Can Improve Employee Health and Wellness - Business Insider How automation in recruitment helps improve employee experience - People Matters Overworking from home doesn't mean you're more productive - Ladders The job hunt is the easiest its been since just before the pandemic - Business Insider Cisco and Thrive Champion Wellbeing - UC Today Amazon execs worry about turnover, running out of workers: report - Business Insider Former Cisco Execs Used This Pitch Deck to Raise $26 Million - Business Insider Workers in US and Canada reported highest stress in the world - Business Insider Ikea fined $1.2 million for spying on workers in France - Business Insider Cisco unveils catalyst for 5G at industrial IoT edge - ComputerWeekly.com Video: 10 Minute IT Jams - Schneider Electric collaborates with Cisco and LEDC - IT Brief Australia Chicken wing prices up 99% amid labor shortage: Buffalo restaurant owner - Business Insider GA grocery-store cashier shot dead after mask argument with customer - Business Insider Melinda French Gates meets Biden officials at White House: Axios - Business Insider Cisco launching rural broadband center in the Triangle to tackle digital divide - Raleigh News & Observer Sage-Gavin: HR, now is the time to take action on inclusion - Human Resource Executive® Tech sector trade union campaigns to protect workers’ privacy - ComputerWeekly.com Is this the end of remote work for Wall Street workers? - Ladders Remote-working divide: where do firms including Amazon, Twitter, and Goldman stand? - Business Insider 5 sectors struggling the most to hire as the US economy reopens - Business Insider Mark Zuckerberg falls off Glassdoor Top CEO list, staff approval dips - Business Insider Workers at a Beijing office have to smile at a camera to do their jobs - Business Insider Raging email from Chicago mayor reveals tense relationship with workers - Ladders The smart way for states to end pandemic unemployment benefits - Quartz These Are Cisco's 10 Acquisitions Since Last June - CRN Firms reject Colorado workers due to new salary law - Business Insider Inventorship Rulings Show Fed. Cir.'s Sympathy for a Good Story - Bloomberg Law McDonald's worker 'rage-quits’ by posting sign saying they hate their job - Business Insider Indonesian healthcare workers who got Sinovac vaccine got COVID-19 - Business Insider Worker Tracking Tools Here to Stay, but Raise Privacy Concerns - Business Insider Need New UC&C Equipment? Not So Fast - No Jitter UK public largely supportive of Amazon workers unionising - ComputerWeekly.com People are quitting their jobs — a good sign for the US economy - Business Insider Retail workers are using the tight labor market to secure better pay - Business Insider Texas ends federal unemployment benefits for those affected by COVID - 25 News KXXV and KRHD Messaging app helps take off blinders at top-down South Korean chaebol culture - Reuters OPT: Apple, Google, Facebook voice support in court - Study International News What technologies are essential for effective telework? - TechTarget Why Making Caste a Protected Category in the US is a Necessity - The Quint Bersin: 8 factors to remember when creating a hybrid plan - Human Resource Executive® exclusive-look-inside-Cisco-Brewers-kitchen-bar-entertainment-complex - SouthCoastToday.com Coffee Briefing, June 22, 2021 – IBM merges Toronto offices; edtech booms; Cisco’s new 5G industrial edge routing portfolio; and more - IT World Canada Amazon reportedly ranks and yanks 6% of office workers, documents show - Business Insider Labor shortage: Hotel workers quit for wage bumps elsewhere - Business Insider Google shutting underrepresented worker scheme after pay protests - Business Insider $399 CCTV camera used in 7-Eleven checks staff paid for iced coffee - Business Insider Workers Say They Need More Help Dealing With Their Burnout - Business Insider San Jose State University adds $4.1 billion to California's economy, according to Beacon Economics study - Silicon Valley Business Journal - The Business Journals Cisco Salaries: How Much Cisco Pays Engineers, Sales Reps, and More - Business Insider Here Are The Companies Upping Pressure On Workers To Get Vaccinated Against Covid - Forbes The US worker shortage shouldn't surprise low-paying employers - Quartz Oracle wants to help you catalog your employees' skills - ZDNet Majority of global knowledge workers will be remote by the end of 2021 - ComputerWeekly.com 7-Eleven surveils workers to stop theft after stealing $173M in wages - Business Insider Chance office encounters helping productivity is a \"fairy tale\" - Business Insider Work-from-home is the new normal — global tech firm survey - Interaksyon Japan's Rakuten to use Cisco routing tech for 5G, IoT services - Reuters Biden whispers simple solution to the labor shortage: 'Pay them more!' - Business Insider Low-Productivity Workers Are Active for a Mere 90 Minutes Per Day, Prodoscore Data Reveals - Business Wire The Teamsters Union will make unionizing Amazon drivers a national priority - Protocol Code-Switching While Working From Home Takes a Toll on Black Workers - Business Insider Adobe announces permanent shift to hybrid work for its employees - TechRepublic A French McDonald's is now a food bank after staff resisted shutdown - Business Insider Cisco Survey Says UK Recovery Must be Built on Better and Free Broadband - ISPreview.co.uk Disney offers $1,000 signing bonuses to housekeepers amid labor shortage - Business Insider Starbucks staff: mobile ordering is out of control, causing delays - Business Insider Four-day workweek: which companies are adopting the approach - Business Insider 'A giant game of musical chairs': Waves of workers are changing jobs as the pandemic wanes - The Boston Globe Exclusive: Amid A Care Crisis, Caretaking Concierge Startup Wellthy Raises $35 Million Series B - Forbes One worker who didn't get receive unemployment died: Bloomberg - Business Insider Real minimum wage nears multi-decade lows as inflation boosts prices - Business Insider The US Workforce Is Feeling More Burned Out Than Ever Before - Business Insider The 10 most powerful companies in enterprise networking 2021 - Network World Tech Moves: Microsoft’s general counsel joins Cisco; Outreach adds execs; Avalara expands board - GeekWire The two sides of tech: Skilled talent in demand while other jobs face elimination post-pandemic - Financial Post Airport restaurants offer $1K sign-on bonuses in labor shortage - Business Insider Amazon gave out iced scarves to keep staff working in heatwave: Report - Business Insider How baristas feel when you camp out all day at their coffee shop - Business Insider How EXPs can empower employees to put knowledge to work - People Matters Apple won't back down, demands employees return to office in September - Business Insider Here's how businesses can re-engage employees to improve their productivity and loyalty - People Matters A Clubhouse for the office? Slack unveils ‘Huddles’ audio chat rooms - Computerworld Older Americans report high levels of age discrimination - Business Insider Incoherent technology investment saps motivation at mid-size businesses - ComputerWeekly.com Chipotle limits online order tips, saying it's to \"avoid human error\" - Business Insider No Job Is Future-Proof. How To Adopt AI While Protecting Your Employees - Forbes Poly's Nick Tidd Calls For 'Tremendous Upgrade Opportunity' For Collaboration-Minded Partners - CRN Workers are 'epiphany quitting' jobs after reevaluating their lives - Business Insider Employers are turning to signing bonuses to lure in new workers - Business Insider Over 200,000 workers get a raise with minimum wages increasing today - Business Insider Apple's hybrid-work battle heralds new conflicts between employers, staff - Business Insider Been bullied on Zoom? Here are the signs. - Ladders 90% of surveyed Apple workers reportedly want indefinite remote work - Business Insider Workers stage walkouts at McDonald's, Jack in the Box amid heat wave - Business Insider The US jobs report should end fears about unemployment benefits - Quartz Number of unemployed who quit their jobs hit pandemic-era high in June - Business Insider 3 Ways Be a Better Leader and Rebuild Psychological Safety at Work - Business Insider Jobs surged in leisure and hospitality in June as wages also increased - Business Insider Reimagining employee experience in the hybrid workplace - People Matters Teenagers aren't taking up all the jobs, per jobs report - Business Insider Why Guy Fieri's 'fight' for struggling restaurants falls short - Business Insider Research: Iceland's 4-day workweek trial improved employee well-being - Business Insider Going back to office networks, only to dismantle them once and for all - ComputerWeekly.com The history behind why today's employees work so hard - Quartz Malaysian employees want to continue working from home when restrictions ease: EY - Digital News Asia Restaurant owner: Automated drive-thrus trump $15 wages for business - Business Insider Chipotle, Dunkin', and Sonic have the lowest employee satisfaction: UBS - Business Insider Tesla workers' testimonies recall racism, being called slurs: report - Business Insider Security Think Tank: Returning workers to the office: Is your security posture up to date? - ComputerWeekly.com Stronger pay growth is likely temporary — and risks boosting inflation - Business Insider How technology can drive a winning culture - People Matters What is ageism: a complete guide - Ladders 95% of Workers Thinking of Quitting Their Jobs: Survey - Business Insider JOLTS: 3.6 million Americans quit their jobs in May 2021 - Business Insider Some business owners are blaming workers for the labor shortage - Business Insider Hybrid working model significantly affects helpdesk and support - ComputerWeekly.com US job openings rise to 9.2 million in May, miss estimates - Business Insider 1 in 3 former hospitality workers won't return to industry: Survey - Business Insider Fast-Food Workers Use Labor Shortage to Demand Higher Pay - Business Insider Chipotle was unprepared BOGO deal according to customers and workers - Business Insider Microsoft giving out $1,500 pandemic bonuses: The Verge - Business Insider Worker shortage skyrockets wages and benefits in construction industry - Business Insider More people are telling their jobs to 'shove it' amidst record quits - Business Insider Google exec will reportedly keep working remote, opposes it for staff - Business Insider The employee attrition spike is here – how to hang on to your best people - Ladders Security is Security: CIOs Must Unify the Physical and Virtual - CIO Companies are rewarding employees with $2K+ COVID bonuses - Ladders Labor shortage causes havoc in the Hamptons restaurants, salons - Business Insider Biden executive order aims to stop businesses suppressing wages - Business Insider The invisible goalposts for Black female athletes - Fortune Chart: Type of jobs that are still working from home - Business Insider Edelman Wants Employees to Work at the Office 3 Days a Week - Business Insider Remote Work Is Destroying the World's Most Remote Destinations - Business Insider Making the best use of digital tools to drive culture - People Matters Pizza chain CEO says there's no labor shortage if you pay well - Business Insider The labor market was already weird, now it's adjusting - Business Insider AI Face-Off: Cisco Vs. Juniper Networks And Aruba Networks - CRN The cybersecurity market is red hot - Fortune 6% of US workers said they would quit if asked to return to the office. - Business Insider U.S. Cities Upgrade Their Call Centers for More Flexibility - StateTech Magazine Wages are growing, but current workers aren't getting raises - Business Insider Thailand may snub China vaccine after vaccinated workers got COVID-19 - Business Insider Labor shortage: Taco restaurant blames state handouts for slow service - Business Insider Musk: I never rage-fired Tesla workers, gave clear and frank feedback - Business Insider Best CEOs of small and midsize companies, ranked by female employees - Business Insider Zoom at 10: Where Does It Go From Here? - No Jitter This bank's average pay is $500K and it needs to hire a ton of women - Ladders How Managers Can Become More Empathetic, According to a Facebook Exec - Business Insider Papa John's: Bonuses of $400 to existing staff, $50 to new hires - Business Insider Burger King 'we all quit' sign goes viral, 9 workers resign - Business Insider The promise of the digital world: inclusive, sustainable, secure - POLITICO Europe Millionaire Businessman Arrested at Restaurant Worker Protest: We Need Better Wages - Business Insider McDonald's franchise owners offer emergency childcare to employees - Business Insider The 10 unexpected cities where tech workers are flocking - Business Insider Early wedge made Facebook workers 'Mark people' or 'Sheryl people': book - Business Insider Facebook fired dozens over abusing access to user data, new book says - Business Insider Emerging Software Needs for the Hybrid Workplace - CMSWire Kraft Heinz Employees Say 3G's Cost Cutting Is Gutting the Food Giant - Business Insider How Cisco is executing a four-pronged approach to trans-Tasman partner growth - ARNnet 8 fully vaccinated health workers got COVID at Vegas pool party: report - Business Insider Remote job postings rise in unexpected industries, says LinkedIn - Business Insider A guide to network lifecycle management - TechTarget Bloomberg Sustainable Business Summit July 14, 2021: Engine No. 1 CEO Speaks - Bloomberg Average 1-bedroom rent requires 79 hours of minimum-wage work - Business Insider Tech Workers Who Swore Off the Bay Area Are Coming Back - The New York Times The impact of out of hours email use on worker wellbeing - Business Insider Covid‐19 pandemic and consumer‐employee‐organization wellbeing: A dynamic capability theory approach - John Wiley Best small and midsize companies for career growth - Business Insider Dollar General seeks 50,000 workers in 2 months amid labor shortage - Business Insider Walmart workers reveal the most shocking part of their jobs - Business Insider Kroger workers couldn't get $4 raise, but shareholders get $1 billion - Business Insider Disney is moving thousands of jobs from California to Florida - Business Insider Apple staff quit over stance against remote work: report - Business Insider Walmart ordered to pay fired employee who has Down syndrome - Business Insider Winning with Microsoft Teams for Frontline Workers - UC Today Intel in talks to buy GlobalFoundries - WCAX Labor shortage is forcing some restaurants to temporarily close - Business Insider Shipping crisis, labor shortage may worsen due to unvaccinated seafarers - Business Insider Zoom is buying cloud contact center provider Five9 for $14.7 billion - CNBC What is a remote workforce and what are the pros and cons? - People Matters Why Frito-Lay workers in Topeka, Kansas are striking - Business Insider Hybrid workplace is the future - ITWeb NSA's CSfC Program Provides Classified Agencies with Solutions for Telework - FedTech Magazine Raleigh tech firm Bandwidth is betting millions on a full return to the office - Raleigh News & Observer Netflix fired 3 execs for criticizing peers on Slack - Ladders Starbucks worker laments 22-drink order in viral TikTok - Business Insider 4-day workweek about reduced hours not long weekends: 4 Day Week CEO - Business Insider Ghana to become first country to use contactless biometrics in national vaccination program - Biometric Update Critics say companies are hiring prisoners instead of raising wages: report - Business Insider Jeff Bezos thanks Amazon workers, customers for paying for space trip - Business Insider Labor shortage: AZ restaurant boss scraps items to keep staff happy - Business Insider From the gig economy to working from home — these trends are changing the future of our jobs - Euronews Five ways to ensure remote working security and compliance - ComputerWeekly.com What Peloton Can Teach Leaders About Managing Hybrid Workers - Business Insider Top 6 tips to secure video meeting storage - TechTarget How to keep remote workers from feeling disconnected - MIT Sloan News America's Worst CEO-to-Worker Pay Ratios - Kiplinger's Personal Finance Half of tech workers would avoid employer that banned political chat - Business Insider Biden on labor shortage: Pay $15 an hour or 'be in a bind' - Business Insider White Castle texted 550,000 former applicants to hire amid shortage - Business Insider Where does the phrase 'Nobody wants to work anymore' come from? - Business Insider Fast-food boss, 19, says he'll lose half his staff within weeks - Business Insider Seattle startup Highspot eyes more space as workers return to the office - Puget Sound Business Journal - The Business Journals Rackspace Cutting 10% of Workforce as it Zeros in on Multicloud - Channel Futures Cisco and the future of collaboration: What’s to come? - Computerworld 7 Top Miami Startups That Are Hiring Workers Now - Business Insider McDonald's CEO: Corporate staff will return to office 3 days a week - Business Insider Avocor Introduces New Interactive Displays - UC Today Hashtag best: The top companies for millennials in 2021 - BenefitsPro Mark Zuckerberg likes meme mocking Jeff Bezos' space flight comments - Business Insider Digital Onboarding - key to retaining new employees - People Matters Cisco Top Salaries: How Much Cisco Pays Execs, VPs, Directors - Business Insider Zoom's lightning-fast ascent to $100 billion made big acquisitions a sudden priority - CNBC Labor-for-hire company struggling to find gig workers despite hiking wages - Business Insider Restaurant staff quit during their shifts amid labor shortage: reports - Business Insider 996 work, criticized for ruining work-life balance, explained - Business Insider NYC bars face long lines, long hours amid labor shortage - Business Insider Why people are so mad on airplanes and in stores right now - Business Insider What’s New in Webex? July 2021 - UC Today Rio Tinto Smelter Workers Strike Over Contracts in Canada - Bloomberg COVID-19: Arkansas healthcare worker says she has $1m in medical bills - Business Insider Survey on Why Americans Are Unemployed, What Workers Look for in a Job - Business Insider London anti-vaxxer says healthcare workers face Nuremberg-style trials - Business Insider 10 Ways Companies Are Fighting The Burnout Epidemic - Forbes Frito-Lay workers end strike, get higher wages and day off - Business Insider Indiana labor shortage: Why are businesses struggling to find workers? - The Star Press NYC to require vaccinations for the NYPD, teachers, firefighters - Business Insider California to require state employees, healthcare workers get vaccine - Business Insider Man in Spiderman outfit attacks store staff, union calls for new laws - Business Insider Intel warns global chip shortage could last until 2023 - IT PRO Cisco Networking Academy Launches Free IT Education to - CSRwire.com 5 Reasons to Add Cloud Voice to Your Company’s Collaboration Solution - CIO 5 Traits of a Successful Hybrid Work Environment - SPONSOR CONTENT FROM WEBEX - HBR.org Daily How nondisclosure agreements silence and control workers in Silicon Valley - Business Insider Walmart to cover tuition and book costs for all employees - Business Insider NB Students Will Learn Cybersecurity Skills With Cisco, Cyber NB, Government Partnership - Huddle Today 14 Cisco women named as finalists at the Channel Asia Women in ICT Awards - Taiwan News Los Angeles will require proof of vaccination from city employees - Business Insider Workers Who Fix Apple Laptops Say Facility Is a 'Sweatshop' - Business Insider Millennials more likely to question return to office: survey - Business Insider Teen employment boom trails off as states scrap unemployment benefits - Business Insider Server: Lousy tips in labor shortage because service is worse - Business Insider How much top adtech firms pay employees in the US: salary levels - Business Insider Google Mandates COVID-19 Vaccinations For Returning Workers, Delays Return-To-Office Plan - CRN A raise helped ease the labor shortage, McDonald's says - Business Insider Homeland Security will make employees wear masks, even if they're vaccinated - Business Insider How Cisco Decided Employees Don't Have to Return to Offices - Business Insider Starbucks puts empty chairs in meetings for baristas and customers - Business Insider NYC real estate giant will fire staff who refuse COVID-19 shot - Business Insider LinkedIn's hybrid work plans will be decided by team managers - Business Insider The Workday/Amazon saga raises serious questions on HCM - ComputerWeekly.com New Airbnb tool more accurately reads a listing's Wi-Fi speed - Business Insider 10 companies that offer unlimited vacation - Ladders Cisco, SAS, ChannelAdvisor require vaccinations for in-office work - WRAL TechWire Corporate philanthropy evolves anew amid pandemic era - San Francisco Business Times - The Business Journals 1 out of 153 American workers is now an Amazon employee - Business Insider California Rep. Mark Takano introduces 4-day workweek bill - Business Insider Walmart requires vaccinations for most corporate employees - Business Insider Can McDonald's and Chipotle raise wages without hiking prices? - Quartz Burger King franchisee must pay workers $459K for denying sick leave - Business Insider Unemployed workers in Arkansas win back enhanced benefits - Business Insider Unemployed job seekers struggle to find jobs that fit - Business Insider Tech job candidates: vaccination requirements not important, but remote work options are - WRAL TechWire Covid-19: TechUK urges government to tweak self-isolation policy for critical datacentre workers - ComputerWeekly.com Tech Skills Companies Are Training Workers on Udemy - Business Insider The benefits of office besties – Employee Benefits - Employee Benefits Flight attendants ask travelers to stop taking frustration out on them - Business Insider Hotel manager says he was flooded with 115 job applicants in 2 days - Business Insider The minimum wage is 12 years old — it's time for automatic increases - Business Insider Frito Lay, Burger King, Dollar General Workers Are Mass Quitting, Fighting Back - Business Insider Ifeoma Ozoma talks about why tech NDAs harm workers - Business Insider Leisure and hospitality wages saw highest quarterly growth in 20 years - Business Insider Pandemic created a hi-flex economy that will define the US for a decade - Business Insider US Contractors Grapple With Biden Vaccine Proof or Test Order - Bloomberg Law More jobs saying how much they pay amidst labor shortage: Bloomberg - Business Insider Amazon violated labor law in union vote, NLRB says, according to union - Business Insider Cisco Launches Asynchronous Video App - UC Today Starbucks, Walmart, Target, and others require workers to mask up - Business Insider Elon Musk ruthlessly fired anyone who disagreed with him: Tesla book - Business Insider Starbucks baristas are getting raises and a higher minimum wage - Business Insider Why The Mega Backdoor Roth Unfortunately Does Not (Always) Work - Forbes Remote or hybrid work, few changes coming for RTP offices so far, says RT Foundation exec - WRAL TechWire Carlyle awards $2M total bonus to staff who promote diversity - Business Insider Facebook requires all US staff wear masks, including vaccinated people - Business Insider 65% of Americans would take pay cuts to work remote full-time: survey - Business Insider WorkJam raises $35M to develop software tools for frontline workforces - SiliconANGLE News Workers opting to freelance in order to stay remote - Business Insider McDonald's workers are protesting violent customers in LA - Business Insider Target will help its 340,000 US workers get a debt-free education - Business Insider The rise of the finance freelancer - Fortune Why and How to Get Started with SASE - CSO Online Amazon used illegal anti-union tactics in NYC, NLRB says: Report - Business Insider Restaurant owners are looking for creative ways to fill positions - Business Insider CVS tops Walgreens, raises minimum wage to $15/hour - Business Insider Zoom Won't Stop at Video Chat Dominance - Bloomberg Red Hat stays mum on vaccination requirement; Pendo considers such a move - WRAL TechWire Investment firm Vanguard offers $1,000 to vaccinated employees - Insider Cisco takes aim at meeting fatigue with Vidcast - Computerworld UC Industry Wakes Up to Frontline Moment - No Jitter Amazon Delays A Return To In-Office Work Until Jan. 3 - CRN Google approved 85% of roughly 10,000 remote work, relocation requests - Business Insider Walmart, Starbucks, and Ikea employees brace for anger over masks - Business Insider 7.5 million workers will lose all unemployment benefits in September - Business Insider Federal workers could face 5 years in prison if they lie about getting COVID vaccine: report - Business Insider Around 75% of minority tech employees don’t feel a sense of belonging at work - ComputerWeekly.com Uber is mandating vaccines for its corporate staff, but not drivers - Business Insider The Scientist Who Made the Oxford-AstraZeneca COVID-19 Vaccine Has Barbie Doll Made in Her Honour - Global Citizen Cisco Opts Out of Return to Office in Favor of Individuals and Teams Choosing How Cisco Works - CIO As Cloud Customers Whine About AWS Bills, Cisco Looks to Woo Them Back to Data Centers - The Information Red Hat to employees: vaccines required to work at the office, remote work until 2022 'default' - WRAL TechWire All Companies Should Require Vaccines for Workers Now - Bloomberg Walmart gives warehouse workers bonuses to keep them from quitting - Business Insider Conjoint Effects of Caste : The National and the International in Ambedkar's Political Thought - Economic and Political Weekly Amazon tells warehouse workers to wear mask, even if vaccinated - Business Insider A lawmaker on what the Frito-Lay strike means for future of labor - Business Insider July jobs report: Wage growth shoots up 4.0% year over year - Business Insider Are you harassing co-workers over Zoom without even knowing it? - Ladders United requiring US employees get COVID-19 vaccine by end of October - Business Insider Spirit Airlines employee describes airport chaos amid canceled flights - Business Insider Starbucks is already prepping for PSL season - Business Insider Amazon delays return to office work until 2022 at the earliest - The Register Canadian strike causes border backups - WCAX Charts: Unemployment by race and ethnicity in July 2021 - Business Insider It's a great time for job seekers as UK starting salaries increase at record rate - Business Insider Trouble at Google's DeepMind; Tech workers refuse the office - Business Insider Amazon's vaccinated workers can win $500,000 cash: Report - Business Insider Joe Manchin says he won't back stimulus jobless aid renewal for gig workers - Business Insider Former Tesla worker awarded $1 million, called racist slurs at work - Insider In Kerala, nearly half of the migrant workers lack health insurance, reveals survey - The Hindu UPS workers outed colleague to FBI after he gloated about Capitol riot - Business Insider This CEO says raising min wage to $70K led to baby boom, revenue rise - Business Insider How Cisco is Embracing the Changing Telephony Market - No Jitter DHS Hiring Cyber Talent and Cisco Launches a Free IT Education App - ClearanceJobs Network certs 2021: Significant raises for the right ones - Network World Record number of workers quitting is in third month and here to stay - Business Insider \"We all quit\": A Family Dollar briefly closed after workers resigned - Business Insider Restaurant, grocery store workers now earn above $15 on average - Business Insider Alibaba rape allegation prompts reflection on toxic work culture - Quartz Highest Paid CEOs At America’s Largest Companies - 24/7 Wall St. Former Tesla worker says supervisors called him N-word, gave him longer hours - Business Insider Remote workers may be overlooked in hybrid meets – how to stay visible - Business Insider The 4 Types of Employees Who Are Resigning and How to Retain Them - Business Insider 2021 Fast Growth 150: The Top 25 Solution Providers - CRN How Wi-Fi 6 introduces a new era of outdoor wireless access - Intelligent CIO Starbucks 'didn't shield me from customer calling me n-----' - Business Insider CEOs got paid 351 times what typical workers made in 2020 - Business Insider Southwest, American, and Delta will not require employees to get vax - Business Insider Pizza restaurant owner poaches staff in labor shortage, 'fair game' - Business Insider 3 explanations for the labor shortage, from mismatch to migration: Morgan Stanley - Business Insider Improving diversity hiring using talent market analytics - People Matters These are the 8 most common workplace accidents - Ladders Jobless Oklahomans are the latest to win back unemployment benefits - Business Insider Cisco Employees Brace for Layoffs Expected in Coming Months - Business Insider Google employees face pay cut for continuing to work from home: report - Business Insider Are you high? 42% of remote workers think co-workers and bosses partake during the workday - Ladders 3 Questions to Keep Employees Safe Before Reopening the Office - Business Insider Fast hired CEO's fitness trainer to help remote workers stay healthy - Business Insider McDonald's issues vaccine mandate for all in-office corporate employees - Business Insider Restaurants of tomorrow will be pricier and automated. That's good. - Business Insider Microsoft Adds Massive Cloud Sales Muscle With New EY Deal - CRN Despite inflation, wages are still higher than pre-pandemic levels - Business Insider Emotional wellbeing of employees should be #1 priority - People Matters 10 things in tech: Cisco layoff fears — Foldable Samsungs — Customers drop Prime - Business Insider Amazon may monitor employee keystrokes to protect customer data - Engadget Microsoft versus Zoom versus Cisco - Should you opt for traditional UCC vendor or upstart? - www.computing.co.uk How to choose desk booking software for the hybrid workplace - Computerworld Google threatening to cut remote worker pay, signifies the next hybrid work battle - Business Insider Embracing a digital first mindset: Best practices from Adobe - People Matters Big chains worry enforcing vaccine mandates for customers too risky - Business Insider Spirit pilot and flight attendant describe working amid the meltdown - Business Insider Employees sent identical letters to SF officials against vaccine rule - Insider Tech firm Cisco brands Chicago 'midwest hub' as it sets up shop in Old Post Office - Chicago Tribune WWT CEO Jim Kavanaugh On 'Likely' Office Delay, Vaccine Mandate Debate - CRN Workers are increasingly stealing sensitive data from their companies - Business Insider A Letter to the Faithful - 49ers.com There is no such thing as a low-skilled worker - Quartz Pret a Manger staff threatened to strike after pay is cut - Business Insider Young HR leaders unwilling to recruit workers 55 and older - Ladders Laura Ingraham suggests cutting off federal jobless aid to push people back to work - Business Insider What a Harvard Business School professor thinks about open office plans - Ladders 3 nightmares to keep Salesforce CEO Marc Benioff up at night - Business Insider Elon Musk's Tesla salary dropped to zero in 2020 - Business Insider Coffee shop owner in raised wages to $15 and got 50 job applications - Business Insider Top business stories, Amazon delivery companies unite - Business Insider ‘Video Can Create an Inclusive Workspace for Remote Workers’ - UC Today 'Bar Rescue' host apologizes for suggesting restaurant staff were lazy - Business Insider The future of the economy depends on how many workers come back - Business Insider Strengthening the human element in Human Resources - People Matters We required our employees get vaccinated. Now some are threatening to quit. - Anchorage Daily News Workers want work-life balance more than higher pay - Business Insider A Florida deli calls minimum-wage workers 'mediocre,' draws backlash - Business Insider Aldi raises average US starting wages to up to $19 amid holiday hiring - Business Insider ICO consults public on personal data in employment practices - ComputerWeekly.com Taliban hunted, threatened city workers in hiding from new regime - Business Insider Twitter investigated executive's too-harsh leadership style: NYTimes - Business Insider What's with tech companies and workplace harassment? - Tech Wire Asia After a long pandemic, are you ready to return to the office? Here’s what Charlotte says - Charlotte Observer Affordable Security Training for Every MSP Employee? - MSSP Alert Workers with secret 2nd jobs earn $200,000 a year, avoid meetings: WSJ - Business Insider Self-employed people are 4 times wealthier than workers, on average - Business Insider Apple employee Ashley Gjøvik claims colleagues tried to get her to quit - Business Insider Corel Announces Michelle Chiantera as Chief Marketing Officer - GlobeNewswire Spirit CEO says the meltdown was a blip. These employees disagree. - Business Insider Webroot: Security Awareness Training Is The Key To Resilience - CRN Indiana gets to keep unemployment benefits on a technicality - Business Insider Intel Offers Bonuses To Vaccinated Employees But No Mandate: Memo - CRN Workers, in Demand, Have a New Demand of Their Own: A Career Path - The New York Times An Amazon warehouse is giving $3,000 bonuses to attract new workers - Business Insider Home Depot told worker to remove BLM logo or quit, agency says - Business Insider SF Chinese restaurant in $1.6M payout over wage, tip theft claims - Business Insider Top 100 Best Brands of 2021 - Comparably Workplace Insider Salt Bae grill staff worked 72-hour weeks, no overtime: lawsuit - Business Insider Software firm Postman valued at $5.6 bln after funding round - Reuters Larry Elder: Employers should be able to ask women about pregnancy - Business Insider Cisco’s Collaboration Sales Dip - UC Today Microsoft aims Teams Rooms features at hybrid work - TechTarget Unvaccinated workers could pay more for health coverage - Business Insider Zillow to Offer a National Payscale for Remote Workers - Business Insider 3 tips for adopting new HR tech with a people-first approach - People Matters 2 in 3 US workers are looking for a new job, survey suggests - Business Insider BSP Helps Thousands of California's Most Vulnerable Frontline Workers — Building Skills Partnership - Building Skills Partnership Google Is Right to Cut Remote Workers' Pay - Business Insider Kraft Heinz $30M lawsuit: workplace 'rife' with racist slurs, threats - Business Insider Viral TikTok shows how Walmart knows when you steal merchandise - Business Insider These 15 IT certifications have the best ROI - ZDNet COVID-19 rapid test manufacturer trashed millions of products: report - Business Insider A Spotify Employee on Moving From NYC to Chattanooga, Tennessee - Business Insider Zillow is hiring 2,000 workers, with salaries as high as $325K - Ladders Remote Workers Holding 2 Jobs Shows Many Aren't 40 Hours Per Week - Business Insider Vaccine mandates could make staff quit and worsen labor shortage: exec - Business Insider Makati taps Cisco in strengthening digitalization in local government - Backend News Wendy's ploughs $25M into breakfast adverts to tempt office workers - Business Insider Amazon staffer says she was fired over bathroom breaks for bowel issue - Business Insider Restaurants try to hire customers using free food amid labor shortage - Business Insider IT companies on Bengaluru’s outer ring road asked to extend WFH till December 2022 - Economic Times Fast food franchise expert: Require vaccines for workers - Business Insider What Biotech, Pharma Firms Pay Their Workers in 2021: Moderna, Pfizer, Novartis - Business Insider Kabul startup deleted details of female staff for safety: report - Business Insider Virtualization concepts to study for CCNP and CCIE exams - TechTarget Neat Pad Review: Your Controller for Zoom Rooms - UC Today Is ‘Big Day Care’ the solution to America’s childcare woes—or is it risky to mix profits and toddlers? - Fortune Alabama pizzeria offers to 'literally hire anyone' amid labor shortage - Business Insider Get ready for more businesses to close early without staff - Business Insider 9 stats show how crazy it is to work in the restaurant industry - Business Insider TD Bank gives employees a choice: Get vaccinated or submit to mask-wearing, testing - Philadelphia Business Journal - The Business Journals Why are cybercriminals targeting smaller businesses instead? - Tech Wire Asia 3 things show Elon Musk is right that physical work is a choice - Business Insider Credit Suisse Has Delayed Its Return-to-Office Date to October Due to Delta - Business Insider 40% of workers want to work remotely, according to a PwC survey - Business Insider Otter Assist Comes to Teams, Google Meet and Webex - UC Today Workplace renews 90k-Employee Deal with Vodafone - UC Today Delta workers need to get the vaccine or pay $200 extra for health insurance - Business Insider Google says employees have no right to protest choice of customers - Business Insider Say bye to your work buddy: 55% of employees will look for a new job in 12 months - Ladders The labor shortage means nobody wants to pick up your trash - Business Insider Offices are gaining beehives and gardens to lure staff back: report - Business Insider Japanese probe reveals 37% of inspected offices violated overtime laws - Insider What is the future of Kansas workforce? New goals on training, education aim for growth - Wichita Eagle Tech Industry Is Blowing Millions of Dollars Making Work From Home Worse - Business Insider Charity gives staff long lunch breaks to avoid climate change heat - Business Insider The Perks and Benefits Employees Really Want Today - Business Insider Federal Prison Workers Are Burned Out and Heading for the Exits - Business Insider Taliban fighters beat UN worker trying to get to Kabul airport: report - Business Insider Don't write off Zoom - it’s not a one-trick pony as remote work is here to stay! - Diginomica Gartner survey shows 44% rise in workers’ use of collaboration tools since 2019 - ComputerWeekly.com Survey: Less than half of NYC office workers are likely to be back by the end of September - Business Insider Salesforce CEO says workers are just as productive at home - Business Insider CEO of startup: All global employees make the same in future - Business Insider Zoom plots path to hybrid return to the workplace - ComputerWeekly.com L'Oréal USA completes a global 3rd-party pay-equity audit - Business Insider NYC restaurant owner: staff to resign over vaccine mandate - Business Insider Discord server for Apple workplace issues has a 250 person waitlist - Business Insider Smoothie CEO: My best cafes are ones that pay staff most - Business Insider NITI Aayog, Cisco roll out WEPNxt to nurture women entrepreneurship in India - Business Today Job boards pop up for workplaces without COVID-19 vaccine mandates - Business Insider No state seems to be extending federal jobless benefits after Labor Day - Business Insider McDonald's in NC shuts dining room, can't find enough staff - Business Insider Some residents living across from Cisco Brewers in New Bedford frustrated over noise - Turn to 10 Toyota, Casio, Shell and others are using this Seattle startup to train their employees - GeekWire Danny DeVito joins striking Oreo factory workers' boycott call - Business Insider Chinese media worker died in break room amid '996' work culture: state - Business Insider Then and now: How San Francisco's largest tech employers have changed - San Francisco Business Times - The Business Journals Fed Chair Jay Powell fears disinflation, not inflation - Quartz Growth Opportunities in the Global Professional Headset Market - Forecast to 2027 - ResearchAndMarkets.com - Business Wire Bojangles to close branches for 2 days, workers won't be paid: reports - Business Insider Georgia: 2 unvaccinated daycare workers found dead from COVID-19 - Business Insider This unicorn promised 1-month salary as bonus, Rs 10 lakh lottery to workers who stay fit; this happened next - Business Today Spirit Airlines claims ex-staff, vendor hiked plane component prices - Business Insider A Lawyer Explains Why Non-Compete Clauses Harm Low-Level Workers - Business Insider Managers in these 28 US cities are most open to remote work post-COVID - Business Insider How India's staffing industry grew bigger despite the pandemic - People Matters APAC salaries set to rise in 2022: Willis Towers Watson report - People Matters Your Employees Are Your Best Defense Against Cyberattacks - HBR.org Daily Nike closed corporate offices for a week to help staff avoid burnout - Business Insider Voice Calling for Microsoft Teams: What You Need to Know - No Jitter Compliance vs. Security in Enterprise Networking: the Cisco Approach | eWEEK - eWeek Which Triangle employers are requiring employees to be vaccinated? Well, it depends. - Raleigh News & Observer Chicago Restaurants Worry About Food Supplies Due to Sysco Strike - Eater Chicago The New Normal: Hybrid Work Means Greater Focus On Endpoint Security - Forbes Apple blocks workers from forming pay equity Slack channel: Report - Business Insider Google Extends Work-From-Home Into 2022 As COVID-19 Cases Rise - CRN Report: USPS cheats workers of pay and deletes extra hours - Business Insider McDonald's, other chains are trying to hire teens with labor shortage - Business Insider Walmart to hire 20,000 permanent supply chain workers for the holidays - Business Insider The Pandemic Has Accelerated Government Innovation - GovExec.com Lake Tahoe evacuated amid Caldor fire after becoming remote work haven - Business Insider Walgreens raises minimum wage to $15, matching CVS - Business Insider Anti-vaxxers in Georgia force COVID-19 vaccine site shutdown: official - Business Insider The Great Resignation: Voluntary Termination Research from Namely Highlights Significant Risk and Retention Trends - Yahoo Finance Southwest pilots slam management over working conditions - Business Insider NYC healthcare workers bought fake COVID vaccine cards: prosecutors - Insider These successful companies were founded by women - Chicago Tribune 10 innovators that start-up founders would most like to meet - Siliconrepublic.com 2021 40 Under 40 Awards for Raleigh-Durham: Ashley Stallings Simpson with WakeMed Foundation - Triangle Business Journal - The Business Journals Premier Arts stages hit musical 'Grease' in Elkhart with real cars - South Bend Tribune In Newtown, kids with disabilities learn to water ski: 'It motivates them' - Danbury News Times Poor Earnings Could Drag Cisco Stock Below $40 - Trefis Better Buy: Arista Networks vs. Juniper Networks - The Motley Fool Cisco Completes Acquisition of Acacia Communications, Inc. - PR Newswire Cisco Ends Battle For Acacia Communications, Wraps $4.5 Billion Deal - CRN Investing Strategies: Zscaler CEO, Etsy CFO, Adobe EVP Discuss Growth Plans - Investor's Business Daily The Top 50 Robinhood Stocks in March - The Motley Fool Poor Earnings Could Drag Cisco Stock Below $40 - Forbes Why Dell's Stock Jumped 189% In One Year - CRN Nano-X Imaging: Buy the Dip? - The Motley Fool Ford Mustang Mach-E Grabs EV Share From Tesla - Investor's Business Daily 2021 Will Be A Turnaround Year For 8x8 - Seeking Alpha Why Roblox Is the Stock I'm Most Excited to Buy in March - The Motley Fool Zoom CEO Eric Yuan talks success with former Cisco CEO John Chambers - Silicon Valley Business Journal - The Business Journals Stock Market Today 3/5/21: Tech Roller Coaster Leaves Investors Thrilled - Kiplinger's Personal Finance Cisco Appoints Marianna Tessel to its Board of Directors - PR Newswire Report: Instacart could file for direct listing at $50B+ valuation - SiliconANGLE News Why Google Stock Is Holding Up Better Than Apple, Facebook, Amazon, Netflix - Investor's Business Daily Investors should not dismiss Cisco's dot com collapse as a historical anomaly - Financial Times Cisco Needs New Management, Conclusions Of A Shareholder - Seeking Alpha Stock Market Today 3/8/21: 'Reflation Trade' Kicks Back Into High Gear - Kiplinger's Personal Finance Is Twilio Stock a Buy? - The Motley Fool Why Is Snowflake Stock Down So Much? - The Motley Fool The 2021 stock market looks an awful lot like 2000. That's bad news for Big Tech - CNN Caste-bias lawsuit| US Court stays hearing for Cisco’s legal challenge to the complaint - Moneycontrol Dow 32,000? If dividends counted, the index could be more than 1 million points higher - MarketWatch Roblox Reference Price Set at $45 per Share for Wednesday Listing - The Motley Fool Why I Still Like Redfin Better Than Zillow and Opendoor - The Motley Fool Cisco Is Surrounded And Lacks Perspective - Seeking Alpha Why Top Tech Dividend Stock Broadcom Is Still a Buy After Its Q4 Report - The Motley Fool View fails to see a stock pop as it begins trading on Nasdaq - Silicon Valley Business Journal - The Business Journals Cisco found cryptomining activity within 69% of customers - TechTarget 3 Reasons Not to Worry About a Stock Market Crash - The Motley Fool Tesla is in a bubble and it’s ‘going down,’ top fund manager says - CNBC Mimecast Axes SolarWinds Orion For Cisco NetFlow After Hack - CRN Why South Jersey Industries Stock Sank 17% in Early Trading Today - The Motley Fool Cybersecurity Stocks Scan: Jim Cramer Picks 3 Stocks to Watch - TheStreet Tesla Stock Vs. Nio? Own sure winner with ETF - Investor's Business Daily Dow Jones Futures Rise As Treasury Yields Retreat After Nasdaq Breaks Support, Tesla, Apple Hit Resistance - Investor's Business Daily Tracking Al Gore's Generation Investment Management Portfolio - Q4 2020 Update - Seeking Alpha New Cisco Research Reveals Collaboration, Cloud, and Security are IT's Top Challenges - PR Newswire Tesla Stock Is A Screaming Buy Now If Cathie Wood's ARK Is Right - Investor's Business Daily Volkswagen Stock Jumps As Electric Vehicle Crown Expected Soon - Investor's Business Daily Free stock-trading startup Robinhood files paperwork for initial public offering - SiliconANGLE News Is Disney a Great Dividend Stock? - Nasdaq Stock trading app Freetrade raises $69 million - TechCrunch Why Piedmont Lithium Stock Plunged More Than 23% Today - The Motley Fool Dow Jones Today, Stocks Start Lower As Nike Hit By China Boycott Threat: RH, Darden, Cisco Systems Rally - Investor's Business Daily These 3 Cathie Wood Stocks Could Struggle in a Post-Pandemic World - The Motley Fool Cisco: Agile enterprises require an agile workforce - TechRepublic Stock Market Today 3/26/21: Dow, S&P 500 Surge Late, Set New Highs - Kiplinger's Personal Finance 5 Reasons the Rally in Bank Stocks Is Not Over - The Motley Fool GameStop Stock Is 'Extremely Volatile' but Can't Be Controlled: Filing - Business Insider Cisco CEO says the U.S. and China should find ways to co-exist - CNBC Tesla Stock, Roku And Nasdaq 100 Didn't Need To Go Up For Option Profits - Investor's Business Daily Cisco Unveils New, Expanded SASE Architecture, Delivering Complete Protection from Endpoint to the Cloud - PR Newswire Canoo Stock Dives As Automaker Partner May Be Kicked To The Curb - Investor's Business Daily Cisco Unveils Crucial New Innovations to Power an Inclusive Future for All at Cisco Live! - PR Newswire Tech Stocks Are Crashing -- Is It Time to Buy? - The Motley Fool Early April could be a bullish opportunity for the stock market, says Bank of America - CNBC CIOs at Cisco Live discuss the modern CIO and the changing work world - TechRepublic Discovery Class B Stock Surges in Post-Archegos Tumult Twist - Bloomberg QuantumScape stock jumps on news of VW's $100 million investment - Silicon Valley Business Journal - The Business Journals Cisco Retools Webex, Is Ready to Fight Back - No Jitter Why Uxin Stock Absolutely Soared Today - The Motley Fool 3 Reasons Zscaler Stock is a Buy - The Motley Fool Investing Strategies: Penn CEO Discusses Strategic Initiatives, An Update On The Covid-19 Vaccine Scene And Getting Technical With The 10-Week Line - Investor's Business Daily Dow Jones Futures: Stock Market Hits New High As 3 Tech Giants Break Out; Tesla Stock Surges - Investor's Business Daily Top Zoom Shareholders - Investopedia Disneyland and California Adventure Park tickets go on sale next week - Yahoo Finance Dow Jones Futures: Stock Market Rally Holds Gains As Square, Sea, Chipotle Flash Buy Signals; Tesla Faces Key Test - Investor's Business Daily TeamViewer: Don't Miss That Opportunity - Seeking Alpha Cramer's 'Mad Money' Recap: Applied Materials, Paychex - TheStreet Zoom Video Stock: Will History Repeat? - Forbes 'Mad Money' Lightning Round: Callaway Golf, Shopify, Chewy - TheStreet Intel, Cisco: Why Value Tech Stocks Hit The Sweet Spot In The Current Market - Forbes Momentum and Meme Stocks: How to Find the Next Top Reddit Stock of 2021 - InvestorPlace Stock to Flow Analysis Shows Bitcoin Could Reach $288K This Year - Yahoo Finance Companies earned the ‘great place to work’ honor this year by supporting women and caregivers - Fortune Shake-up at Airbus as defence and technology chiefs quit - Yahoo Finance Better Buy: Cisco Systems vs. Zoom Video Communications - The Motley Fool NFL to revamp internet in all 30 stadiums, with help from Cisco - MarketWatch Play the Technology Side of Healthcare with the IHI ETF - Nasdaq Why Dell's Stock Price Is Climbing Towards $100 Per Share - CRN Investors brace for 'major shift' as momentum and value collide - Financial Times Samsung's Galaxy Buds Pro hit all-time low of $165 at Woot - Yahoo Finance QuantumScape stock drops 12% on scathing shortseller report - Silicon Valley Business Journal - The Business Journals GM Stock Rises On Latest Big Investor In Self-Driving Unit Cruise - Investor's Business Daily Why Peter Lynch Would Love Lululemon Athletica - The Motley Fool Stocks making the biggest moves premarket: Morgan Stanley, Sunrun, Comcast and more - CNBC VYM: There's No Reason To Add This ETF To Your Dividend Stock Portfolio - Seeking Alpha After Falling More Than 50%, Is Plug Power Stock a Buy? - The Motley Fool Is Enbridge Stock a Buy? - The Motley Fool Better Buy: Micron Technology vs. AMD - The Motley Fool Options Trading: Consider A Bull Put Spread For Tesla Stock Ahead Of Q1 Earnings Report - Investor's Business Daily Dow Jones Futures Signal Further Losses For 'Hard Penny' Market Rally; Netflix Near Buy With Earnings Due - Investor's Business Daily Arista Networks Stock is a Rising Cloud Networker Play - Entrepreneur Dow Jones Sells Off As Apple Slides Ahead Of 'Spring Loaded' Event; Tesla Jumps On Price Target Boost - Investor's Business Daily 7 Cheap Stocks to Buy Before Biden's Infrastructure Spending Begins - InvestorPlace Dow Jones Futures: Netflix Dives On Subscriber Miss, Chip Giant ASML Rallies After Market Retreat Slams Leaders - Investor's Business Daily Cisco Commits $100 Million to Help Address Climate Crisis - PR Newswire John Chambers: HPE Works With Startups 'Better Than Any Other Company' - CRN 'We Need Partners:' KnowBe4 Stock Soars Upon Going Public - CRN Top Stocks 2021: If you Only Buy One IOT Stock, It Better Be SPLK Stock - InvestorPlace IRS is holding over 29 million tax returns, delaying refunds for many poorer Americans - Yahoo Finance Cyprus’ leading Investment Bank woos Israeli investors - The Jerusalem Post Should Zoom Investors Be Worried as Its Customers Go Back to the Office? - The Motley Fool Stocks Swing Higher on Strong Economic Data - Kiplinger's Personal Finance Cisco CEO: Chip shortages will likely last for another six months - Business Insider Lucid Motors Rumored to Enter EV Partnership with Apple | Lucid Motors Rumored to Enter EV Partnership with AppleFinancial Buzz - Financialbuzz.com These stocks with hefty capital gains could face pressure if taxes rise, says Goldman Sachs - CNBC 10 Things To Know About The Thoma Bravo-Proofpoint Deal And Stock Hike - CRN Lucid Motors' merger partner's value yo-yo'd by short-selling, Apple rumors - Silicon Valley Business Journal - The Business Journals A 'tidal wave' of Chinese companies rush into the red-hot IPO market in the U.S. - CNBC Why Verizon Is a Dividend Investor's Dream - The Motley Fool Google Stock Rises As Earnings Beat Amid $50 Billion-Plus GOOGL Stock Buyback - Investor's Business Daily Why Do Millennials Hate Salesforce Stock? - The Motley Fool Ex-Apple Store chief Ron Johnson's Enjoy Technology going public in $1.2 billion SPAC merger - Silicon Valley Business Journal - The Business Journals Traditional Tech's Cloud Comeback - Forbes Adverum's Stock Crashes After DME Gene Therapy Trial Derails On One Patient's Serious Adverse Event - Yahoo Finance Ford Falls After Slashing Production View On Chip Shortage - Investor's Business Daily Dow Jones Futures Fall: Amazon Flashes Buy Sign But Apple Suppliers, Nio, Twitter Lead Earnings Losers - Investor's Business Daily 2 Reasons Not to Sell in May and Go Away - The Motley Fool Better Buy: Arista Networks vs. Cisco Systems - The Motley Fool Dow Jones Futures Rise: Apple Leads 5 Stocks With Bullish Declines; Tesla Berlin Plant Delayed? - Investor's Business Daily What To Do After Nokia Shares Rally - Seeking Alpha Ethereum, Apple and Epic Games, Tesla - 5 Things You Must Know Monday - TheStreet Will Nvidia Accidently Disrupt the Cloud Video Market? - No Jitter Stock Market Today 5/3/21: Dow Leads in a Mixed May Start for Stocks - Kiplinger's Personal Finance Cisco India President Sameer Garde steps down - Business Today Pfizer Stock Just Below Buy Zone After Covid Vaccine Sales Crush Forecasts - Investor's Business Daily RBC raises S&P 500 forecast, sees the market gaining another 3% from here - CNBC How Do You Trade Options on Bitcoin? - Nasdaq Applied Materials just spent $81M to expand its Silicon Valley presence - Silicon Valley Business Journal - The Business Journals Stocks To Watch: Is This Casino Stock Worth Betting On After 1664% Run? - Investor's Business Daily 3 Cheap Tech Stocks to Buy Right Now - The Motley Fool Investors Beware: The \"Can't Lose\" Stock Market Won't Last Forever - The Motley Fool Google Stock Says A Lot About This Market - Investor's Business Daily Stock Market Today 5/7/21: Stocks Rise as Jarring Jobs Miss Cools Taper Talk - Kiplinger's Personal Finance Marijuana REIT Innovative Industrial Properties Doubles Revenue, Profitability in Q1 - The Motley Fool Stock market news live updates: S&P 500, Dow set record highs as tech shares jump after jobs report miss - Yahoo Finance Five Reasons Arista Networks Stock Can Keep Rising At 29% - Forbes There's no good reason for Amazon to split its stock - Quartz Dow Jones Futures Rise, Major Gasoline Pipeline Still Shut; These Stocks Are Out Of Bounds - Investor's Business Daily Ethereum path to $40,000, Baillie Gifford stock picks, DeFi: Insider Investing - Business Insider Biden tax hikes could hammer 5 tech stocks that have surged by $5 trillion in value: Goldman - Yahoo Finance 3 5G Stocks to Buy Right Now - The Motley Fool Zoom Video Stock: Will History Repeat? - Seeking Alpha Veracity Networks Receives Cisco's Premier Transition Partner Certification - PR Newswire Cisco Deserves A Place In Growth-Oriented Investor Portfolios - Seeking Alpha Three Dow stocks could lead the next leg of the rally, traders say - CNBC Dow Jones Today, Nasdaq Slide As Tesla Leads Tech Stock Retreat; These 5 High RS Leaders In Buy Ranges - Investor's Business Daily Airbnb Looks Expensive, but Game-Changing Business Model Renders Most Metrics Useless - The Motley Fool Billionaires Love 50 Stocks: 32 Pay Dividends - Seeking Alpha Google Cloud Anthos Strategy: Hybrid, Multicloud - Business Insider San Jose startup SiMa.ai raises $80 million to develop its machine learning chips - Silicon Valley Business Journal - The Business Journals Cisco: A Cautionary Tale And A Solid Investment - Seeking Alpha Cisco Announces Intent to Acquire Socio Labs to Power the Future of Hybrid Events - PR Newswire Futures Fall As Inflation Data Looms; Tesla Sales Crash In China Confirmed - Investor's Business Daily Silvergate Capital to Become Exclusive Issuer of Facebook's Diem Stablecoin - The Motley Fool What is the Nasdaq Composite, and What Companies are in It? - Nasdaq Intel: The Empire Strikes Back - Seeking Alpha Tech Futures Rise With Rally At Key Level; Bitcoin Plunges On Tesla Move - Investor's Business Daily Coinbase Stock Falls As First Earnings Since IPO Miss Forecasts - Investor's Business Daily Why McDonald's minimum wage hike is surprisingly good news for the stock - Yahoo Finance Cisco strikes again grabbing threat assessment tool Kenna Security as third acquisition this week - TechCrunch Cramer's Mad Money Recap: Constellation Brands, Walmart - TheStreet With Flurry Of Acquisitions, Cisco Systems Strives To Grow At 5% - Forbes Futures Fall In Still-Tricky Rally; Bitcoin Dives On Musk Tweets - Investor's Business Daily Cipla stock slips 3% despite 73% rise in Q4 profit - Business Today 3 Growth Lessons From a Leader Who Grew Company Revenue 37 Percent a Year - Inc. Dow Jones Slides As Bitcoin Plunges On Elon Musk Tweet; Apple, Tesla Sell Off - Investor's Business Daily Today's Stock Market News & Events: 5/17/2021 - Schaeffers Research How Cisco’s Licensing Changes Present an Opportunity - UC Today 13 Stocks Warren Buffett Is Selling (And 5 He's Buying) - Kiplinger's Personal Finance Elon Musk and Bitcoin, AT&T and Discovery - 5 Things You Must Know - TheStreet Dow Jones Today, Stocks Lag As Chips, Bitcoin Dive: AT&T, Discovery Merger Provides Boost - Investor's Business Daily Cisco on Startup Acquisitions, Kenna Purchase, Microsoft Competition - Business Insider Stock Market Today 5/18/21: Stocks Fall Again as Energy Sector Swoons - Kiplinger's Personal Finance Chip Shortage Could Destroy Good Expectations About CDW Corp. - Seeking Alpha Cisco acquires Kenna Security amid security expansion - ComputerWeekly.com 3 Stocks Will Make Up For Your Vanishing Huge AT&T Dividend - Investor's Business Daily Why Investors Should Wait and Watch Roblox Stock - Nasdaq Cisco stock drops as higher costs amid chip shortage ding earnings outlook - MarketWatch Dow Jones Today Dives 430 Points As Bitcoin, Tech, Commodities Stocks Slide; Target Rallies On Earnings, Salesforce Upgraded - Investor's Business Daily Down 40%, Is Now the Time to Buy Spotify Stock? - The Motley Fool Today's Stock Market News & Events: 5/19/2021 - Schaeffers Research Global Plastics Processing Machinery Market to Reach $18.8 Billion by 2026 - Yahoo Finance Bill Gates transfers $850M stock to Melinda, $4B since divorce news - Business Insider Vipshop Earnings Top, Sales Guidance Light; VIPS Stock Falls - Investor's Business Daily Stocks making the biggest moves in the premarket: Virgin Galactic, Kohl's, Cisco Systems & more - CNBC Dow Jones Today Lags, Nasdaq Leads As Jobless Claims Decline; Virgin Galactic Spikes, Cisco Tumbles On Outlook - Investor's Business Daily Demand for Cisco products rises during pandemic recovery - TechTarget Dow Jones Futures Fall As Stock Market Rally Test Continues, Bitcoin Rebounds; Target, Facebook, Google In Buy Zones - Investor's Business Daily Why Is Everyone Talking About DoorDash Stock? - The Motley Fool Why the future for Microsoft, Amazon, Google, Apple and other pricey growth stocks isn't so bright - MarketWatch Cisco is giving HBCUs $150 million to help lessen student debt - Business Insider Can You Collect a Social Security Spousal Benefit Plus a Benefit of Your Own? - The Motley Fool The Latest Picks And Pans From Barron's: AT&T, Bitcoin, Cisco Systems, Kohl's And More - Yahoo Finance There could be another reason behind Nvidia's stock split - CNBC The Investing Masters Review: Teeka Tiwari Palm Beach Letter - Homer News Stock Market Today 5/24/21: Tech Takes Off as Stocks Swing Higher - Kiplinger's Personal Finance Bill & Melinda Gates Foundation sold all its Apple and Twitter stock - Business Insider My Top 3 Growth Stocks to Buy in 2021 - The Motley Fool Stock Market Today With Jim Cramer: 8 Stock Picks That Will Rise - TheStreet Quantum Xchange Completes Integration with Cisco to Enable Quantum-Safe Networking Equipment with No Key Delivery Limitations - PR Newswire Juniper Networks launches new version of Apstra to simplify deployment - SiliconANGLE News AppLovin Stock Notches Record High After Post-IPO Swoon - Investor's Business Daily Tesla Stock Down After Change To Autopilot Amid Lidar Sensors Test - Investor's Business Daily Stock Market Today 5/25/21: Dow Swings Lower to Snap Win Streak - Kiplinger's Personal Finance Listen Up: Volume Is Down - RealMoney - RealMoney Dollar General Stock: Analysts Break Down Its Future As Economy Reopens - Business Insider Better Buy: Cisco or All 30 Dow Jones Stocks? - The Motley Fool 2 Cloud Computing Stocks to Buy After Strong Earnings - The Motley Fool Tesla Stock Up As Desperate Measures Eyed For Chip Shortage; GM Supply Crunch Eases - Investor's Business Daily The 20 Billion Lesson This CEO Learned About Acquisition Success - Inc. Dow Jones Futures: Nvidia, Williams-Sonoma Headline Earnings Movers, Econ Data Looms; Ford Leading As Tesla Lags - Investor's Business Daily Surprise growth in data center business propels VMware past earnings estimates - SiliconANGLE News Softchoice shares makes soft return to TSX following $350-million IPO - The Globe and Mail Box Reports Strong Fiscal First Quarter 2022 Financial Results - Business Wire Ariel's John W. Rogers Jr.: Value and Small Stocks Will Lead - Kiplinger's Personal Finance A Comprehensive Analysis Of Cloudflare Vs. Fastly: Which Stock Is Worth Buying? - Seeking Alpha Ask the Fool: What's the value in overvalued stocks? - Rochester Post Bulletin Better Buy: Cisco Systems vs. IBM - The Motley Fool Why Warren Buffett Picked the S&P 500 to Win the Investing Race - The Motley Fool The Motley Fool: Quidel’s testing gave it a banner 2020, but will that hold? - The Dallas Morning News The Smartest Dividend Stocks to Buy With $400 Right Now - The Motley Fool Reliance Industries share rises 10% in two sessions; is the stock headed for record high? - Business Today Better Buy: Zoom Video Communications vs. Microsoft - The Motley Fool SoFi IPO Via SPAC Begins Trading, Stock Climbs - Investor's Business Daily Dow Jones Today Leads, Stocks Climb As PMI Data Hits Record; Oil Prices Surge; AMC, Cloudera Lead Small Cap Rally - Investor's Business Daily Ride the Renewed Meme Stock Wave With This New ETF - Nasdaq Dow Jones Today Targets 5th Advance As Stocks Inch Up; DXC Upgraded; BorgWarner Nails Hyundai EV Deal - Investor's Business Daily Dubber as a standard feature of Cisco Webex Calling and UCM Cloud - PR Newswire Cisco's Unified Computing System goes hybrid at Future Cloud event - SiliconANGLE News Joby Aviation signs parking garage rooftop deals with Reef - Silicon Valley Business Journal - The Business Journals SEBI bans 2 Infosys employees from stock market for insider trading; unwinds Rs 3 cr unlawful profit - The Financial Express Semiconductor Stocks To Watch: Chipmaker LRCX Stock Etches Buy Point As AMAT Stock Designs Its Own Breakout - Investor's Business Daily Dow Jones Today, Stocks Downshift As May Hiring Surges; AMC Dips On Share Offering; Ford, GM Rally - Investor's Business Daily PagerDuty beats Street with strong revenue growth but its stock falls on lower guidance - SiliconANGLE News Dow Jones Flat, Nasdaq Lower, As Biden Offers This Infrastructure Compromise; AMC Stock Dives - Investor's Business Daily Dow Jones Futures Slump: AMC Selling More Shares As Meme Stocks Rule Market Rally, But Here's The Winning Long-Term Strategy - Investor's Business Daily Ex-teacher, Chinese billionaire Larry Chen loses $14 billion since Jan; here's why - Business Today Here's why AMC's stock surge is different than GameStop - CNBC Stock Market Today 6/3/21: Markets Dip Despite Upbeat Jobs Data - Kiplinger's Personal Finance Intel: A Good Pick For Value Investors - Seeking Alpha Ransomware Attacks Are Rising: 3 Top Cybersecurity Stocks to Buy in June - The Motley Fool Why Opendoor Technologies Stock Fell 22.7% in May - The Motley Fool Top Tech Job Opportunities You Should Know About | ITBE - IT Business Edge Why The Big Run Of Google Stock Vs. FANG Rivals Could Keep Going - Investor's Business Daily Dow Jones Futures: Market Rally Breaks Support As GM Flies, Tesla Dives; AMC Stock Whipsaws In Meme Stock Madness - Investor's Business Daily Dow Jones Today, Stocks Rise On Weak Payrolls Data; Ford Gains On Mach-E Milestone - Investor's Business Daily AMC Entertainment Share Price Rides Roller-Coaster in Mania for Memes - Bloomberg Beat Capital Gains Taxes With the Roth IRA - The Motley Fool Ralph Lauren Stock Is Estimated To Be Significantly Overvalued - Yahoo Finance Why Redfin Stock Slumped 16.6% in May - The Motley Fool Think the Global Minimum Tax Will Bite? Watch the Stock Market - Bloomberg As Nvidia Stock Breaks Out, Cloud And Chip Stocks GOOGL, MSFT, AMAT Set Up - Investor's Business Daily Not In A Hurry To Sell Cisco - Seeking Alpha Powering an Inclusive Future of Work: Cisco Unveils Webex Innovations that Enable Hybrid Work and Events, Ensuring Equal Opportunity and Voice - PR Newswire Remembering The Dotcom Bubble - Seeking Alpha ‘You have to be prepared’: How the CEOs of Chevron, Nasdaq, Cisco, and Flex dealt with the pandemic - Fortune 3 Reasons Broadcom Is a Dirt Cheap Tech Dividend Stock - The Motley Fool Cisco CEO Chuck Robbins: Empathy is not a trend - Fortune Dow Jones Futures: Tesla China Sales Jump, Marvell Joins New Market Rally Breakouts While Bitcoin Dives - Investor's Business Daily How VMware Plans to Become the Next Cybersecurity Giant - Business Insider Where Will Microsoft Stock Be In 5 Years? - Seeking Alpha AMC Stock-Price Surge: Veteran Options Trader on 3 Drivers of It - Business Insider Dow Jones Today Lags, Nasdaq Tests 14000 As Tesla Climbs On China Sales, Apple Enters EV Battery Talks - Investor's Business Daily Stock Market Today 6/8/21: Russell 2000 Leads Again as Dow, S&P Churn - Kiplinger's Personal Finance (LOTZ) Alert: Did You Lose Money on Your CarLotz Investment? Contact Johnson Fistel Regarding Investigation - Yahoo Finance Dow Jones Slips; Meme-Mania Sends WWE Stock Flying As AMC Is Slammed; Microsoft Gains - Investor's Business Daily Stock Market Today 6/9/21: Stocks Snooze While Investors Await Inflation Update - Kiplinger's Personal Finance 3 Dividend-Paying Tech Stocks to Buy Right Now - The Motley Fool FCEL Stock Sinks As Fuel Cell Energy Misses Q2 Forecasts - Investor's Business Daily Why Ciena Is Still A Stock To Hold - Seeking Alpha Security flaws found in Samsung’s stock mobile apps - TechCrunch '5G' jobs doubled in one year in India; Cisco, Ericsson top recruiters - Business Today Roblox Is Facing a $200 Million Lawsuit From the National Music Publishers' Association - The Motley Fool Apple and other U.S. companies are under pressure to answer for China's 'repression,' key Biden ally says - CNBC Stock Market Today 6/10/21: S&P 500 Sets New High as Inflation Stays Red-Hot - Kiplinger's Personal Finance This Option Strategy Is Cheaper Than Put Options; How It Works On BAC Stock - Investor's Business Daily The great value rotation in the stock market may already be over as investors embrace tech again - CNBC Cisco DNA Center update tackles customer headaches - TechTarget Cisco Talos: Exchange Server flaws accounted for 35% of attacks - TechTarget Investing Like Top Fund Managers, Playing the Stock Market: Jefferies - Business Insider Tom Lee is changing his view on which stocks may lead the market's next leg higher - CNBC 8x8: Still Pricey - Seeking Alpha Stock Market Crash: 'Bond King' Warns Inflation Hike Could Sink Stocks - Business Insider Over 65,000 ransomware attacks expected in 2021: former Cisco CEO - Yahoo Finance Should You Buy Adobe Stock Ahead of Earnings? - Baystreet.ca Draftkings, Electric Vehicle stocks take spot in Russell 3000: At the Rebalance - Seeking Alpha Stock market news live updates: Stocks eke out record high as investors look ahead to Fed decision - Yahoo Finance Cisco, Dell Have 'A Lot Of Catching Up To Do:' HPE Financial Services CEO Irv Rothman - CRN Stock Market Today 6/15/21: Stocks Slip on Mixed Economic Data Dump - Kiplinger's Personal Finance Former Cisco Execs Used This Pitch Deck to Raise $26 Million - Business Insider Key to Innovation: Build a Dominant Sales Force and Acquire New Products - Inc. Oversaturated Industry: What Names Stand Out In Cyber Security - Seeking Alpha Stock Market Today 6/16/21: Stocks Briefly Sputter as Fed Projects Higher Rates in 2023 - Kiplinger's Personal Finance Waymo Raises $2.5 Billion In Funding But Valuation Unclear For Google Stock - Investor's Business Daily MacKenzie Scott's wealth rising despite donations due to Amazon stock - Business Insider 10x Future Technologies announces $187m Series C funding - Financialbuzz.com Baidu vs. Yandex: Which Search Engine Stock is a Better Buy? By StockNews - Investing.com JetBlue plans to suspend San Jose-Boston flight, other Bay Area routes - Silicon Valley Business Journal - The Business Journals Stock Wars: Hilton Worldwide Vs. Marriott International - Benzinga - Benzinga 2021 Jeep Grand Cherokee L’s off-road ability and interior leave SUV competitors in the dust - Yahoo Finance Better Buy: Clorox Stock or the Entire S&P 500? - The Motley Fool How Millions Of Germans Got Screwed 25 Years Ago - Seeking Alpha Hayley Leibson from Neverland is a Silicon Valley Business Journal Woman of Influence. - Silicon Valley Business Journal - The Business Journals Stock Picks to Buy: Top 1% Investor Shares 5 Financial Firms to Buy Now - Business Insider The Beauty Health Company Stock is a Re-Opening Play - MarketBeat Twitter stock slips 25% from 52-week high amid tussle over Indian IT rules - Business Today These Are Cisco's 10 Acquisitions Since Last June - CRN Seeking Alpha Catalyst Watch for stocks (NYSE:FDX) - Seeking Alpha Geron Skyrockets on Bone Marrow Cancer Treatment Trial - TheStreet Tech Stocks Hit It Big As Covid-Sparked Digital Shift Continues With No End In Sight - Investor's Business Daily Stock Market Today 6/18/21: Dow Suffers Worst Week in 8 Months - Kiplinger's Personal Finance The Amazon stock price can go much higher, says Jefferies - InvestingCube This Apple Supplier Is Generating Bigger Gains Than Apple - The Motley Fool PayPal Stock, Microsoft Among 5 Long-Term Leaders You Can Buy Now - Investor's Business Daily Ubiquiti: An Under-the-Radar Technology Disruptor - The Motley Fool Shopify Stock Rally Putters Out; Shares Hit New High Then Reverse - Investor's Business Daily Here are Bank of America's top internet stock picks for the second half - CNBC Here's How Much Energy Secretary Jennifer Granholm Is Worth - Forbes Need New UC&C Equipment? Not So Fast - No Jitter 3 Dow Stocks That Might Be Booted From the Iconic Index - The Motley Fool Which Cybersecurity Stocks Should You Buy? - Seeking Alpha Confluent's IPO: The Details You Need To Know - CRN 3 PC Stocks That Turned $10,000 Into Millions - The Motley Fool Software Firm Sprinklr Raises $266 Million in Downsized U.S. IPO - Bloomberg Cisco Salaries: How Much Cisco Pays Engineers, Sales Reps, and More - Business Insider Sprinklr, Marketing Software Firm, Rises in First Day of Trading - TheStreet Vodafone Idea partners with Cisco to support 4G and 5G user experience - Business Standard MSFT: 3 Tech Stocks to Buy and Hold Forever - StockNews.com Thieves grab $50,000 in handbags from The RealReal store in downtown Palo Alto - Silicon Valley Business Journal - The Business Journals LUV Stock Falls As Southwest CEO To Step Down; Successor To Oversee Big Expansion, Boeing Order - Investor's Business Daily Investing Advice: 5 Stock Market Trades to Make for the Reopening - Business Insider Splash Beverage Group Stock is an Under The Radar Beverage Play - MarketBeat On Second Day Of Trading, Sprinklr's Stock Price Makes Its Founder And CEO A New Billionaire - Forbes Confluent Stock Begins Trading At $44, Setting Market Valuation In The $10 Billion Range - CRN Newell Brands Stock: Fairly Valued With A High Dividend Yield (NASDAQ:NWL) - Seeking Alpha Dow Jones Futures Rise, S&P 500 Eyes High As Market Rally Gains Steam; Snap, Tesla, Eli Lilly, Accenture Moving - Investor's Business Daily Comcast Bid For Roku Seen Unlikely; CMCSA Stock Buyback Restarted - Investor's Business Daily The move to hybrid work, permanently - TechRepublic Top 25 S&P 500 Stocks By Index Weight - Yahoo Finance It's a Good Time to Invest in Europe - Kiplinger's Personal Finance Stock Market Today 6/24/21: New Infrastructure Hopes Hoist Indexes to New Heights - Kiplinger's Personal Finance Stress Test Results Clear Banks To Boost Dividends, Buybacks Again - Investor's Business Daily Healthcare Stocks Are Bargains Now - Kiplinger's Personal Finance The Teamsters Union will make unionizing Amazon drivers a national priority - Protocol Graphite Bio, Alpha Teknova IPOs raise $334 million at week's end - Silicon Valley Business Journal - The Business Journals Here Comes The Third $2 Trillion Company After Microsoft And Apple - Investor's Business Daily Here's How Much the Average Person Collects in Social Security Benefits - The Motley Fool What Does An Overweight Rating Mean? - MarketBeat 3 Top Cybersecurity Stocks to Buy for the Long Haul - The Motley Fool These Tech Companies Run By Emerging Market Immigrants Are Beating The Nasdaq - Forbes 10 Reasons Dogecoin Predictably Crashed - The Motley Fool Dow Jones Futures: Market Rally Rotation Wanes With Amazon Near Buy Point, Tesla, Nio Rebounding; Gene-Editing Stocks Soar - Investor's Business Daily Philippines’ Voyager Innovations Secures US$167 M for PayMaya Expansion Into Financial Services, Digital Banking - Yahoo Finance Upcoming Ex-Dividend Dates: June 29-July 12, 2021 - Seeking Alpha Cisco's Stock May Be Ready To Break Out - Seeking Alpha 3 Stocks That Could Make You Much Richer Over the Long Run Than AMC Will - The Motley Fool Meet Erriyon Knighton, the 17-year-old who broke Usain Bolt's record and is now an Olympian - Yahoo Finance WISH stock price prediction: Can the ContextLogic rally keep going? - InvestingCube Stock Market Today 6/28/21: Chip Rip Triggers Record Highs in Nasdaq, S&P - Kiplinger's Personal Finance Zuckerberg Gets Trillion-Dollar Gift On Elon Musk's Birthday - Investor's Business Daily Oblong Announces $12.4 Million Registered Direct Offering - Business Wire IBM Taps Former State Street CIO To Be Kyndryl CTO - CRN Vanguard's High Dividend Yield ETF (VYM): Dividends And Growth - Seeking Alpha Dow Jones Rallies; Covid Play Hits Profit Goal On This News; AMC Slips As Meme Stock Rockets - Investor's Business Daily Cisco UCS Server Sets 14 Performance Record Benchmarks - HPCwire Stock Market Today 6/29/21: High Consumer Confidence Fails to Stir Stocks - Kiplinger's Personal Finance PANBELA THERAPEUTICS ANNOUNCES $5.0 MILLION BOUGHT DEAL OFFERING OF COMMON STOCK - Yahoo Finance 3 Top Stocks That Could Triple in Price Once Again - The Motley Fool Cisco Completes Acquisition of Kenna Security - PR Newswire Fastly: Too Much Optimism - Seeking Alpha Stock Market Today 6/30/21: Stocks Polish Off a Productive First Half - Kiplinger's Personal Finance Affirm Stock is Ready to Rally - MarketBeat SentinelOne IPO raises $1.2 billion, beating estimates - TechTarget Why Versa Grabbed $84 Million For SASE - Forbes Rajiv Ramaswami On Nutanix Stock, New Chairman And Driving Profitability - CRN Jim Cramer Explains Why Micron Stock Is Lower After Earnings - TheStreet Robinhood publicly files IPO documents amid retail stock trading boom - Business Insider Robinhood has settled a suit over suicide of a 20-year-old trader - Business Insider Ayr Is Best Cannabis Stock to Buy Now, According to Viridian - Business Insider Online Grocery Delivery Demand to Prevail: 4 Stocks to Watch - Yahoo Finance Two new stock market acronyms — FOLO and YOMO — can save you a lot of grief (and money) - MarketWatch Is the \"Uber of China\" a Better Buy Than Uber? - The Motley Fool A New Tailwind For Brookfield Asset Management - This Time From Retirees - Seeking Alpha Nvidia Announced a Stock Split. Here's Why Investors Shouldn't Care - The Motley Fool Amazon's Biggest Threat in E-Commerce - The Motley Fool Amazon CEO Andrew Jassy to receive $200 million in stock: SEC filing - Business Insider How Does Real Estate Perform During Inflation? - The Motley Fool Micron's Post-Earnings Selloff Leaves the Stock Attractively Priced - RealMoney One Stock Blasted Past Amazon's 179184% Run Under Jeff Bezos - Investor's Business Daily Connecting the modern grid: Agility is more important than ever - Smart Energy Here is What Hedge Funds Think About MP Materials Corp. (MP) - Yahoo Finance Forever 21, Brooks Brothers owner Authentic Brands files for IPO - Seeking Alpha Kaseya ransomware attacks: What we know so far - TechTarget Pleo nabs $150M at $1.7B valuation to speed up corporate expense management - SiliconANGLE News Got $5,000? Buy and Hold These 3 Value Stocks for Years - The Motley Fool 10 Top Hedge Funds Focusing on ESG and Impact Investing - Yahoo Finance Amtrak Signs Deal to Acquire 83 Multi-Powered Trains - Financialbuzz.com Satellite imagery and data startup Planet to go public in $2.8B SPAC deal - SiliconANGLE News Verizon Communications Inc. (VZ) Ex-Dividend Date Scheduled for July 08, 2021 - Nasdaq Mmmhmm Raises $100 Million - Bloomberg Didi Extends Drop to Fresh Lows as China Weighs Rule Changes - Bloomberg DJD: The 3% Dividend Is Nice, But You'll Pay More For Its Poor Diversification - Seeking Alpha Cisco Completes Acquisition of Socio Labs - PR Newswire Why Broadcom Is a Retiree's Dream Stock - The Motley Fool Stellantis Stock Falls As Fiat Chrysler Parent Details EV Moves To Catch GM, Tesla - Investor's Business Daily Is Skew Cheap Or Expensive? - Nasdaq Newegg stock price slides 35% after quadrupling over just 2 days - Business Insider Spartan Acquisition Corp. II Announces Stockholder Approval of Business Combination with Sunlight Financial - Yahoo Finance Report: Google set to acquire Japan's Pring for $180M+ to boost fintech business - SiliconANGLE News How Silicon Valley Bank became a pre-IPO play—then became a top-performing stock itself - Fortune Glimpse Group CEO: Big Tech complements our efforts in VR/AR - AlphaStreet 2 Top 5G Stocks That Are Screaming Buys Right Now - The Motley Fool Bay Area medical technology companies had a mixed year. Natera had a good one. - Silicon Valley Business Journal - The Business Journals Stripe hires law firm in first step towards stock market debut: report - Business Insider Don't Bother With VT, It's A 'Diworsefication' Of VTI - Seeking Alpha James Stack blames Fed for mass market speculation, predicts inflation - Markets Insider American Hospitality Trust Stock is a Travel Reopening Play - MarketBeat Google bridges gap between CSP demand and revenue growth with Anthos - SiliconANGLE News 3 Top Cybersecurity Stocks to Buy in July - The Motley Fool Long-Term Investors Should Look For a Bullish Signal to Buy Chevron Stock - MarketBeat Cisco Systems: Perfect Setup For Long Call Options - Seeking Alpha 1 Stock To Buy, 1 To Dump When Markets Open: Morgan Stanley, Citigroup - Investing.com Retiring Early? Here's The Top Social Security Income at Age 62 - The Motley Fool Is Cisco Stock A Buy Today? (NASDAQ:CSCO) - Seeking Alpha Dow Jones Gains As Disney Moves Higher, Virgin Galactic Plunges On This; AMC Stock Dives - Investor's Business Daily You Should Know About Monday's 2 Big Nasdaq Winners - The Motley Fool Zoom at 10: Where Does It Go From Here? - No Jitter Why Cypress Semiconductor founder TJ Rodgers loves battery startup Enovix - Silicon Valley Business Journal - The Business Journals Prospect Capital prices public offering of 5.35% Series A Perpetual Preferred Stock - Seeking Alpha 3 Restaurant Stocks To Buy Before Earnings - MarketBeat Mobikwik Files For ₹1,900 Crore Share Sale | Mint - Mint Dow Lags As Banks Weigh But Nasdaq Hits New High; 3 Breakouts To Watch - Investor's Business Daily Broadcom Stock Hits Buy Point Amid Big Acquisition Rumor - Investor's Business Daily Chittilapilly Appointed As Cisco India, Saarc Chief | Mint - Mint Stock Market Today (7/13/21): Red-Hot June CPI Cools Off Stocks - Kiplinger's Personal Finance RBC Nabs Trio of Credit Suisse Bankers to Expand Tech Franchise - Bloomberg Skyworks: Set To Benefit From Secular Growth - Seeking Alpha U.S. Stock Market: Stories About Narratives (And What To Do Now) - Seeking Alpha Bloomberg Sustainable Business Summit July 14, 2021: Engine No. 1 CEO Speaks - Bloomberg TSM Stock: Taiwan Semiconductor Earnings Match Estimates - Investor's Business Daily Stock Market Today (7/15/21): Stocks Slip as Tech, Energy Come Up Lame - Kiplinger's Personal Finance Better Buy: Amazon vs. Airbnb - The Motley Fool Self-Driving Car Startup With Tesla, Google Roots To Go Public - Investor's Business Daily Dow Jones Gives Up Gains As These Tech Stocks Weigh; Nasdaq Gets Slammed - Investor's Business Daily NortonLifeLock, Avast In Advanced Merger Talks - CRN Swampfox Technologies Delivers for Cisco-Based Contact Centers with Latest Update of Callback Solution, First In Line 3.1 - PR Newswire GameStop Analyst Shares How to Spot Short Squeezes Among Meme Stocks - Business Insider Let compounding work its magic - Investors' Chronicle - Investors Chronicle Bharti Airtel Shares Rally Close To 3.5% On Cisco Collaboration - Goodreturns 3 Top Aerospace Stocks to Buy in July - The Motley Fool How to know when to sell a stock - Bankrate.com Dow Jones Today Retakes 35000 As Stocks Climb On Retail Sales Data; Moderna Spikes; Starbucks Tops Buy Point - Investor's Business Daily Stock Market Today: Stocks End Record-Setting Week in the Red - Kiplinger's Personal Finance Do You Really Know What's Inside Your ETF? - Investor's Business Daily Kroger workers couldn't get $4 raise, but shareholders get $1 billion - Business Insider Victoria's Secret billionaire to sell $1.2 billion of company stock - Business Insider Indy Semiconductor Stock Is A Play On Automotive Megatrends - Investing.com Upside/Downside Explained - MarketBeat Investing Strategy: Growth Vs. Value, Quality Vs. Meme Stocks, Alternatives - Business Insider 3 Investing Rules That Could Make You Rich - The Motley Fool Is Cisco Systems (NASDAQ:CSCO) Using Too Much Debt? - Nasdaq Zoom is buying cloud contact center provider Five9 for $14.7 billion - CNBC Cisco: It's Time To Upgrade Your Income Network - Seeking Alpha $14.7 Billion Five9 Acquisition Aims To Revive Zoom’s Growth - Forbes Morgan Stanley says a 10% to 20% correction is ahead, get defensive and buy staples - CNBC U.S. Stocks Stumble as Virus Spread Dulls Hopes of Rebound - Bloomberg Rapid7 acquires threat intelligence and remediation startup IntSights for $335M - SiliconANGLE News Can WISH stock price drop 20%? ContextLogic longs brace for more pain - InvestingCube It Seems Premature to Set Sail With Norwegian Cruise Line - RealMoney How to Find the Next Meme Stock: Which 9 Have Real Support? - Business Insider Pivot3 gives up ghost as Quantum buys its assets to go deeper into video surveillance – Blocks and Files - Blocks and Files 5 Stock Strategies to Profit From an Inflation Trade Comeback: UBS - Business Insider Nvidia Stock - How to Trade It After the Split - TheStreet Here are Tuesday's biggest analyst calls of the day: Tesla, Apple, Amazon, Netflix, Exxon & more - CNBC Zoom And Five9: A Good Fit? - Seeking Alpha Stock Market Today: Coke, Chipotle Keep the Snap-Back Rally Rolling - Kiplinger's Personal Finance The Best Tech Stocks – And The Worst – In 2021 (So Far) - CRN Twilio Stock: Bull and Bear Case (NYSE:TWLO) - Seeking Alpha Comcast: Opportunities Abound For This Dividend Growth Stock - Seeking Alpha Using Cash-Secured Puts To Ease Intel Stock Choppiness Ahead Of Earnings - Investing.com 3 Reasons You May Not Receive Social Security Benefits - The Motley Fool 10 things before the opening bell: July 21 - Business Insider Investors Buy 3 Stock Sectors As Institutions Prep for Pullback: BofA - Business Insider Dow Jones Falls On Surprise Jump In Jobless Claims; Snap, Twitter Set To Report Earnings - Investor's Business Daily Untitled Ventures joins the scramble for Russian & Eastern European startups with a $118M warchest - Yahoo Finance America's Worst CEO-to-Worker Pay Ratios - Kiplinger's Personal Finance These 3 Hidden Tech Stocks Have Bullish Potential - Seeking Alpha Oaktree's Howard Marks Warns on Stock-Market Euphoria and Herding Bias - Business Insider Why Is Everyone Talking About Zoom Stock? - The Motley Fool This Crypto Has Turned $1,000 Into $27,000 in 6 Months. Should You Buy? - Nasdaq Dow Jones Up 195 Points, in Record Territory Despite Intel Worries - The Motley Fool Is IBM Stock Undervalued Or Overvalued? What To Consider - Seeking Alpha Cramer's Mad Money Recap: Tesla, Apple, Google - TheStreet Tesla's latest diversity report looks at workforce, leadership progress - Silicon Valley Business Journal - The Business Journals Tesla's Q2 Earnings: 4 Things to Watch - Kiplinger's Personal Finance Fitch Affirms Avaya Inc.'s IDR at 'B', Upgrades First Lien Debt to 'BB'/'RR1'; Outlook Positive - Fitch Ratings Cisco Top Salaries: How Much Cisco Pays Execs, VPs, Directors - Business Insider Zoom's lightning-fast ascent to $100 billion made big acquisitions a sudden priority - CNBC Robinhood promises to earn back trust of customers outraged over meme stocks - Business Insider A Decade Of Outperformance May Be Followed By A Decade Of Underperformance - Seeking Alpha Stock Markets Today: China tension, ABB sale, compulsory vaccines, Bitcoin soars - Bloomberg Will Social Security Change the Way it Calculates Raises? Here's Why It Should - The Motley Fool Ex-Cisco CEO discourages his start-ups from doing business in 'unpredictable' China - CNBC SentinelOne Stock: Cybersecurity Stock Jumps On Positive Wall Street Starts - Investor's Business Daily QQQ stock price’s red-hot rally shows no signs of cooling just yet - InvestingCube Duolingo Raises the Price Target for IPO - TheStreet Google Stock Climbs As Internet Search, YouTube, Cloud Computing Drive Earnings Beat - Investor's Business Daily Visa Moves Into Buy-Now-Pay-Later To Counter Threat From PayPal, Others - Investor's Business Daily JupiterOne Adds New Strategic Investors, Cisco Investments and Splunk Ventures, to Support Ecosystem - PR Newswire Stock Market Investing Strategy: 5 Industries Offering High Risk-Reward - Business Insider RingCentral, Bandwidth Forge BYOC Partnership | No Jitter - No Jitter Shopify's Gravity-Defying Gains Prime Markets for Solid Quarter - Bloomberg IBD 50 Stocks To Watch: Contract Manufacturing Leader Jabil Offers New Buy Point - Investor's Business Daily Twilio Stock: No Margin Of Safety (NYSE:TWLO) - Seeking Alpha 4 Stocks to Play as Video Game Sales Continue to Surge - Yahoo Finance Cisco Still Has Upside Potential - Seeking Alpha Dow Jones Today, Stocks Open Mixed Ahead of Fed; Apple, Alphabet, Microsoft, Boeing, AMD, McDonald's Report Earnings - Investor's Business Daily Google-parent Alphabet earnings report; What every major analyst says - CNBC What to know about Robinhood IPO: date, pricing, risk factors - Business Insider Retail investors are buying Chinese stocks hit by Beijing crackdown - Business Insider 3 Restaurant Stocks Likely to Beat Earnings This Week - MarketBeat This Day In Market History: Bell Atlantic And GTE Announce $52B Merger To Form Verizon - Benzinga - Benzinga Were Hedge Funds Right About Berkeley Lights, Inc. (BLI)? - Yahoo Finance Is At Home Group (HOME) A Smart Long-Term Buy? - Yahoo Finance How Cisco Decided Employees Don't Have to Return to Offices - Business Insider 3 Reasons to Buy Zoom Video Communications, and 1 Reason to Sell - The Motley Fool Dow Jones Rallies As U.S. GDP Disappoints; Tesla Races Higher, Robinhood IPO Set To Jump In Debut - Investor's Business Daily Why Brightcove Stock Plunged Today - The Motley Fool Mastercard Stock Up As Earnings Top; Visa Earnings Beat, Incentives Rise - Investor's Business Daily Gilead Stock: Gilead Earnings Top Views; Biotech Giant Narrows Guidance - Investor's Business Daily Global Hotel and Hospitality Management Software Market- Amadeus IT Group SA, Cisco Systems Inc., Honeywell International Inc., Among Others to Contribute to the Market Growth - PR Newswire Facebook vs.Twitter: Which Social Media Stock Is A More Compelling Buy? - Yahoo Finance Juniper Networks: Cloud And AI Will Drive Revenue Growth - Seeking Alpha Political Risk Continues To Weigh On China Stocks - Investing.com China Short Sellers Are Getting Crushed in a Big Tech-Stock ETF - Bloomberg AWS Sees 37 Percent Quarterly Growth As Amazon Disappoints - CRN Biden Taps Kaplan for Long-Vacant Singapore Envoy Post - Bloomberg My Top Cloud Computing Stock to Buy Right Now - The Motley Fool Cisco shifts to hybrid workplace model, employees can opt to work permanently from home - BusinessLine Oportun's Pamela Lujan is a Silicon Valley Business Journal 2021 40 Under 40 honoree. - Silicon Valley Business Journal - The Business Journals Celebrating visionary CIOs at Cisco CIO Circle of Excellence Awards - Moneycontrol 10 High-Return Stocks That Should Keep Delivering - Kiplinger's Personal Finance 3 Reasons I Fear Crypto More Than Stocks - The Motley Fool Microsoft Closing The Gap With UiPath - Seeking Alpha Finding Cheap High Growth Stocks: Tips From Fund Manager Brian Barish - Business Insider Cyxtera-SVAC Merger Complete, Company Now Publicly Traded - Channel Futures Still more upside to Cisco Systems, this investor says - Cantech Letter China stock crackdown, best crypto apps, real estate: Insider Investing - Business Insider Weekly Stock Market And Economy Recap - Investing.com CSCO: Cisco vs. Juniper: Which Networking Stock is a Better Buy? - StockNews.com Dow Jones Futures: Market Rally Near Highs, Square Makes Huge Deal; Li Auto, Tesla Rivals Report Strong Sales - Investor's Business Daily Undebug my heart: Using Cisco's IOS to take down capitalism – accidentally - The Register Liberty Global plc (LBTYA)(LBTYB)(LBTYK) Q2 2021 Earnings Call Transcript - The Motley Fool Lordstown Motors stock price sinks to a new low: But sellers beware - InvestingCube Apple Stock: An Opportunity To Buy Shares (NASDAQ:AAPL) - Seeking Alpha Arista Networks (ANET) Q2 2021 Earnings Call Transcript - The Motley Fool Pensando Systems Receives Nearly $35M In New Funding: Exclusive - CRN 3 Israeli Biotech Stocks Driving Global COVID-19 Innovation - Investing.com Wells Fargo vs. Bank of America: Which Stock is a Better Buy? By StockNews - Investing.com 2 Growth Stocks to Buy Right Now - The Motley Fool Cisco Leaps Into Asynchronous Video | No Jitter - No Jitter New Relic beats expectations but slow customer growth weighs on stock - SiliconANGLE News 7 Companies' Profit Poised To Absolutely Boom Before Year's End - Investor's Business Daily Better Buy: Marvell Technology Group vs. Broadcom - The Motley Fool 3 Stocks That Could Turn $10,000 Into $50,000 by 2030 - Nasdaq BABA Stock Falls As Quarterly Revenue A Miss - Investor's Business Daily 3 Tech Giants That Should Consider Paying Dividends - The Motley Fool Will Intel's \"Accelerated\" Chipmaking Plans Spell Trouble for TSMC? - The Motley Fool Why This 1 Value Stock Could Be a Great Addition to Your Portfolio - Yahoo Finance DXC Earnings Preview: 4 Biggest Things To Focus On - CRN Norwegian Startup Neat Aims To Take Zoom, Microsoft Teams Meetings 'To The Next Level' - CRN 'This is the worst I've seen it' says Arista boss as entire network hardware sector battles component shortages, doubled lead times for semiconductors - The Register Time to Buy Back into Denny’s Stock - MarketBeat The Highest Quality Dividend Growth Stocks - Seeking Alpha MOVE Disaster Relief and Outreach Program Accepts Donated Response Vehicle from Cisco - PR Newswire Cardlytics: A Buying Opportunity - Seeking Alpha WorkJam raises $35M to develop software tools for frontline workforces - SiliconANGLE News Here's why Marvell is buying chip startup Innovium in $1.1B deal - Silicon Valley Business Journal - The Business Journals Dow Jones Futures Fall: GM Slides On Profit Miss, Paycom Flashes Buy Signal After Market Rally, Tesla, Square Find Support - Investor's Business Daily Bay Area grocery delivery startup Weee just leased a 141,000-square-foot warehouse in Milpitas - Silicon Valley Business Journal - The Business Journals Cloudflare vs. Fastly Stock: Which Is The Better Buy? (NYSE:NET) - Seeking Alpha Ionis Pharmaceuticals, inc (IONS) Q2 2021 Earnings Call Transcript - The Motley Fool Ttec Holdings Inc (TTEC) Q2 2021 Earnings Call Transcript - The Motley Fool RingCentral (RNG) Q2 2021 Earnings Call Transcript - The Motley Fool W. P. Carey: To Cut The Dividend Or Not - Seeking Alpha Alteryx (AYX) Q2 2021 Earnings Call Transcript - The Motley Fool The rise of videos in emails - TechRepublic Dell-VMware Spin-Off Deal 'Likely' To Close By October: Sources - CRN TheScore stock soars 75% on US$2 billion offer from Penn National Gaming - Yahoo Finance 4 Dividend Stocks to Buy Hand Over Fist in August - The Motley Fool 3 Reasons to Invest in S&P 500 ETFs, and 2 Reasons Not to - The Motley Fool Keep Avoiding Fastly After Dismal Q2 Earnings - Seeking Alpha Stocks To Watch: Adani Power, Bharti Airtel, Future Retail, Gail, Maruti | Mint - Mint Jeremy Grantham, we're in one of the greatest bubbles in financial history - MoneyWeek Liberty Formula One Group (FWONA) Q2 2021 Earnings Call Transcript - The Motley Fool Is Robinhood Stock Still A Good Buy After Its IPO Surge? - Investing.com Dow Jones Rallies, Tech Stocks Slide As U.S. Economy Adds 943000 Jobs; Robinhood Surges, Tesla Slides - Investor's Business Daily GOOGL Stock, Shopify, Nvidia Among New Buys By The Best Mutual Funds - Investor's Business Daily Nokia's Return to Blue-Chip Technology Status May Finally Happen - InvestorPlace ViaSat (VSAT) Q1 2022 Earnings Call Transcript - The Motley Fool Despite Supply Chain Woes, Arista Networks Does Record Business - The Next Platform Moderna: My DCF Model Reveals An Implied Share Price Of $583-$771 (NASDAQ:MRNA) - Seeking Alpha HDV Review: Attractive Yield, Underwhelming Return - Seeking Alpha 4 Real Risks of Investing (and What to Do About Them) - The Motley Fool Why Tilray, Sundial Growers, and Hexo All Dropped in July - The Motley Fool Warren Buffett, Berkshire sell $1 billion of stock, cut buybacks in Q2 - Business Insider 3 High-Tech Healthcare Stocks to Buy Now - MarketBeat Marvell to Buy Switch Chip Startup for $1.1 Billion to Lure Cloud Customers - Electronic Design Dividend Sleuthing: Cisco Systems - Seeking Alpha Dow Jones Falls As Bitcoin Spikes Above $46000; Tesla Stock Jumps On Upgrade - Investor's Business Daily How Cisco is Embracing the Changing Telephony Market - No Jitter Lightwave Logic Is A Tiny, Glorified Science Lab, Recent 500%+ Runup Is Without Substance - Seeking Alpha Bill Gates transfers $2B more in stock to Melinda, $6B since divorce news - Business Insider Turbocharge your networking career by learning the skills needed for Cisco certification - TechRepublic PUBG maker Krafton drops 20% from IPO price on trading debut - Business Today 'Hellblade: Senua's Sacrifice' gets a surprise Xbox Series X/S patch - Yahoo Finance What's in Store for ContextLogic (WISH) in Q2 Earnings? - Nasdaq Crypto trading platform startup FalconX's value jumps 5X in 5 months to $3.75 billion - Silicon Valley Business Journal - The Business Journals Chanos warns meme stock investors: 'You only have yourself to blame' - CNBC BSO named first non-domestic global connectivity provider for Indian stock exchange - ComputerWeekly.com Robert Half International Stock is Jobs Boom Play - MarketBeat 9 \"Dirty\" Stocks That Pensions Are Shunning - Kiplinger's Personal Finance Dow Jones Futures: Market Rally Mixed As White House Sees Covid 'Leveling Off'; Tesla Rival Nio's Earnings Beat Views - Investor's Business Daily Cisco Employees Brace for Layoffs Expected in Coming Months - Business Insider American Airlines Stock Flashes Strength; Sales Soar - Investor's Business Daily Fintech just saw an earnings bonanza, as Coinbase and Upstart report over 11-fold revenue growth - CNBC Apple, eBay, Cisco could build 9M sf of office space in North San Jose - Silicon Valley Business Journal - The Business Journals There's No Reason to Get Charged Up Over EVgo - RealMoney Growing IT Provider, Paragon Micro, To Collaborate with Cisco's Sports and Entertainment Practice - PR Newswire Forget Sports Fantasy, Play To Win With Cash-Secured Puts On DraftKings Stock - Investing.com New Arctic Wolf CEO Nick Schneider On Plans For 'Significant' Channel Investments, IPO - CRN Quantum Appoints Industry Veteran John Hurley as Chief Revenue Officer - PR Newswire 10 things in tech: Cisco layoff fears — Foldable Samsungs — Customers drop Prime - Business Insider Micron Stock Tumbles on Morgan Stanley Downgrade, Memory Chip Sector Warning - TheStreet Rand Paul faces ethics complaint over wife's COVID drug stock purchases - Business Insider Trading.TV Is a New Livestreaming App Focused on Stock Trading - Business Insider PSG to partly pay Lionel Messi in crypto tokens - Business Today HPE Disty Creative Business Solutions Is Helping Partners Overcome Global Supply Chain Crisis - CRN Disney (DIS) Q3 Earnings: What to Expect - Nasdaq Blink Charging Co., A Short Squeeze In The Making - MarketBeat Cisco to buy Israeli startup Epsagon for $500m - Globes The rally in recovery-focused stocks could depend on consumers and the Fed in the week ahead - CNBC Is Verizon Stock a Buy? - The Motley Fool If you own an S&P 500 fund, you might want to consider replacing it with this better-performing dividend-stock fund - MarketWatch Why AbCellera Biologics Stock Was Up More Than 17% on Friday - The Motley Fool CEO of Silicon Valley 'space tug' company Momentus thinks its ready after public debut - Silicon Valley Business Journal - The Business Journals Seeking Alpha's Catalyst Watch for stocks - Seeking Alpha Clubhouse Tech Partner Agora Gets Wings Clipped In China Crossfire - Seeking Alpha Five Indian Americans on Forbes’ 2021 list of richest self-made... - The American Bazaar 5 Reasons Why the Market Is About to Take a Turn for the Worse: Stifel - Business Insider Elon Musk's Tesla salary dropped to zero in 2020 - Business Insider 3 Tech Stocks With Surprisingly Solid Dividends - The Motley Fool Is the oil market broken? - CNN T-Mobile launches investigation after hacker claims to have stolen customer data - SiliconANGLE News Cisco is passing off higher costs to customers --- what does that mean for earnings? - MarketWatch Cisco beefing up app monitoring portfolio with acquisition of Epsagon for $500M - TechCrunch Dow Jones Today, Stocks Slump, Yields Retreat As China's Economy Slows; Feds Launch Tesla Probe; Sonos Spikes On Upgrade - Investor's Business Daily Will the chaos in Afghanistan affect the U.S. stock market? - Seeking Alpha Cisco (CSCO) Option Traders Unconfident Before Earnings - Investopedia Got $100? Here Are 3 Top Dividend Growth Stocks to Jump-Start Your Portfolio - The Motley Fool Dow Jones Futures Fall: Choppy Stock Market Rally As Tesla Stock Dives On Autopilot Probe - Investor's Business Daily Don't Overlook This Dividend Stock - The Motley Fool Alphabet (GOOGL) Boosts Google Meet Reach With Latest Update - Nasdaq Got $3,000? 2 Tech Stocks to Buy and Hold for the Long Term - The Motley Fool Schnitzer Steel Agrees to Buy Columbus Recycling Assets - TheStreet DiDi Stock Price Forecast: Buy the Fear or Sell the Rip? - InvestingCube Wish Stock Holds Support, Looks Set To Bounce Higher - Yahoo Finance Dow Jones Sells Off As Retail Sales Miss; Home Depot, Walmart Report Earnings - Investor's Business Daily Does GoHealth’s Unhealthy Stock Performance Make it a Buy? - MarketBeat 3 Reasons Why Sea Limited (NYSE:SE) Stock is Special - MarketBeat What Is The Ownership Structure Like For Aeva Technologies, Inc. (NYSE:AEVA)? - Yahoo Finance Sell Tech Stocks and Buy Stocks in These Four Sectors: BCA Research - Business Insider NVIDIA Q2 Earnings Preview: Data Center, Gaming Demand Continues Fueling Growth - Investing.com Chart Of The Day: Russell 2000 About To Top Out? - Investing.com Stocks making the biggest moves after hours: Robinhood, Cisco, Nvidia & more - CNBC Dow Jones Falls As Fed Minutes Reveal This Fear; Tesla Charges Up As Growth Stocks Lead; Apple Dips - Investor's Business Daily Dow Jones tumbles 382 points as Fed minutes suggest taper could start this year - Fox Business Dubber Adds Compliant Video Recording for Cisco Webex Meetings - PR Newswire Why Lowe's Stock Is Trading Higher Today - Yahoo Finance What Could Happen if You Invested $1 a Day in the Stock Market? - The Motley Fool Discount Giant Beats Views, But Stock Falls On Slowing Growth - Investor's Business Daily Stock Market News For Today August 18, 2021 - Nasdaq Stock Market Today (8/18/21): Fed Signals It Could Pare Back Stimulus in 2021 - Kiplinger's Personal Finance Western Digital Stock On Sale - Baystreet.ca Keysight Technologies (KEYS) Q3 2021 Earnings Call Transcript - The Motley Fool Postman Closes $225 Million Series D Round at a $5.6 Billion Valuation to Power the API-First World - Yahoo Finance Costco stores low on toilet paper as Delta variant spreads: shoppers - Business Insider Futures Extend Sell-Off As Fed Eyes Exit; Hot IPO Skyrockets On Earnings - Investor's Business Daily Stocks making the biggest moves midday: Macy's, Nvidia, Robinhood and more - CNBC Stock Market Today (8/19/21): Dow Falls for Third Straight Day - Kiplinger's Personal Finance Stocks making the biggest moves premarket: Macy's, Kohl's, Tapestry, Petco and others - CNBC What It's Like to Be Acquired by Cisco, Oracle, and Red Hat - Business Insider Nutanix stock falls on fears of sales miss, but one analyst says his data shows otherwise - MarketWatch 3 Top Chinese Stocks to Watch in August - The Motley Fool AMAT Stock: Applied Materials Blows Past Quarterly Targets - Investor's Business Daily GOP Rep. Harshbarger Didn't Properly Disclose 700 Stock Trades Worth As Much As $10.9 Million - Business Insider Is Cisco Systems Stock a Buy? - The Motley Fool Futures Signal Further Selling; Elon Musk Teases Tesla Bot - Investor's Business Daily Why Snowflake's Stock Is Falling - CRN T-Mobile slides on security breach; Facebook shares unfazed by new FTC action - S&P Global Reynen Court lures Wall Street banks, others to legal tech consortium - Reuters Microsoft stock outlook: 18% upside after Office 365 price increase - Business Insider Dow Jones Rallies As Microsoft Hits New High; Nvidia Among Growth Stocks Near Buy Point - Investor's Business Daily DXC Shareholders Reject Executive Compensation - CRN 3 High-Yielding Tech Dividend Stocks Nearing Aristocrat Status - The Motley Fool 4 Loopholes That Can Help You Access Your Retirement Savings Early - The Motley Fool When Will Disney, Ford, and AMC Pay Dividends Again? - Nasdaq 3 Top Tech Stocks We're Buying Right Now - The Motley Fool 5 Reasons To Be Bullish On Zoom - Seeking Alpha Wall Street SPAC Craze Is Over, Rest of Stock Market Could Be Hit Next - Business Insider CSCO: Cisco vs. Hewlett Packard Enterprise: Which Communication Equipment Stock is the Better Choice? - StockNews.com Why Cisco Opted Not to Sell or Spin Off Webex - No Jitter 3 Nasdaq 100 Stocks That Are Best Buys Now - The Motley Fool Pfizer Stock Pops On Trillium Takeover As Cancer Mashup Stokes TRIL Stock - Investor's Business Daily DGRO: Dividend Growth ETF Review - Seeking Alpha The Best Channel Stocks – And The Worst – In 2021 (So Far) - CRN IBD Screen Of The Day: Apple In Buy Range, Plus Two Other Dow Stocks To Watch - Investor's Business Daily 7 Hot Post-Pandemic Stocks Set to Soar - InvestorPlace Dow Jones Rallies As Pfizer Covid-19 Vaccine Gets Full FDA Approval; Tesla Races Higher - Investor's Business Daily BT Group Share Price Is at Risk of a 10% Meltdown - InvestingCube Cisco Vs. Amazon Stock: Which Is The Better Buy? - Seeking Alpha Dow Jones Rallies As Tesla Hits Buy Point; Best Buy, Palo Alto Surge On Earnings - Investor's Business Daily Have $500? 3 Absurdly Cheap Healthcare Stocks Long-Term Investors Should Consider Buying Right Now - The Motley Fool Will Micron Stock Bounce Back Or Will The Downward Trend Continue? - Seeking Alpha Rep. Tom Malinowski puts assets in blind trust following STOCK Act violations - Business Insider AMD Is Stealing Market Share From Intel, and It's Not Stopping Now - The Motley Fool ForgeRock files for IPO as identity and access management business grows - TechCrunch Extra Crunch roundup: Zūm CEO interview, Cisco’s M&A ethos, neoinsurance bad romance - TechCrunch UBS hunts crowded trades with most overweight, underweight stocks - Seeking Alpha A New Crop of Network Tech Is Eroding Cisco's Dominance, Analysts Say - Business Insider Just Five Stocks 'Carried' The Nasdaq To 15000; What's Next? - Investor's Business Daily eFFECTOR Therapeutics Debuts as Publicly Traded Next-Generation Oncology Company Advancing Mature Pipeline with New Class of Cancer Therapies - Yahoo Finance Semiconductor Stocks: TSMC, Microchip Moving On News - Investor's Business Daily American Express, JPMorgan Chase share gains lead Dow's nearly 100-point climb - MarketWatch UiPath vs. NICE: Which Software Stock is a Better Investment? - Yahoo Finance Retail investors are loading up on Chinese ADRs like Alibaba despite the risks - CNBC Avoid These 3 Popular Software Stocks That are Overvalued - Yahoo Finance Box, inc (BOX) Q2 2022 Earnings Call Transcript - The Motley Fool SEC Pursues “Shadow Trading” Insider Trading Case | Proskauer - Corporate Defense and Disputes - JDSupra - JD Supra Palantir: Explaining The Unexplainable - Seeking Alpha Stock Picks, Tech Investing Tips for China and India From Calamos - Business Insider ForgeRock IPO Filing Reveals Surging Sales, Growing Channel - CRN 7 of the Highest-Paying Dividend Stocks to Buy Before the End of 2021 - InvestorPlace Could Facebook's Horizon Workrooms Make It Zoom's Biggest Competitor? - The Motley Fool Pure Storage Stock Soars On Cloud, All-Flash Growth - CRN VMware beats estimates but stock falls on slower-than-expected cloud business growth - SiliconANGLE News How to Get Hired at Cisco and the Questions Job Applicants Must Answer - Business Insider The Top 3 Medical Devices Stocks to Buy Now - MarketBeat NITI Aayog, Cisco roll out WEPNxt to nurture women entrepreneurship in India - Business Today Gaia Stock is an Under-The-Radar Lifestyle Streaming Play - MarketBeat Here's What Gen Xers Have Saved for Retirement. How Do You Compare? - The Motley Fool Amazon Stock: 2 Reasons to Load up By TipRanks - Investing.com Cisco has yet to deliver on BLM racial justice pledge - Business Insider What Is Going On With Jumia Stock? - The Motley Fool Dow Jones Jumps 225 Points As Powell Supports Bond Taper; Tesla Races Higher, Peloton Dives On Earnings - Investor's Business Daily Cassava Stock Dives Again As Lab Distances Itself From 'Data Manipulation' Allegations - Investor's Business Daily Former Cisco executive in San Francisco sentenced for fraud scheme, tax evasion - KRON4 AT&T teams with Cisco to boost enterprise-based IoT - ComputerWeekly.com Stock Market Today (8/27/21): Taper Tantrum? Not Today! - Kiplinger's Personal Finance Sharks offer sneak peek into San Jose Sharks Ice expansion - Silicon Valley Business Journal - The Business Journals Zoom Earnings: Expectations High Despite Tough Comps - Kiplinger's Personal Finance Genesys Ranked First for 2020 Market Share in Contact Center Applications Software - PR Newswire Rep. Ed Perlmutter Late in Disclosing Investments in Alibaba and Berkshire Hathaway - Business Insider Blockchain-Based P2E Games Exploding in Popularity By TipRanks - Investing.com Stock Market Crash: Expert Warns S&P 500 Will Drop 80% As Fed Tightens - Business Insider Jaguars Stock Report: Lambo, Shenault on the Rise Following Preseason Finale vs. the Cowboys - Sports Illustrated 3 Food and Beverage Companies for Dividend Stock Fans - The Motley Fool Mark Minervini tips, 5 high-upside altcoins, stock picks: Insider Investing - Business Insider Laszlo Birinyi S&P 500 Trade Profits 289%, and His Growth Stock Picks - Business Insider Zoom hits $1B in quarterly revenue but growth slows and stock falls - SiliconANGLE News Why Astra Space Shares Are Plunging Today - The Motley Fool Which Stocks Benefit From Infrastructure Bill? - Investor's Business Daily Meme stock investing guide: How to find the next GameStop - Business Insider Affirm Stock Jumps On Amazon \"Buy Now, Pay Later\" E-Commerce Deal - Investor's Business Daily Petco Stock is Ready to Roar - MarketBeat SPY: It's Time For A Correction Hedge - Seeking Alpha Check Point To Acquire Email Security Startup Avanan - CRN Talkdesk Sitting in an Enviable Position | No Jitter - No Jitter Dubber (ASX:DUB) share price charges higher after doubling revenue in FY21 - The Motley Fool Australia NVDA Is on the Verge of Extended Disappointment - InvestorPlace Zoom's pandemic boom cools — but the company is building a powerful platform to battle Microsoft and Cisco - MarketWatch Dow Jones Reverses As Apple Drops From Record Highs; Zoom Crashes 17% On Earnings - Investor's Business Daily The Tech Bubble Then And Now - Crescat Capital - ValueWalk Former Cisco exec jailed for fraud, dodging taxes - The Register The AT&T Dividend Cut Is Unfortunate But Necessary - InvestorPlace Databricks funding rolls on as it closes $1.6B late-stage round at $38B valuation - SiliconANGLE News QUALCOMM Incorporated (QCOM) Ex-Dividend Date Scheduled for September 01, 2021 - Nasdaq Cyclical Stocks - What You Should Know - MarketBeat Hormel Stock is Starting to Look Tasty Again - MarketBeat Why NFT is not just another bubble, but a new stage of evolution - Emerging Europe HSBC Share Price Has Choked - Buy the Dip? - InvestingCube Chinese teens vent at new gaming limits as investors weigh impact on industry - Reuters Fortune 500 Firm Drops Microsoft For CrowdStrike After Attack - CRN ‘India usage 2nd-highest for Webex’ - The Hindu Wipro unveils 'full-stack' Cisco division as digital plans kick into gear - Channel Asia Singapore The Next Big Thing in UCaaS: You! - No Jitter How to keep Mac hard drives tidy with the GrandPerspective app - TechRepublic Cisco Webex To 'Level The Playing Field' With Real-Time Translation In 100+ Languages - CRN Enterprise collaboration enters the innovation fast lane - Computerworld Ava says its telepresence robot 'revolutionizing real estate industry's digital capabilities' - Robotics and Automation News Teams on Pace to be the Most Popular Softphone in the World - UC Today Microsoft Announces Teams Connect - UC Today What is Microsoft Operator Connect? - UC Today Zoom CEO Eric Yuan talks success with former Cisco CEO John Chambers - Silicon Valley Business Journal - The Business Journals Teams Set for Mixed Reality Meetings with Microsoft Mesh - UC Today Green, Kang inspire next generation stars - PGA of Australia Zoom Now Has More Apps Than Ever - UC Today Microsoft Integrates Dynamics 365 and Teams, Reveals New Features - Channel Futures Ingram Micro Cloud welcomes Cisco remote work solutions to its marketplace - ARNnet Google Meet Review - PCMag Global UC Overhaul Sees Amgen Through Crisis - No Jitter Dubber and AT&T Join Forces - UC Today Cityzens Giving Young Leaders mark International Women's Day - Manchester City FC Cisco Executive Leadership: Three Major Promotions Unveiled On International Women's Day - CRN Cisco's Jeetu Patel On The Dreaded 'Second-Class' Meeting Citizens, Playing Nice With The Competition, And Webex's Future - CRN 5 things to consider before pinging the entire Slack channel - TechRepublic BlackBerry and Desay SV Automotive partner in China car tech initiative - TechRepublic Cisco Webex Breaks Through Language Barriers and launches Real-Time Translation - Business Review - Business Review Technology to Power an Inclusive Recovery - CIO What is PowerPoint Live? - UC Today Cisco Adds Real-Time Translation to Webex Video Meetings - PCMag Cisco found cryptomining activity within 69% of customers - TechTarget Assimilation of Sales, Service and Marketing – Finally! - No Jitter 7 Ways Zoom Can Add Zing Your Personal Brand - Forbes Dialpad Launches Partner Portal On Heels Of 'Record-Breaking' Growth: Exclusive - CRN Zoom is Suing RingCentral - UC Today Verizon Delivers New Microsoft Teams Solution - UC Today RingCentral Granted Restraining Order Against Zoom - UC Today Cisco Joins Forces with NHS East London - UC Today Cisco, Apple Boost Their WiFi Fastlane - SDxCentral 5 productivity tips for users new to macOS Mail - TechRepublic Elton John Drafts Dua Lipa, Neil Patrick Harris for Reimagined Oscar Night Party - Hollywood Reporter LogMeIn Shares New GoToConnect Features - UC Today Direct Routing Options: How to Make Sense of Them All - No Jitter Gartner: Spending on social and collaboration software booms as remote work takes hold - Computerworld AWS Appoints Tableau Boss As New CEO - UC Today Cisco Opens German Datacentre to Support Webex - UC Today Cisco Shapes the Future of Work with New Solutions Enabling Trusted Workplaces and Safe Return to Office - PR Newswire Ribbon SBCs Support Microsoft Operator Connect - UC Today Citigroup Bans Friday Zoom Calls to Ease Pandemic Stress - UC Today Big UC News You May Have Missed - UC Today Fuze Reveals Interoperability with Zoom, Teams and More - UC Today Cinos Announces Two Strategic Hires - UC Today Dropbox Acquires DocSend - UC Today Cisco Webex People Insights Will Boost Well-being, Inclusivity, Says Execs - CRN Zoom Blocks RingCentral Meetings for New Customers - UC Today Cisco Unveils Crucial New Innovations to Power an Inclusive Future for All at Cisco Live! - PR Newswire Qumu Hires SaaS Veteran to Lead Global Operations - Business Wire sipsynergy Launches New Company To Tackle Direct Routing Challenges - UC Today Cisco Webex Updates Put People Over Productivity - SDxCentral Cisco Webex To 'Regain Market Share' Vs. Zoom Post-Pandemic, Execs Say - CRN Cisco Live 2021: 5 Bold Statements We Heard From Cisco Leaders - CRN Battle for Telcos: Next Phase in War for Global UCaaS Domination - No Jitter Salesforce-Slack deal heralds the future of collaboration - TechTarget How Unified Communications is Transforming Healthcare - UC Today Nuvola Distribution Acquires Electromaster - UC Today Cisco Retools Webex, Is Ready to Fight Back - No Jitter Cisco adds 'People Insights' analytics to Webex - Computerworld 5 best practices for Slack implementation success - TechTarget Cisco, with Webex, delicately moves to 'instrument' employees — without violating privacy - Computerworld Cisco updates Webex People Insights to help boost employee well-being - IT World Canada External collaboration tools extend platforms to partners - TechTarget Cisco Plus Offers 'Turnkey' As-A-Service Solutions, Not Pieces, Say Execs - CRN Cisco Webex Contact Centre availability extended across ASEAN - Channel Asia Singapore Cisco All-In On XaaS, Observability, And Collaboration At Its 2021 Live! Conference - Forbes Top Zoom Shareholders - Investopedia Keeping tabs on employees in the hybrid workplace - TechTarget Cisco launches Cisco Plus as-a-service portfolio - ITBusiness.ca Cisco Live: Foretelling the Future | No Jitter - No Jitter Cisco Meraki Helps Bay State College With A Safe Return To Campus - Forbes The Next Wave of Virtual Events | AVNetwork - AV Network Upselling Alert! - UC Today TeamViewer: Don't Miss That Opportunity - Seeking Alpha 6 New And Useful Cisco Webex Features For 2021 - CRN Call2Teams Increases Capacity for Large Customers - UC Today Toku: Enabling Direct Connectivity in APAC - UC Today Microsoft Acquires Nuance Communications for $19.7bn - UC Today Here's how you can create memes using Microsoft Teams' built-in meme generator - HT Tech The Tech Needed for Conference Rooms of the Future - BizTech Magazine How to troubleshoot Wi-Fi with the Windows 10 wireless network report - TechRepublic Better Buy: Cisco Systems vs. Zoom Video Communications - The Motley Fool NFL to revamp internet in all 30 stadiums, with help from Cisco - MarketWatch How Companies Will Manage Onsite Employees in a Hybrid Work Environment - BizTech Magazine Microsoft Announces “Join by Code” - UC Today Anywhere365 is Taking Microsoft Teams to the Contact Centre and Beyond - UC Today Satya Nadella Praises Yorktel, RedBit For Innovative Uses Of Microsoft Technology - CRN Cisco announces new data centre to serve collaboration customers in the region - Intelligent CIO Alabama Consortium for Technology in Education awards James Clemens - The Madison Record - themadisonrecord.com Concerns grow over digital threats faced from former employees - TechRepublic Zoom launches $100 mln fund to invest in apps using its technology - Reuters Meet Microsoft’s New Teams Accessories - UC Today What is Microsoft Mesh? - UC Today Dubber Introduces Zoom Voice AI and Call Recording - UC Today What Is The Most Popular Video Platform In the World? - UC Today Are Gartner’s Unified Communications Observations on the Money? - UC Today Video chat your family across the world in your own private cinema - What's On Dubai DOH logs 2300000 minutes in conference calls and telemedicine over Cisco Webex - Manila Bulletin 13 Leadership Lessons from Zoom Founder and CEO Eric Yuan - Entrepreneur Features in Focus: Top 10 RingCentral Office Features - UC Today 7 Top Microsoft Teams Headsets for Work from Home - UC Today SafeGuard Cyber Raises $45m With Cisco Among Investors - UC Today Cisco and Nipun Net - Future-Proof your business with the next-gen use cases - The New Indian Express What is Bring Your Own Carrier? - UC Today Chuck Robbins: Cisco Webex Will Strike The Balance Between Security, Ease Of Use - CRN XOX chooses Webex Contact Centre solution to enhance contact centre service offering - New Straits Times UMA announce new Distribution Partnership with Ingram Micro - Business Wire The hidden risk of 2021: Insider threats - ITProPortal Cisco CEO: Chip shortages will likely last for another six months - Business Insider Inside Elton John’s First-Ever Virtual Oscar Viewing Party: “This Is the Only Way We Could Do It” - Hollywood Reporter How to Enable Transcription in Microsoft Teams - UC Today McLaren Racing: Powering through the pandemic with Webex - CIO Microsoft Teams enhances content sharing, PowerPoint presenter view and more - TechRepublic New AR headset provides seamless, remote collaboration for wind techs - Windpower Engineering St. Louis trial opens for man accused of killing 3, including his infant son - St. Louis Post-Dispatch Moving Analogue Devices to the Cloud with SIP Connect - UC Today Parallels Desktop for Chrome OS Adds Support for AMD Ryzen 5 and Ryzen 7 Processors, and 12 New Chromebook and Chromebox Devices with Intel and AMD Chips - GlobeNewswire Zoom Launches Immersive View - UC Today Reviewing Your Customer’s Meeting Room Requirements - UC Today Avaya Cloud Office Hits New Territories - UC Today The Best Team Collaboration Software Apps to Implement in 2021 - UC Today E-conferencing rises to the top in health sector as pandemic rages on - BusinessWorld Online Teams Hits 145 Million Daily Active Users - UC Today Managing the Meeting Rooms of the Future - UC Today Workspace Drives Google Cloud Growth - UC Today What’s New in Zoom Phone 2021? - UC Today The collective problems with videoconferencing - Computerworld Babble Makes Fourth Acquisition This Year - UC Today Cisco Closes Slido Deal For 'Inclusive' Webex Meetings - CRN Will Nvidia Accidently Disrupt the Cloud Video Market? - No Jitter Cisco Completes Acquisition of Slido - UC Today Cisco Announces New Smart Building Features - TechDecisions 5 Reasons Why Receptionists and Attendants are Important - UC Today Belgium suffers major cyberattack – EURACTIV.com - EURACTIV Mutesync adds button to mute Google Meet, Zoom, Discord video calls - PiunikaWeb The Value of the Digital Workplace - UC Today Cisco Names New Head Of Global Partner Marketing: Exclusive - CRN Facebook Targets Improved Employee Experience | No Jitter - No Jitter Shure audio ecosystem paired with Clickshare Conference - AV Magazine Introducing Rainbow Classroom from ALE - UC Today The 15 Coolest Collaboration Apps Of 2021: The Mobile 100 - CRN Ericsson Launches Remote Office as a Service - UC Today The Latest Features of Google Meet - UC Today How Zoom’s Immersive View is Unique - UC Today EdCast Announces Employee Experience (EX) Inside Cisco Webex - Business Wire Veracity Networks Receives Cisco's Premier Transition Partner Certification - PR Newswire 8x8 Expands Global Reach with China Mobile Partnership - Channel Futures IDC Names Sizzling Twilio, Vonage Leaders Among CPaaS Vendors - Channel Futures Report: Forrester names top CX feedback management platforms - CMO Shure Partners with Barco on Wireless Conferencing - UC Today Google Cloud Anthos Strategy: Hybrid, Multicloud - Business Insider Teams Announces Automatic Meeting Recordings - UC Today 3 Windows settings that you can reset to work more efficiently in Microsoft 365 - TechRepublic Cisco Will Buy Socio Labs To Enhance Webex Events - CRN Briggs: The Indianapolis council needs to log off its terrible Zoom meetings - IndyStar 5 of the Best All-in-One Devices for Home Working - UC Today Cisco indicates intent to buy Socio Labs, Sedona Systems - ComputerWeekly.com NWN Acquires Carousel Industries To Form $1B Cloud Communications Powerhouse - CRN Cisco's Socio Labs acquisition will bring Webex enhancement - IT PRO Facebook Workplace Platform Reaches New Paid Subscriptions Record - We are Social Media Commsverse: What Microsoft’s New SIP Solution Means For You - UC Today Cisco's latest acquisition spree nabs three companies - TechTarget Neos Networks Launches UC Services - UC Today PowerPoint Live and Webinars Roll Out to Teams - UC Today With Flurry Of Acquisitions, Cisco Systems Strives To Grow At 5% - Forbes Asian American history is American history. These AAPI leaders transformed the US for generations to come - Channel3000.com - WISC-TV3 Cisco Systems Envisions the Future of Voice Calling | eWEEK - eWeek How Cisco’s Licensing Changes Present an Opportunity - UC Today Communicate Better Acquires Staveley Comms - UC Today Appspace Announces Native Integration with Cisco Webex To Accelerate a Safe Return to the Office - GlobeNewswire Ferragamo Embraced Digital During The Pandemic And It’s Sticking With It - Forbes Former Forescout CMO Jumps to Cisco Security - CRN RingCentral and Verizon Partner on UCaaS - UC Today Cisco on Startup Acquisitions, Kenna Purchase, Microsoft Competition - Business Insider How to enter data quickly in Excel - TechRepublic Cisco Security, Webex See 'Record-Breaking' Growth; Software Run-Rate Soars Past $14B - CRN Zoom Announces Zoom Events Platform for Virtual Experiences - UC Today 8 Best Microsoft Teams Room Kits for Hybrid Work - UC Today Cisco is giving HBCUs $150 million to help lessen student debt - Business Insider Wavenet Gets New Private Equity Backing - UC Today How to set up and use Microsoft OneDrive on a Mac - TechRepublic Acquisitions in UC Industry Accelerate - UC Today Microsoft Teams displays and desk phones will soon let users join Zoom and Webex meetings - OnMSFT.com 8×8 Launches Combined CC and UC Solution - UC Today How to fill text with a picture in Word - TechRepublic Embracing Cross-Company Collaboration | No Jitter - No Jitter “It's Always DNS!” Why DNS Is the Biggest Single Point of Failure in the New Norm - CircleID What is Teams Rooms Managed Services? - UC Today WebEx Virtual Hearings - Room 102 - chicago.gov My Top 3 Growth Stocks to Buy in 2021 - The Motley Fool Google Delivers New Collaboration Smart Canvas - UC Today Customer Key Support Now Generally Available for Teams - UC Today 3 Ways To Connect Cisco Jabber And Microsoft Teams - Dispatch Microsoft Pushes Zoom, Cisco with New Teams Collaborative Apps - Channel Futures Zoom Introduces New iPad Pro Functionality - UC Today RingCentral, Nice Extend Partnership to Offer RingCentral Contact Center - Channel Futures Microsoft Azure as Big as AWS? What New Numbers Have to Say - Channel Futures How to use VBA procedures for quick access to readability statistics in Word - TechRepublic 8×8 Introduces Industry-First Phone Solution in China - UC Today Otter.ai Introduces New Assistant for Zoom - UC Today Cloud-first Allows Agility with your Hybrid Working Strategy - UC Today UC Awards Announce TWO New Rising Star Awards - UC Today Manchester City Uses Technology to Immerse Fans in the Action - SportTechie Why Apple Missed The Enterprise Video Conferencing Boom - Forbes This Cisco VP Led A Global Team Of 2000 From A Travel Trailer. Here's What She Learned. - Forbes Better Buy: Zoom Video Communications vs. Microsoft - The Motley Fool The Yeastar Integrated Video Conferencing Solution is What SMEs Need - UC Today Windows 10: How to pause OneDrive syncing to improve performance - TechRepublic Intel Launches First 5G M.2 Modem for Laptops, Sees Strong PC Demand - Channel Futures Getting the Best out of Microsoft Teams Calling with a Hybrid Approach to Enterprise Voice - UC Today How Chinese billionaire, Eric Yuan created Zoom - Nairametrics HHS: Biden's FY22 budget will invest in pandemic preparedness, expanding affordable care - Healthcare Finance News Dubber as a standard feature of Cisco Webex Calling and UCM Cloud - PR Newswire Why Evolve IP’s One Platform Rules Them All - UC Today PGi Reveals New Audio Brand for Virtual Meetings - UC Today 50 More Virtual Event Platforms for Your Next Online or Hybrid Gathering - BizBash Businesses Refocus Attention to Onsite Office Networks - BizTech Magazine Zoom Meetings With $952 Million Revenue for Zoom in the First Quarter of 2021 - Tech Times FirstLight Enhances its Unified Communications Suite with Cloud-Based Webex Calling - PR Newswire Curious Case Of Juhi Chawla’s 5G Hearing Singers: Here’s What Possibly Went Wrong - Indiatimes.com Corporate Meeting Recordings Will Continue Increasing as Workers Return to the Office - Business Wire Microsoft to roll out major improvements to file sharing in Office 365 - TechRepublic 6 Ways to Weather Unpredictable Business Futures - Small Business Trends Unify Square Bought by Unisys for $152.5m - UC Today Moxtra Announces Addition of Head of Global Sales and Chief Financial Officer - PR Newswire Here are the iOS apps that are hungriest for your data — Paypal, Amazon, Door Dash and more - Laptop Mag New Toastmasters Club For Public Officers - Government of the Virgin Islands MIT-WPU School of Management in association with The Climate Reality Project held an event to mark the importance of nature and environment - India Education Diary The best leaders will be leaders who are closest to their teams: Cisco’s Chief People, Policy & Purpose Officer - People Matters Apple Makes FaceTime More Business Friendly - Forbes Crexendo Closes $50m NetSapiens Acquisition - UC Today Video chat apps making tweaks to illuminate darker skin tones - New York Post What Apps Really Respect Your Privacy? - Irish Tech News - Irish Tech News Sinch launches Instagram API - UC Today Barco Introduces New ClickShare Products - UC Today Cisco Webex Gets New Packaging And Up To 40-Percent Price Reduction - CRN McLaren CEO: Webex And AI Help Us Bring In Sponsors And Win Formula 1 Races - Forbes Adding Voice to Teams with Operator Connect - UC Today What’s New in Microsoft Teams: June 2021 - UC Today How to use VLOOKUP() to find the closest match in Excel - TechRepublic How VMware Plans to Become the Next Cybersecurity Giant - Business Insider Cisco Webex Doubles Down On Collaboration Equity And People - Forbes Cisco and Dubber Strengthen Partnership - UC Today IT for a New World - Business Today RingCentral Joins Forces with Deutsche Telekom - UC Today Comms Provider FourNet Acquired - UC Today Hacker’s brief - County 17 Classes Go Hi-Tech - Business Today M&A Insights 2021 Launches Amid Consolidation Frenzy - UC Today Kate Russell to Co-Host UC Awards 2021 - UC Today 4 tips to make you more efficient in PowerPoint - TechRepublic 6 ways to make your Word documents more accessible using TTS readers, captions, links and more - TechRepublic TikTok challenges rev up social media engagement effort - PR Daily Cisco Takes Aim at Cost of Network Operations - IT Business Edge 6 Upgrades to Microsoft's WVD, Plus a New Name: Azure Virtual Desktop - Channel Futures No Jitter Roll: Contact Center, Zoom Device Offerings | No Jitter - No Jitter Cisco Webex: From 'Stodgy' To 'Cutting Edge' As Tech Giant Takes Aim At Zoom - CRN (VIDEO) Readington approves monetary settlement with Solberg Airport - New Jersey Hills As workers return, virtual assistant tools get a new look - TechTarget Cisco Catalyst 5G Router Portfolio Launched Targeting IoT, Edge Use Cases - CRN How to include the chapter number with a Word document’s page number - TechRepublic Logitech Brio Ultra HD Pro Business Webcam review - Tom's Guide Cisco and Thrive Champion Wellbeing - UC Today Microsoft Becomes Global UCaaS #2 - UC Today Microsoft Teams Phone Updates for June 2021 - UC Today CallTower Takes Native Microsoft Teams Direct Routing Global - UC Today GoToConnect ‘Team Up’ with Microsoft Teams to Simplify Hybrid Working - UC Today Former Cisco Execs Used This Pitch Deck to Raise $26 Million - Business Insider How to add an appendix to a table of contents in Microsoft Word - TechRepublic Video meetings: are they a curse or a blessing? - Technology Record Intelisys Expands Collaboration Offerings, First to Offer Cisco Webex to Agency Community - Business Wire Can Cisco reinvent Webex to become the verb for hybrid working? - Diginomica Avaya Introduces New Features for Cloud Office - UC Today EA Hackers Posed as Employee on Slack - UC Today Key to Innovation: Build a Dominant Sales Force and Acquire New Products - Inc. NBC Olympics Selects Cisco to Produce First-Ever All-IP International Broadcast Center in Tokyo - Sports Video Group Cisco Smart Switches Riddled with Severe Security Holes - Threatpost Microsoft and Yealink Talk Education & Healthcare in the Hybrid Era - UC Today Alleviate Zoom Fatigue with Spatial Audio - UC Today Blazing A Trail - UC Today Tech Data Adds HPE As Funding Partner to TaaS Offering - UC Today The top 5 video conferencing use cases - TechTarget Lenovo launches new workstations for the hybrid working environment - IT PRO Workplace from Facebook Warns Businesses About Empathy Issues - UC Today These Are Cisco's 10 Acquisitions Since Last June - CRN MARYLAND STATE BOARD OF EDUCATION HOSTS MEETING TUESDAY, JUNE 22 - maryland.gov Get ready for the next wave of virtual meetings - Computerworld Microsoft Introduces Front Row for Teams - UC Today Cisco and remote-work lessons learned in education during the pandemic - Computerworld Mitto Is on a Mission - UC Today Logitech C925e Business Webcam review: Quietly impressive - Expert Reviews Your Favorite Apps Collect the Most Personal Data (Here's the Solution) - Digital Information World IR Experience Monitoring Chosen by BT - UC Today Zoom Celebrates 1.5 Million Zoom Phone Seats - UC Today Need New UC&C Equipment? Not So Fast - No Jitter Destiny Acquires Soluno and Telepo - UC Today Experience Crestron: - UC Today How to take control and create a custom power plan in Windows 10 - TechRepublic Cisco Webex Calling integrated into Microsoft Teams, Hands On - Tom Talks Blog Nuvias Expands Zoom Ecosystem Portfolio - UC Today There was a Security Gap in Microsoft Power Apps - UC Today McLaren Racing - McLaren Racing and Logitech G announce return of Logitech McLaren G Challenge for 2021 - mclaren.com McLaren Racing - Everything you need to know for the Styrian & Austrian Grands Prix - mclaren.com HighPoint.com Racing: Chase Briscoe Pocono Advance - Speedway Digest Cisco Philippines unveils innovations for 'inclusive' hybrid work - BusinessWorld Online Facebook's Workplace adds Q&A enhancements, Video Chapters, Knowledge Library improvements - ZDNet Team Collaboration Round Table 2021 – Insights from Leading Vendors - UC Today NFON UK and Radius Join Forces - UC Today AdobeStock_236369830.jpeg | No Jitter - No Jitter Formula 1 increasingly attractive for USA companies - Grand Prix 247 The move to hybrid work, permanently - TechRepublic Work-from-home is the new normal — global tech firm survey - Interaksyon McLaren Racing - Snack wars - mclaren.com Does Webex Legislate point to video-based collaboration's future? - Computerworld Windows 11 aims to delight users but needs to establish its purpose - TechRepublic Nasstar Acquires KCOM’S National ICT Business - UC Today Briscoe Finishes 24th at Pocono - Speedway Digest These Tech Companies Run By Emerging Market Immigrants Are Beating The Nasdaq - Forbes Eric Yuan Reflects on 10 Years of Zoom - UC Today McLaren Racing - 2021 Styrian Grand Prix - mclaren.com What's AWS Conveying With Its Acquisition of Wickr? - No Jitter IntelePeer CPaaS Integrates with Microsoft Teams - UC Today South Euclid City Council will continue online meetings, even after in-person meetings resume - cleveland.com How to use the Geography data type to quickly add a map chart in Excel - TechRepublic McLaren Racing - mclaren.com McLaren Racing - That was the weekend that was - mclaren.com Why video conference app Webex is betting big on influencer marketing - Digiday Our Hybrid Future Extends Well Beyond The Office - Forbes Zoom is buying a startup to bring real-time translation to video calls - Engadget Timico Rebrands as Digital Space - UC Today Theta Lake Joins the Wells Fargo Startup Accelerator - Business Wire Microsoft Teams Round Table: Integrating Teams - UC Today GHMC okays 6,841.87 crore budget - The Hans India McLaren Racing expands Splunk partnership - mclaren.com What is a PBX (Private Branch Exchange)? - UC Today New Cisco Partner Program Centers On Differentiation, Not 'Catch-All' Gold Partner Designation - CRN Slack Launches Audio and Video Features - UC Today Lumen Introduces Teams Solution for Remote Work - UC Today How Collaboration Tools are Helping the Environment - UC Today How to combat virtual meeting fatigue in 5 steps - TechTarget The Role Of Unified Communications In Hospitality - UC Today How to create 3D arrows in PowerPoint - TechRepublic Volkswagen stepping away from Scramble - PGA of Australia McLaren Racing - mclaren.com UCaas and CCaas Unite with Five9-Nextiva Partnership - UC Today Reinvent Introduces White Label Teams Direct Routing - UC Today 6 Top Microsoft Teams Events to Attend in 2021 - UC Today DWS Adds Former Addison Lee Boss as New CFO - UC Today McLaren Racing - 2021 Austrian Grand Prix – Free Practice - mclaren.com How Indian entrepreneurs are trying to log into video conferencing boom - The Week McLaren Racing - 2021 Austrian Grand Prix – Qualifying - mclaren.com Cisco WomenRock-It Virtual STEM Summit - August 2-3 at UCCI - Cayman Compass McLaren Racing - 2021 Austrian Grand Prix - mclaren.com Announcing the UC Partner Awards 2021 - UC Today Security in Unified Communications: An Evolving Role - UC Today What’s New in Microsoft Teams: June 2021 Update - UC Today McLaren Racing - That was the weekend that was - mclaren.com Cisco announces Webex for Defense, built specifically for the Pentagon - ZDNet Beanfield Metroconnect Partners With Cisco to Launch New Hosted Voice with Webex, All-in-One Virtual Collaboration Tool - GlobeNewswire Soft-ex awarded Microsoft Co-sell Ready Status - UC Today Music Mode Coming to Teams - UC Today Daisy Founder’s M&A Pitfalls to Avoid - UC Today How to update a page number reference in a Word document - TechRepublic Mmmhmm Raises $100 Million - Bloomberg What’s New in Teams Displays? - UC Today RingCentral Blocks Robocalls with New AI Solution - UC Today Pentagon scraps Microsoft's $10bn JEDI contract after AWS dispute - IT PRO 8 of the Best Microsoft Teams Apps for Hybrid Work - UC Today McLaren Racing - mclaren.com McLaren Racing - Logitech McLaren G Challenge Pro-Am: Round 1 - mclaren.com How Organizations Are Trying to Solve Education's 'Digital Divide' - Business Insider Cisco Closes Socio Labs Buy In Effort To Boost Webex Events - CRN 10 Awesome Zoom Alternatives - Entrepreneur Highlight Platform Review - UC Today The Evolution of UCaaS - UC Today How to find acronyms in a Word document - TechRepublic High Bridge repairs to cost $3M | Front Page | leadertelegram.com - Leader-Telegram McLaren Racing - I feel the need… the need for Goodwood Festival of Speed - mclaren.com McLaren Racing – Official Website - mclaren.com Google Calendar now lets you specify whether you'll be at a meeting in-person - TechRadar BlueJeans Releases Mobile Updates - UC Today Code Software Partners with MIA Distribution - UC Today Cisco Closes Acquisition of Socio Labs - FinSMEs Forget 5G: New 6G Research Centre Launches - UC Today McLaren Racing - Your guide to McLaren HomeFest 2.0 - mclaren.com TSI Global Companies moves into new headquarters building in St. Louis market – REJournals - REjournals.com McLaren Racing statement - mclaren.com Why DaaS is the Future of Work - UC Today U.S. Cities Upgrade Their Call Centers for More Flexibility - StateTech Magazine Creating a Champions Program for Microsoft Teams - UC Today McLaren Racing - Everything you need to know for the British Grand Prix - mclaren.com Poly G7500 Review: Customisable Video Conferencing - UC Today Hard-of-hearing employees frustrated by lack of accessibility in remote working - Digiday Apple brings its free tutorials to YouTube - Engadget Arkose Labs Announces Two C-Suite Hires to Support Rapid Growth - GlobeNewswire Twilio adds live audio and video streaming options - TechRepublic How Students and Teachers Can Navigate Hybrid Education - Business Insider Microsoft Helps Sustainability Goals with New Cloud Offering - UC Today The Value of Microsoft Teams Early Adopters - UC Today Windows 365 is the long-awaited Microsoft Cloud PC service - TechRepublic Holdan Named UK Distributor for Roland’s Professional AV Range - UC Today Cisco Webex Desk Camera Review: Cisco’s 4K Webcam - UC Today Labour Arbitration Tribunal Made Historic Decisions - Government of the Virgin Islands TelcoSwitch Launches new CX Platform - UC Today 4 Companies AWS Could Buy to Compete With Microsoft in Work Software - Business Insider Build custom Microsoft Teams apps with the new Teams Developer Portal - TechRepublic Digital Space Partners with 8×8 - UC Today Winning with Microsoft Teams for Frontline Workers - UC Today McLaren Racing - 2021 British Grand Prix – Friday Qualifying - mclaren.com McLaren Racing - 2021 British Grand Prix – Sprint Qualifying - mclaren.com Zoom is buying cloud contact center provider Five9 for $14.7 billion - CNBC McLaren Racing - 2021 British Grand Prix - mclaren.com Zoom Targets Contact Centre with Five9 Acquisition - UC Today Cityzens Giving Young Leaders Summit returns for a seventh year - Manchester City FC Measuring the Effectiveness of your Microsoft Teams Adoption Strategy - UC Today How to remove duplicate Excel records before running a mail merge with Word - TechRepublic Neat Board Review: Great Collaboration Across the Board - UC Today ZoomInfo Acquires Chorus.ai for Insight-Driven Innovation - UC Today Email now and forever - Computerworld Winning with Microsoft Teams in Retail - UC Today How to quickly insert contact information into a Word document - TechRepublic Vuzix to dominate enterprise smart glasses market with competitive product lineup, technology roadmap and patent portfolio - Proactive Investors USA Cityzens Giving Young Leaders Summit: Day One Recap - Manchester City FC How Masergy solves last-mile issues with new Performance Edge service - ZDNet Top 6 tips to secure video meeting storage - TechTarget 9 Tactics for Better Remote Negotiations - HBR.org Daily Scribe Whiteboard Camera Review: Next-Gen Meetings - UC Today Emerging Vendors You Need To Know In 2021 - CRN How to Integrate Slack with Zoom - UC Today Branded, custom video conferencing enhances meetings - TechTarget Adway Secures $6M in Seed Funding to Help Build Out Patented Street-level Media Platform - Markets Insider Next Level UCaaS Expense Management for Zoom - UC Today How to use VBA to update fields in a Word document - TechRepublic Techaisle: SD-WAN Adoption Proving Advantageous for SMBs - Channel Futures How To Change Profile Picture in Webex - Alphr More locals take to Cisco Webex for remote working - ITWeb Now You Can Play Games and 'Zoom' Call Without Missing Either - Toolbox tech news Jabra PanaCast 20 Review: Amazing Personal Video - UC Today How to Compare Video Conferencing Platforms - UC Today International E- Conference on ‘Mutation Challenges in Commerce & Management Education’ - Mangalorean.com McLaren Racing - McLaren Racing launches McLaren Shadow Studio - mclaren.com Cisco and the future of collaboration: What’s to come? - Computerworld Avocor Introduces New Interactive Displays - UC Today Microsoft Gives First Glimpse of Teams-Windows 11 Integration - UC Today BCM One Acquires WCS to Enhance Global Reach - UC Today Adway Raises $6M in Seed Funding - FinSMEs Why Is Everyone Talking About Zoom Stock? - The Motley Fool How to use VBA’s InputBox function to select a range on the fly in Excel - TechRepublic Zoom's lightning-fast ascent to $100 billion made big acquisitions a sudden priority - CNBC Cisco Top Salaries: How Much Cisco Pays Execs, VPs, Directors - Business Insider Cityzens Giving Young Leaders Summit: Day 5 Recap - Manchester City FC What’s New in Webex? July 2021 - UC Today Dialpad Introduces Meetings and Channels - UC Today Voice AI platform Dubber drums up support for $110m capital raise - Business News Australia Nextiva Launches New Contact Centre Offering - UC Today Avaya Cloud Office Review: UCaaS from Avaya and RingCentral - UC Today McLaren Racing - Everything you need to know for the Hungarian Grand Prix - mclaren.com High-tech device donated to North Riverside Library - Riverside Brookfield Landmark 5 Reasons to Add Cloud Voice to Your Company’s Collaboration Solution - CIO 5 Traits of a Successful Hybrid Work Environment - SPONSOR CONTENT FROM WEBEX - HBR.org Daily RingCentral, Bandwidth Forge BYOC Partnership | No Jitter - No Jitter Broadvoice Acquires GoContact - UC Today JAMES HETFIELD, SLASH, PETER FRAMPTON, PAUL RODGERS Share Messages In Support Of ROAD RECOVERY And Its Youth Programs - BLABBERMOUTH.NET Zoom Expands its Platform Vision with the Launch of Zoom Apps and Zoom Events - UC Today Owl Labs Partners with IT Provider Bechtle - UC Today Prisons Have Been Restricting Family Visits For Years. The Pandemic Showed Just How Fragile Those Policies Can Be. - BuzzFeed News Cisco Still Has Upside Potential - Seeking Alpha Teams Hits 250m MAU, 80m Phone MAU - UC Today Zoom Introduces Smart Gallery View - UC Today Bandwidth Launches BYOC for RingCentral - UC Today Livestorm Introduces New Video Engagement Platform - UC Today Etisalat Digital unveils cloud-based electronic medical record platform in UAE - Gulf Business Cisco Employees Can Keep Working From Home, EVP Says - Bloomberg 3 Reasons to Buy Zoom Video Communications, and 1 Reason to Sell - The Motley Fool High CPU usage by System process on idle and wierd behaviour - Virus, Trojan, Spyware, and Malware Removal Help - BleepingComputer Patent Filings Roundup: Mystery NPEs File New Suits on Old IV Assets; PTAB Discretionarily Denies 14; Causam Enterprises Launches Major Campaign - IPWatchdog.com McLaren Racing - The next step in McLaren's use of sustainable composites in F1 - mclaren.com New Cisco Webex ad shows rapid evolution of collaboration - ZDNet Addressing the Biggest Challenges of Hosting Hybrid Events - SPONSOR CONTENT FROM WEBEX - HBR.org Daily Microsoft Edge in Windows 11: What to expect - TechRepublic Microsoft and BT in Voice Partnership - UC Today McLaren Racing - 2021 Hungarian Grand Prix – Free Practice - mclaren.com Forward Motion: The Fourth Industrial Revolution Is Happening Now - Forbes Still more upside to Cisco Systems, this investor says - Cantech Letter McLaren Racing - 2021 Hungarian Grand Prix – Qualifying - mclaren.com Telemedicine tools not effective for treating disorders like voice and speech; experts warn over Google Meet, Zoom trend - HT Tech You Can Now Use Apps with Microsoft Teams Mobile - UC Today McLaren Racing - 2021 Hungarian Grand Prix - mclaren.com Zoom Agrees $85m Lawsuit Payout - UC Today Nasstar Completes KCOM Services Acquisition - UC Today #TechCEO Eric Yuan: The CEO Behind Zoom, Everyone’s Unexpected Pandemic Companion - Tech Times How to resize text and images together on a PowerPoint slide - TechRepublic CSCO: Cisco vs. Juniper: Which Networking Stock is a Better Buy? - StockNews.com Cisco launches a new accelerator program, Webex Leap - ZDNet Norwegian Startup Neat Aims To Take Zoom, Microsoft Teams Meetings 'To The Next Level' - CRN Logitech's Zone Wired and Wireless Earbuds Are Certified for Meet, Teams, Zoom - PCMag Virtual and Augmented Reality's Ascension as Collaboration Tools - No Jitter US Attorney's Office to host training on drone operations - Marianas Variety News & Views British SMEs Embrace Hybrid Work - UC Today COMMUNITY BRIEFS - August 4, 2021 - Saipan Tribune Vidcast Is Cisco’s New Collaboration Media Platform - Forbes The rise of videos in emails - TechRepublic Neat Adds Distribution to Partner Programme - UC Today RingCentral Revenue Rockets - UC Today 15 Tips To Improve Your Microsoft Teams End User Experience - Dispatch Cisco takes aim at meeting fatigue with Vidcast - Computerworld Zoom United Review: The Ultimate Zoom Package - UC Today Uboss and the Future of the Broadworks Community - UC Today Softcat CEO on Collaboration Growth - UC Today McLaren Racing - AMSP Driver Games - mclaren.com Logitech Rally Bar Mini Review: Small Size, Big Results - UC Today Microsoft Teams to Get Auto-Delete Feature for Recordings - UC Today McLaren Racing - mclaren.com How Cisco is Embracing the Changing Telephony Market - No Jitter How to pick a high-security video conferencing platform - TechRepublic Zoom Outlines a New Approach to the Future of Work - UC Today Microsoft Surface Headphones 2 Review - UC Today City bring together record number of Young Leaders at annual global Young Leaders Summit - Manchester City FC Spectrum Enterprise Enhances its Unified Communications Solution for an Evolving Workforce - PR Newswire Microsoft to Improve Live Teams Streaming with Peer5 Acquisition - Channel Futures Tata Teleservices and Zoom Join Forces - UC Today How to get the Windows 11 security protections on an existing PC - TechRepublic Webex Contact Center vs Cisco Unified Contact Center - UC Today Spectrum Enterprise Aims to Simplify Collaboration via UC with Webex - Channel Futures Webex by Cisco named Official Collaboration Technology Partner of the PGA and WPGA Tour - PGA of Australia Who Leads the Gartner CCaaS Magic Quadrant 2021? - UC Today Zoom-RingCentral Court Drama Continues - UC Today Microsoft Acquires Firm to Improve Teams Streaming - UC Today Old-fashioned business travel is dead (but don't blame the pandemic) - Computerworld Logitech Rally Bar Mini vs Meetup: Design your Meeting - UC Today Avoiding ‘Too Many Eggs in One Basket’ Key to McLaren’s F1 Success: Zak Brown - EssentiallySports Cisco Employees Brace for Layoffs Expected in Coming Months - Business Insider How to add 3D animation to opening and ending slides in PowerPoint - TechRepublic McLaren Racing - Tanner Foust to race for McLaren Extreme E in 2022 - mclaren.com How to use VBA to change the active cell color in an Excel sheet - TechRepublic Microsoft versus Zoom versus Cisco - Should you opt for traditional UCC vendor or upstart? - www.computing.co.uk 10 things in tech: Cisco layoff fears — Foldable Samsungs — Customers drop Prime - Business Insider How to choose desk booking software for the hybrid workplace - Computerworld McLaren not chasing 'eggs in one basket' title sponsor - Motorsport Week Poole College of Management Welcomes the Class of 2021-22 - Poole College of Management Chess Acquires Pentest Firm Armadillo - UC Today McLaren Racing - The perfect getaway - mclaren.com Cisco's Webex and the most thoughtful, disturbing feature you've ever seen - ZDNet ‘Video Can Create an Inclusive Workspace for Remote Workers’ - UC Today Top Tips for Engaging Zoom Video Webinars - UC Today Twilio Conversations API Review: Chat Anywhere - UC Today The Cloud Honeymoon Is Over for AWS, Microsoft; Helping Oracle, Cisco - Business Insider Zoom Launches Zoom Community - UC Today How to create a sorted unique list in an Excel spreadsheet - TechRepublic Cisco (CSCO) to Post Q4 Earnings: Webex & Security in Focus - Nasdaq How to adjust your Mac and your workspace for better quality videoconferences - Macworld Alphabet (GOOGL) Boosts Google Meet Reach With Latest Update - Nasdaq Avaya CPaaS Integrates with Azure Communication Services - UC Today AI Drives Double Awards Win for Avaya - UC Today Rydal Sets Agenda with Latest M&A - UC Today McLaren Racing - Mr & Mrs - mclaren.com Dubber Adds Compliant Video Recording for Cisco Webex Meetings - PR Newswire Cisco delivers slight beat as revenue grows 8% - CNBC Enterprises Enhance CX with Tata Communications and Cisco - UC Today North Port residents amend suit against Commissioner Debbie McDowell - Sarasota Herald-Tribune LogMeIn Appoints First Chief Revenue Officer - UC Today Slack and Salesforce Give First Glimpse of Integration - UC Today Zoom Phone Vs Webex Calling: Exploring the Options - UC Today Cisco’s Collaboration Sales Dip - UC Today Facebook Launches VR Collaboration App - UC Today What It's Like to Be Acquired by Cisco, Oracle, and Red Hat - Business Insider EcoQoS gives Windows 11 apps better battery life - TechRepublic 5 Biggest WhatsApp Scandals and Security Issues So Far - iTWire Rethinking the smartphone for collaboration — or the PC for voice - Computerworld Is Cisco Systems Stock a Buy? - The Motley Fool Amazon Chime Review: Collaborate with Amazon - UC Today Microsoft 365 Prices Increased - UC Today Yeastar Launches New P-Series Software PBX - UC Today Makati taps Cisco in strengthening digitalization in local government - Backend News Why Cisco Opted Not to Sell or Spin Off Webex - No Jitter Neat Pad Review: Your Controller for Zoom Rooms - UC Today CSCO: Cisco vs. Hewlett Packard Enterprise: Which Communication Equipment Stock is the Better Choice? - StockNews.com Windows 365 Business: How this new tool can help your organization - TechRepublic MNF Group restructures around as-a-service offerings - CRN Australia McLaren Racing - mclaren.com Cisco Vs. Amazon Stock: Which Is The Better Buy? - Seeking Alpha Room Remote Comes to Teams Rooms on Android - UC Today Zoho Projects Is Turning 15 and It’s More Relevant Than Ever - UC Today Quick glossary: Industrial Internet of Things - TechRepublic How to use Microsoft 365’s dynamic array function SEQUENCE() to create a list of dates in Excel - TechRepublic McLaren Racing - Everything you need to know for the Belgian Grand Prix - mclaren.com Otter.ai can transcribe Microsoft Teams, Google Meet, and Cisco Webex meetings if you're not there - The Verge Comcast Acquires Masergy to Bolster its Enterprise SD-WAN and SASE offerings | eWEEK - eWeek Don't write off Zoom - it’s not a one-trick pony as remote work is here to stay! - Diginomica Workplace renews 90k-Employee Deal with Vodafone - UC Today A New Crop of Network Tech Is Eroding Cisco's Dominance, Analysts Say - Business Insider ALE Rainbow Office Review: RingCentral Powered UCaaS - UC Today Otter.ai expands automatic transcription assistant to Microsoft Teams, Google Meet and Cisco Webex - TechCrunch How to Sign Up for Today at Apple Sessions - The Mac Observer RingCentral adds Encryption and App Add-ins to MVP Platform - UC Today Could Facebook's Horizon Workrooms Make It Zoom's Biggest Competitor? - The Motley Fool ‘Camo’ now in beta on Android to turn your phone into a high-res PC webcam - 9to5Google Mavenir Acquires Telestax - UC Today How to Get Hired at Cisco and the Questions Job Applicants Must Answer - Business Insider Comcast Business gets a leg up with Masergy buy - Telecoms.com Dollar General says it's completed phase one of its DG Fresh overhaul - Business Insider Cisco has yet to deliver on BLM racial justice pledge - Business Insider McLaren Racing - Tribute to Kim Cole - mclaren.com Exertis Names New AV Director - UC Today Traject Acquires Loomly, Walmart Debuts Demand-Side Platform and More CX News - CMSWire How to introduce yourself at a networking event or meeting - Business Insider Public service goes digital in Makati - INQUIRER.net Ex-sheriff resigns from Georgia watchdog org after KKK photo surfaces - Business Insider McLaren Racing - 2021 Belgian Grand Prix – Qualifying - mclaren.com McLaren Racing - The 200 club - mclaren.com McLaren Racing - 2021 Belgian Grand Prix - mclaren.com Microsoft 365’s new security model: How to use phishing simulations and security mailboxes - TechRepublic Zoom's tepid growth forecast takes shine off billion-dollar quarter - Reuters BlueJeans vs. Zoom: Video conferencing apps compared - ZDNet Voice Calling for Microsoft Teams: What You Need to Know - No Jitter Compliance vs. Security in Enterprise Networking: the Cisco Approach | eWEEK - eWeek Vonage CEO on Growth and Future Plans - UC Today Zoom shares tank 16% as company warns growth slowing - New York Post Former Cisco exec jailed for fraud, dodging taxes - The Register How UCaaS Providers can optimise with Teams - UC Today This hilariously functional keyboard helps fix the terrible UI/UX of video-calling apps - Yanko Design The Pandemic Has Accelerated Government Innovation - GovExec.com Business Travel Is Returning. Here’s What You Need to Know Now - Worth $28.34 Billion Multi-factor Authentication Market - Global Growth, Trends, and Forecasts 2021-2026 - ResearchAndMarkets.com - Business Wire Cisco Secure unveils new passwordless authentication through security keys or platform biometric - DATAQUEST 5 Captivating Cybersecurity Offerings At Cisco Live Digital 2021 - CRN Cisco Secure Adds Duo Passwordless Authentication to Zero Trust Platform - MSSP Alert Passwordless authentication with device biometrics awarded, launched and praised - Biometric Update These are top 5 announcements from Cisco Live - and what they mean to customers - SiliconANGLE News Vulnerability In Duo Security App 2FA Could Allow Account Takeover - Cyber Security News Cisco To Buy Vulnerability Management Vendor Kenna Security - CRN Q&A: Trey Boynton on dismantling \"barriers to brilliance\" in Ann Arbor's tech industry - Second Wave Media Former Forescout CMO Jumps to Cisco Security - CRN Cisco Security, Webex See 'Record-Breaking' Growth; Software Run-Rate Soars Past $14B - CRN Going Passwordless: What Are the Benefits For Your Business? - Infosecurity Magazine Cisco completes purchase of security risk-management firm - Network World Top Zero Trust Security Solutions & Software 2022 | ITBE - IT Business Edge Meet the tech experts behind Detroit's emerging cybersecurity industry - Model D Cisco Report: CISOs' SASE Spend Edges Toward 75% of Budget - SDxCentral Cisco Eyes App Security, SASE, Cloud Native M&A - SDxCentral Mergers & Money: VC-Backed Cyber Companies Bought Up At Record Pace - Crunchbase News Top 3 Metrics for Evaluating Passwordless - CSO Online #BHUSA: Windows Hello Passwordless Bypass Revealed - Infosecurity Magazine New TA505 Campaign Uses Signed Files to Drop ServHelper Malware - Duo Security Vice Society Ransomware Actors Target PrintNightmare | Decipher - Duo Security Cisco (CSCO) to Post Q4 Earnings: Webex & Security in Focus - Nasdaq Top SD-WAN vendors and how they got there - Network World Can anyone tame the identity access beast? Okta aims to try - SiliconANGLE News ForgeRock files for IPO as identity and access management business grows - TechCrunch Biggest Private Cloud Trends 2022 - Datamation Duo brings Gartner 'cool vendor' Zero Networks to New Zealand - Reseller News Keeper Security Welcomes Erin Howe as New VP of Global Sales Strategy & Operations - PR Newswire \n"
          ]
        }
      ]
    },
    {
      "cell_type": "markdown",
      "source": [
        "Here, the text summarization process starts by the preprocessing the data."
      ],
      "metadata": {
        "id": "M0E7nVR7isTx"
      }
    },
    {
      "cell_type": "code",
      "source": [
        "import nltk"
      ],
      "metadata": {
        "id": "uweGzCVPVowD"
      },
      "execution_count": null,
      "outputs": []
    },
    {
      "cell_type": "code",
      "source": [
        "from nltk.corpus import stopwords\n",
        "from nltk.tokenize import word_tokenize, sent_tokenize"
      ],
      "metadata": {
        "id": "1z7jSYsNPZ16"
      },
      "execution_count": null,
      "outputs": []
    },
    {
      "cell_type": "code",
      "source": [
        "nltk.download('stopwords')"
      ],
      "metadata": {
        "colab": {
          "base_uri": "https://localhost:8080/"
        },
        "id": "DkbKQJrtPuWi",
        "outputId": "22a09dc1-be03-47af-fe38-96c4e2ac0c9e"
      },
      "execution_count": null,
      "outputs": [
        {
          "output_type": "stream",
          "name": "stdout",
          "text": [
            "[nltk_data] Downloading package stopwords to /root/nltk_data...\n",
            "[nltk_data]   Package stopwords is already up-to-date!\n"
          ]
        },
        {
          "output_type": "execute_result",
          "data": {
            "text/plain": [
              "True"
            ]
          },
          "metadata": {},
          "execution_count": 181
        }
      ]
    },
    {
      "cell_type": "code",
      "source": [
        "nltk.download('punkt')"
      ],
      "metadata": {
        "colab": {
          "base_uri": "https://localhost:8080/"
        },
        "id": "2SttB0KdP9yu",
        "outputId": "d36b4297-2ef6-4832-b602-59aec8c3eaf5"
      },
      "execution_count": null,
      "outputs": [
        {
          "output_type": "stream",
          "name": "stdout",
          "text": [
            "[nltk_data] Downloading package punkt to /root/nltk_data...\n",
            "[nltk_data]   Package punkt is already up-to-date!\n"
          ]
        },
        {
          "output_type": "execute_result",
          "data": {
            "text/plain": [
              "True"
            ]
          },
          "metadata": {},
          "execution_count": 182
        }
      ]
    },
    {
      "cell_type": "code",
      "source": [
        "stopwords = set (stopwords.words(\"english\"))\n",
        "words = word_tokenize(x)\n",
        "freqTable = dict()"
      ],
      "metadata": {
        "id": "-_BA9TzqPwR_"
      },
      "execution_count": null,
      "outputs": []
    },
    {
      "cell_type": "code",
      "source": [
        "for word in words:\n",
        "  word = word.lower()\n",
        "  if word in stopwords:\n",
        "    continue\n",
        "  if word in freqTable:\n",
        "    freqTable[word] += 1\n",
        "  else:\n",
        "    freqTable[word] = 1"
      ],
      "metadata": {
        "id": "U4VQB0WDPxtH"
      },
      "execution_count": null,
      "outputs": []
    },
    {
      "cell_type": "code",
      "source": [
        "sentences = sent_tokenize(x)\n",
        "sentenceValue = dict()"
      ],
      "metadata": {
        "id": "_K3zpgehPy5B"
      },
      "execution_count": null,
      "outputs": []
    },
    {
      "cell_type": "code",
      "source": [
        "for sentence in sentences:\n",
        "  for word,freq in freqTable.items():\n",
        "    if word in sentence.lower():\n",
        "      if sentence in sentence.lower():\n",
        "        sentenceValue[sentence] += freq\n",
        "      else:\n",
        "        sentenceValue[sentence] = freq"
      ],
      "metadata": {
        "id": "g05AgdV6P0SE"
      },
      "execution_count": null,
      "outputs": []
    },
    {
      "cell_type": "code",
      "source": [
        "sumValues = 0\n",
        "for sentence in sentenceValue:\n",
        "  sumValues += sentenceValue[sentence]\n",
        "average = int(sumValues / len(sentenceValue))"
      ],
      "metadata": {
        "id": "_BVMMMVyP1xo"
      },
      "execution_count": null,
      "outputs": []
    },
    {
      "cell_type": "markdown",
      "source": [
        "Now, we will generate the summarized text for Cisco"
      ],
      "metadata": {
        "id": "PtiJblt-i6no"
      }
    },
    {
      "cell_type": "code",
      "source": [
        "summary = ''\n",
        "for sentence in sentences:\n",
        "  if(sentence in sentenceValue) and (sentenceValue[sentence]>(1.2*average)):\n",
        "    summary += \" \" + sentence\n",
        "print(summary)"
      ],
      "metadata": {
        "colab": {
          "base_uri": "https://localhost:8080/"
        },
        "id": "QfhGq6NLP3EE",
        "outputId": "5702f9b1-ec74-4a46-ce70-ab1f63872c13"
      },
      "execution_count": null,
      "outputs": [
        {
          "output_type": "stream",
          "name": "stdout",
          "text": [
            " But How? Smack! Pow! - Bam! Smack! Pow! - BankInfoSecurity.com Corporate Political Donations Put Voting Rights Pledges to the Test - The New York Times The best leaders will be leaders who are closest to their teams: Cisco’s Chief People, Policy & Purpose Officer - People Matters Tech companies made big pledges to fight racism last year — here's how they're doing so far - CNBC The Flash Star Tom Cavanagh Says He'd Return For A Final Reverse-Flash Fight - We Got This Covered What Perks Can Prestigious Cisco CCNA Certification Flaunt? Smack! Pow! Cir. - No Jitter The cybersecurity market is red hot - Fortune A Beginner's Guide to Troubleshooting VoIP Phones - No Jitter U.S. Cities Upgrade Their Call Centers for More Flexibility - StateTech Magazine Nvidia DPUs Get Data Center Win With Palo Alto Networks' Backing - CRN 'Flash' Jordan Fisher Previews Bart Allen, Episode 150, Season Finale - TVLine Raisoni Group introduces GHRTBIF - The Hitavada Ex-NIMASA DG, Peterside Accuses Rivers Governor, Wike Involvement In N3.5 Billion Fraudulent Road Projects - SaharaReporters.com TSI Global Companies moves into new headquarters building in St. Louis market – REJournals - REjournals.com McLaren Racing - Your guide to McLaren HomeFest 2.0 - mclaren.com Circular economics and the $57B e-waste opportunity | Greenbiz - GreenBiz How data center operators can reign in Scope 3 emissions - Backend News Ransomware Landscape: REvil Is One of Many Operators - BankInfoSecurity.com Apple, Dell Make Gains In US PC Market In Q2: Gartner - CRN This bank's average pay is $500K and it needs to hire a ton of women - Ladders Chittilapilly Appointed As Cisco India, Saarc Chief | Mint - Mint The promise of the digital world: inclusive, sustainable, secure - POLITICO Europe The Flash season 7 star teases former character's big return - Digital Spy The 10 Hottest Edge Computing Devices Of 2021 (So Far) - CRN One man's fight against recidivism in Santa Clara County - San José Spotlight - San José Spotlight Microsoft Crushes 116 Bugs, Three Actively Exploited - Threatpost Seven of 10 players drafted by Brewers on Tuesday were high schoolers - Milwaukee Journal Sentinel 'The Flash' Recap Season 7 Episode 17 — Bart and Nora vs. Godspeed - TVLine RBC Nabs Trio of Credit Suisse Bankers to Expand Tech Franchise - Bloomberg Why patching vulnerabilities is still a problem, and how to fix it - TechTarget Deployable Operations Centers Can Aid in Long-Term Disaster Response - StateTech Magazine Deal's Off: SAS Institute Says No To Acquisition By Broadcom - CRN Covid boost for cyber security deals - Financial Times McLaren Racing - Everything you need to know for the British Grand Prix - mclaren.com Artificial Intelligence Week 2021 - CRN The 10 Hottest AI Security Companies You Need To Know - CRN ‘Global Citizen Live’ Full Lineup Announced: Massive 24-Hour Worldwide Broadcast With Lorde, Metallica, Billie Eilish, The Weeknd, BTS And More – Updated - Deadline How Cisco is executing a four-pronged approach to trans-Tasman partner growth - ARNnet Kloudspot™ and Cisco Meraki Enable Safe Environments and Smart Spaces - GlobeNewswire Enterprise Connect Expands 2021 Conference Program, Adds Keynotes by Cisco and Amazon Web Services - Business Wire Cisco Investments leads $5M funding for Apex-based cloud startup TriggerMesh - WRAL TechWire A guide to network lifecycle management - TechTarget Cisco appoints first woman head as president of India and SAARC region - Asianet Newsable Walsh Construction Tearing Down, Rebuilding Bridges On I-80 : CEG - Construction Equipment Guide Bloomberg Sustainable Business Summit July 14, 2021: Engine No. - CRN Atlanta execs discuss the technology transformation in the workplace - Atlanta Business Chronicle - The Business Journals 5 Best Internet of Things Development Platforms in 2021 - Analytics Insight The 10 Hottest SSD And Flash Storage Products Of 2021 (So Far) - CRN Intel warns global chip shortage could last until 2023 - IT PRO The Top 10 VMware News Stories Of 2021 (So Far) - CRN 10 Ways Companies Are Fighting The Burnout Epidemic - Forbes Attackers use old unpatched software vulnerabilities to target businesses — Barracuda - Backend News Robin's Art wins Fayette County Classic - Record Herald Kaseya Did Not Pay Ransom For Decryptor, Refused To 'Negotiate' With REvil - CRN 18 Companies to Participate in NIST 'Zero Trust' Project - BankInfoSecurity.com The Flash Season 8: Release Date, Cast And More - /Film Sun Communities, Inc. Reports 2021 Second Quarter Results - GlobeNewswire Cisco Networking Academy Launches Free IT Education to - CSRwire.com JupiterOne Adds New Strategic Investors, Cisco Investments and Splunk Ventures, to Support Ecosystem - PR Newswire 14 Cisco women named as finalists at the Channel Asia Women in ICT Awards - Taiwan News 40 Under 40 2021 - Devin Hood, Cisco - PR Week NB Students Will Learn Cybersecurity Skills With Cisco, Cyber NB, Government Partnership - Huddle Today High-tech device donated to North Riverside Library - Riverside Brookfield Landmark VoIP Upgrades Bring New Features to Federal Phone Systems - FedTech Magazine The 10 Biggest IoT News Stories Of 2021 (So Far) - CRN Network Automation Enabling IoT Data Proliferation - IoT World Today Counting down Northwestern’s roster: 29-20 - Inside NU RingCentral, Bandwidth Forge BYOC Partnership | No Jitter - No Jitter Morning Report: 49ers 2021 Training Camp Primer - 49ers.com 5 Reasons to Add Cloud Voice to Your Company’s Collaboration Solution - CIO IBM Report: Data-Breach Costs Hit 17-Year High of $4.24M - SDxCentral AI in video conferencing opens a world of features - TechTarget Verizon 5G Sails Samsung's vRAN Massive MIMO - SDxCentral Broadvoice Acquires GoContact - UC Today Cisco Still Has Upside Potential - Seeking Alpha How Cisco Is Fighting To Protect Academic Integrity - Forbes Jaguars Training Camp Notebook, Day 1: Lawrence Shines, Minshew Rotates In and Cisco Participates - Sports Illustrated Jaguars DT Taven Bryan begins camp on injured list - The Florida Times-Union How to simplify Infrastructure as code adoption for IT Operations - CIO Morning Report: Injury Updates from the Head Coach Heading into 49ers Training Camp - 49ers.com Google Mandates COVID-19 Vaccinations For Returning Workers, Delays Return-To-Office Plan - CRN Winning at SD-WAN - Gigaom - Gigaom Teams Hits 250m MAU, 80m Phone MAU - UC Today Strange Black Hole Discovery Confirms Einstein’s Theory of General Relativity - SciTechDaily What is an Advanced Persistent Threat (APT) Attack? But How? Cir. That's good.\n"
          ]
        }
      ]
    },
    {
      "cell_type": "markdown",
      "source": [
        "Here, the text Summarization ends for the static portion of the project"
      ],
      "metadata": {
        "id": "WO__zs4Bi9yz"
      }
    },
    {
      "cell_type": "markdown",
      "source": [
        "**Sentiment Analysis**\n",
        "\n",
        "Now, we will perform Sentiment Analysis in order to generate network graphs"
      ],
      "metadata": {
        "id": "bw6Zb2mQjC6M"
      }
    },
    {
      "cell_type": "code",
      "source": [
        "y = pd.Series(''.join(x).split()).value_counts()"
      ],
      "metadata": {
        "id": "MC-rpkzXYboB"
      },
      "execution_count": null,
      "outputs": []
    },
    {
      "cell_type": "code",
      "source": [
        "# WOrd Frequency for the dataset \n",
        "print(y)"
      ],
      "metadata": {
        "colab": {
          "base_uri": "https://localhost:8080/"
        },
        "id": "yQLqMg0LfgkK",
        "outputId": "21f7ced7-4163-442b-99a5-ec670cb8ebe5"
      },
      "execution_count": null,
      "outputs": [
        {
          "output_type": "stream",
          "name": "stdout",
          "text": [
            "-            4691\n",
            "to           1174\n",
            "Business      893\n",
            "Cisco         825\n",
            "The           778\n",
            "             ... \n",
            "illegally       1\n",
            "van             1\n",
            "parents         1\n",
            "happening       1\n",
            "Howe            1\n",
            "Length: 12260, dtype: int64\n"
          ]
        }
      ]
    },
    {
      "cell_type": "markdown",
      "source": [
        "Sentiment Analysis process starts"
      ],
      "metadata": {
        "id": "GhOYExcSBWFq"
      }
    },
    {
      "cell_type": "code",
      "source": [
        "import nltk\n",
        "nltk.download('vader_lexicon')"
      ],
      "metadata": {
        "colab": {
          "base_uri": "https://localhost:8080/"
        },
        "id": "Qby4_PUPBgg-",
        "outputId": "597b795a-368d-4cc9-8550-9586fc24209f"
      },
      "execution_count": null,
      "outputs": [
        {
          "output_type": "stream",
          "name": "stdout",
          "text": [
            "[nltk_data] Downloading package vader_lexicon to /root/nltk_data...\n",
            "[nltk_data]   Package vader_lexicon is already up-to-date!\n"
          ]
        },
        {
          "output_type": "execute_result",
          "data": {
            "text/plain": [
              "True"
            ]
          },
          "metadata": {},
          "execution_count": 191
        }
      ]
    },
    {
      "cell_type": "code",
      "source": [
        "from nltk.sentiment import SentimentIntensityAnalyzer\n",
        "sia = SentimentIntensityAnalyzer()"
      ],
      "metadata": {
        "id": "AXOPSMOVfq8S"
      },
      "execution_count": null,
      "outputs": []
    },
    {
      "cell_type": "code",
      "source": [
        "def find_sentiment_score(post):\n",
        "    return sia.polarity_scores(post)[\"compound\"] "
      ],
      "metadata": {
        "id": "xdjykoy4Bcwp"
      },
      "execution_count": null,
      "outputs": []
    },
    {
      "cell_type": "code",
      "source": [
        "def find_sentiment(post):\n",
        "    if sia.polarity_scores(post)[\"compound\"] > 0:\n",
        "        return \"Positive\"\n",
        "    elif sia.polarity_scores(post)[\"compound\"] < 0:\n",
        "        return \"Negative\"\n",
        "    else:\n",
        "        return \"Neutral\" "
      ],
      "metadata": {
        "id": "8Bzsf2OABmeR"
      },
      "execution_count": null,
      "outputs": []
    },
    {
      "cell_type": "code",
      "source": [
        "sentiment = [None] * data1.shape[0]\n",
        "sentiment_score = [None] * data1.shape[0]\n",
        "i = 0\n",
        "for post in data1['title']:\n",
        "  if post!=None:\n",
        "    sentiment[i] = find_sentiment(post)\n",
        "    sentiment_score[i] = find_sentiment_score(post)\n",
        "    i+=1\n",
        "  else:\n",
        "    sentiment[i] = None\n",
        "    sentiment_score[i] = None\n",
        "    i+=1\n",
        "\n",
        "data1['SENTIMENT'] = sentiment\n",
        "data1['SCORE'] = sentiment_score"
      ],
      "metadata": {
        "id": "Xe684oZxBqEF"
      },
      "execution_count": null,
      "outputs": []
    },
    {
      "cell_type": "code",
      "source": [
        "data1.head()"
      ],
      "metadata": {
        "colab": {
          "base_uri": "https://localhost:8080/",
          "height": 206
        },
        "id": "HKn5FUknBr6w",
        "outputId": "5b475f68-777f-46c8-d350-2231cf467fe7"
      },
      "execution_count": null,
      "outputs": [
        {
          "output_type": "execute_result",
          "data": {
            "text/plain": [
              "                                               title  \\\n",
              "0  Readers envisioned a new downtown OKC in first...   \n",
              "1  OKC seeks bids to demolish public safety compl...   \n",
              "2  Epilepsy Discovery Reveals Why Some Seizures P...   \n",
              "3  New research sheds light on what causes sudden...   \n",
              "4  Epilepsy Study Reveals Why Some Seizures Prove...   \n",
              "\n",
              "                                                link  \\\n",
              "0  https://www.oklahoman.com/story/news/2021/03/1...   \n",
              "1  https://journalrecord.com/2021/04/21/okc-seeks...   \n",
              "2  https://news.virginia.edu/content/epilepsy-dis...   \n",
              "3  https://www.news-medical.net/news/20210428/New...   \n",
              "4  https://www.technologynetworks.com/neuroscienc...   \n",
              "\n",
              "                       published SENTIMENT   SCORE  \n",
              "0  Fri, 19 Mar 2021 07:00:00 GMT   Neutral  0.0000  \n",
              "1  Wed, 21 Apr 2021 07:00:00 GMT  Positive  0.4215  \n",
              "2  Tue, 27 Apr 2021 07:00:00 GMT   Neutral  0.0000  \n",
              "3  Wed, 28 Apr 2021 07:00:00 GMT  Negative -0.5994  \n",
              "4  Thu, 29 Apr 2021 07:00:00 GMT   Neutral  0.0000  "
            ],
            "text/html": [
              "\n",
              "  <div id=\"df-a3a9d991-ab16-47d0-8862-5f782ce60625\">\n",
              "    <div class=\"colab-df-container\">\n",
              "      <div>\n",
              "<style scoped>\n",
              "    .dataframe tbody tr th:only-of-type {\n",
              "        vertical-align: middle;\n",
              "    }\n",
              "\n",
              "    .dataframe tbody tr th {\n",
              "        vertical-align: top;\n",
              "    }\n",
              "\n",
              "    .dataframe thead th {\n",
              "        text-align: right;\n",
              "    }\n",
              "</style>\n",
              "<table border=\"1\" class=\"dataframe\">\n",
              "  <thead>\n",
              "    <tr style=\"text-align: right;\">\n",
              "      <th></th>\n",
              "      <th>title</th>\n",
              "      <th>link</th>\n",
              "      <th>published</th>\n",
              "      <th>SENTIMENT</th>\n",
              "      <th>SCORE</th>\n",
              "    </tr>\n",
              "  </thead>\n",
              "  <tbody>\n",
              "    <tr>\n",
              "      <th>0</th>\n",
              "      <td>Readers envisioned a new downtown OKC in first...</td>\n",
              "      <td>https://www.oklahoman.com/story/news/2021/03/1...</td>\n",
              "      <td>Fri, 19 Mar 2021 07:00:00 GMT</td>\n",
              "      <td>Neutral</td>\n",
              "      <td>0.0000</td>\n",
              "    </tr>\n",
              "    <tr>\n",
              "      <th>1</th>\n",
              "      <td>OKC seeks bids to demolish public safety compl...</td>\n",
              "      <td>https://journalrecord.com/2021/04/21/okc-seeks...</td>\n",
              "      <td>Wed, 21 Apr 2021 07:00:00 GMT</td>\n",
              "      <td>Positive</td>\n",
              "      <td>0.4215</td>\n",
              "    </tr>\n",
              "    <tr>\n",
              "      <th>2</th>\n",
              "      <td>Epilepsy Discovery Reveals Why Some Seizures P...</td>\n",
              "      <td>https://news.virginia.edu/content/epilepsy-dis...</td>\n",
              "      <td>Tue, 27 Apr 2021 07:00:00 GMT</td>\n",
              "      <td>Neutral</td>\n",
              "      <td>0.0000</td>\n",
              "    </tr>\n",
              "    <tr>\n",
              "      <th>3</th>\n",
              "      <td>New research sheds light on what causes sudden...</td>\n",
              "      <td>https://www.news-medical.net/news/20210428/New...</td>\n",
              "      <td>Wed, 28 Apr 2021 07:00:00 GMT</td>\n",
              "      <td>Negative</td>\n",
              "      <td>-0.5994</td>\n",
              "    </tr>\n",
              "    <tr>\n",
              "      <th>4</th>\n",
              "      <td>Epilepsy Study Reveals Why Some Seizures Prove...</td>\n",
              "      <td>https://www.technologynetworks.com/neuroscienc...</td>\n",
              "      <td>Thu, 29 Apr 2021 07:00:00 GMT</td>\n",
              "      <td>Neutral</td>\n",
              "      <td>0.0000</td>\n",
              "    </tr>\n",
              "  </tbody>\n",
              "</table>\n",
              "</div>\n",
              "      <button class=\"colab-df-convert\" onclick=\"convertToInteractive('df-a3a9d991-ab16-47d0-8862-5f782ce60625')\"\n",
              "              title=\"Convert this dataframe to an interactive table.\"\n",
              "              style=\"display:none;\">\n",
              "        \n",
              "  <svg xmlns=\"http://www.w3.org/2000/svg\" height=\"24px\"viewBox=\"0 0 24 24\"\n",
              "       width=\"24px\">\n",
              "    <path d=\"M0 0h24v24H0V0z\" fill=\"none\"/>\n",
              "    <path d=\"M18.56 5.44l.94 2.06.94-2.06 2.06-.94-2.06-.94-.94-2.06-.94 2.06-2.06.94zm-11 1L8.5 8.5l.94-2.06 2.06-.94-2.06-.94L8.5 2.5l-.94 2.06-2.06.94zm10 10l.94 2.06.94-2.06 2.06-.94-2.06-.94-.94-2.06-.94 2.06-2.06.94z\"/><path d=\"M17.41 7.96l-1.37-1.37c-.4-.4-.92-.59-1.43-.59-.52 0-1.04.2-1.43.59L10.3 9.45l-7.72 7.72c-.78.78-.78 2.05 0 2.83L4 21.41c.39.39.9.59 1.41.59.51 0 1.02-.2 1.41-.59l7.78-7.78 2.81-2.81c.8-.78.8-2.07 0-2.86zM5.41 20L4 18.59l7.72-7.72 1.47 1.35L5.41 20z\"/>\n",
              "  </svg>\n",
              "      </button>\n",
              "      \n",
              "  <style>\n",
              "    .colab-df-container {\n",
              "      display:flex;\n",
              "      flex-wrap:wrap;\n",
              "      gap: 12px;\n",
              "    }\n",
              "\n",
              "    .colab-df-convert {\n",
              "      background-color: #E8F0FE;\n",
              "      border: none;\n",
              "      border-radius: 50%;\n",
              "      cursor: pointer;\n",
              "      display: none;\n",
              "      fill: #1967D2;\n",
              "      height: 32px;\n",
              "      padding: 0 0 0 0;\n",
              "      width: 32px;\n",
              "    }\n",
              "\n",
              "    .colab-df-convert:hover {\n",
              "      background-color: #E2EBFA;\n",
              "      box-shadow: 0px 1px 2px rgba(60, 64, 67, 0.3), 0px 1px 3px 1px rgba(60, 64, 67, 0.15);\n",
              "      fill: #174EA6;\n",
              "    }\n",
              "\n",
              "    [theme=dark] .colab-df-convert {\n",
              "      background-color: #3B4455;\n",
              "      fill: #D2E3FC;\n",
              "    }\n",
              "\n",
              "    [theme=dark] .colab-df-convert:hover {\n",
              "      background-color: #434B5C;\n",
              "      box-shadow: 0px 1px 3px 1px rgba(0, 0, 0, 0.15);\n",
              "      filter: drop-shadow(0px 1px 2px rgba(0, 0, 0, 0.3));\n",
              "      fill: #FFFFFF;\n",
              "    }\n",
              "  </style>\n",
              "\n",
              "      <script>\n",
              "        const buttonEl =\n",
              "          document.querySelector('#df-a3a9d991-ab16-47d0-8862-5f782ce60625 button.colab-df-convert');\n",
              "        buttonEl.style.display =\n",
              "          google.colab.kernel.accessAllowed ? 'block' : 'none';\n",
              "\n",
              "        async function convertToInteractive(key) {\n",
              "          const element = document.querySelector('#df-a3a9d991-ab16-47d0-8862-5f782ce60625');\n",
              "          const dataTable =\n",
              "            await google.colab.kernel.invokeFunction('convertToInteractive',\n",
              "                                                     [key], {});\n",
              "          if (!dataTable) return;\n",
              "\n",
              "          const docLinkHtml = 'Like what you see? Visit the ' +\n",
              "            '<a target=\"_blank\" href=https://colab.research.google.com/notebooks/data_table.ipynb>data table notebook</a>'\n",
              "            + ' to learn more about interactive tables.';\n",
              "          element.innerHTML = '';\n",
              "          dataTable['output_type'] = 'display_data';\n",
              "          await google.colab.output.renderOutput(dataTable, element);\n",
              "          const docLink = document.createElement('div');\n",
              "          docLink.innerHTML = docLinkHtml;\n",
              "          element.appendChild(docLink);\n",
              "        }\n",
              "      </script>\n",
              "    </div>\n",
              "  </div>\n",
              "  "
            ]
          },
          "metadata": {},
          "execution_count": 196
        }
      ]
    },
    {
      "cell_type": "markdown",
      "source": [
        "Note: Inside the dataset, 2 new columns are added .\n",
        "\n",
        "1) Sentiment: showing the determined sentiment for the particular news\n",
        "\n",
        "2)  Sentiment Score"
      ],
      "metadata": {
        "id": "p--SxNhajYlo"
      }
    },
    {
      "cell_type": "code",
      "source": [
        "max_value = data1['SCORE'].max()\n",
        "min_value = data1['SCORE'].min()\n",
        "max_title = (data1.loc[data1.SCORE == max_value, 'title'])\n",
        "min_title = (data1.loc[data1.SCORE == min_value, 'title'])\n",
        "overall_sentiment = data1['SCORE'].mean()"
      ],
      "metadata": {
        "id": "c1FYfErrDXt9"
      },
      "execution_count": null,
      "outputs": []
    },
    {
      "cell_type": "markdown",
      "source": [
        "Network Visualization:\n",
        "\n",
        "Now, we will try to generate the network graphs after completing sentiment analysis."
      ],
      "metadata": {
        "id": "VMzjF7G8jlLN"
      }
    },
    {
      "cell_type": "code",
      "source": [
        "!pip install faker\n",
        "!apt install libgraphviz-dev\n",
        "\n",
        "!pip install pygraphviz"
      ],
      "metadata": {
        "colab": {
          "base_uri": "https://localhost:8080/"
        },
        "id": "cOOL36DWDiAV",
        "outputId": "a77b6339-a782-493f-e62a-54fe16201cc9"
      },
      "execution_count": null,
      "outputs": [
        {
          "output_type": "stream",
          "name": "stdout",
          "text": [
            "Looking in indexes: https://pypi.org/simple, https://us-python.pkg.dev/colab-wheels/public/simple/\n",
            "Requirement already satisfied: faker in /usr/local/lib/python3.7/dist-packages (13.11.1)\n",
            "Requirement already satisfied: python-dateutil>=2.4 in /usr/local/lib/python3.7/dist-packages (from faker) (2.8.2)\n",
            "Requirement already satisfied: typing-extensions>=3.10.0.2 in /usr/local/lib/python3.7/dist-packages (from faker) (4.2.0)\n",
            "Requirement already satisfied: six>=1.5 in /usr/local/lib/python3.7/dist-packages (from python-dateutil>=2.4->faker) (1.15.0)\n",
            "Reading package lists... Done\n",
            "Building dependency tree       \n",
            "Reading state information... Done\n",
            "libgraphviz-dev is already the newest version (2.40.1-2).\n",
            "The following package was automatically installed and is no longer required:\n",
            "  libnvidia-common-460\n",
            "Use 'apt autoremove' to remove it.\n",
            "0 upgraded, 0 newly installed, 0 to remove and 42 not upgraded.\n",
            "Looking in indexes: https://pypi.org/simple, https://us-python.pkg.dev/colab-wheels/public/simple/\n",
            "Requirement already satisfied: pygraphviz in /usr/local/lib/python3.7/dist-packages (1.7)\n"
          ]
        }
      ]
    },
    {
      "cell_type": "code",
      "source": [
        "#importing the libraries\n",
        "import networkx as nx\n",
        "import matplotlib.pyplot as plt\n",
        "import networkx as nx\n",
        "from networkx.drawing.nx_agraph import to_agraph\n",
        "from faker import Faker\n",
        "faker = Faker()\n",
        "%matplotlib inline"
      ],
      "metadata": {
        "id": "iE9ytXOFDvCn"
      },
      "execution_count": null,
      "outputs": []
    },
    {
      "cell_type": "code",
      "source": [
        "df_graph = data1[:20]\n",
        "df_graph.head()"
      ],
      "metadata": {
        "colab": {
          "base_uri": "https://localhost:8080/",
          "height": 206
        },
        "id": "YEiJ1qoYDwnX",
        "outputId": "33637fcb-44d0-4094-8c94-bf6d9a4bf9dc"
      },
      "execution_count": null,
      "outputs": [
        {
          "output_type": "execute_result",
          "data": {
            "text/plain": [
              "                                               title  \\\n",
              "0  Readers envisioned a new downtown OKC in first...   \n",
              "1  OKC seeks bids to demolish public safety compl...   \n",
              "2  Epilepsy Discovery Reveals Why Some Seizures P...   \n",
              "3  New research sheds light on what causes sudden...   \n",
              "4  Epilepsy Study Reveals Why Some Seizures Prove...   \n",
              "\n",
              "                                                link  \\\n",
              "0  https://www.oklahoman.com/story/news/2021/03/1...   \n",
              "1  https://journalrecord.com/2021/04/21/okc-seeks...   \n",
              "2  https://news.virginia.edu/content/epilepsy-dis...   \n",
              "3  https://www.news-medical.net/news/20210428/New...   \n",
              "4  https://www.technologynetworks.com/neuroscienc...   \n",
              "\n",
              "                       published SENTIMENT   SCORE  \n",
              "0  Fri, 19 Mar 2021 07:00:00 GMT   Neutral  0.0000  \n",
              "1  Wed, 21 Apr 2021 07:00:00 GMT  Positive  0.4215  \n",
              "2  Tue, 27 Apr 2021 07:00:00 GMT   Neutral  0.0000  \n",
              "3  Wed, 28 Apr 2021 07:00:00 GMT  Negative -0.5994  \n",
              "4  Thu, 29 Apr 2021 07:00:00 GMT   Neutral  0.0000  "
            ],
            "text/html": [
              "\n",
              "  <div id=\"df-e2f2e893-63de-41a2-97fa-580b336f0d52\">\n",
              "    <div class=\"colab-df-container\">\n",
              "      <div>\n",
              "<style scoped>\n",
              "    .dataframe tbody tr th:only-of-type {\n",
              "        vertical-align: middle;\n",
              "    }\n",
              "\n",
              "    .dataframe tbody tr th {\n",
              "        vertical-align: top;\n",
              "    }\n",
              "\n",
              "    .dataframe thead th {\n",
              "        text-align: right;\n",
              "    }\n",
              "</style>\n",
              "<table border=\"1\" class=\"dataframe\">\n",
              "  <thead>\n",
              "    <tr style=\"text-align: right;\">\n",
              "      <th></th>\n",
              "      <th>title</th>\n",
              "      <th>link</th>\n",
              "      <th>published</th>\n",
              "      <th>SENTIMENT</th>\n",
              "      <th>SCORE</th>\n",
              "    </tr>\n",
              "  </thead>\n",
              "  <tbody>\n",
              "    <tr>\n",
              "      <th>0</th>\n",
              "      <td>Readers envisioned a new downtown OKC in first...</td>\n",
              "      <td>https://www.oklahoman.com/story/news/2021/03/1...</td>\n",
              "      <td>Fri, 19 Mar 2021 07:00:00 GMT</td>\n",
              "      <td>Neutral</td>\n",
              "      <td>0.0000</td>\n",
              "    </tr>\n",
              "    <tr>\n",
              "      <th>1</th>\n",
              "      <td>OKC seeks bids to demolish public safety compl...</td>\n",
              "      <td>https://journalrecord.com/2021/04/21/okc-seeks...</td>\n",
              "      <td>Wed, 21 Apr 2021 07:00:00 GMT</td>\n",
              "      <td>Positive</td>\n",
              "      <td>0.4215</td>\n",
              "    </tr>\n",
              "    <tr>\n",
              "      <th>2</th>\n",
              "      <td>Epilepsy Discovery Reveals Why Some Seizures P...</td>\n",
              "      <td>https://news.virginia.edu/content/epilepsy-dis...</td>\n",
              "      <td>Tue, 27 Apr 2021 07:00:00 GMT</td>\n",
              "      <td>Neutral</td>\n",
              "      <td>0.0000</td>\n",
              "    </tr>\n",
              "    <tr>\n",
              "      <th>3</th>\n",
              "      <td>New research sheds light on what causes sudden...</td>\n",
              "      <td>https://www.news-medical.net/news/20210428/New...</td>\n",
              "      <td>Wed, 28 Apr 2021 07:00:00 GMT</td>\n",
              "      <td>Negative</td>\n",
              "      <td>-0.5994</td>\n",
              "    </tr>\n",
              "    <tr>\n",
              "      <th>4</th>\n",
              "      <td>Epilepsy Study Reveals Why Some Seizures Prove...</td>\n",
              "      <td>https://www.technologynetworks.com/neuroscienc...</td>\n",
              "      <td>Thu, 29 Apr 2021 07:00:00 GMT</td>\n",
              "      <td>Neutral</td>\n",
              "      <td>0.0000</td>\n",
              "    </tr>\n",
              "  </tbody>\n",
              "</table>\n",
              "</div>\n",
              "      <button class=\"colab-df-convert\" onclick=\"convertToInteractive('df-e2f2e893-63de-41a2-97fa-580b336f0d52')\"\n",
              "              title=\"Convert this dataframe to an interactive table.\"\n",
              "              style=\"display:none;\">\n",
              "        \n",
              "  <svg xmlns=\"http://www.w3.org/2000/svg\" height=\"24px\"viewBox=\"0 0 24 24\"\n",
              "       width=\"24px\">\n",
              "    <path d=\"M0 0h24v24H0V0z\" fill=\"none\"/>\n",
              "    <path d=\"M18.56 5.44l.94 2.06.94-2.06 2.06-.94-2.06-.94-.94-2.06-.94 2.06-2.06.94zm-11 1L8.5 8.5l.94-2.06 2.06-.94-2.06-.94L8.5 2.5l-.94 2.06-2.06.94zm10 10l.94 2.06.94-2.06 2.06-.94-2.06-.94-.94-2.06-.94 2.06-2.06.94z\"/><path d=\"M17.41 7.96l-1.37-1.37c-.4-.4-.92-.59-1.43-.59-.52 0-1.04.2-1.43.59L10.3 9.45l-7.72 7.72c-.78.78-.78 2.05 0 2.83L4 21.41c.39.39.9.59 1.41.59.51 0 1.02-.2 1.41-.59l7.78-7.78 2.81-2.81c.8-.78.8-2.07 0-2.86zM5.41 20L4 18.59l7.72-7.72 1.47 1.35L5.41 20z\"/>\n",
              "  </svg>\n",
              "      </button>\n",
              "      \n",
              "  <style>\n",
              "    .colab-df-container {\n",
              "      display:flex;\n",
              "      flex-wrap:wrap;\n",
              "      gap: 12px;\n",
              "    }\n",
              "\n",
              "    .colab-df-convert {\n",
              "      background-color: #E8F0FE;\n",
              "      border: none;\n",
              "      border-radius: 50%;\n",
              "      cursor: pointer;\n",
              "      display: none;\n",
              "      fill: #1967D2;\n",
              "      height: 32px;\n",
              "      padding: 0 0 0 0;\n",
              "      width: 32px;\n",
              "    }\n",
              "\n",
              "    .colab-df-convert:hover {\n",
              "      background-color: #E2EBFA;\n",
              "      box-shadow: 0px 1px 2px rgba(60, 64, 67, 0.3), 0px 1px 3px 1px rgba(60, 64, 67, 0.15);\n",
              "      fill: #174EA6;\n",
              "    }\n",
              "\n",
              "    [theme=dark] .colab-df-convert {\n",
              "      background-color: #3B4455;\n",
              "      fill: #D2E3FC;\n",
              "    }\n",
              "\n",
              "    [theme=dark] .colab-df-convert:hover {\n",
              "      background-color: #434B5C;\n",
              "      box-shadow: 0px 1px 3px 1px rgba(0, 0, 0, 0.15);\n",
              "      filter: drop-shadow(0px 1px 2px rgba(0, 0, 0, 0.3));\n",
              "      fill: #FFFFFF;\n",
              "    }\n",
              "  </style>\n",
              "\n",
              "      <script>\n",
              "        const buttonEl =\n",
              "          document.querySelector('#df-e2f2e893-63de-41a2-97fa-580b336f0d52 button.colab-df-convert');\n",
              "        buttonEl.style.display =\n",
              "          google.colab.kernel.accessAllowed ? 'block' : 'none';\n",
              "\n",
              "        async function convertToInteractive(key) {\n",
              "          const element = document.querySelector('#df-e2f2e893-63de-41a2-97fa-580b336f0d52');\n",
              "          const dataTable =\n",
              "            await google.colab.kernel.invokeFunction('convertToInteractive',\n",
              "                                                     [key], {});\n",
              "          if (!dataTable) return;\n",
              "\n",
              "          const docLinkHtml = 'Like what you see? Visit the ' +\n",
              "            '<a target=\"_blank\" href=https://colab.research.google.com/notebooks/data_table.ipynb>data table notebook</a>'\n",
              "            + ' to learn more about interactive tables.';\n",
              "          element.innerHTML = '';\n",
              "          dataTable['output_type'] = 'display_data';\n",
              "          await google.colab.output.renderOutput(dataTable, element);\n",
              "          const docLink = document.createElement('div');\n",
              "          docLink.innerHTML = docLinkHtml;\n",
              "          element.appendChild(docLink);\n",
              "        }\n",
              "      </script>\n",
              "    </div>\n",
              "  </div>\n",
              "  "
            ]
          },
          "metadata": {},
          "execution_count": 200
        }
      ]
    },
    {
      "cell_type": "code",
      "source": [
        "# adding edges and nodes for the graph\n",
        "graph = nx.Graph()\n",
        "graph.add_node(\"Positive\",color='green',style='filled',fillcolor='green')\n",
        "graph.add_node(\"Negative\",color='red',style='filled',fillcolor='red')\n",
        "graph.add_node(\"Neutral\",color='blue',style='filled',fillcolor='blue')\n",
        "for index, row in df_graph.iterrows():\n",
        "      if row['SENTIMENT'] == 'Positive':\n",
        "        colour = 'g'\n",
        "      if row['SENTIMENT'] == 'Negative':\n",
        "        colour = 'r' \n",
        "      if row['SENTIMENT'] == 'Neutral':\n",
        "        colour = 'b'    \n",
        "      graph.add_edge(row['title'],row['SENTIMENT'],color=colour)\n",
        "labels = {}\n",
        "pos = nx.layout.kamada_kawai_layout(graph)\n",
        "colors = nx.get_edge_attributes(graph,'color').values()\n",
        "nx.draw(graph, pos=pos, edge_color=colors, with_labels= True)"
      ],
      "metadata": {
        "colab": {
          "base_uri": "https://localhost:8080/",
          "height": 319
        },
        "id": "KvFCAdSDDzvH",
        "outputId": "86473c12-6b85-42da-8704-6323b0e173ad"
      },
      "execution_count": null,
      "outputs": [
        {
          "output_type": "display_data",
          "data": {
            "text/plain": [
              "<Figure size 432x288 with 1 Axes>"
            ],
            "image/png": "[encoded data removed]"
          },
          "metadata": {}
        }
      ]
    },
    {
      "cell_type": "markdown",
      "source": [
        "Note: The above image generated is the network graph keeping Sentiment Analysis in mind."
      ],
      "metadata": {
        "id": "pOn4OUpQj5yN"
      }
    },
    {
      "cell_type": "code",
      "source": [
        "max_title = max_title.to_string(index=False)\n",
        "min_title = min_title.to_string(index=False)"
      ],
      "metadata": {
        "id": "5J9OuCl7D3lr"
      },
      "execution_count": null,
      "outputs": []
    },
    {
      "cell_type": "markdown",
      "source": [
        "\n",
        "**Static Output file: **\n",
        "In this section, we will store the results and important facts and figures generated in the static portion of the datsaset"
      ],
      "metadata": {
        "id": "J2PWJo5pkAt-"
      }
    },
    {
      "cell_type": "code",
      "source": [
        "dict_of_result = {\"Company's Name\" : [organisation_name], \n",
        "               \"Company's Founders\" : [founder],\n",
        "               \"Company's Main Focus\" : [industries],\n",
        "               \"Company Description\" : [company_description],  \n",
        "               \"Top negative news\" : [min_title], \n",
        "               \"Top positive news\" : [max_title], \n",
        "               \"Founded Date\":[founded_date],\n",
        "               \"Overall Sentiment for the Company\" : [overall_sentiment], \n",
        "               \"People in Company's Boards\": [org_board],\n",
        "               \"Company's Location\" : [location]}\n",
        "with open(\"Output_Static.txt\", \"a\") as f:\n",
        "  [print(key,':',value, file=f) for key, value in dict_of_result.items()]\n",
        "\n",
        "if overall_sentiment>=20:\n",
        "  with open(\"Output_Static.txt\", \"a\") as f:\n",
        "    print(\"Invest in Company\", file=f)\n",
        "else:\n",
        "  with open(\"Output_Static.txt\", \"a\") as f:\n",
        "    print(\"Don't invest in Company\",file=f)\n",
        "\n",
        "f.close()"
      ],
      "metadata": {
        "id": "l_2asFomGOqH"
      },
      "execution_count": null,
      "outputs": []
    },
    {
      "cell_type": "markdown",
      "source": [
        "Here, the static portion of the project comes to an end."
      ],
      "metadata": {
        "id": "x6-CSZrckUrb"
      }
    },
    {
      "cell_type": "markdown",
      "source": [
        "#**Dynamic Part** on a dataset of 1000 companies from CrunchBase"
      ],
      "metadata": {
        "id": "m5dYt4xAQg1Z"
      }
    },
    {
      "cell_type": "markdown",
      "source": [
        "After the static part, in this dynamic section , user can input any name of the company and the data will be automatically be scraped related to this company .\n",
        "Also, the summarization and network visualization will be performed related to the company. The results will be saved in a .txt file."
      ],
      "metadata": {
        "id": "v4b95WCAktqK"
      }
    },
    {
      "cell_type": "markdown",
      "source": [
        "**Environment Setup**"
      ],
      "metadata": {
        "id": "q7GP2infQrpo"
      }
    },
    {
      "cell_type": "code",
      "source": [
        "!pip install pygooglenews\n",
        "!pip install transformers\n",
        "!pip install fast_ml==3.68\n",
        "!pip install datasets\n",
        "!pip install neattext"
      ],
      "metadata": {
        "colab": {
          "base_uri": "https://localhost:8080/"
        },
        "id": "Xvtl708nQfaQ",
        "outputId": "44c1be9b-af7d-4963-efc1-07da8dc3b95f"
      },
      "execution_count": null,
      "outputs": [
        {
          "output_type": "stream",
          "name": "stdout",
          "text": [
            "Looking in indexes: https://pypi.org/simple, https://us-python.pkg.dev/colab-wheels/public/simple/\n",
            "Requirement already satisfied: pygooglenews in /usr/local/lib/python3.7/dist-packages (0.1.2)\n",
            "Requirement already satisfied: dateparser<0.8.0,>=0.7.6 in /usr/local/lib/python3.7/dist-packages (from pygooglenews) (0.7.6)\n",
            "Requirement already satisfied: requests<3.0.0,>=2.24.0 in /usr/local/lib/python3.7/dist-packages (from pygooglenews) (2.27.1)\n",
            "Requirement already satisfied: beautifulsoup4<5.0.0,>=4.9.1 in /usr/local/lib/python3.7/dist-packages (from pygooglenews) (4.11.1)\n",
            "Requirement already satisfied: feedparser<6.0.0,>=5.2.1 in /usr/local/lib/python3.7/dist-packages (from pygooglenews) (5.2.1)\n",
            "Requirement already satisfied: soupsieve>1.2 in /usr/local/lib/python3.7/dist-packages (from beautifulsoup4<5.0.0,>=4.9.1->pygooglenews) (2.3.2.post1)\n",
            "Requirement already satisfied: tzlocal in /usr/local/lib/python3.7/dist-packages (from dateparser<0.8.0,>=0.7.6->pygooglenews) (1.5.1)\n",
            "Requirement already satisfied: python-dateutil in /usr/local/lib/python3.7/dist-packages (from dateparser<0.8.0,>=0.7.6->pygooglenews) (2.8.2)\n",
            "Requirement already satisfied: pytz in /usr/local/lib/python3.7/dist-packages (from dateparser<0.8.0,>=0.7.6->pygooglenews) (2022.1)\n",
            "Requirement already satisfied: regex!=2019.02.19 in /usr/local/lib/python3.7/dist-packages (from dateparser<0.8.0,>=0.7.6->pygooglenews) (2019.12.20)\n",
            "Requirement already satisfied: idna<4,>=2.5 in /usr/local/lib/python3.7/dist-packages (from requests<3.0.0,>=2.24.0->pygooglenews) (2.10)\n",
            "Requirement already satisfied: charset-normalizer~=2.0.0 in /usr/local/lib/python3.7/dist-packages (from requests<3.0.0,>=2.24.0->pygooglenews) (2.0.12)\n",
            "Requirement already satisfied: certifi>=2017.4.17 in /usr/local/lib/python3.7/dist-packages (from requests<3.0.0,>=2.24.0->pygooglenews) (2022.5.18.1)\n",
            "Requirement already satisfied: urllib3<1.27,>=1.21.1 in /usr/local/lib/python3.7/dist-packages (from requests<3.0.0,>=2.24.0->pygooglenews) (1.26.9)\n",
            "Requirement already satisfied: six>=1.5 in /usr/local/lib/python3.7/dist-packages (from python-dateutil->dateparser<0.8.0,>=0.7.6->pygooglenews) (1.15.0)\n",
            "Looking in indexes: https://pypi.org/simple, https://us-python.pkg.dev/colab-wheels/public/simple/\n",
            "Requirement already satisfied: transformers in /usr/local/lib/python3.7/dist-packages (4.19.2)\n",
            "Requirement already satisfied: requests in /usr/local/lib/python3.7/dist-packages (from transformers) (2.27.1)\n",
            "Requirement already satisfied: importlib-metadata in /usr/local/lib/python3.7/dist-packages (from transformers) (4.11.3)\n",
            "Requirement already satisfied: regex!=2019.12.17 in /usr/local/lib/python3.7/dist-packages (from transformers) (2019.12.20)\n",
            "Requirement already satisfied: packaging>=20.0 in /usr/local/lib/python3.7/dist-packages (from transformers) (21.3)\n",
            "Requirement already satisfied: pyyaml>=5.1 in /usr/local/lib/python3.7/dist-packages (from transformers) (6.0)\n",
            "Requirement already satisfied: filelock in /usr/local/lib/python3.7/dist-packages (from transformers) (3.7.0)\n",
            "Requirement already satisfied: tokenizers!=0.11.3,<0.13,>=0.11.1 in /usr/local/lib/python3.7/dist-packages (from transformers) (0.12.1)\n",
            "Requirement already satisfied: tqdm>=4.27 in /usr/local/lib/python3.7/dist-packages (from transformers) (4.64.0)\n",
            "Requirement already satisfied: numpy>=1.17 in /usr/local/lib/python3.7/dist-packages (from transformers) (1.21.6)\n",
            "Requirement already satisfied: huggingface-hub<1.0,>=0.1.0 in /usr/local/lib/python3.7/dist-packages (from transformers) (0.6.0)\n",
            "Requirement already satisfied: typing-extensions>=3.7.4.3 in /usr/local/lib/python3.7/dist-packages (from huggingface-hub<1.0,>=0.1.0->transformers) (4.2.0)\n",
            "Requirement already satisfied: pyparsing!=3.0.5,>=2.0.2 in /usr/local/lib/python3.7/dist-packages (from packaging>=20.0->transformers) (3.0.9)\n",
            "Requirement already satisfied: zipp>=0.5 in /usr/local/lib/python3.7/dist-packages (from importlib-metadata->transformers) (3.8.0)\n",
            "Requirement already satisfied: urllib3<1.27,>=1.21.1 in /usr/local/lib/python3.7/dist-packages (from requests->transformers) (1.26.9)\n",
            "Requirement already satisfied: charset-normalizer~=2.0.0 in /usr/local/lib/python3.7/dist-packages (from requests->transformers) (2.0.12)\n",
            "Requirement already satisfied: idna<4,>=2.5 in /usr/local/lib/python3.7/dist-packages (from requests->transformers) (2.10)\n",
            "Requirement already satisfied: certifi>=2017.4.17 in /usr/local/lib/python3.7/dist-packages (from requests->transformers) (2022.5.18.1)\n",
            "Looking in indexes: https://pypi.org/simple, https://us-python.pkg.dev/colab-wheels/public/simple/\n",
            "Requirement already satisfied: fast_ml==3.68 in /usr/local/lib/python3.7/dist-packages (3.68)\n",
            "Looking in indexes: https://pypi.org/simple, https://us-python.pkg.dev/colab-wheels/public/simple/\n",
            "Requirement already satisfied: datasets in /usr/local/lib/python3.7/dist-packages (2.2.2)\n",
            "Requirement already satisfied: fsspec[http]>=2021.05.0 in /usr/local/lib/python3.7/dist-packages (from datasets) (2022.5.0)\n",
            "Requirement already satisfied: pyarrow>=6.0.0 in /usr/local/lib/python3.7/dist-packages (from datasets) (6.0.1)\n",
            "Requirement already satisfied: tqdm>=4.62.1 in /usr/local/lib/python3.7/dist-packages (from datasets) (4.64.0)\n",
            "Requirement already satisfied: multiprocess in /usr/local/lib/python3.7/dist-packages (from datasets) (0.70.12.2)\n",
            "Requirement already satisfied: huggingface-hub<1.0.0,>=0.1.0 in /usr/local/lib/python3.7/dist-packages (from datasets) (0.6.0)\n",
            "Requirement already satisfied: aiohttp in /usr/local/lib/python3.7/dist-packages (from datasets) (3.8.1)\n",
            "Requirement already satisfied: packaging in /usr/local/lib/python3.7/dist-packages (from datasets) (21.3)\n",
            "Requirement already satisfied: responses<0.19 in /usr/local/lib/python3.7/dist-packages (from datasets) (0.18.0)\n",
            "Requirement already satisfied: requests>=2.19.0 in /usr/local/lib/python3.7/dist-packages (from datasets) (2.27.1)\n",
            "Requirement already satisfied: pandas in /usr/local/lib/python3.7/dist-packages (from datasets) (1.3.5)\n",
            "Requirement already satisfied: xxhash in /usr/local/lib/python3.7/dist-packages (from datasets) (3.0.0)\n",
            "Requirement already satisfied: importlib-metadata in /usr/local/lib/python3.7/dist-packages (from datasets) (4.11.3)\n",
            "Requirement already satisfied: numpy>=1.17 in /usr/local/lib/python3.7/dist-packages (from datasets) (1.21.6)\n",
            "Requirement already satisfied: dill<0.3.5 in /usr/local/lib/python3.7/dist-packages (from datasets) (0.3.4)\n",
            "Requirement already satisfied: typing-extensions>=3.7.4.3 in /usr/local/lib/python3.7/dist-packages (from huggingface-hub<1.0.0,>=0.1.0->datasets) (4.2.0)\n",
            "Requirement already satisfied: pyyaml in /usr/local/lib/python3.7/dist-packages (from huggingface-hub<1.0.0,>=0.1.0->datasets) (6.0)\n",
            "Requirement already satisfied: filelock in /usr/local/lib/python3.7/dist-packages (from huggingface-hub<1.0.0,>=0.1.0->datasets) (3.7.0)\n",
            "Requirement already satisfied: pyparsing!=3.0.5,>=2.0.2 in /usr/local/lib/python3.7/dist-packages (from packaging->datasets) (3.0.9)\n",
            "Requirement already satisfied: urllib3<1.27,>=1.21.1 in /usr/local/lib/python3.7/dist-packages (from requests>=2.19.0->datasets) (1.26.9)\n",
            "Requirement already satisfied: certifi>=2017.4.17 in /usr/local/lib/python3.7/dist-packages (from requests>=2.19.0->datasets) (2022.5.18.1)\n",
            "Requirement already satisfied: idna<4,>=2.5 in /usr/local/lib/python3.7/dist-packages (from requests>=2.19.0->datasets) (2.10)\n",
            "Requirement already satisfied: charset-normalizer~=2.0.0 in /usr/local/lib/python3.7/dist-packages (from requests>=2.19.0->datasets) (2.0.12)\n",
            "Requirement already satisfied: aiosignal>=1.1.2 in /usr/local/lib/python3.7/dist-packages (from aiohttp->datasets) (1.2.0)\n",
            "Requirement already satisfied: yarl<2.0,>=1.0 in /usr/local/lib/python3.7/dist-packages (from aiohttp->datasets) (1.7.2)\n",
            "Requirement already satisfied: async-timeout<5.0,>=4.0.0a3 in /usr/local/lib/python3.7/dist-packages (from aiohttp->datasets) (4.0.2)\n",
            "Requirement already satisfied: multidict<7.0,>=4.5 in /usr/local/lib/python3.7/dist-packages (from aiohttp->datasets) (6.0.2)\n",
            "Requirement already satisfied: frozenlist>=1.1.1 in /usr/local/lib/python3.7/dist-packages (from aiohttp->datasets) (1.3.0)\n",
            "Requirement already satisfied: attrs>=17.3.0 in /usr/local/lib/python3.7/dist-packages (from aiohttp->datasets) (21.4.0)\n",
            "Requirement already satisfied: asynctest==0.13.0 in /usr/local/lib/python3.7/dist-packages (from aiohttp->datasets) (0.13.0)\n",
            "Requirement already satisfied: zipp>=0.5 in /usr/local/lib/python3.7/dist-packages (from importlib-metadata->datasets) (3.8.0)\n",
            "Requirement already satisfied: pytz>=2017.3 in /usr/local/lib/python3.7/dist-packages (from pandas->datasets) (2022.1)\n",
            "Requirement already satisfied: python-dateutil>=2.7.3 in /usr/local/lib/python3.7/dist-packages (from pandas->datasets) (2.8.2)\n",
            "Requirement already satisfied: six>=1.5 in /usr/local/lib/python3.7/dist-packages (from python-dateutil>=2.7.3->pandas->datasets) (1.15.0)\n",
            "Looking in indexes: https://pypi.org/simple, https://us-python.pkg.dev/colab-wheels/public/simple/\n",
            "Requirement already satisfied: neattext in /usr/local/lib/python3.7/dist-packages (0.1.3)\n"
          ]
        }
      ]
    },
    {
      "cell_type": "markdown",
      "source": [
        "**Importing Libraries**"
      ],
      "metadata": {
        "id": "U77yxCCHTYk9"
      }
    },
    {
      "cell_type": "code",
      "source": [
        "import pandas as pd\n",
        "from pygooglenews import GoogleNews\n",
        "import re\n",
        "import nltk\n",
        "import json\n",
        "import neattext as ntx\n",
        "nltk.download('wordnet')\n",
        "nltk.download('punkt')\n",
        "nltk.download('vader_lexicon')\n",
        "from nltk.stem import WordNetLemmatizer\n",
        "from nltk.probability import FreqDist\n",
        "from wordcloud import WordCloud, STOPWORDS\n",
        "from nltk.util import ngrams\n",
        "from nltk.tokenize import word_tokenize\n",
        "from nltk.corpus import subjectivity\n",
        "%matplotlib inline "
      ],
      "metadata": {
        "id": "738Xgj5WQ0g3",
        "colab": {
          "base_uri": "https://localhost:8080/"
        },
        "outputId": "4d6e2c78-3039-4ba7-d102-451e18170c42"
      },
      "execution_count": null,
      "outputs": [
        {
          "output_type": "stream",
          "name": "stdout",
          "text": [
            "[nltk_data] Downloading package wordnet to /root/nltk_data...\n",
            "[nltk_data]   Package wordnet is already up-to-date!\n",
            "[nltk_data] Downloading package punkt to /root/nltk_data...\n",
            "[nltk_data]   Package punkt is already up-to-date!\n",
            "[nltk_data] Downloading package vader_lexicon to /root/nltk_data...\n",
            "[nltk_data]   Package vader_lexicon is already up-to-date!\n"
          ]
        }
      ]
    },
    {
      "cell_type": "markdown",
      "source": [
        "#Preparing Data#"
      ],
      "metadata": {
        "id": "qTAIYlhfQ8Bw"
      }
    },
    {
      "cell_type": "code",
      "source": [
        "data = pd.read_csv('/content/drive/MyDrive/Team Dragonites/CrunchBase Dataset/Dataset.csv')"
      ],
      "metadata": {
        "id": "uOyjgXrgQ2cy"
      },
      "execution_count": null,
      "outputs": []
    },
    {
      "cell_type": "code",
      "source": [
        "data.rename(columns={\"Organization Name\": \"COMPANY\", \"Organization Name URL\":\"URL\",\"Industries\":\"INDUSTRIES\",\"Headquarters Location\":\"HEADQUARTERS\",\"Description\":\"DESCRIPTION\",\"CB Rank (Company)\":\"CB_RANK\",\"Estimated Revenue Range\": \"REVENUE\", \"Total Funding Amount\":\"FUNDING\",\"Total Funding Amount Currency\":\"IN_CURRENCY\",\"Total Funding Amount Currency (in USD)\":\"FUNDING_IN_USD\",\"IPO Status\":\"IPO_STATUS\",\"Number of Acquisitions\":\"ACQUISITIONS\", \"Founders\":\"FOUNDERS\"}, inplace=True)\n",
        "data.head()"
      ],
      "metadata": {
        "id": "9p-yOtpwRAhr",
        "colab": {
          "base_uri": "https://localhost:8080/",
          "height": 583
        },
        "outputId": "c960042b-cdfb-4f3c-c099-40bc32ddac63"
      },
      "execution_count": null,
      "outputs": [
        {
          "output_type": "execute_result",
          "data": {
            "text/plain": [
              "    COMPANY                                                URL  \\\n",
              "0     Intel      https://www.crunchbase.com/organization/intel   \n",
              "1    Apollo  https://www.crunchbase.com/organization/apollo...   \n",
              "2    NVIDIA     https://www.crunchbase.com/organization/nvidia   \n",
              "3  Coinbase   https://www.crunchbase.com/organization/coinbase   \n",
              "4    WeWork     https://www.crunchbase.com/organization/wework   \n",
              "\n",
              "                                          INDUSTRIES  \\\n",
              "0  Artificial Intelligence, Information Technolog...   \n",
              "1  Asset Management, Credit, Finance, Financial S...   \n",
              "2  Artificial Intelligence, GPU, Hardware, Softwa...   \n",
              "3  Bitcoin, Blockchain, Cryptocurrency, E-Commerc...   \n",
              "4  Commercial Real Estate, Coworking, Property De...   \n",
              "\n",
              "                               HEADQUARTERS  \\\n",
              "0    Santa Clara, California, United States   \n",
              "1         New York, New York, United States   \n",
              "2    Santa Clara, California, United States   \n",
              "3  San Francisco, California, United States   \n",
              "4         New York, New York, United States   \n",
              "\n",
              "                                         DESCRIPTION CB_RANK         REVENUE  \\\n",
              "0  Intel designs, manufactures, and sells integra...       1           $10B+   \n",
              "1  Apollo Global Management is an asset managemen...       2    $500M to $1B   \n",
              "2  NVIDIA is a computing platform company, innova...       3           $10B+   \n",
              "3  Coinbase is an online platform that allows mer...       4     $1B to $10B   \n",
              "4  WeWork is a platform for creators that transfo...       5  $100M to $500M   \n",
              "\n",
              "        FUNDING IN_CURRENCY  FUNDING_IN_USD IPO_STATUS  \\\n",
              "0  1.251000e+07         USD    1.251000e+07     Public   \n",
              "1  3.994076e+08         USD    3.994076e+08     Public   \n",
              "2  3.500000e+07         USD    3.500000e+07     Public   \n",
              "3  5.690348e+08         USD    5.690348e+08     Public   \n",
              "4  2.194578e+10         USD    2.194578e+10     Public   \n",
              "\n",
              "                                         FOUNDERS  ACQUISITIONS  \n",
              "0                      Gordon Moore, Robert Noyce         108.0  \n",
              "1             Josh Harris, Leon Black, Marc Rowan          84.0  \n",
              "2   Chris Malachowsky, Curtis Priem, Jensen Huang          21.0  \n",
              "3                    Brian Armstrong, Fred Ehrsam          22.0  \n",
              "4  Adam Neumann, Miguel McKelvey, Rebekah Neumann          21.0  "
            ],
            "text/html": [
              "\n",
              "  <div id=\"df-98d074a6-aeec-4b76-8059-120956cabb6d\">\n",
              "    <div class=\"colab-df-container\">\n",
              "      <div>\n",
              "<style scoped>\n",
              "    .dataframe tbody tr th:only-of-type {\n",
              "        vertical-align: middle;\n",
              "    }\n",
              "\n",
              "    .dataframe tbody tr th {\n",
              "        vertical-align: top;\n",
              "    }\n",
              "\n",
              "    .dataframe thead th {\n",
              "        text-align: right;\n",
              "    }\n",
              "</style>\n",
              "<table border=\"1\" class=\"dataframe\">\n",
              "  <thead>\n",
              "    <tr style=\"text-align: right;\">\n",
              "      <th></th>\n",
              "      <th>COMPANY</th>\n",
              "      <th>URL</th>\n",
              "      <th>INDUSTRIES</th>\n",
              "      <th>HEADQUARTERS</th>\n",
              "      <th>DESCRIPTION</th>\n",
              "      <th>CB_RANK</th>\n",
              "      <th>REVENUE</th>\n",
              "      <th>FUNDING</th>\n",
              "      <th>IN_CURRENCY</th>\n",
              "      <th>FUNDING_IN_USD</th>\n",
              "      <th>IPO_STATUS</th>\n",
              "      <th>FOUNDERS</th>\n",
              "      <th>ACQUISITIONS</th>\n",
              "    </tr>\n",
              "  </thead>\n",
              "  <tbody>\n",
              "    <tr>\n",
              "      <th>0</th>\n",
              "      <td>Intel</td>\n",
              "      <td>https://www.crunchbase.com/organization/intel</td>\n",
              "      <td>Artificial Intelligence, Information Technolog...</td>\n",
              "      <td>Santa Clara, California, United States</td>\n",
              "      <td>Intel designs, manufactures, and sells integra...</td>\n",
              "      <td>1</td>\n",
              "      <td>$10B+</td>\n",
              "      <td>1.251000e+07</td>\n",
              "      <td>USD</td>\n",
              "      <td>1.251000e+07</td>\n",
              "      <td>Public</td>\n",
              "      <td>Gordon Moore, Robert Noyce</td>\n",
              "      <td>108.0</td>\n",
              "    </tr>\n",
              "    <tr>\n",
              "      <th>1</th>\n",
              "      <td>Apollo</td>\n",
              "      <td>https://www.crunchbase.com/organization/apollo...</td>\n",
              "      <td>Asset Management, Credit, Finance, Financial S...</td>\n",
              "      <td>New York, New York, United States</td>\n",
              "      <td>Apollo Global Management is an asset managemen...</td>\n",
              "      <td>2</td>\n",
              "      <td>$500M to $1B</td>\n",
              "      <td>3.994076e+08</td>\n",
              "      <td>USD</td>\n",
              "      <td>3.994076e+08</td>\n",
              "      <td>Public</td>\n",
              "      <td>Josh Harris, Leon Black, Marc Rowan</td>\n",
              "      <td>84.0</td>\n",
              "    </tr>\n",
              "    <tr>\n",
              "      <th>2</th>\n",
              "      <td>NVIDIA</td>\n",
              "      <td>https://www.crunchbase.com/organization/nvidia</td>\n",
              "      <td>Artificial Intelligence, GPU, Hardware, Softwa...</td>\n",
              "      <td>Santa Clara, California, United States</td>\n",
              "      <td>NVIDIA is a computing platform company, innova...</td>\n",
              "      <td>3</td>\n",
              "      <td>$10B+</td>\n",
              "      <td>3.500000e+07</td>\n",
              "      <td>USD</td>\n",
              "      <td>3.500000e+07</td>\n",
              "      <td>Public</td>\n",
              "      <td>Chris Malachowsky, Curtis Priem, Jensen Huang</td>\n",
              "      <td>21.0</td>\n",
              "    </tr>\n",
              "    <tr>\n",
              "      <th>3</th>\n",
              "      <td>Coinbase</td>\n",
              "      <td>https://www.crunchbase.com/organization/coinbase</td>\n",
              "      <td>Bitcoin, Blockchain, Cryptocurrency, E-Commerc...</td>\n",
              "      <td>San Francisco, California, United States</td>\n",
              "      <td>Coinbase is an online platform that allows mer...</td>\n",
              "      <td>4</td>\n",
              "      <td>$1B to $10B</td>\n",
              "      <td>5.690348e+08</td>\n",
              "      <td>USD</td>\n",
              "      <td>5.690348e+08</td>\n",
              "      <td>Public</td>\n",
              "      <td>Brian Armstrong, Fred Ehrsam</td>\n",
              "      <td>22.0</td>\n",
              "    </tr>\n",
              "    <tr>\n",
              "      <th>4</th>\n",
              "      <td>WeWork</td>\n",
              "      <td>https://www.crunchbase.com/organization/wework</td>\n",
              "      <td>Commercial Real Estate, Coworking, Property De...</td>\n",
              "      <td>New York, New York, United States</td>\n",
              "      <td>WeWork is a platform for creators that transfo...</td>\n",
              "      <td>5</td>\n",
              "      <td>$100M to $500M</td>\n",
              "      <td>2.194578e+10</td>\n",
              "      <td>USD</td>\n",
              "      <td>2.194578e+10</td>\n",
              "      <td>Public</td>\n",
              "      <td>Adam Neumann, Miguel McKelvey, Rebekah Neumann</td>\n",
              "      <td>21.0</td>\n",
              "    </tr>\n",
              "  </tbody>\n",
              "</table>\n",
              "</div>\n",
              "      <button class=\"colab-df-convert\" onclick=\"convertToInteractive('df-98d074a6-aeec-4b76-8059-120956cabb6d')\"\n",
              "              title=\"Convert this dataframe to an interactive table.\"\n",
              "              style=\"display:none;\">\n",
              "        \n",
              "  <svg xmlns=\"http://www.w3.org/2000/svg\" height=\"24px\"viewBox=\"0 0 24 24\"\n",
              "       width=\"24px\">\n",
              "    <path d=\"M0 0h24v24H0V0z\" fill=\"none\"/>\n",
              "    <path d=\"M18.56 5.44l.94 2.06.94-2.06 2.06-.94-2.06-.94-.94-2.06-.94 2.06-2.06.94zm-11 1L8.5 8.5l.94-2.06 2.06-.94-2.06-.94L8.5 2.5l-.94 2.06-2.06.94zm10 10l.94 2.06.94-2.06 2.06-.94-2.06-.94-.94-2.06-.94 2.06-2.06.94z\"/><path d=\"M17.41 7.96l-1.37-1.37c-.4-.4-.92-.59-1.43-.59-.52 0-1.04.2-1.43.59L10.3 9.45l-7.72 7.72c-.78.78-.78 2.05 0 2.83L4 21.41c.39.39.9.59 1.41.59.51 0 1.02-.2 1.41-.59l7.78-7.78 2.81-2.81c.8-.78.8-2.07 0-2.86zM5.41 20L4 18.59l7.72-7.72 1.47 1.35L5.41 20z\"/>\n",
              "  </svg>\n",
              "      </button>\n",
              "      \n",
              "  <style>\n",
              "    .colab-df-container {\n",
              "      display:flex;\n",
              "      flex-wrap:wrap;\n",
              "      gap: 12px;\n",
              "    }\n",
              "\n",
              "    .colab-df-convert {\n",
              "      background-color: #E8F0FE;\n",
              "      border: none;\n",
              "      border-radius: 50%;\n",
              "      cursor: pointer;\n",
              "      display: none;\n",
              "      fill: #1967D2;\n",
              "      height: 32px;\n",
              "      padding: 0 0 0 0;\n",
              "      width: 32px;\n",
              "    }\n",
              "\n",
              "    .colab-df-convert:hover {\n",
              "      background-color: #E2EBFA;\n",
              "      box-shadow: 0px 1px 2px rgba(60, 64, 67, 0.3), 0px 1px 3px 1px rgba(60, 64, 67, 0.15);\n",
              "      fill: #174EA6;\n",
              "    }\n",
              "\n",
              "    [theme=dark] .colab-df-convert {\n",
              "      background-color: #3B4455;\n",
              "      fill: #D2E3FC;\n",
              "    }\n",
              "\n",
              "    [theme=dark] .colab-df-convert:hover {\n",
              "      background-color: #434B5C;\n",
              "      box-shadow: 0px 1px 3px 1px rgba(0, 0, 0, 0.15);\n",
              "      filter: drop-shadow(0px 1px 2px rgba(0, 0, 0, 0.3));\n",
              "      fill: #FFFFFF;\n",
              "    }\n",
              "  </style>\n",
              "\n",
              "      <script>\n",
              "        const buttonEl =\n",
              "          document.querySelector('#df-98d074a6-aeec-4b76-8059-120956cabb6d button.colab-df-convert');\n",
              "        buttonEl.style.display =\n",
              "          google.colab.kernel.accessAllowed ? 'block' : 'none';\n",
              "\n",
              "        async function convertToInteractive(key) {\n",
              "          const element = document.querySelector('#df-98d074a6-aeec-4b76-8059-120956cabb6d');\n",
              "          const dataTable =\n",
              "            await google.colab.kernel.invokeFunction('convertToInteractive',\n",
              "                                                     [key], {});\n",
              "          if (!dataTable) return;\n",
              "\n",
              "          const docLinkHtml = 'Like what you see? Visit the ' +\n",
              "            '<a target=\"_blank\" href=https://colab.research.google.com/notebooks/data_table.ipynb>data table notebook</a>'\n",
              "            + ' to learn more about interactive tables.';\n",
              "          element.innerHTML = '';\n",
              "          dataTable['output_type'] = 'display_data';\n",
              "          await google.colab.output.renderOutput(dataTable, element);\n",
              "          const docLink = document.createElement('div');\n",
              "          docLink.innerHTML = docLinkHtml;\n",
              "          element.appendChild(docLink);\n",
              "        }\n",
              "      </script>\n",
              "    </div>\n",
              "  </div>\n",
              "  "
            ]
          },
          "metadata": {},
          "execution_count": 207
        }
      ]
    },
    {
      "cell_type": "markdown",
      "source": [
        "#Input the name of the Company in the following code block.#"
      ],
      "metadata": {
        "id": "GFm6A6tBRVTz"
      }
    },
    {
      "cell_type": "markdown",
      "source": [
        "Here, usef can enter any name of the company."
      ],
      "metadata": {
        "id": "NqAeS4kylJbq"
      }
    },
    {
      "cell_type": "code",
      "source": [
        "company_name = input(\"Enter company of interest: \") #Enter the company name here"
      ],
      "metadata": {
        "id": "vo-716osRR9z",
        "colab": {
          "base_uri": "https://localhost:8080/"
        },
        "outputId": "0ab1d90b-d949-4b44-874c-3a27b37c6996"
      },
      "execution_count": null,
      "outputs": [
        {
          "name": "stdout",
          "output_type": "stream",
          "text": [
            "Enter company of interest: amazon\n"
          ]
        }
      ]
    },
    {
      "cell_type": "code",
      "source": [
        "print(company_name)"
      ],
      "metadata": {
        "id": "_KtLYSVpRYjH",
        "colab": {
          "base_uri": "https://localhost:8080/"
        },
        "outputId": "29dc6180-c9b6-4e40-f548-914f8b51dca9"
      },
      "execution_count": null,
      "outputs": [
        {
          "output_type": "stream",
          "name": "stdout",
          "text": [
            "amazon\n"
          ]
        }
      ]
    },
    {
      "cell_type": "code",
      "source": [
        "data['COMPANY'] = data['COMPANY'].str.lower()\n",
        "company = company_name.lower()"
      ],
      "metadata": {
        "id": "rZEZBzYYRcwr"
      },
      "execution_count": null,
      "outputs": []
    },
    {
      "cell_type": "code",
      "source": [
        "news_of_company = pd.DataFrame()"
      ],
      "metadata": {
        "id": "t-foVBOdRes2"
      },
      "execution_count": null,
      "outputs": []
    },
    {
      "cell_type": "markdown",
      "source": [
        "**Data Scraping**"
      ],
      "metadata": {
        "id": "mxO2ae3KlO3Q"
      }
    },
    {
      "cell_type": "code",
      "source": [
        "def getNews(field):\n",
        "  gn = GoogleNews()\n",
        "  s = gn.search(field)\n",
        "  x =[None]*500\n",
        "  i=0\n",
        "  for entry in s['entries']:\n",
        "    x[i] = entry['title']\n",
        "    i+=1\n",
        "  print(x)\n",
        "  news_of_company['TITLE'] = x"
      ],
      "metadata": {
        "id": "h8aaMmAORepE"
      },
      "execution_count": null,
      "outputs": []
    },
    {
      "cell_type": "code",
      "source": [
        "if company in data['COMPANY'].values:\n",
        "  index = data.index[data['COMPANY']==company].tolist()\n",
        "  founders = (data['FOUNDERS'].iloc[index]).to_string(index=False)\n",
        "  news_string = founders.replace(\",\", \" OR\").strip()\n",
        "  news_string = company + ' OR ' + news_string\n",
        "  getNews(news_string)\n",
        "  news_of_company.mask(news_of_company.eq('None')).dropna()\n",
        "else:\n",
        "  print('Company not in our cruchbase list, we will only be presenting news articles related to your input')\n",
        "  getNews(company)\n",
        "  news_of_company = news_of_company.mask(news_of_company.eq('None')).dropna()"
      ],
      "metadata": {
        "id": "Xeaa11A3Rem8",
        "colab": {
          "base_uri": "https://localhost:8080/"
        },
        "outputId": "2c028711-f36f-4598-e5d1-2e105f8c3fb9"
      },
      "execution_count": null,
      "outputs": [
        {
          "output_type": "stream",
          "name": "stdout",
          "text": [
            "[\"Jeff Bezos keeps a 16-year-old framed magazine as a 'reminder' that Amazon's most profitable service was once just a 'risky bet' - CNBC\", \"White House hits back at Amazon's Bezos after Biden inflation spat - CNBC\", 'In Amazon-Watson case, question of who emailed Bezos gets answer - BusinessDen', 'When Jeff Bezos Tweets, He Wants His Journalists and Joe Biden to Listen - Jacobin magazine', 'Elon Musk and Jeff Bezos End a Tradition in Corporate America - TheStreet', 'Why Jeff Bezos Deserves to Be So Wealthy - Entrepreneur', 'Opinion | Musk and Bezo Show the Perils of Plutocratic Pettiness - The New York Times', \"What is Jeff Bezos' net worth? - Fox Business\", 'Jeff Bezos Just Gave Away Nearly $120 Million - Forbes', \"World's 50 richest people have lost half a trillion dollars this year - New York Post\", \"Amazon's Jeff Bezos wants to expand into single-family home rental market - The Post Millennial\", \"Jeff Bezos Is Worried About Tech Valuations, and It's Weighing on Amazon Stock - Barron's\", 'U.S. needs to tax Elon Musk, Jeff Bezos, and the Billionaire Boys Club out of their misery - The Philadelphia Inquirer', \"Jeff Bezos falls to No. 3 world's richest after losing $20B in a day - New York Post\", \"Jeff Bezos Tears Up Recalling His Dad's Journey as a Cuban Immigrant Starting a Life in America - PEOPLE\", 'From Jeff Bezos To Mukesh Ambani, Here Are 7 Billionaires Who Bought Media Companies - ScoopWhoop', 'Jeff Bezos lost $20.5 billion Friday when Amazon stock dived - Yahoo Finance', 'Billionaires turn their backs on Biden: Elon Musk and Jeff Bezos go to Twitter to get political - Salon', \"Jeff Bezos takes a swipe at Musk's Twitter takeover, suggesting it may give China 'leverage' - CNBC\", 'Elon Musk and Jeff Bezos are getting political on Twitter - Longview News-Journal', 'Jeff Bezos and Lauren Sánchez Are All Smiles While Spending Time Together in NYC - PEOPLE', 'Jeff Bezos, Elon Musk Tax Data Leaked Out a Year Ago. IRS Leaders Still Wait for Answers - The Wall Street Journal', \"Jeff Bezos backing £300m British project to create limitless energy: ‘UK the best at it' - Express\", 'The billionaires are bleeding. Elon Musk, Jeff Bezos and other top earners have lost nearly $200 billion in 2022. - MarketWatch', 'Jeff Bezos is worth $160bn – yet Congress might bail out his space company » Senator Bernie Sanders - Senator Bernie Sanders', \"Jeff Bezos' Chicago betrayal- POLITICO - POLITICO\", 'World Food Program presses Musk, Bezos, other billionaires amid war in Ukraine - Los Angeles Times', 'Jeff Bezos and Alexis Ohanian are giving $35 million to NYC childcare - Business Insider', 'Bernie Sanders slams Amazon labor practices, Jeff Bezos at Senate hearing - New York Post', 'Biden Administration And Jeff Bezos Square Off Over Inflation - Forbes', 'Karine Jean-Pierre slams Fox reporter for citing Jeff Bezos as an economic expert - LGBTQ Nation', \"Jeff Bezos' Blue Origin delays NS-21 suborbital spaceflight - Fox Business\", 'Dogecoin Daily: Price Slumps Further, Founder Receives Jeff Bezos Praise And More - Benzinga', 'Jeff Bezos’s Rocket Company Tests America’s Largest Rocket Engine - Wccftech', 'Millionaire Shaquille O’Neal, Who Was Inspired By Jeff Bezos, Reveals Intriguing “Handshake” Business Principle - EssentiallySports', 'White House hits back at inflation criticism from Jeff Bezos - Press of Atlantic City', 'Amazon CEO Jeff Bezos embraces the spotlight with MGM deal - Axios', 'Davos is dead - Al Jazeera English', 'Amazon (AMZN) Faces New Problems While Jeff Bezos Flies to Space - Bloomberg', \"Jeff Bezos is stepping down as Amazon CEO. He'll still have huge power at the company - CNN\", 'Amazon CEO Andy Jassy lands $212M payday after replacing Jeff Bezos - New York Post', 'Jeff Bezos looks to life beyond Amazon after historic space ride - CNBC', 'SpaceX, Blue Origin rocket pollution may harm health, climate: study - Business Insider', '5 of Jeff Bezos’ best lessons for success from his 27 years as Amazon CEO - CNBC', 'Jeff Bezos on learning from failure: ‘Whatever your goals are, don’t give up no matter how hard it gets’ - CNBC', 'Jeff Bezos responds to Amazon warehouse collapse after celebrating Blue Origin space trip - FOX 5 Atlanta', 'Who is MacKenzie Scott, besides being Jeff Bezos’ ex-wife? - The Philadelphia Inquirer', 'Jeff Bezos steps down as Amazon CEO as retailer starts new chapter - CBS News', \"Jeff Bezos shared a 22-year-old article predicting Amazon's failure to show how to deal with criticism - CNBC\", 'How Amazon founder Jeff Bezos, 57, has gone from being a monobrowed tech nerd to a buff billionaire - Daily Mail', \"Jeff Bezos Facts: Odd Things to Know About Amazon's Founder - New York Magazine\", 'Jeff Bezos Just Gave Away Nearly $100 Million Worth Of Amazon Stock - Forbes', \"An Amazon Warehouse Worker Asked Jeff Bezos for Help With Her Pay. Here's How Amazon Responded - Inc.\", 'Jeff Bezos net worth climbs $19 billion in a day as Amazon shares soar - Business Insider', \"An Amazon applicant who Jeff Bezos hired 'on the spot' shares 5 ways to 'instantly impress' during the job interview - CNBC\", 'Jeff Bezos paid for his megayacht to pass under a bridge in Europe while over a third of America’s are falling apart - Fortune', \"Why Jeff Bezos is backing this millennial founder's Indonesian start-up - CNBC\", 'Jeff Bezos to formally step down as Amazon CEO on July 5, Andy Jassy to take over - CNBC', '5 Lessons From Billionaire Jeff Bezos That All Entrepreneurs Can Learn From - Entrepreneur', \"Amazon Podcast: Jeff Bezos' Dot-Com Rescue in Foundering - Bloomberg\", 'Bezos could be $90 bln richer with Amazon breakup - Reuters', \"Lawmakers say Amazon reps, including Jeff Bezos, misled or 'may have lied to Congress' - ABC News\", 'Jeff Bezos hired this Amazon applicant ‘on the spot’—here are the 2 interview questions he asked - CNBC', \"Jeff Bezos Gets Roasted on Twitter, Compared to Evil Villain After Amazon Announces New 'Lord of the Rings' Show - Entrepreneur\", \"'My Life is Amaze-os': Jeff Bezos Musical Parody Has Internet in Hysterics - Entrepreneur\", \"9 Ways to Imagine Jeff Bezos' Wealth - The New York Times\", 'Jeff Bezos is going to space on first crewed flight of rocket - CNN', 'MacKenzie Scott Once Again Reminds People Jeff Bezos Is a Cheapskate by Comparison - Vanity Fair', \"What it's like to work for Jeff Bezos, according to his ex-assistant - Business Insider\", 'Former Twitter CEO: The advice Jeff Bezos gave me a decade ago — that I still pass on today - CNBC', 'Inside Jeff Bezos’s Massive Real Estate Portfolio - Architectural Digest', 'Jeff Bezos’s net worth falls by $13.5 billion as Amazon shares sink - Fortune', 'Jeff Bezos to step down as Amazon CEO, Andy Jassy to take over in Q3 - CNBC', \"Jeff Bezos helped The Washington Post ‘take advantage of the gift' of the internet: Marty Baron - Yahoo Finance\", 'Jeff Bezos Got Divorced and Stirred Up an International Conspiracy - Bloomberg', 'Jeff Bezos Stepped Down As Amazon CEO This Week—And Got More Than $10 Billion Richer - Forbes', 'Tens Of Thousands Sign Petition To Stop Jeff Bezos From Returning To Earth - NPR', \"Teen who flew to space with Jeff Bezos has never shopped on Amazon (but there's a reason) - CNBC\", 'Amazon price increase: Company founded by Jeff Bezos hikes cost of Prime membership for online shopping, video subscription - WABC-TV', 'Amazon founder Jeff Bezos tours Maui Food Bank - Maui Now', \"Opinion | Here's the difference between Jeff Bezos and me - The Washington Post\", 'Jeff Bezos Donates $100 Million to the Obama Foundation - The New York Times', \"Jeff Bezos 'warns' Leonardo DiCaprio after viral video with girlfriend - USA TODAY\", \"Jeff Bezos: My Secret to Amazon's Success - Built In\", 'Jeff Bezos Raises $3.3 Billion by Selling Amazon Stock This Week - Bloomberg', 'Jeff Bezos pledges $2 billion to protect the environment - CNBC', 'Jeff Bezos and Lauren Sánchez: how it started vs how it’s going - Style', 'Jeff Bezos and Lauren Sánchez Visit Colombia to Learn About Deforestation After $10B Earth Fund Commitment - PEOPLE', 'Amazon workers in New York City have two words for Jeff Bezos: Ha ha - The Guardian', 'The Three Superpowers Of Jeff Bezos - Forbes', 'Jeff Bezos and Amazon just hired everybody but SpaceX for Project Kuiper - Ars Technica', 'As Jeff Bezos buys up Maui, Hawaiian locals hope for the best - New York Post', \"Jeff Bezos Is the World's Most Dangerous Politician - Surviving Tomorrow\", 'Jeff Bezos says traveling to space changed how he thinks about nature - CNBC', \"Jeff Bezos complained Blue Origin spacesuit didn't fit his crotch: report - New York Post\", 'Pete Davidson joining Jeff Bezos on Blue Origin space flight, sources say - Page Six', 'Jeff Bezos Is Once Again The Richest Person In The World, Even As Amazon’s Stock Skids - Forbes', 'James Bond and Rocky franchises move a step closer to Jeff Bezos as EU green-lights $8.45 billion MGM deal - Fortune', \"These 7 Words From Jeff Bezos Are the Best Leadership Advice You're Likely to Read This Year - Inc.\", 'Davos updates | Urgent need in Afghanistan is saving economy - East Bay Times', None, None, None, None, None, None, None, None, None, None, None, None, None, None, None, None, None, None, None, None, None, None, None, None, None, None, None, None, None, None, None, None, None, None, None, None, None, None, None, None, None, None, None, None, None, None, None, None, None, None, None, None, None, None, None, None, None, None, None, None, None, None, None, None, None, None, None, None, None, None, None, None, None, None, None, None, None, None, None, None, None, None, None, None, None, None, None, None, None, None, None, None, None, None, None, None, None, None, None, None, None, None, None, None, None, None, None, None, None, None, None, None, None, None, None, None, None, None, None, None, None, None, None, None, None, None, None, None, None, None, None, None, None, None, None, None, None, None, None, None, None, None, None, None, None, None, None, None, None, None, None, None, None, None, None, None, None, None, None, None, None, None, None, None, None, None, None, None, None, None, None, None, None, None, None, None, None, None, None, None, None, None, None, None, None, None, None, None, None, None, None, None, None, None, None, None, None, None, None, None, None, None, None, None, None, None, None, None, None, None, None, None, None, None, None, None, None, None, None, None, None, None, None, None, None, None, None, None, None, None, None, None, None, None, None, None, None, None, None, None, None, None, None, None, None, None, None, None, None, None, None, None, None, None, None, None, None, None, None, None, None, None, None, None, None, None, None, None, None, None, None, None, None, None, None, None, None, None, None, None, None, None, None, None, None, None, None, None, None, None, None, None, None, None, None, None, None, None, None, None, None, None, None, None, None, None, None, None, None, None, None, None, None, None, None, None, None, None, None, None, None, None, None, None, None, None, None, None, None, None, None, None, None, None, None, None, None, None, None, None, None, None, None, None, None, None, None, None, None, None, None, None, None, None, None, None, None, None, None, None, None, None, None, None, None, None, None, None, None, None, None, None, None, None, None, None, None, None, None, None, None, None, None, None, None, None, None, None, None, None, None, None, None, None, None, None, None, None, None, None]\n"
          ]
        }
      ]
    },
    {
      "cell_type": "code",
      "source": [
        "news_of_company.count"
      ],
      "metadata": {
        "id": "8U5VH8qgRekf",
        "colab": {
          "base_uri": "https://localhost:8080/"
        },
        "outputId": "881a277e-5c5a-4d1f-ed60-b38de9a913c9"
      },
      "execution_count": null,
      "outputs": [
        {
          "output_type": "execute_result",
          "data": {
            "text/plain": [
              "<bound method DataFrame.count of                                                  TITLE\n",
              "0    Jeff Bezos keeps a 16-year-old framed magazine...\n",
              "1    White House hits back at Amazon's Bezos after ...\n",
              "2    In Amazon-Watson case, question of who emailed...\n",
              "3    When Jeff Bezos Tweets, He Wants His Journalis...\n",
              "4    Elon Musk and Jeff Bezos End a Tradition in Co...\n",
              "..                                                 ...\n",
              "495                                               None\n",
              "496                                               None\n",
              "497                                               None\n",
              "498                                               None\n",
              "499                                               None\n",
              "\n",
              "[500 rows x 1 columns]>"
            ]
          },
          "metadata": {},
          "execution_count": 214
        }
      ]
    },
    {
      "cell_type": "markdown",
      "source": [
        "**Modeling: Sentiment Analysis-NLTK Vader**\n",
        "\n",
        "Here, we will perform the sentiment analysis on the combined prepared dataset\n"
      ],
      "metadata": {
        "id": "U07MI38tT3Op"
      }
    },
    {
      "cell_type": "code",
      "source": [
        "from nltk.sentiment import SentimentIntensityAnalyzer\n",
        "sia = SentimentIntensityAnalyzer()"
      ],
      "metadata": {
        "id": "LNmXWgfjReiG"
      },
      "execution_count": null,
      "outputs": []
    },
    {
      "cell_type": "code",
      "source": [
        "def find_sentiment_score(post):\n",
        "    return sia.polarity_scores(post)[\"compound\"] "
      ],
      "metadata": {
        "id": "XkTO8JCmRegB"
      },
      "execution_count": null,
      "outputs": []
    },
    {
      "cell_type": "code",
      "source": [
        "def find_sentiment(post):\n",
        "    if sia.polarity_scores(post)[\"compound\"] > 0:\n",
        "        return \"Positive\"\n",
        "    elif sia.polarity_scores(post)[\"compound\"] < 0:\n",
        "        return \"Negative\"\n",
        "    else:\n",
        "        return \"Neutral\" "
      ],
      "metadata": {
        "id": "-FILog0mReeZ"
      },
      "execution_count": null,
      "outputs": []
    },
    {
      "cell_type": "code",
      "source": [
        "sentiment = [None] * news_of_company.shape[0]\n",
        "sentiment_score = [None] * news_of_company.shape[0]\n",
        "i = 0\n",
        "for post in news_of_company['TITLE']:\n",
        "  if post!=None:\n",
        "    sentiment[i] = find_sentiment(post)\n",
        "    sentiment_score[i] = find_sentiment_score(post)\n",
        "    i+=1\n",
        "  else:\n",
        "    sentiment[i] = None\n",
        "    sentiment_score[i] = None\n",
        "    i+=1\n",
        "\n",
        "news_of_company['SENTIMENT'] = sentiment\n",
        "news_of_company['SCORE'] = sentiment_score"
      ],
      "metadata": {
        "id": "vTLFuNhKRebk"
      },
      "execution_count": null,
      "outputs": []
    },
    {
      "cell_type": "code",
      "source": [
        "news_of_company.head()"
      ],
      "metadata": {
        "id": "7tsbKy-WReZK",
        "colab": {
          "base_uri": "https://localhost:8080/",
          "height": 206
        },
        "outputId": "e776c58d-3d6e-4695-d501-d6fa7fbd4311"
      },
      "execution_count": null,
      "outputs": [
        {
          "output_type": "execute_result",
          "data": {
            "text/plain": [
              "                                               TITLE SENTIMENT   SCORE\n",
              "0  Jeff Bezos keeps a 16-year-old framed magazine...  Positive  0.3384\n",
              "1  White House hits back at Amazon's Bezos after ...   Neutral  0.0000\n",
              "2  In Amazon-Watson case, question of who emailed...   Neutral  0.0000\n",
              "3  When Jeff Bezos Tweets, He Wants His Journalis...   Neutral  0.0000\n",
              "4  Elon Musk and Jeff Bezos End a Tradition in Co...   Neutral  0.0000"
            ],
            "text/html": [
              "\n",
              "  <div id=\"df-97b61cc2-f4cf-425a-bc17-b53ccae85d8c\">\n",
              "    <div class=\"colab-df-container\">\n",
              "      <div>\n",
              "<style scoped>\n",
              "    .dataframe tbody tr th:only-of-type {\n",
              "        vertical-align: middle;\n",
              "    }\n",
              "\n",
              "    .dataframe tbody tr th {\n",
              "        vertical-align: top;\n",
              "    }\n",
              "\n",
              "    .dataframe thead th {\n",
              "        text-align: right;\n",
              "    }\n",
              "</style>\n",
              "<table border=\"1\" class=\"dataframe\">\n",
              "  <thead>\n",
              "    <tr style=\"text-align: right;\">\n",
              "      <th></th>\n",
              "      <th>TITLE</th>\n",
              "      <th>SENTIMENT</th>\n",
              "      <th>SCORE</th>\n",
              "    </tr>\n",
              "  </thead>\n",
              "  <tbody>\n",
              "    <tr>\n",
              "      <th>0</th>\n",
              "      <td>Jeff Bezos keeps a 16-year-old framed magazine...</td>\n",
              "      <td>Positive</td>\n",
              "      <td>0.3384</td>\n",
              "    </tr>\n",
              "    <tr>\n",
              "      <th>1</th>\n",
              "      <td>White House hits back at Amazon's Bezos after ...</td>\n",
              "      <td>Neutral</td>\n",
              "      <td>0.0000</td>\n",
              "    </tr>\n",
              "    <tr>\n",
              "      <th>2</th>\n",
              "      <td>In Amazon-Watson case, question of who emailed...</td>\n",
              "      <td>Neutral</td>\n",
              "      <td>0.0000</td>\n",
              "    </tr>\n",
              "    <tr>\n",
              "      <th>3</th>\n",
              "      <td>When Jeff Bezos Tweets, He Wants His Journalis...</td>\n",
              "      <td>Neutral</td>\n",
              "      <td>0.0000</td>\n",
              "    </tr>\n",
              "    <tr>\n",
              "      <th>4</th>\n",
              "      <td>Elon Musk and Jeff Bezos End a Tradition in Co...</td>\n",
              "      <td>Neutral</td>\n",
              "      <td>0.0000</td>\n",
              "    </tr>\n",
              "  </tbody>\n",
              "</table>\n",
              "</div>\n",
              "      <button class=\"colab-df-convert\" onclick=\"convertToInteractive('df-97b61cc2-f4cf-425a-bc17-b53ccae85d8c')\"\n",
              "              title=\"Convert this dataframe to an interactive table.\"\n",
              "              style=\"display:none;\">\n",
              "        \n",
              "  <svg xmlns=\"http://www.w3.org/2000/svg\" height=\"24px\"viewBox=\"0 0 24 24\"\n",
              "       width=\"24px\">\n",
              "    <path d=\"M0 0h24v24H0V0z\" fill=\"none\"/>\n",
              "    <path d=\"M18.56 5.44l.94 2.06.94-2.06 2.06-.94-2.06-.94-.94-2.06-.94 2.06-2.06.94zm-11 1L8.5 8.5l.94-2.06 2.06-.94-2.06-.94L8.5 2.5l-.94 2.06-2.06.94zm10 10l.94 2.06.94-2.06 2.06-.94-2.06-.94-.94-2.06-.94 2.06-2.06.94z\"/><path d=\"M17.41 7.96l-1.37-1.37c-.4-.4-.92-.59-1.43-.59-.52 0-1.04.2-1.43.59L10.3 9.45l-7.72 7.72c-.78.78-.78 2.05 0 2.83L4 21.41c.39.39.9.59 1.41.59.51 0 1.02-.2 1.41-.59l7.78-7.78 2.81-2.81c.8-.78.8-2.07 0-2.86zM5.41 20L4 18.59l7.72-7.72 1.47 1.35L5.41 20z\"/>\n",
              "  </svg>\n",
              "      </button>\n",
              "      \n",
              "  <style>\n",
              "    .colab-df-container {\n",
              "      display:flex;\n",
              "      flex-wrap:wrap;\n",
              "      gap: 12px;\n",
              "    }\n",
              "\n",
              "    .colab-df-convert {\n",
              "      background-color: #E8F0FE;\n",
              "      border: none;\n",
              "      border-radius: 50%;\n",
              "      cursor: pointer;\n",
              "      display: none;\n",
              "      fill: #1967D2;\n",
              "      height: 32px;\n",
              "      padding: 0 0 0 0;\n",
              "      width: 32px;\n",
              "    }\n",
              "\n",
              "    .colab-df-convert:hover {\n",
              "      background-color: #E2EBFA;\n",
              "      box-shadow: 0px 1px 2px rgba(60, 64, 67, 0.3), 0px 1px 3px 1px rgba(60, 64, 67, 0.15);\n",
              "      fill: #174EA6;\n",
              "    }\n",
              "\n",
              "    [theme=dark] .colab-df-convert {\n",
              "      background-color: #3B4455;\n",
              "      fill: #D2E3FC;\n",
              "    }\n",
              "\n",
              "    [theme=dark] .colab-df-convert:hover {\n",
              "      background-color: #434B5C;\n",
              "      box-shadow: 0px 1px 3px 1px rgba(0, 0, 0, 0.15);\n",
              "      filter: drop-shadow(0px 1px 2px rgba(0, 0, 0, 0.3));\n",
              "      fill: #FFFFFF;\n",
              "    }\n",
              "  </style>\n",
              "\n",
              "      <script>\n",
              "        const buttonEl =\n",
              "          document.querySelector('#df-97b61cc2-f4cf-425a-bc17-b53ccae85d8c button.colab-df-convert');\n",
              "        buttonEl.style.display =\n",
              "          google.colab.kernel.accessAllowed ? 'block' : 'none';\n",
              "\n",
              "        async function convertToInteractive(key) {\n",
              "          const element = document.querySelector('#df-97b61cc2-f4cf-425a-bc17-b53ccae85d8c');\n",
              "          const dataTable =\n",
              "            await google.colab.kernel.invokeFunction('convertToInteractive',\n",
              "                                                     [key], {});\n",
              "          if (!dataTable) return;\n",
              "\n",
              "          const docLinkHtml = 'Like what you see? Visit the ' +\n",
              "            '<a target=\"_blank\" href=https://colab.research.google.com/notebooks/data_table.ipynb>data table notebook</a>'\n",
              "            + ' to learn more about interactive tables.';\n",
              "          element.innerHTML = '';\n",
              "          dataTable['output_type'] = 'display_data';\n",
              "          await google.colab.output.renderOutput(dataTable, element);\n",
              "          const docLink = document.createElement('div');\n",
              "          docLink.innerHTML = docLinkHtml;\n",
              "          element.appendChild(docLink);\n",
              "        }\n",
              "      </script>\n",
              "    </div>\n",
              "  </div>\n",
              "  "
            ]
          },
          "metadata": {},
          "execution_count": 220
        }
      ]
    },
    {
      "cell_type": "markdown",
      "source": [
        "Note: 2 new columns are added :\n",
        "\n",
        "1) Sentiment \n",
        "\n",
        "2) sentiment_score"
      ],
      "metadata": {
        "id": "dJapzjJplmHI"
      }
    },
    {
      "cell_type": "code",
      "source": [
        "max_value = news_of_company['SCORE'].max()# Top positive news\n",
        "min_value = news_of_company['SCORE'].min()# Top negative news\n",
        "max_title = (news_of_company.loc[news_of_company.SCORE == max_value, 'TITLE'])\n",
        "min_title = (news_of_company.loc[news_of_company.SCORE == min_value, 'TITLE'])\n",
        "overall_sentiment = news_of_company['SCORE'].mean()"
      ],
      "metadata": {
        "id": "Lxd_sk1vReXO"
      },
      "execution_count": null,
      "outputs": []
    },
    {
      "cell_type": "markdown",
      "source": [
        "**Network Visualization**\n",
        "\n",
        "In this section, we will perform a graph keeping Sentiment Analysis in mind.\n",
        "\n",
        "\n",
        "---\n",
        "\n",
        "Installing dependencies/libraries"
      ],
      "metadata": {
        "id": "921ikDnSUEIc"
      }
    },
    {
      "cell_type": "code",
      "source": [
        "!pip install faker\n",
        "!apt install libgraphviz-dev\n",
        "!pip install pygraphviz"
      ],
      "metadata": {
        "id": "Ci1PNyROReU1",
        "colab": {
          "base_uri": "https://localhost:8080/"
        },
        "outputId": "431b7bcb-a156-49c2-d67b-e81c01ca7191"
      },
      "execution_count": null,
      "outputs": [
        {
          "output_type": "stream",
          "name": "stdout",
          "text": [
            "Looking in indexes: https://pypi.org/simple, https://us-python.pkg.dev/colab-wheels/public/simple/\n",
            "Requirement already satisfied: faker in /usr/local/lib/python3.7/dist-packages (13.11.1)\n",
            "Requirement already satisfied: python-dateutil>=2.4 in /usr/local/lib/python3.7/dist-packages (from faker) (2.8.2)\n",
            "Requirement already satisfied: typing-extensions>=3.10.0.2 in /usr/local/lib/python3.7/dist-packages (from faker) (4.2.0)\n",
            "Requirement already satisfied: six>=1.5 in /usr/local/lib/python3.7/dist-packages (from python-dateutil>=2.4->faker) (1.15.0)\n",
            "Reading package lists... Done\n",
            "Building dependency tree       \n",
            "Reading state information... Done\n",
            "libgraphviz-dev is already the newest version (2.40.1-2).\n",
            "The following package was automatically installed and is no longer required:\n",
            "  libnvidia-common-460\n",
            "Use 'apt autoremove' to remove it.\n",
            "0 upgraded, 0 newly installed, 0 to remove and 42 not upgraded.\n",
            "Looking in indexes: https://pypi.org/simple, https://us-python.pkg.dev/colab-wheels/public/simple/\n",
            "Requirement already satisfied: pygraphviz in /usr/local/lib/python3.7/dist-packages (1.7)\n"
          ]
        }
      ]
    },
    {
      "cell_type": "markdown",
      "source": [
        "Importing Libraries"
      ],
      "metadata": {
        "id": "g2LzoNO4UNWq"
      }
    },
    {
      "cell_type": "code",
      "source": [
        "import networkx as nx\n",
        "import matplotlib.pyplot as plt\n",
        "import networkx as nx\n",
        "from networkx.drawing.nx_agraph import to_agraph\n",
        "from faker import Faker\n",
        "faker = Faker()\n",
        "%matplotlib inline"
      ],
      "metadata": {
        "id": "2pyo3dTsReS2"
      },
      "execution_count": null,
      "outputs": []
    },
    {
      "cell_type": "code",
      "source": [
        "df_graph = news_of_company[:20]\n",
        "df_graph.head()"
      ],
      "metadata": {
        "id": "33W44hWRReQx",
        "colab": {
          "base_uri": "https://localhost:8080/",
          "height": 206
        },
        "outputId": "37adc548-1fc2-440e-9109-ceb455e68fc9"
      },
      "execution_count": null,
      "outputs": [
        {
          "output_type": "execute_result",
          "data": {
            "text/plain": [
              "                                               TITLE SENTIMENT   SCORE\n",
              "0  Jeff Bezos keeps a 16-year-old framed magazine...  Positive  0.3384\n",
              "1  White House hits back at Amazon's Bezos after ...   Neutral  0.0000\n",
              "2  In Amazon-Watson case, question of who emailed...   Neutral  0.0000\n",
              "3  When Jeff Bezos Tweets, He Wants His Journalis...   Neutral  0.0000\n",
              "4  Elon Musk and Jeff Bezos End a Tradition in Co...   Neutral  0.0000"
            ],
            "text/html": [
              "\n",
              "  <div id=\"df-4f3c8613-1c62-4951-b822-f57558705a0d\">\n",
              "    <div class=\"colab-df-container\">\n",
              "      <div>\n",
              "<style scoped>\n",
              "    .dataframe tbody tr th:only-of-type {\n",
              "        vertical-align: middle;\n",
              "    }\n",
              "\n",
              "    .dataframe tbody tr th {\n",
              "        vertical-align: top;\n",
              "    }\n",
              "\n",
              "    .dataframe thead th {\n",
              "        text-align: right;\n",
              "    }\n",
              "</style>\n",
              "<table border=\"1\" class=\"dataframe\">\n",
              "  <thead>\n",
              "    <tr style=\"text-align: right;\">\n",
              "      <th></th>\n",
              "      <th>TITLE</th>\n",
              "      <th>SENTIMENT</th>\n",
              "      <th>SCORE</th>\n",
              "    </tr>\n",
              "  </thead>\n",
              "  <tbody>\n",
              "    <tr>\n",
              "      <th>0</th>\n",
              "      <td>Jeff Bezos keeps a 16-year-old framed magazine...</td>\n",
              "      <td>Positive</td>\n",
              "      <td>0.3384</td>\n",
              "    </tr>\n",
              "    <tr>\n",
              "      <th>1</th>\n",
              "      <td>White House hits back at Amazon's Bezos after ...</td>\n",
              "      <td>Neutral</td>\n",
              "      <td>0.0000</td>\n",
              "    </tr>\n",
              "    <tr>\n",
              "      <th>2</th>\n",
              "      <td>In Amazon-Watson case, question of who emailed...</td>\n",
              "      <td>Neutral</td>\n",
              "      <td>0.0000</td>\n",
              "    </tr>\n",
              "    <tr>\n",
              "      <th>3</th>\n",
              "      <td>When Jeff Bezos Tweets, He Wants His Journalis...</td>\n",
              "      <td>Neutral</td>\n",
              "      <td>0.0000</td>\n",
              "    </tr>\n",
              "    <tr>\n",
              "      <th>4</th>\n",
              "      <td>Elon Musk and Jeff Bezos End a Tradition in Co...</td>\n",
              "      <td>Neutral</td>\n",
              "      <td>0.0000</td>\n",
              "    </tr>\n",
              "  </tbody>\n",
              "</table>\n",
              "</div>\n",
              "      <button class=\"colab-df-convert\" onclick=\"convertToInteractive('df-4f3c8613-1c62-4951-b822-f57558705a0d')\"\n",
              "              title=\"Convert this dataframe to an interactive table.\"\n",
              "              style=\"display:none;\">\n",
              "        \n",
              "  <svg xmlns=\"http://www.w3.org/2000/svg\" height=\"24px\"viewBox=\"0 0 24 24\"\n",
              "       width=\"24px\">\n",
              "    <path d=\"M0 0h24v24H0V0z\" fill=\"none\"/>\n",
              "    <path d=\"M18.56 5.44l.94 2.06.94-2.06 2.06-.94-2.06-.94-.94-2.06-.94 2.06-2.06.94zm-11 1L8.5 8.5l.94-2.06 2.06-.94-2.06-.94L8.5 2.5l-.94 2.06-2.06.94zm10 10l.94 2.06.94-2.06 2.06-.94-2.06-.94-.94-2.06-.94 2.06-2.06.94z\"/><path d=\"M17.41 7.96l-1.37-1.37c-.4-.4-.92-.59-1.43-.59-.52 0-1.04.2-1.43.59L10.3 9.45l-7.72 7.72c-.78.78-.78 2.05 0 2.83L4 21.41c.39.39.9.59 1.41.59.51 0 1.02-.2 1.41-.59l7.78-7.78 2.81-2.81c.8-.78.8-2.07 0-2.86zM5.41 20L4 18.59l7.72-7.72 1.47 1.35L5.41 20z\"/>\n",
              "  </svg>\n",
              "      </button>\n",
              "      \n",
              "  <style>\n",
              "    .colab-df-container {\n",
              "      display:flex;\n",
              "      flex-wrap:wrap;\n",
              "      gap: 12px;\n",
              "    }\n",
              "\n",
              "    .colab-df-convert {\n",
              "      background-color: #E8F0FE;\n",
              "      border: none;\n",
              "      border-radius: 50%;\n",
              "      cursor: pointer;\n",
              "      display: none;\n",
              "      fill: #1967D2;\n",
              "      height: 32px;\n",
              "      padding: 0 0 0 0;\n",
              "      width: 32px;\n",
              "    }\n",
              "\n",
              "    .colab-df-convert:hover {\n",
              "      background-color: #E2EBFA;\n",
              "      box-shadow: 0px 1px 2px rgba(60, 64, 67, 0.3), 0px 1px 3px 1px rgba(60, 64, 67, 0.15);\n",
              "      fill: #174EA6;\n",
              "    }\n",
              "\n",
              "    [theme=dark] .colab-df-convert {\n",
              "      background-color: #3B4455;\n",
              "      fill: #D2E3FC;\n",
              "    }\n",
              "\n",
              "    [theme=dark] .colab-df-convert:hover {\n",
              "      background-color: #434B5C;\n",
              "      box-shadow: 0px 1px 3px 1px rgba(0, 0, 0, 0.15);\n",
              "      filter: drop-shadow(0px 1px 2px rgba(0, 0, 0, 0.3));\n",
              "      fill: #FFFFFF;\n",
              "    }\n",
              "  </style>\n",
              "\n",
              "      <script>\n",
              "        const buttonEl =\n",
              "          document.querySelector('#df-4f3c8613-1c62-4951-b822-f57558705a0d button.colab-df-convert');\n",
              "        buttonEl.style.display =\n",
              "          google.colab.kernel.accessAllowed ? 'block' : 'none';\n",
              "\n",
              "        async function convertToInteractive(key) {\n",
              "          const element = document.querySelector('#df-4f3c8613-1c62-4951-b822-f57558705a0d');\n",
              "          const dataTable =\n",
              "            await google.colab.kernel.invokeFunction('convertToInteractive',\n",
              "                                                     [key], {});\n",
              "          if (!dataTable) return;\n",
              "\n",
              "          const docLinkHtml = 'Like what you see? Visit the ' +\n",
              "            '<a target=\"_blank\" href=https://colab.research.google.com/notebooks/data_table.ipynb>data table notebook</a>'\n",
              "            + ' to learn more about interactive tables.';\n",
              "          element.innerHTML = '';\n",
              "          dataTable['output_type'] = 'display_data';\n",
              "          await google.colab.output.renderOutput(dataTable, element);\n",
              "          const docLink = document.createElement('div');\n",
              "          docLink.innerHTML = docLinkHtml;\n",
              "          element.appendChild(docLink);\n",
              "        }\n",
              "      </script>\n",
              "    </div>\n",
              "  </div>\n",
              "  "
            ]
          },
          "metadata": {},
          "execution_count": 224
        }
      ]
    },
    {
      "cell_type": "markdown",
      "source": [
        "Text Summerizing"
      ],
      "metadata": {
        "id": "tq4zsyx3o04V"
      }
    },
    {
      "cell_type": "code",
      "source": [
        "x = \"\" \n",
        "df_graph.shape"
      ],
      "metadata": {
        "id": "Bf1fHC8nn6yU",
        "colab": {
          "base_uri": "https://localhost:8080/"
        },
        "outputId": "c6328298-7147-46aa-fd29-6ce7dd59f657"
      },
      "execution_count": null,
      "outputs": [
        {
          "output_type": "execute_result",
          "data": {
            "text/plain": [
              "(20, 3)"
            ]
          },
          "metadata": {},
          "execution_count": 225
        }
      ]
    },
    {
      "cell_type": "code",
      "source": [
        "for i in range(0,20):\n",
        "  x += df_graph['TITLE'][i] + \" \""
      ],
      "metadata": {
        "id": "V4yafugkoCEs"
      },
      "execution_count": null,
      "outputs": []
    },
    {
      "cell_type": "code",
      "source": [
        "print(x)"
      ],
      "metadata": {
        "id": "x8t93tpHoCkR",
        "colab": {
          "base_uri": "https://localhost:8080/"
        },
        "outputId": "54b1071d-799a-4953-9547-372f06e6baca"
      },
      "execution_count": null,
      "outputs": [
        {
          "output_type": "stream",
          "name": "stdout",
          "text": [
            "Jeff Bezos keeps a 16-year-old framed magazine as a 'reminder' that Amazon's most profitable service was once just a 'risky bet' - CNBC White House hits back at Amazon's Bezos after Biden inflation spat - CNBC In Amazon-Watson case, question of who emailed Bezos gets answer - BusinessDen When Jeff Bezos Tweets, He Wants His Journalists and Joe Biden to Listen - Jacobin magazine Elon Musk and Jeff Bezos End a Tradition in Corporate America - TheStreet Why Jeff Bezos Deserves to Be So Wealthy - Entrepreneur Opinion | Musk and Bezo Show the Perils of Plutocratic Pettiness - The New York Times What is Jeff Bezos' net worth? - Fox Business Jeff Bezos Just Gave Away Nearly $120 Million - Forbes World's 50 richest people have lost half a trillion dollars this year - New York Post Amazon's Jeff Bezos wants to expand into single-family home rental market - The Post Millennial Jeff Bezos Is Worried About Tech Valuations, and It's Weighing on Amazon Stock - Barron's U.S. needs to tax Elon Musk, Jeff Bezos, and the Billionaire Boys Club out of their misery - The Philadelphia Inquirer Jeff Bezos falls to No. 3 world's richest after losing $20B in a day - New York Post Jeff Bezos Tears Up Recalling His Dad's Journey as a Cuban Immigrant Starting a Life in America - PEOPLE From Jeff Bezos To Mukesh Ambani, Here Are 7 Billionaires Who Bought Media Companies - ScoopWhoop Jeff Bezos lost $20.5 billion Friday when Amazon stock dived - Yahoo Finance Billionaires turn their backs on Biden: Elon Musk and Jeff Bezos go to Twitter to get political - Salon Jeff Bezos takes a swipe at Musk's Twitter takeover, suggesting it may give China 'leverage' - CNBC Elon Musk and Jeff Bezos are getting political on Twitter - Longview News-Journal \n"
          ]
        }
      ]
    },
    {
      "cell_type": "code",
      "source": [
        "import nltk"
      ],
      "metadata": {
        "id": "kyrGvQO7oFuP"
      },
      "execution_count": null,
      "outputs": []
    },
    {
      "cell_type": "code",
      "source": [
        "from nltk.corpus import stopwords\n",
        "from nltk.tokenize import word_tokenize, sent_tokenize"
      ],
      "metadata": {
        "id": "dgW9TvXyoD08"
      },
      "execution_count": null,
      "outputs": []
    },
    {
      "cell_type": "code",
      "source": [
        "nltk.download('stopwords')\n",
        "nltk.download('punkt')"
      ],
      "metadata": {
        "id": "J3fHTY48oH7g",
        "colab": {
          "base_uri": "https://localhost:8080/"
        },
        "outputId": "8a085250-92e0-469d-800f-d33dd3647a35"
      },
      "execution_count": null,
      "outputs": [
        {
          "output_type": "stream",
          "name": "stdout",
          "text": [
            "[nltk_data] Downloading package stopwords to /root/nltk_data...\n",
            "[nltk_data]   Package stopwords is already up-to-date!\n",
            "[nltk_data] Downloading package punkt to /root/nltk_data...\n",
            "[nltk_data]   Package punkt is already up-to-date!\n"
          ]
        },
        {
          "output_type": "execute_result",
          "data": {
            "text/plain": [
              "True"
            ]
          },
          "metadata": {},
          "execution_count": 230
        }
      ]
    },
    {
      "cell_type": "code",
      "source": [
        "stopwords = set (stopwords.words(\"english\"))\n",
        "words = word_tokenize(x)\n",
        "freqTable = dict()"
      ],
      "metadata": {
        "id": "rgGYeaINoLyc"
      },
      "execution_count": null,
      "outputs": []
    },
    {
      "cell_type": "code",
      "source": [
        "for word in words:\n",
        "  word = word.lower()\n",
        "  if word in stopwords:\n",
        "    continue\n",
        "  if word in freqTable:\n",
        "    freqTable[word] += 1\n",
        "  else:\n",
        "    freqTable[word] = 1"
      ],
      "metadata": {
        "id": "wduapWcnoMaD"
      },
      "execution_count": null,
      "outputs": []
    },
    {
      "cell_type": "code",
      "source": [
        "sentences = sent_tokenize(x)\n",
        "sentenceValue = dict()"
      ],
      "metadata": {
        "id": "cSFwQ1BloNyb"
      },
      "execution_count": null,
      "outputs": []
    },
    {
      "cell_type": "code",
      "source": [
        "for sentence in sentences:\n",
        "  for word,freq in freqTable.items():\n",
        "    if word in sentence.lower():\n",
        "      if sentence in sentence.lower():\n",
        "        sentenceValue[sentence] += freq\n",
        "      else:\n",
        "        sentenceValue[sentence] = freq"
      ],
      "metadata": {
        "id": "ip2ELRNeoPMY"
      },
      "execution_count": null,
      "outputs": []
    },
    {
      "cell_type": "code",
      "source": [
        "sumValues = 0\n",
        "for sentence in sentenceValue:\n",
        "  sumValues += sentenceValue[sentence]\n",
        "average = int(sumValues / len(sentenceValue))"
      ],
      "metadata": {
        "id": "ltFQgiKJoRcz"
      },
      "execution_count": null,
      "outputs": []
    },
    {
      "cell_type": "code",
      "source": [
        "summary = ''\n",
        "for sentence in sentences:\n",
        "  if(sentence in sentenceValue) and (sentenceValue[sentence]>(0.5*average)):\n",
        "    summary += \" \" + sentence\n",
        "print(summary)"
      ],
      "metadata": {
        "id": "i0eIbgFaoS51",
        "colab": {
          "base_uri": "https://localhost:8080/"
        },
        "outputId": "bfb0bb52-5e0a-4121-f7e8-f46e9d1bd870"
      },
      "execution_count": null,
      "outputs": [
        {
          "output_type": "stream",
          "name": "stdout",
          "text": [
            " Jeff Bezos keeps a 16-year-old framed magazine as a 'reminder' that Amazon's most profitable service was once just a 'risky bet' - CNBC White House hits back at Amazon's Bezos after Biden inflation spat - CNBC In Amazon-Watson case, question of who emailed Bezos gets answer - BusinessDen When Jeff Bezos Tweets, He Wants His Journalists and Joe Biden to Listen - Jacobin magazine Elon Musk and Jeff Bezos End a Tradition in Corporate America - TheStreet Why Jeff Bezos Deserves to Be So Wealthy - Entrepreneur Opinion | Musk and Bezo Show the Perils of Plutocratic Pettiness - The New York Times What is Jeff Bezos' net worth? - Fox Business Jeff Bezos Just Gave Away Nearly $120 Million - Forbes World's 50 richest people have lost half a trillion dollars this year - New York Post Amazon's Jeff Bezos wants to expand into single-family home rental market - The Post Millennial Jeff Bezos Is Worried About Tech Valuations, and It's Weighing on Amazon Stock - Barron's U.S. needs to tax Elon Musk, Jeff Bezos, and the Billionaire Boys Club out of their misery - The Philadelphia Inquirer Jeff Bezos falls to No. 3 world's richest after losing $20B in a day - New York Post Jeff Bezos Tears Up Recalling His Dad's Journey as a Cuban Immigrant Starting a Life in America - PEOPLE From Jeff Bezos To Mukesh Ambani, Here Are 7 Billionaires Who Bought Media Companies - ScoopWhoop Jeff Bezos lost $20.5 billion Friday when Amazon stock dived - Yahoo Finance Billionaires turn their backs on Biden: Elon Musk and Jeff Bezos go to Twitter to get political - Salon Jeff Bezos takes a swipe at Musk's Twitter takeover, suggesting it may give China 'leverage' - CNBC Elon Musk and Jeff Bezos are getting political on Twitter - Longview News-Journal\n"
          ]
        }
      ]
    },
    {
      "cell_type": "markdown",
      "source": [
        "**Graph Visualization**"
      ],
      "metadata": {
        "id": "c8IlcfvPUTCT"
      }
    },
    {
      "cell_type": "code",
      "source": [
        "graph = nx.Graph()\n",
        "graph.add_node(\"Positive\",color='green',style='filled',fillcolor='green')\n",
        "graph.add_node(\"Negative\",color='red',style='filled',fillcolor='red')\n",
        "graph.add_node(\"Neutral\",color='blue',style='filled',fillcolor='blue')\n",
        "for index, row in df_graph.iterrows():\n",
        "      if row['SENTIMENT'] == 'Positive':\n",
        "        colour = 'g'\n",
        "      if row['SENTIMENT'] == 'Negative':\n",
        "        colour = 'r' \n",
        "      if row['SENTIMENT'] == 'Neutral':\n",
        "        colour = 'b'    \n",
        "      graph.add_edge(row['TITLE'],row['SENTIMENT'],color=colour)\n",
        "labels = {}\n",
        "pos = nx.layout.kamada_kawai_layout(graph)\n",
        "colors = nx.get_edge_attributes(graph,'color').values()\n",
        "nx.draw(graph, pos=pos, edge_color=colors, with_labels= True)"
      ],
      "metadata": {
        "id": "vbrJzyeyReOk",
        "colab": {
          "base_uri": "https://localhost:8080/",
          "height": 319
        },
        "outputId": "1fef500b-8f6e-4584-a0a6-bb289a173911"
      },
      "execution_count": null,
      "outputs": [
        {
          "output_type": "display_data",
          "data": {
            "text/plain": [
              "<Figure size 432x288 with 1 Axes>"
            ],
            "image/png": "[encoded data removed]"
          },
          "metadata": {}
        }
      ]
    },
    {
      "cell_type": "markdown",
      "source": [
        "Note:The image, generated above is the netwirk visualization , which will help to determine the user if you want to invest in the company or not"
      ],
      "metadata": {
        "id": "a_B9Wbmdl_BF"
      }
    },
    {
      "cell_type": "markdown",
      "source": [
        "**Output Dynamic file**\n",
        "\n",
        "Here, we will save the important facts and figures of the entered company name in a .txt file and it will definitely help the user to determine if they want to invest in this company or not."
      ],
      "metadata": {
        "id": "E_49lTf1UZZ6"
      }
    },
    {
      "cell_type": "code",
      "source": [
        "investments = (data['FUNDING'].iloc[index])\n",
        "acquisitions = (data['ACQUISITIONS'].iloc[index])\n",
        "founders = (data['FOUNDERS'].iloc[index])\n",
        "max_title = max_title.to_string(index=False)\n",
        "min_title = min_title.to_string(index=False)"
      ],
      "metadata": {
        "id": "3CQyv88gReMa"
      },
      "execution_count": null,
      "outputs": []
    },
    {
      "cell_type": "code",
      "source": [
        "dict_of_result = {\"Company's Name\" : [company], \n",
        "               \"Company's Founders\" : [founders], \n",
        "               \"Top negative news\" : [min_title], \n",
        "               \"Top positive news\" : [max_title], \n",
        "               \"Overall Sentiment for the Company\" : [overall_sentiment], \n",
        "               \"Investments\" : [investments], \n",
        "               \"Acquisition\" : [acquisitions]}\n",
        "with open(\"Output_Dynamic.txt\", \"a\") as f:\n",
        "  [print(key,':',value, file=f) for key, value in dict_of_result.items()]\n",
        "\n",
        "if acquisitions>=10:\n",
        "  with open(\"Output_Dynamic.txt\", \"a\") as f:\n",
        "    print(\"Invest in Company\", file=f)\n",
        "else:\n",
        "  with open(\"Output_Dynamic.txt\", \"a\") as f:\n",
        "    print(\"Don't invest in Company\",file=f)\n",
        "\n",
        "f.close()"
      ],
      "metadata": {
        "id": "xg93sMg5ReKa"
      },
      "execution_count": null,
      "outputs": []
    },
    {
      "cell_type": "markdown",
      "source": [
        "Here, the output file of the dynamic portion of the project is generated.\n"
      ],
      "metadata": {
        "id": "Di9zoq9Omveh"
      }
    },
    {
      "cell_type": "markdown",
      "source": [
        "#Conclusion \n",
        "\n",
        "The Output files provide all the data in the human readable format.\n",
        "\n",
        "**Note: The output file is generated you can access it in folders of colab on the left hand side. We haven't used dump method so file won't be downloaded directly.**"
      ],
      "metadata": {
        "id": "PpYs0CM3UqHh"
      }
    }
  ]
}